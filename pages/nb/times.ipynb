{
 "cells": [
  {
   "cell_type": "code",
   "execution_count": 1,
   "metadata": {},
   "outputs": [],
   "source": [
    "import numpy as np"
   ]
  },
  {
   "cell_type": "code",
   "execution_count": 24,
   "metadata": {},
   "outputs": [],
   "source": [
    "pp = np.zeros((10,14))"
   ]
  },
  {
   "cell_type": "code",
   "execution_count": 25,
   "metadata": {},
   "outputs": [],
   "source": [
    "rg = 0\n",
    "la = 1\n",
    "ls = 2\n",
    "cd = 3\n",
    "cn = 4\n",
    "lh = 5\n",
    "mb = 6\n",
    "ln = 7\n",
    "cn = 8\n",
    "cd = 9"
   ]
  },
  {
   "cell_type": "code",
   "execution_count": 26,
   "metadata": {},
   "outputs": [],
   "source": [
    "sun0 = 0\n",
    "mon0 = 1\n",
    "tue0 = 2\n",
    "wed0 = 3\n",
    "thu0 = 4\n",
    "fri0 = 5\n",
    "sat0 = 6\n",
    "sun1 = 7\n",
    "mon1 = 8\n",
    "tue1 = 9\n",
    "wed1 = 10\n",
    "thu1 = 11\n",
    "fri1 = 12\n",
    "sat1 = 13"
   ]
  },
  {
   "cell_type": "code",
   "execution_count": 14,
   "metadata": {},
   "outputs": [],
   "source": [
    "pp[rg, mon1] = 9.0\n",
    "pp[rg, tue1] = 8.5\n",
    "pp[rg, wed1] = 8.5\n",
    "pp[rg, thu1] = 9.0\n",
    "\n",
    "pp[la, wed0] = 5.0\n",
    "pp[la, thu0] = 8.0\n",
    "pp[la, fri0] = 3.0\n",
    "\n",
    "pp[cn, tue0] = 8.0\n",
    "pp[cn, wed0] = 3.0\n",
    "\n",
    "pp[lh, mon0] = 8.0\n",
    "\n",
    "pp[ln, mon1] = 1.0\n",
    "pp[ln, tue1] = 0.5\n",
    "pp[ln, wed1] = 0.5"
   ]
  },
  {
   "cell_type": "code",
   "execution_count": 15,
   "metadata": {},
   "outputs": [
    {
     "data": {
      "text/plain": [
       "array([[0. , 0. , 0. , 0. , 0. , 0. , 0. , 0. , 9. , 8.5, 8.5, 9. , 0. ,\n",
       "        0. , 0. ],\n",
       "       [0. , 0. , 0. , 5. , 8. , 3. , 0. , 0. , 0. , 0. , 0. , 0. , 0. ,\n",
       "        0. , 0. ],\n",
       "       [0. , 0. , 0. , 0. , 0. , 0. , 0. , 0. , 0. , 0. , 0. , 0. , 0. ,\n",
       "        0. , 0. ],\n",
       "       [0. , 0. , 0. , 0. , 0. , 0. , 0. , 0. , 0. , 0. , 0. , 0. , 0. ,\n",
       "        0. , 0. ],\n",
       "       [0. , 0. , 0. , 0. , 0. , 0. , 0. , 0. , 0. , 0. , 0. , 0. , 0. ,\n",
       "        0. , 0. ],\n",
       "       [0. , 8. , 0. , 0. , 0. , 0. , 0. , 0. , 0. , 0. , 0. , 0. , 0. ,\n",
       "        0. , 0. ],\n",
       "       [0. , 0. , 0. , 0. , 0. , 0. , 0. , 0. , 0. , 0. , 0. , 0. , 0. ,\n",
       "        0. , 0. ],\n",
       "       [0. , 0. , 0. , 0. , 0. , 0. , 0. , 0. , 1. , 0.5, 0.5, 0. , 0. ,\n",
       "        0. , 0. ],\n",
       "       [0. , 0. , 8. , 3. , 0. , 0. , 0. , 0. , 0. , 0. , 0. , 0. , 0. ,\n",
       "        0. , 0. ],\n",
       "       [0. , 0. , 0. , 0. , 0. , 0. , 0. , 0. , 0. , 0. , 0. , 0. , 0. ,\n",
       "        0. , 0. ]])"
      ]
     },
     "execution_count": 15,
     "metadata": {},
     "output_type": "execute_result"
    }
   ],
   "source": [
    "pp"
   ]
  },
  {
   "cell_type": "code",
   "execution_count": 23,
   "metadata": {},
   "outputs": [
    {
     "data": {
      "text/plain": [
       "9.0"
      ]
     },
     "execution_count": 23,
     "metadata": {},
     "output_type": "execute_result"
    }
   ],
   "source": [
    "pp[:,10].sum()"
   ]
  },
  {
   "cell_type": "code",
   "execution_count": null,
   "metadata": {},
   "outputs": [],
   "source": []
  }
 ],
 "metadata": {
  "kernelspec": {
   "display_name": "Python 3",
   "language": "python",
   "name": "python3"
  },
  "language_info": {
   "codemirror_mode": {
    "name": "ipython",
    "version": 3
   },
   "file_extension": ".py",
   "mimetype": "text/x-python",
   "name": "python",
   "nbconvert_exporter": "python",
   "pygments_lexer": "ipython3",
   "version": "3.7.3"
  }
 },
 "nbformat": 4,
 "nbformat_minor": 2
}
