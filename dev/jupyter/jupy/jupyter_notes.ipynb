{
 "cells": [
  {
   "cell_type": "markdown",
   "metadata": {},
   "source": [
    "## Notebook Links\n",
    "\n",
    "\n",
    "* https://nbviewer.jupyter.org/\n",
    "* Mining the Social Web\n",
    "-- https://nbviewer.jupyter.org/github/ptwobrussell/Mining-the-Social-Web-2nd-Edition/tree/master/ipynb/\n",
    "* A Gallery of Notebooks\n",
    "-- https://github.com/jupyter/jupyter/wiki/A-gallery-of-interesting-Jupyter-Notebooks#introductory-tutorials\n",
    "* Data Science Notebooks\n",
    "-- https://github.com/donnemartin/data-science-ipython-notebooks\n",
    "* Jupyter vs Zeppelen \n",
    "-- https://www.linkedin.com/pulse/comprehensive-comparison-jupyter-vs-zeppelin-hoc-q-phan-mba-/\n",
    "* 100 Days of ML (parulnith github)\n",
    "-- https://github.com/parulnith/100-Days-Of-ML-Code\n",
    "* Panda Videos\n",
    "-- https://github.com/justmarkham/pandas-videos\n",
    "* Learn Panda\n",
    "-- https://github.com/tdpetrou/Learn-Pandas\n",
    "* Top 8 resources for learning data analysis with pandas\n",
    "-- https://www.dataschool.io/best-python-pandas-resources/\n",
    "\n",
    "#### Reference Pages\n",
    "\n",
    "* JupyterLab extensions\n",
    "-- https://towardsdatascience.com/jupyter-lab-evolution-of-the-jupyter-notebook-5297cacde6b\n",
    "* JupyterLab extensions\n",
    "-- https://github.com/topics/jupyterlab-extension\n",
    "* Awesome Jupyterlab\n",
    "-- https://github.com/mauhai/awesome-jupyterlab\n",
    "* Awesome Jupyter\n",
    "-- https://github.com/markusschanta/awesome-jupyter\n",
    "* Notebook Gallery\n",
    "-- https://github.com/jupyter/jupyter/wiki/A-gallery-of-interesting-Jupyter-Notebooks\n",
    "* Ritchie Ng\n",
    "-- https://www.ritchieng.com/programming-languages/\n",
    "* Chirs Albon\n",
    "-- https://chrisalbon.com/\n",
    "* Shane Lynn\n",
    "-- https://www.shanelynn.ie/category/tutorials/\n",
    "* Data to Fish\n",
    "-- https://datatofish.com/"
   ]
  },
  {
   "cell_type": "markdown",
   "metadata": {},
   "source": [
    "#### Installing JupyterLab Extensions"
   ]
  },
  {
   "cell_type": "code",
   "execution_count": null,
   "metadata": {},
   "outputs": [],
   "source": [
    "# install nbextensions\n",
    "# !pip install jupyter_contrib_nbextensions && jupyter contrib nbextension install --user\n",
    "\n",
    "# jupyterlab github? extention\n",
    "# !jupyter labextension install @mflevine/jupyterlab_html\n",
    "\n",
    "# Plotly extention\n",
    "# !jupyter labextension install @jupyterlab/plotly-extension\n",
    "\n",
    "# bokeh extension\n",
    "# !jupyter labextension install jupyterlab_bokeh"
   ]
  },
  {
   "cell_type": "markdown",
   "metadata": {},
   "source": [
    "#### To see available magic functions..."
   ]
  },
  {
   "cell_type": "code",
   "execution_count": null,
   "metadata": {},
   "outputs": [],
   "source": [
    "%lsmagic"
   ]
  },
  {
   "cell_type": "markdown",
   "metadata": {},
   "source": [
    "#### To view installed kernels..."
   ]
  },
  {
   "cell_type": "code",
   "execution_count": null,
   "metadata": {},
   "outputs": [],
   "source": [
    "!jupyter kernelspec list"
   ]
  },
  {
   "cell_type": "markdown",
   "metadata": {},
   "source": [
    "\n",
    "#### Use interactive widgets in notebook (not lab)"
   ]
  },
  {
   "cell_type": "code",
   "execution_count": null,
   "metadata": {},
   "outputs": [],
   "source": [
    "# works on notebooks but not jupyter lab\n",
    "\n",
    "from ipywidgets import interact\n",
    "import ipywidgets as widgets\n",
    "\n",
    "def f(x):\n",
    "    return x\n",
    "\n",
    "# Generate a slider \n",
    "interact(f, x=10,);"
   ]
  },
  {
   "cell_type": "code",
   "execution_count": null,
   "metadata": {},
   "outputs": [],
   "source": [
    "# Booleans generate check-boxes\n",
    "interact(f, x=True);"
   ]
  },
  {
   "cell_type": "markdown",
   "metadata": {},
   "source": [
    "#### Display html pages within cells"
   ]
  },
  {
   "cell_type": "code",
   "execution_count": null,
   "metadata": {},
   "outputs": [],
   "source": [
    "# Note that http urls will not be displayed. Only https are allowed inside the Iframe\n",
    "\n",
    "from IPython.display import IFrame\n",
    "IFrame('https://en.wikipedia.org/wiki/HTTPS', width=800, height=450)"
   ]
  },
  {
   "cell_type": "markdown",
   "metadata": {},
   "source": [
    "#### Install jupyterthemes (notebook only)"
   ]
  },
  {
   "cell_type": "code",
   "execution_count": null,
   "metadata": {},
   "outputs": [],
   "source": [
    "# !pip install jupyterthemes\n",
    "\n",
    "# list themes\n",
    "!jt -l"
   ]
  },
  {
   "cell_type": "code",
   "execution_count": null,
   "metadata": {},
   "outputs": [],
   "source": [
    "# install theme\n",
    "\n",
    "# !jt -t solarizedd"
   ]
  },
  {
   "cell_type": "code",
   "execution_count": null,
   "metadata": {},
   "outputs": [],
   "source": [
    "# Themes for JupyterLab\n",
    "\n",
    "# !jupyter labextension install @oriolmirosa/jupyterlab_materialdarker"
   ]
  },
  {
   "cell_type": "code",
   "execution_count": null,
   "metadata": {},
   "outputs": [],
   "source": [
    "import numpy as np\n",
    "import pandas as pd\n",
    "INFILE = 'excel.xls'\n",
    "prev_results = pd.ExcelFile(INFILE)"
   ]
  },
  {
   "cell_type": "code",
   "execution_count": null,
   "metadata": {},
   "outputs": [],
   "source": [
    "prev_results.parse()"
   ]
  },
  {
   "cell_type": "code",
   "execution_count": null,
   "metadata": {},
   "outputs": [],
   "source": [
    "INFILE2 = 'excel2.xlsx'\n",
    "results = pd.ExcelFile(INFILE2)\n",
    "df = results.parse()\n",
    "df.head(5)"
   ]
  },
  {
   "cell_type": "code",
   "execution_count": null,
   "metadata": {},
   "outputs": [],
   "source": [
    "df.rename({0:'zero', 2:'two'})"
   ]
  },
  {
   "cell_type": "code",
   "execution_count": null,
   "metadata": {},
   "outputs": [],
   "source": [
    "import pandas as pd\n",
    "\n",
    "data = pd.read_html(“http://en.wikipedia.org/wiki/Super_Bowl_LIV\")"
   ]
  },
  {
   "cell_type": "code",
   "execution_count": null,
   "metadata": {},
   "outputs": [],
   "source": []
  }
 ],
 "metadata": {
  "celltoolbar": "Visualize",
  "kernelspec": {
   "display_name": "Python 3",
   "language": "python",
   "name": "python3"
  },
  "language_info": {
   "codemirror_mode": {
    "name": "ipython",
    "version": 3
   },
   "file_extension": ".py",
   "mimetype": "text/x-python",
   "name": "python",
   "nbconvert_exporter": "python",
   "pygments_lexer": "ipython3",
   "version": "3.8.10"
  }
 },
 "nbformat": 4,
 "nbformat_minor": 4
}
