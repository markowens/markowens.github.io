{
 "cells": [
  {
   "cell_type": "markdown",
   "metadata": {},
   "source": [
    "* [Ansible Documentation](https://docs.ansible.com/ansible/latest/index.html)\n",
    "* [ ilias-sp /\n",
    "ansible-setup-passwordless-ssh ](https://github.com/ilias-sp/ansible-setup-passwordless-ssh)\n",
    "* [How to automate your system administration tasks with Ansible](https://opensource.com/article/17/7/automate-sysadmin-ansible)\n",
    "* [Ansible SSH Key transfer from one host to another](https://www.middlewareinventory.com/blog/ansible-ssh-key-exchange/)\n",
    "* [Setup New User and SSH Key Auth. using Ansible on Ubuntu 18.04](https://www.howtoforge.com/tutorial/setup-new-user-and-ssh-key-authentication-using-ansible/)\n",
    "* [Ansible - SSH Key Distribution For Password-less SSH ](https://everythingshouldbevirtual.com/ansible-ssh-key-distribution-for-password-less-ssh/)\n",
    "* [Ansible - Password-less SSH Playbook](https://cloudnweb.dev/2019/04/ansible-password-less-ssh-playbook/)\n",
    "* [Ansible - Enable SSH Communication](https://cloudnweb.dev/2019/04/ansible-enable-ssh-communication/)"
   ]
  }
 ],
 "metadata": {
  "kernelspec": {
   "display_name": "Python 3",
   "language": "python",
   "name": "python3"
  },
  "language_info": {
   "codemirror_mode": {
    "name": "ipython",
    "version": 3
   },
   "file_extension": ".py",
   "mimetype": "text/x-python",
   "name": "python",
   "nbconvert_exporter": "python",
   "pygments_lexer": "ipython3",
   "version": "3.7.3"
  }
 },
 "nbformat": 4,
 "nbformat_minor": 2
}
