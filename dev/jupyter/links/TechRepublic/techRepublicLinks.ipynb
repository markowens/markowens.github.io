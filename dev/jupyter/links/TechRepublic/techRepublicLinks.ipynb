{
 "cells": [
  {
   "cell_type": "markdown",
   "metadata": {},
   "source": [
    "* [Learn Go with these online training courses and tutorials](https://www.techrepublic.com/article/learn-go-with-these-online-training-courses-and-tutorials/?ftag=TREe09998f&bhid=29212847145551075481548494613562&mid=12862074&cid=2237371625)\n",
    "\n",
    "* [Machine learning tool trains on old code to spot bugs in new code](https://www.techrepublic.com/article/machine-learning-tool-trains-on-old-code-to-spot-bugs-in-new-code/?ftag=TREe09998f&bhid=29212847145551075481548494613562&mid=12862074&cid=2237371625)\n",
    "\n",
    "* [Learn Python: Online training courses for beginning developers and coding experts](https://www.techrepublic.com/article/learn-python-online-training-courses-for-beginning-developers-and-coding-experts/?ftag=TREe09998f&bhid=29212847145551075481548494613562&mid=12862074&cid=2237371625)\n",
    "\n",
    "* [The best eLearning platforms for online courses](https://www.techrepublic.com/article/the-best-elearning-platforms-for-online-courses/?ftag=TREe09998f&bhid=29212847145551075481548494613562&mid=12862074&cid=2237371625)\n"
   ]
  }
 ],
 "metadata": {
  "kernelspec": {
   "display_name": "Python 3",
   "language": "python",
   "name": "python3"
  },
  "language_info": {
   "codemirror_mode": {
    "name": "ipython",
    "version": 3
   },
   "file_extension": ".py",
   "mimetype": "text/x-python",
   "name": "python",
   "nbconvert_exporter": "python",
   "pygments_lexer": "ipython3",
   "version": "3.7.3"
  }
 },
 "nbformat": 4,
 "nbformat_minor": 2
}
