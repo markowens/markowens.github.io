{
 "cells": [
  {
   "cell_type": "markdown",
   "metadata": {},
   "source": [
    "## Implementing in Python"
   ]
  },
  {
   "cell_type": "code",
   "execution_count": 1,
   "metadata": {
    "collapsed": true
   },
   "outputs": [],
   "source": [
    "import numpy as np\n",
    "import pandas as pd\n",
    "\n",
    "import warnings\n",
    "warnings.filterwarnings('ignore')"
   ]
  },
  {
   "cell_type": "code",
   "execution_count": 2,
   "metadata": {
    "collapsed": true,
    "scrolled": true
   },
   "outputs": [],
   "source": [
    "combined_data = pd.read_csv('datasets/regression/combined.csv', \n",
    "                            sep=\",\")"
   ]
  },
  {
   "cell_type": "code",
   "execution_count": 3,
   "metadata": {},
   "outputs": [
    {
     "data": {
      "text/html": [
       "<div>\n",
       "<style scoped>\n",
       "    .dataframe tbody tr th:only-of-type {\n",
       "        vertical-align: middle;\n",
       "    }\n",
       "\n",
       "    .dataframe tbody tr th {\n",
       "        vertical-align: top;\n",
       "    }\n",
       "\n",
       "    .dataframe thead th {\n",
       "        text-align: right;\n",
       "    }\n",
       "</style>\n",
       "<table border=\"1\" class=\"dataframe\">\n",
       "  <thead>\n",
       "    <tr style=\"text-align: right;\">\n",
       "      <th></th>\n",
       "      <th>Date</th>\n",
       "      <th>Nike</th>\n",
       "      <th>Ralph Lauren</th>\n",
       "      <th>S&amp;P 500</th>\n",
       "      <th>UUP</th>\n",
       "    </tr>\n",
       "  </thead>\n",
       "  <tbody>\n",
       "    <tr>\n",
       "      <th>0</th>\n",
       "      <td>01-09-2018</td>\n",
       "      <td>84.720001</td>\n",
       "      <td>136.924500</td>\n",
       "      <td>2913.979980</td>\n",
       "      <td>25.260000</td>\n",
       "    </tr>\n",
       "    <tr>\n",
       "      <th>1</th>\n",
       "      <td>01-08-2018</td>\n",
       "      <td>81.998032</td>\n",
       "      <td>132.206055</td>\n",
       "      <td>2901.520020</td>\n",
       "      <td>25.190001</td>\n",
       "    </tr>\n",
       "    <tr>\n",
       "      <th>2</th>\n",
       "      <td>01-07-2018</td>\n",
       "      <td>76.721031</td>\n",
       "      <td>134.366180</td>\n",
       "      <td>2816.290039</td>\n",
       "      <td>24.980000</td>\n",
       "    </tr>\n",
       "    <tr>\n",
       "      <th>3</th>\n",
       "      <td>01-06-2018</td>\n",
       "      <td>79.262825</td>\n",
       "      <td>124.531288</td>\n",
       "      <td>2718.370117</td>\n",
       "      <td>24.940001</td>\n",
       "    </tr>\n",
       "    <tr>\n",
       "      <th>4</th>\n",
       "      <td>01-05-2018</td>\n",
       "      <td>71.424080</td>\n",
       "      <td>133.307510</td>\n",
       "      <td>2705.270020</td>\n",
       "      <td>24.760000</td>\n",
       "    </tr>\n",
       "  </tbody>\n",
       "</table>\n",
       "</div>"
      ],
      "text/plain": [
       "         Date       Nike  Ralph Lauren      S&P 500        UUP\n",
       "0  01-09-2018  84.720001    136.924500  2913.979980  25.260000\n",
       "1  01-08-2018  81.998032    132.206055  2901.520020  25.190001\n",
       "2  01-07-2018  76.721031    134.366180  2816.290039  24.980000\n",
       "3  01-06-2018  79.262825    124.531288  2718.370117  24.940001\n",
       "4  01-05-2018  71.424080    133.307510  2705.270020  24.760000"
      ]
     },
     "execution_count": 3,
     "metadata": {},
     "output_type": "execute_result"
    }
   ],
   "source": [
    "combined_data.head()"
   ]
  },
  {
   "cell_type": "code",
   "execution_count": 4,
   "metadata": {},
   "outputs": [
    {
     "data": {
      "text/html": [
       "<div>\n",
       "<style scoped>\n",
       "    .dataframe tbody tr th:only-of-type {\n",
       "        vertical-align: middle;\n",
       "    }\n",
       "\n",
       "    .dataframe tbody tr th {\n",
       "        vertical-align: top;\n",
       "    }\n",
       "\n",
       "    .dataframe thead th {\n",
       "        text-align: right;\n",
       "    }\n",
       "</style>\n",
       "<table border=\"1\" class=\"dataframe\">\n",
       "  <thead>\n",
       "    <tr style=\"text-align: right;\">\n",
       "      <th></th>\n",
       "      <th>Date</th>\n",
       "      <th>Nike</th>\n",
       "      <th>Ralph Lauren</th>\n",
       "      <th>S&amp;P 500</th>\n",
       "      <th>UUP</th>\n",
       "    </tr>\n",
       "  </thead>\n",
       "  <tbody>\n",
       "    <tr>\n",
       "      <th>120</th>\n",
       "      <td>2008-01-09</td>\n",
       "      <td>NaN</td>\n",
       "      <td>NaN</td>\n",
       "      <td>NaN</td>\n",
       "      <td>NaN</td>\n",
       "    </tr>\n",
       "    <tr>\n",
       "      <th>119</th>\n",
       "      <td>2008-01-10</td>\n",
       "      <td>9.762588</td>\n",
       "      <td>41.688194</td>\n",
       "      <td>968.750000</td>\n",
       "      <td>26.298273</td>\n",
       "    </tr>\n",
       "    <tr>\n",
       "      <th>118</th>\n",
       "      <td>2008-01-11</td>\n",
       "      <td>9.020608</td>\n",
       "      <td>38.179581</td>\n",
       "      <td>896.239990</td>\n",
       "      <td>26.347893</td>\n",
       "    </tr>\n",
       "    <tr>\n",
       "      <th>117</th>\n",
       "      <td>2008-01-12</td>\n",
       "      <td>8.639458</td>\n",
       "      <td>40.132740</td>\n",
       "      <td>903.250000</td>\n",
       "      <td>24.502052</td>\n",
       "    </tr>\n",
       "    <tr>\n",
       "      <th>116</th>\n",
       "      <td>2009-01-01</td>\n",
       "      <td>7.815672</td>\n",
       "      <td>36.303810</td>\n",
       "      <td>825.880005</td>\n",
       "      <td>25.925570</td>\n",
       "    </tr>\n",
       "  </tbody>\n",
       "</table>\n",
       "</div>"
      ],
      "text/plain": [
       "          Date      Nike  Ralph Lauren     S&P 500        UUP\n",
       "120 2008-01-09       NaN           NaN         NaN        NaN\n",
       "119 2008-01-10  9.762588     41.688194  968.750000  26.298273\n",
       "118 2008-01-11  9.020608     38.179581  896.239990  26.347893\n",
       "117 2008-01-12  8.639458     40.132740  903.250000  24.502052\n",
       "116 2009-01-01  7.815672     36.303810  825.880005  25.925570"
      ]
     },
     "execution_count": 4,
     "metadata": {},
     "output_type": "execute_result"
    }
   ],
   "source": [
    "combined_data['Date'] = pd.to_datetime(combined_data['Date'])\n",
    "\n",
    "combined_data = combined_data.sort_values(by = 'Date')\n",
    "\n",
    "combined_data.head()"
   ]
  },
  {
   "cell_type": "code",
   "execution_count": 5,
   "metadata": {},
   "outputs": [
    {
     "data": {
      "text/html": [
       "<div>\n",
       "<style scoped>\n",
       "    .dataframe tbody tr th:only-of-type {\n",
       "        vertical-align: middle;\n",
       "    }\n",
       "\n",
       "    .dataframe tbody tr th {\n",
       "        vertical-align: top;\n",
       "    }\n",
       "\n",
       "    .dataframe thead th {\n",
       "        text-align: right;\n",
       "    }\n",
       "</style>\n",
       "<table border=\"1\" class=\"dataframe\">\n",
       "  <thead>\n",
       "    <tr style=\"text-align: right;\">\n",
       "      <th></th>\n",
       "      <th>Date</th>\n",
       "      <th>Nike</th>\n",
       "      <th>Ralph Lauren</th>\n",
       "      <th>S&amp;P 500</th>\n",
       "      <th>UUP</th>\n",
       "    </tr>\n",
       "  </thead>\n",
       "  <tbody>\n",
       "    <tr>\n",
       "      <th>0</th>\n",
       "      <td>2008-01-09</td>\n",
       "      <td>NaN</td>\n",
       "      <td>NaN</td>\n",
       "      <td>NaN</td>\n",
       "      <td>NaN</td>\n",
       "    </tr>\n",
       "    <tr>\n",
       "      <th>1</th>\n",
       "      <td>2008-01-10</td>\n",
       "      <td>9.762588</td>\n",
       "      <td>41.688194</td>\n",
       "      <td>968.750000</td>\n",
       "      <td>26.298273</td>\n",
       "    </tr>\n",
       "    <tr>\n",
       "      <th>2</th>\n",
       "      <td>2008-01-11</td>\n",
       "      <td>9.020608</td>\n",
       "      <td>38.179581</td>\n",
       "      <td>896.239990</td>\n",
       "      <td>26.347893</td>\n",
       "    </tr>\n",
       "    <tr>\n",
       "      <th>3</th>\n",
       "      <td>2008-01-12</td>\n",
       "      <td>8.639458</td>\n",
       "      <td>40.132740</td>\n",
       "      <td>903.250000</td>\n",
       "      <td>24.502052</td>\n",
       "    </tr>\n",
       "    <tr>\n",
       "      <th>4</th>\n",
       "      <td>2009-01-01</td>\n",
       "      <td>7.815672</td>\n",
       "      <td>36.303810</td>\n",
       "      <td>825.880005</td>\n",
       "      <td>25.925570</td>\n",
       "    </tr>\n",
       "  </tbody>\n",
       "</table>\n",
       "</div>"
      ],
      "text/plain": [
       "        Date      Nike  Ralph Lauren     S&P 500        UUP\n",
       "0 2008-01-09       NaN           NaN         NaN        NaN\n",
       "1 2008-01-10  9.762588     41.688194  968.750000  26.298273\n",
       "2 2008-01-11  9.020608     38.179581  896.239990  26.347893\n",
       "3 2008-01-12  8.639458     40.132740  903.250000  24.502052\n",
       "4 2009-01-01  7.815672     36.303810  825.880005  25.925570"
      ]
     },
     "execution_count": 5,
     "metadata": {},
     "output_type": "execute_result"
    }
   ],
   "source": [
    "combined_data = combined_data.reset_index()\n",
    "combined_data = combined_data.drop(['index'], axis=1)\n",
    "\n",
    "combined_data.head()"
   ]
  },
  {
   "cell_type": "code",
   "execution_count": 6,
   "metadata": {},
   "outputs": [
    {
     "data": {
      "text/html": [
       "<div>\n",
       "<style scoped>\n",
       "    .dataframe tbody tr th:only-of-type {\n",
       "        vertical-align: middle;\n",
       "    }\n",
       "\n",
       "    .dataframe tbody tr th {\n",
       "        vertical-align: top;\n",
       "    }\n",
       "\n",
       "    .dataframe thead th {\n",
       "        text-align: right;\n",
       "    }\n",
       "</style>\n",
       "<table border=\"1\" class=\"dataframe\">\n",
       "  <thead>\n",
       "    <tr style=\"text-align: right;\">\n",
       "      <th></th>\n",
       "      <th>Date</th>\n",
       "      <th>Nike</th>\n",
       "      <th>Ralph Lauren</th>\n",
       "      <th>S&amp;P 500</th>\n",
       "      <th>UUP</th>\n",
       "      <th>Nike Returns</th>\n",
       "      <th>Ralph Lauren Returns</th>\n",
       "      <th>S&amp;P 500 Returns</th>\n",
       "      <th>UUP Returns</th>\n",
       "    </tr>\n",
       "  </thead>\n",
       "  <tbody>\n",
       "    <tr>\n",
       "      <th>0</th>\n",
       "      <td>2008-01-09</td>\n",
       "      <td>NaN</td>\n",
       "      <td>NaN</td>\n",
       "      <td>NaN</td>\n",
       "      <td>NaN</td>\n",
       "      <td>NaN</td>\n",
       "      <td>NaN</td>\n",
       "      <td>NaN</td>\n",
       "      <td>NaN</td>\n",
       "    </tr>\n",
       "    <tr>\n",
       "      <th>1</th>\n",
       "      <td>2008-01-10</td>\n",
       "      <td>9.762588</td>\n",
       "      <td>41.688194</td>\n",
       "      <td>968.750000</td>\n",
       "      <td>26.298273</td>\n",
       "      <td>NaN</td>\n",
       "      <td>NaN</td>\n",
       "      <td>NaN</td>\n",
       "      <td>NaN</td>\n",
       "    </tr>\n",
       "    <tr>\n",
       "      <th>2</th>\n",
       "      <td>2008-01-11</td>\n",
       "      <td>9.020608</td>\n",
       "      <td>38.179581</td>\n",
       "      <td>896.239990</td>\n",
       "      <td>26.347893</td>\n",
       "      <td>-0.076002</td>\n",
       "      <td>-0.084163</td>\n",
       "      <td>-0.074849</td>\n",
       "      <td>0.001887</td>\n",
       "    </tr>\n",
       "    <tr>\n",
       "      <th>3</th>\n",
       "      <td>2008-01-12</td>\n",
       "      <td>8.639458</td>\n",
       "      <td>40.132740</td>\n",
       "      <td>903.250000</td>\n",
       "      <td>24.502052</td>\n",
       "      <td>-0.042253</td>\n",
       "      <td>0.051157</td>\n",
       "      <td>0.007822</td>\n",
       "      <td>-0.070056</td>\n",
       "    </tr>\n",
       "    <tr>\n",
       "      <th>4</th>\n",
       "      <td>2009-01-01</td>\n",
       "      <td>7.815672</td>\n",
       "      <td>36.303810</td>\n",
       "      <td>825.880005</td>\n",
       "      <td>25.925570</td>\n",
       "      <td>-0.095352</td>\n",
       "      <td>-0.095407</td>\n",
       "      <td>-0.085657</td>\n",
       "      <td>0.058098</td>\n",
       "    </tr>\n",
       "  </tbody>\n",
       "</table>\n",
       "</div>"
      ],
      "text/plain": [
       "        Date      Nike  Ralph Lauren     S&P 500        UUP  Nike Returns  \\\n",
       "0 2008-01-09       NaN           NaN         NaN        NaN           NaN   \n",
       "1 2008-01-10  9.762588     41.688194  968.750000  26.298273           NaN   \n",
       "2 2008-01-11  9.020608     38.179581  896.239990  26.347893     -0.076002   \n",
       "3 2008-01-12  8.639458     40.132740  903.250000  24.502052     -0.042253   \n",
       "4 2009-01-01  7.815672     36.303810  825.880005  25.925570     -0.095352   \n",
       "\n",
       "   Ralph Lauren Returns  S&P 500 Returns  UUP Returns  \n",
       "0                   NaN              NaN          NaN  \n",
       "1                   NaN              NaN          NaN  \n",
       "2             -0.084163        -0.074849     0.001887  \n",
       "3              0.051157         0.007822    -0.070056  \n",
       "4             -0.095407        -0.085657     0.058098  "
      ]
     },
     "execution_count": 6,
     "metadata": {},
     "output_type": "execute_result"
    }
   ],
   "source": [
    "combined_data['Nike Returns'] = combined_data['Nike'].pct_change()\n",
    "combined_data['Ralph Lauren Returns'] = combined_data['Ralph Lauren'].pct_change()\n",
    "combined_data['S&P 500 Returns'] = combined_data['S&P 500'].pct_change()\n",
    "combined_data['UUP Returns'] = combined_data['UUP'].pct_change()\n",
    "\n",
    "combined_data.head()"
   ]
  },
  {
   "cell_type": "code",
   "execution_count": 7,
   "metadata": {},
   "outputs": [
    {
     "data": {
      "text/html": [
       "<div>\n",
       "<style scoped>\n",
       "    .dataframe tbody tr th:only-of-type {\n",
       "        vertical-align: middle;\n",
       "    }\n",
       "\n",
       "    .dataframe tbody tr th {\n",
       "        vertical-align: top;\n",
       "    }\n",
       "\n",
       "    .dataframe thead th {\n",
       "        text-align: right;\n",
       "    }\n",
       "</style>\n",
       "<table border=\"1\" class=\"dataframe\">\n",
       "  <thead>\n",
       "    <tr style=\"text-align: right;\">\n",
       "      <th></th>\n",
       "      <th>Date</th>\n",
       "      <th>Nike</th>\n",
       "      <th>Ralph Lauren</th>\n",
       "      <th>S&amp;P 500</th>\n",
       "      <th>UUP</th>\n",
       "      <th>Nike Returns</th>\n",
       "      <th>Ralph Lauren Returns</th>\n",
       "      <th>S&amp;P 500 Returns</th>\n",
       "      <th>UUP Returns</th>\n",
       "    </tr>\n",
       "  </thead>\n",
       "  <tbody>\n",
       "    <tr>\n",
       "      <th>2</th>\n",
       "      <td>2008-01-11</td>\n",
       "      <td>9.020608</td>\n",
       "      <td>38.179581</td>\n",
       "      <td>896.239990</td>\n",
       "      <td>26.347893</td>\n",
       "      <td>-0.076002</td>\n",
       "      <td>-0.084163</td>\n",
       "      <td>-0.074849</td>\n",
       "      <td>0.001887</td>\n",
       "    </tr>\n",
       "    <tr>\n",
       "      <th>3</th>\n",
       "      <td>2008-01-12</td>\n",
       "      <td>8.639458</td>\n",
       "      <td>40.132740</td>\n",
       "      <td>903.250000</td>\n",
       "      <td>24.502052</td>\n",
       "      <td>-0.042253</td>\n",
       "      <td>0.051157</td>\n",
       "      <td>0.007822</td>\n",
       "      <td>-0.070056</td>\n",
       "    </tr>\n",
       "    <tr>\n",
       "      <th>4</th>\n",
       "      <td>2009-01-01</td>\n",
       "      <td>7.815672</td>\n",
       "      <td>36.303810</td>\n",
       "      <td>825.880005</td>\n",
       "      <td>25.925570</td>\n",
       "      <td>-0.095352</td>\n",
       "      <td>-0.095407</td>\n",
       "      <td>-0.085657</td>\n",
       "      <td>0.058098</td>\n",
       "    </tr>\n",
       "    <tr>\n",
       "      <th>5</th>\n",
       "      <td>2009-01-02</td>\n",
       "      <td>7.173147</td>\n",
       "      <td>30.499441</td>\n",
       "      <td>735.090027</td>\n",
       "      <td>26.455070</td>\n",
       "      <td>-0.082210</td>\n",
       "      <td>-0.159883</td>\n",
       "      <td>-0.109931</td>\n",
       "      <td>0.020424</td>\n",
       "    </tr>\n",
       "    <tr>\n",
       "      <th>6</th>\n",
       "      <td>2009-01-03</td>\n",
       "      <td>8.098936</td>\n",
       "      <td>37.383286</td>\n",
       "      <td>797.869995</td>\n",
       "      <td>25.615860</td>\n",
       "      <td>0.129063</td>\n",
       "      <td>0.225704</td>\n",
       "      <td>0.085404</td>\n",
       "      <td>-0.031722</td>\n",
       "    </tr>\n",
       "  </tbody>\n",
       "</table>\n",
       "</div>"
      ],
      "text/plain": [
       "        Date      Nike  Ralph Lauren     S&P 500        UUP  Nike Returns  \\\n",
       "2 2008-01-11  9.020608     38.179581  896.239990  26.347893     -0.076002   \n",
       "3 2008-01-12  8.639458     40.132740  903.250000  24.502052     -0.042253   \n",
       "4 2009-01-01  7.815672     36.303810  825.880005  25.925570     -0.095352   \n",
       "5 2009-01-02  7.173147     30.499441  735.090027  26.455070     -0.082210   \n",
       "6 2009-01-03  8.098936     37.383286  797.869995  25.615860      0.129063   \n",
       "\n",
       "   Ralph Lauren Returns  S&P 500 Returns  UUP Returns  \n",
       "2             -0.084163        -0.074849     0.001887  \n",
       "3              0.051157         0.007822    -0.070056  \n",
       "4             -0.095407        -0.085657     0.058098  \n",
       "5             -0.159883        -0.109931     0.020424  \n",
       "6              0.225704         0.085404    -0.031722  "
      ]
     },
     "execution_count": 7,
     "metadata": {},
     "output_type": "execute_result"
    }
   ],
   "source": [
    "combined_data = combined_data.dropna()\n",
    "\n",
    "combined_data.head()"
   ]
  },
  {
   "cell_type": "code",
   "execution_count": 8,
   "metadata": {
    "collapsed": true
   },
   "outputs": [],
   "source": [
    "from sklearn import datasets, linear_model\n",
    "from sklearn.linear_model import SGDRegressor, LinearRegression"
   ]
  },
  {
   "cell_type": "markdown",
   "metadata": {},
   "source": [
    "#### Regress the returns of Nike on the SnP500\n",
    "But let's consider the effect of UUP as well in this regression, as this may influence the stock returns. We now have a multiple regression problem at hand."
   ]
  },
  {
   "cell_type": "code",
   "execution_count": 9,
   "metadata": {
    "collapsed": true
   },
   "outputs": [],
   "source": [
    "snp500_data = combined_data[\"S&P 500 Returns\"]\n",
    "uup_data = combined_data[\"UUP Returns\"]"
   ]
  },
  {
   "cell_type": "code",
   "execution_count": 10,
   "metadata": {},
   "outputs": [
    {
     "data": {
      "text/plain": [
       "array([[-0.07484904,  0.00782158, -0.08565734, -0.1099312 ,  0.08540446,\n",
       "         0.09392508,  0.05308145,  0.00019583,  0.07414173,  0.03356019,\n",
       "         0.03572335, -0.019762  ,  0.05736406,  0.01777057, -0.03697425,\n",
       "         0.02851369,  0.05879643,  0.01475923, -0.08197584, -0.05388244,\n",
       "         0.06877785, -0.04744918,  0.0875511 ,  0.03685599, -0.00229025,\n",
       "         0.06530004,  0.02264557,  0.03195656, -0.00104731,  0.02849538,\n",
       "        -0.01350095, -0.01825746, -0.02147443, -0.05679111, -0.07176199,\n",
       "         0.10772304, -0.00505872,  0.00853276,  0.04358306,  0.04058946,\n",
       "         0.03133231, -0.00749745, -0.06265073,  0.03955498,  0.01259757,\n",
       "         0.01976337,  0.02423615, -0.01978941,  0.00284672,  0.00706823,\n",
       "         0.0504281 ,  0.01106065,  0.03598772,  0.01808577,  0.02076281,\n",
       "        -0.0149993 ,  0.04946208, -0.03129802,  0.02974952,  0.04459575,\n",
       "         0.02804947,  0.02356279, -0.03558291,  0.04311703,  0.00693217,\n",
       "         0.00620079,  0.02103028,  0.01905833, -0.01507983,  0.0376553 ,\n",
       "        -0.01551384,  0.02320146,  0.02453359, -0.00418859, -0.03104081,\n",
       "         0.05489251, -0.01739611,  0.00852082,  0.01049138, -0.02101167,\n",
       "         0.01974203, -0.06258082, -0.02644283,  0.08298312,  0.00050487,\n",
       "        -0.01753019, -0.05073532, -0.00412836,  0.06599111,  0.0026994 ,\n",
       "         0.0153246 ,  0.00091092,  0.0356098 , -0.00121924, -0.00123445,\n",
       "        -0.01942568,  0.03417452,  0.01820076,  0.01788436,  0.03719816,\n",
       "        -0.0003892 ,  0.00909121,  0.01157625,  0.00481378,  0.01934883,\n",
       "         0.00054643,  0.01930298,  0.02218814,  0.00372004,  0.03434256,\n",
       "         0.0561787 , -0.03894737, -0.0268845 ,  0.00271878,  0.02160834,\n",
       "         0.00484244,  0.03602156,  0.03026321,  0.00429429],\n",
       "       [ 0.00188682, -0.07005649,  0.05809791,  0.02042385, -0.03172209,\n",
       "        -0.01170045, -0.0635359 ,  0.00716393, -0.02426783, -0.00257283,\n",
       "        -0.02020634, -0.00394913, -0.02334802,  0.04104645,  0.01603121,\n",
       "         0.0081023 ,  0.00676817,  0.00672267,  0.05759605, -0.01104971,\n",
       "        -0.05267361,  0.01600686, -0.05306807, -0.02057791,  0.05051412,\n",
       "        -0.03361714, -0.01541165, -0.0120751 , -0.01358078, -0.03854983,\n",
       "         0.01861576, -0.00562329, -0.00895376,  0.00190198,  0.05885147,\n",
       "        -0.03316901,  0.02271671,  0.01858572, -0.01557626, -0.00723335,\n",
       "        -0.00227687, -0.00456409,  0.05410357, -0.02261851,  0.01068086,\n",
       "        -0.01805368, -0.01704035, -0.00136867,  0.00137055, -0.00501823,\n",
       "        -0.0087115 ,  0.03469001,  0.01028165, -0.01769914,  0.01846851,\n",
       "        -0.00221146, -0.02083331,  0.0045269 , -0.0252366 ,  0.        ,\n",
       "         0.00323629, -0.00829491,  0.01440515, -0.02061386,  0.00374178,\n",
       "        -0.00838763,  0.00892857, -0.00978108,  0.02257756,  0.01287951,\n",
       "         0.03860137,  0.00961951,  0.01645729,  0.02130382,  0.04839379,\n",
       "         0.00278555,  0.02777778, -0.0382239 ,  0.0220794 , -0.01688919,\n",
       "         0.01598085, -0.01454976,  0.0015962 ,  0.0059761 ,  0.03287126,\n",
       "        -0.01648776,  0.0081872 , -0.01430786, -0.03726949, -0.01792992,\n",
       "         0.03070538,  0.        , -0.0068438 ,  0.00608027, -0.0056406 ,\n",
       "         0.02998382,  0.03265139, -0.00038093, -0.01943598,  0.01476878,\n",
       "        -0.00612791, -0.01464357, -0.01916305, -0.01315788, -0.02747483,\n",
       "        -0.00166172,  0.00624216,  0.01654254, -0.01586648, -0.00661429,\n",
       "        -0.03154772,  0.01892477, -0.00337695,  0.02202448,  0.02610862,\n",
       "         0.00726983,  0.00160381,  0.00840677,  0.00277884]])"
      ]
     },
     "execution_count": 10,
     "metadata": {},
     "output_type": "execute_result"
    }
   ],
   "source": [
    "x = np.vstack((snp500_data, uup_data))\n",
    "x"
   ]
  },
  {
   "cell_type": "code",
   "execution_count": 11,
   "metadata": {},
   "outputs": [
    {
     "data": {
      "text/plain": [
       "array([[-0.07484904,  0.00188682],\n",
       "       [ 0.00782158, -0.07005649],\n",
       "       [-0.08565734,  0.05809791],\n",
       "       [-0.1099312 ,  0.02042385],\n",
       "       [ 0.08540446, -0.03172209],\n",
       "       [ 0.09392508, -0.01170045],\n",
       "       [ 0.05308145, -0.0635359 ],\n",
       "       [ 0.00019583,  0.00716393],\n",
       "       [ 0.07414173, -0.02426783],\n",
       "       [ 0.03356019, -0.00257283],\n",
       "       [ 0.03572335, -0.02020634],\n",
       "       [-0.019762  , -0.00394913],\n",
       "       [ 0.05736406, -0.02334802],\n",
       "       [ 0.01777057,  0.04104645],\n",
       "       [-0.03697425,  0.01603121],\n",
       "       [ 0.02851369,  0.0081023 ],\n",
       "       [ 0.05879643,  0.00676817],\n",
       "       [ 0.01475923,  0.00672267],\n",
       "       [-0.08197584,  0.05759605],\n",
       "       [-0.05388244, -0.01104971],\n",
       "       [ 0.06877785, -0.05267361],\n",
       "       [-0.04744918,  0.01600686],\n",
       "       [ 0.0875511 , -0.05306807],\n",
       "       [ 0.03685599, -0.02057791],\n",
       "       [-0.00229025,  0.05051412],\n",
       "       [ 0.06530004, -0.03361714],\n",
       "       [ 0.02264557, -0.01541165],\n",
       "       [ 0.03195656, -0.0120751 ],\n",
       "       [-0.00104731, -0.01358078],\n",
       "       [ 0.02849538, -0.03854983],\n",
       "       [-0.01350095,  0.01861576],\n",
       "       [-0.01825746, -0.00562329],\n",
       "       [-0.02147443, -0.00895376],\n",
       "       [-0.05679111,  0.00190198],\n",
       "       [-0.07176199,  0.05885147],\n",
       "       [ 0.10772304, -0.03316901],\n",
       "       [-0.00505872,  0.02271671],\n",
       "       [ 0.00853276,  0.01858572],\n",
       "       [ 0.04358306, -0.01557626],\n",
       "       [ 0.04058946, -0.00723335],\n",
       "       [ 0.03133231, -0.00227687],\n",
       "       [-0.00749745, -0.00456409],\n",
       "       [-0.06265073,  0.05410357],\n",
       "       [ 0.03955498, -0.02261851],\n",
       "       [ 0.01259757,  0.01068086],\n",
       "       [ 0.01976337, -0.01805368],\n",
       "       [ 0.02423615, -0.01704035],\n",
       "       [-0.01978941, -0.00136867],\n",
       "       [ 0.00284672,  0.00137055],\n",
       "       [ 0.00706823, -0.00501823],\n",
       "       [ 0.0504281 , -0.0087115 ],\n",
       "       [ 0.01106065,  0.03469001],\n",
       "       [ 0.03598772,  0.01028165],\n",
       "       [ 0.01808577, -0.01769914],\n",
       "       [ 0.02076281,  0.01846851],\n",
       "       [-0.0149993 , -0.00221146],\n",
       "       [ 0.04946208, -0.02083331],\n",
       "       [-0.03129802,  0.0045269 ],\n",
       "       [ 0.02974952, -0.0252366 ],\n",
       "       [ 0.04459575,  0.        ],\n",
       "       [ 0.02804947,  0.00323629],\n",
       "       [ 0.02356279, -0.00829491],\n",
       "       [-0.03558291,  0.01440515],\n",
       "       [ 0.04311703, -0.02061386],\n",
       "       [ 0.00693217,  0.00374178],\n",
       "       [ 0.00620079, -0.00838763],\n",
       "       [ 0.02103028,  0.00892857],\n",
       "       [ 0.01905833, -0.00978108],\n",
       "       [-0.01507983,  0.02257756],\n",
       "       [ 0.0376553 ,  0.01287951],\n",
       "       [-0.01551384,  0.03860137],\n",
       "       [ 0.02320146,  0.00961951],\n",
       "       [ 0.02453359,  0.01645729],\n",
       "       [-0.00418859,  0.02130382],\n",
       "       [-0.03104081,  0.04839379],\n",
       "       [ 0.05489251,  0.00278555],\n",
       "       [-0.01739611,  0.02777778],\n",
       "       [ 0.00852082, -0.0382239 ],\n",
       "       [ 0.01049138,  0.0220794 ],\n",
       "       [-0.02101167, -0.01688919],\n",
       "       [ 0.01974203,  0.01598085],\n",
       "       [-0.06258082, -0.01454976],\n",
       "       [-0.02644283,  0.0015962 ],\n",
       "       [ 0.08298312,  0.0059761 ],\n",
       "       [ 0.00050487,  0.03287126],\n",
       "       [-0.01753019, -0.01648776],\n",
       "       [-0.05073532,  0.0081872 ],\n",
       "       [-0.00412836, -0.01430786],\n",
       "       [ 0.06599111, -0.03726949],\n",
       "       [ 0.0026994 , -0.01792992],\n",
       "       [ 0.0153246 ,  0.03070538],\n",
       "       [ 0.00091092,  0.        ],\n",
       "       [ 0.0356098 , -0.0068438 ],\n",
       "       [-0.00121924,  0.00608027],\n",
       "       [-0.00123445, -0.0056406 ],\n",
       "       [-0.01942568,  0.02998382],\n",
       "       [ 0.03417452,  0.03265139],\n",
       "       [ 0.01820076, -0.00038093],\n",
       "       [ 0.01788436, -0.01943598],\n",
       "       [ 0.03719816,  0.01476878],\n",
       "       [-0.0003892 , -0.00612791],\n",
       "       [ 0.00909121, -0.01464357],\n",
       "       [ 0.01157625, -0.01916305],\n",
       "       [ 0.00481378, -0.01315788],\n",
       "       [ 0.01934883, -0.02747483],\n",
       "       [ 0.00054643, -0.00166172],\n",
       "       [ 0.01930298,  0.00624216],\n",
       "       [ 0.02218814,  0.01654254],\n",
       "       [ 0.00372004, -0.01586648],\n",
       "       [ 0.03434256, -0.00661429],\n",
       "       [ 0.0561787 , -0.03154772],\n",
       "       [-0.03894737,  0.01892477],\n",
       "       [-0.0268845 , -0.00337695],\n",
       "       [ 0.00271878,  0.02202448],\n",
       "       [ 0.02160834,  0.02610862],\n",
       "       [ 0.00484244,  0.00726983],\n",
       "       [ 0.03602156,  0.00160381],\n",
       "       [ 0.03026321,  0.00840677],\n",
       "       [ 0.00429429,  0.00277884]])"
      ]
     },
     "execution_count": 11,
     "metadata": {},
     "output_type": "execute_result"
    }
   ],
   "source": [
    "x = x.T\n",
    "\n",
    "x"
   ]
  },
  {
   "cell_type": "code",
   "execution_count": 12,
   "metadata": {
    "collapsed": true
   },
   "outputs": [],
   "source": [
    "y1 = combined_data[\"Nike Returns\"]"
   ]
  },
  {
   "cell_type": "code",
   "execution_count": 13,
   "metadata": {
    "collapsed": true
   },
   "outputs": [],
   "source": [
    "reg_obj = linear_model.LinearRegression()"
   ]
  },
  {
   "cell_type": "code",
   "execution_count": 14,
   "metadata": {},
   "outputs": [
    {
     "data": {
      "text/plain": [
       "LinearRegression(copy_X=True, fit_intercept=True, n_jobs=1, normalize=False)"
      ]
     },
     "execution_count": 14,
     "metadata": {},
     "output_type": "execute_result"
    }
   ],
   "source": [
    "reg_obj.fit(x,y1)"
   ]
  },
  {
   "cell_type": "code",
   "execution_count": 15,
   "metadata": {},
   "outputs": [
    {
     "data": {
      "text/plain": [
       "0.04698479697879887"
      ]
     },
     "execution_count": 15,
     "metadata": {},
     "output_type": "execute_result"
    }
   ],
   "source": [
    "reg_obj.score(x,y1)"
   ]
  },
  {
   "cell_type": "code",
   "execution_count": 16,
   "metadata": {},
   "outputs": [
    {
     "data": {
      "text/plain": [
       "array([ 0.43938334, -0.48866406])"
      ]
     },
     "execution_count": 16,
     "metadata": {},
     "output_type": "execute_result"
    }
   ],
   "source": [
    "reg_obj.coef_"
   ]
  },
  {
   "cell_type": "code",
   "execution_count": 17,
   "metadata": {},
   "outputs": [
    {
     "data": {
      "text/plain": [
       "0.01955141536286277"
      ]
     },
     "execution_count": 17,
     "metadata": {},
     "output_type": "execute_result"
    }
   ],
   "source": [
    "reg_obj.intercept_"
   ]
  },
  {
   "cell_type": "markdown",
   "metadata": {},
   "source": [
    "### We will now regress the returns of Infosys on the SnP500 index. But let's consider the effect of Nifty on the prices too, in this regression, as this will certainly have its influence on the stock returns. We now have a multiple regression problem at hand."
   ]
  },
  {
   "cell_type": "code",
   "execution_count": 18,
   "metadata": {
    "collapsed": true
   },
   "outputs": [],
   "source": [
    "y2 = combined_data[\"Ralph Lauren Returns\"]"
   ]
  },
  {
   "cell_type": "code",
   "execution_count": 19,
   "metadata": {
    "collapsed": true
   },
   "outputs": [],
   "source": [
    "reg_obj = linear_model.LinearRegression()"
   ]
  },
  {
   "cell_type": "code",
   "execution_count": 20,
   "metadata": {},
   "outputs": [
    {
     "data": {
      "text/plain": [
       "LinearRegression(copy_X=True, fit_intercept=True, n_jobs=1, normalize=False)"
      ]
     },
     "execution_count": 20,
     "metadata": {},
     "output_type": "execute_result"
    }
   ],
   "source": [
    "reg_obj.fit(x, y2)"
   ]
  },
  {
   "cell_type": "code",
   "execution_count": 21,
   "metadata": {},
   "outputs": [
    {
     "data": {
      "text/plain": [
       "0.3096669219502629"
      ]
     },
     "execution_count": 21,
     "metadata": {},
     "output_type": "execute_result"
    }
   ],
   "source": [
    "reg_obj.score(x, y2)"
   ]
  },
  {
   "cell_type": "code",
   "execution_count": 22,
   "metadata": {},
   "outputs": [
    {
     "data": {
      "text/plain": [
       "array([1.28397145, 0.03648715])"
      ]
     },
     "execution_count": 22,
     "metadata": {},
     "output_type": "execute_result"
    }
   ],
   "source": [
    "reg_obj.coef_"
   ]
  },
  {
   "cell_type": "code",
   "execution_count": 23,
   "metadata": {},
   "outputs": [
    {
     "data": {
      "text/plain": [
       "0.0009191074129100054"
      ]
     },
     "execution_count": 23,
     "metadata": {},
     "output_type": "execute_result"
    }
   ],
   "source": [
    "reg_obj.intercept_"
   ]
  },
  {
   "cell_type": "markdown",
   "metadata": {},
   "source": [
    "Scikit learn treats the problem as a machine learning problem, which makes it hard for us to get detailed diagnostics of the llinear model that we fitted. e fix this, especially for multiple regression using the Statsmdels librar"
   ]
  },
  {
   "cell_type": "code",
   "execution_count": 24,
   "metadata": {
    "collapsed": true
   },
   "outputs": [],
   "source": [
    "import statsmodels.api as sm"
   ]
  },
  {
   "cell_type": "code",
   "execution_count": 25,
   "metadata": {
    "collapsed": true
   },
   "outputs": [],
   "source": [
    "X = sm.add_constant(x)"
   ]
  },
  {
   "cell_type": "markdown",
   "metadata": {},
   "source": [
    "#### Fit OLS model"
   ]
  },
  {
   "cell_type": "code",
   "execution_count": 26,
   "metadata": {
    "collapsed": true
   },
   "outputs": [],
   "source": [
    "model_ols = sm.OLS(y2, X)\n",
    "\n",
    "results_ols = model_ols.fit()"
   ]
  },
  {
   "cell_type": "code",
   "execution_count": 27,
   "metadata": {},
   "outputs": [
    {
     "name": "stdout",
     "output_type": "stream",
     "text": [
      "                             OLS Regression Results                             \n",
      "================================================================================\n",
      "Dep. Variable:     Ralph Lauren Returns   R-squared:                       0.310\n",
      "Model:                              OLS   Adj. R-squared:                  0.298\n",
      "Method:                   Least Squares   F-statistic:                     26.02\n",
      "Date:                  Sat, 29 Dec 2018   Prob (F-statistic):           4.63e-10\n",
      "Time:                          15:50:23   Log-Likelihood:                 143.08\n",
      "No. Observations:                   119   AIC:                            -280.2\n",
      "Df Residuals:                       116   BIC:                            -271.8\n",
      "Df Model:                             2                                         \n",
      "Covariance Type:              nonrobust                                         \n",
      "==============================================================================\n",
      "                 coef    std err          t      P>|t|      [0.025      0.975]\n",
      "------------------------------------------------------------------------------\n",
      "const          0.0009      0.007      0.130      0.897      -0.013       0.015\n",
      "x1             1.2840      0.206      6.227      0.000       0.876       1.692\n",
      "x2             0.0365      0.330      0.111      0.912      -0.617       0.690\n",
      "==============================================================================\n",
      "Omnibus:                        6.047   Durbin-Watson:                   2.289\n",
      "Prob(Omnibus):                  0.049   Jarque-Bera (JB):                6.767\n",
      "Skew:                          -0.317   Prob(JB):                       0.0339\n",
      "Kurtosis:                       3.981   Cond. No.                         52.1\n",
      "==============================================================================\n",
      "\n",
      "Warnings:\n",
      "[1] Standard Errors assume that the covariance matrix of the errors is correctly specified.\n"
     ]
    }
   ],
   "source": [
    "print(results_ols.summary())"
   ]
  },
  {
   "cell_type": "code",
   "execution_count": null,
   "metadata": {
    "collapsed": true
   },
   "outputs": [],
   "source": []
  },
  {
   "cell_type": "code",
   "execution_count": null,
   "metadata": {
    "collapsed": true
   },
   "outputs": [],
   "source": []
  }
 ],
 "metadata": {
  "kernelspec": {
   "display_name": "Python 3",
   "language": "python",
   "name": "python3"
  },
  "language_info": {
   "codemirror_mode": {
    "name": "ipython",
    "version": 3
   },
   "file_extension": ".py",
   "mimetype": "text/x-python",
   "name": "python",
   "nbconvert_exporter": "python",
   "pygments_lexer": "ipython3",
   "version": "3.6.3"
  }
 },
 "nbformat": 4,
 "nbformat_minor": 2
}
