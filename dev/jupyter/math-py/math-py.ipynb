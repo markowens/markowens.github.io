{
 "cells": [
  {
   "cell_type": "code",
   "execution_count": 1,
   "id": "2fee9f93-27ec-41d2-9183-0c376db50fe2",
   "metadata": {
    "tags": []
   },
   "outputs": [
    {
     "name": "stdout",
     "output_type": "stream",
     "text": [
      "1\n",
      "4\n",
      "9\n",
      "16\n",
      "25\n",
      "36\n",
      "49\n",
      "64\n",
      "81\n",
      "100\n"
     ]
    }
   ],
   "source": [
    "for n in range(1, 11):\n",
    "    print(n**2)"
   ]
  },
  {
   "cell_type": "markdown",
   "id": "dc01892d-ab8e-4eb2-9a30-6863dbb44242",
   "metadata": {},
   "source": [
    "**Links**\n",
    "\n",
    "[Drudge Report](https://www.drudgereport.com)"
   ]
  },
  {
   "cell_type": "markdown",
   "id": "ca3ab8bb-5907-4f77-b379-c28d968b05c8",
   "metadata": {},
   "source": [
    "**Latex**\n",
    "\n",
    "$\\int_a^b f(x) = F(b) - F(a)$\n",
    "\n",
    "$$f'(a) = \\lim_{x \\to a} \\frac{f(x) - f(a)}{x-a}$$\n",
    "\n",
    "$\\begin{matrix} a & b \\\\ c & d \\end{matrix}$\n",
    "\n",
    "$$\\begin{pmatrix} a & b \\\\ c & d \\end{pmatrix}$$\n",
    "\n",
    "$\\begin{bmatrix} 1 & 2 & 1 \\\\ 3 & 0 & 1 \\\\ 0 & 2 & 4 \\end{bmatrix}$\n",
    "\n",
    "$\\left( \\frac{p}{q} \\right)$\n",
    "\n",
    "$f'(a) = \\lim_{x \\to a} \\frac{f(x) - f(a)}{x - a}$\n",
    "\n",
    "$\\lim_{x \\to a^-} f(x) = f(a) = \\lim_{x \\to a^+} f(x)$\n",
    "\n",
    "$e^x = \\sum_{k=0}^{\\infty} \\frac{x^k}{k!}$\n",
    "\n"
   ]
  },
  {
   "cell_type": "markdown",
   "id": "07eedc85-634a-4b55-9f61-c0892f7eab84",
   "metadata": {},
   "source": [
    "**Numbers**"
   ]
  },
  {
   "cell_type": "code",
   "execution_count": 13,
   "id": "7fee4912-1a67-4d89-b56d-f6ca652973fe",
   "metadata": {},
   "outputs": [
    {
     "name": "stdout",
     "output_type": "stream",
     "text": [
      "20\n",
      "1998\n",
      "25.0\n",
      "33.333333333333336\n",
      "33\n",
      "1024\n"
     ]
    },
    {
     "data": {
      "text/plain": [
       "int"
      ]
     },
     "execution_count": 13,
     "metadata": {},
     "output_type": "execute_result"
    }
   ],
   "source": [
    "print(8 + 12)\n",
    "\n",
    "print(2019 - 21)\n",
    "\n",
    "print(100 / 4)\n",
    "\n",
    "print(100 / 3)\n",
    "\n",
    "print(100 // 3)\n",
    "\n",
    "print(2**10)\n",
    "\n",
    "type(42)"
   ]
  },
  {
   "cell_type": "markdown",
   "id": "c849b8f0-c464-45ef-94aa-518dfc9838ab",
   "metadata": {},
   "source": [
    "Approximate $\\sqrt(2)$"
   ]
  },
  {
   "cell_type": "code",
   "execution_count": 16,
   "id": "54673441-c3d0-474a-805f-2151ecb014fb",
   "metadata": {},
   "outputs": [
    {
     "data": {
      "text/plain": [
       "1.4142135623730951"
      ]
     },
     "execution_count": 16,
     "metadata": {},
     "output_type": "execute_result"
    }
   ],
   "source": [
    "2**0.5"
   ]
  },
  {
   "cell_type": "markdown",
   "id": "3180229c-3155-4c2c-b690-41a118be1a62",
   "metadata": {},
   "source": [
    "Approximate 2$\\pi$"
   ]
  },
  {
   "cell_type": "code",
   "execution_count": 17,
   "id": "9fa9a725-5209-4b2e-867f-2e3138d04876",
   "metadata": {},
   "outputs": [
    {
     "data": {
      "text/plain": [
       "6.283185307179586"
      ]
     },
     "execution_count": 17,
     "metadata": {},
     "output_type": "execute_result"
    }
   ],
   "source": [
    "import math\n",
    "2 * math.pi"
   ]
  },
  {
   "cell_type": "markdown",
   "id": "3936e5af-5406-4fc9-9f66-f0bf86950dcb",
   "metadata": {},
   "source": [
    "Use scientific notation to create 0.00001:"
   ]
  },
  {
   "cell_type": "code",
   "execution_count": 19,
   "id": "fe508396-a58b-4cfa-b5bf-dca481aa4c67",
   "metadata": {},
   "outputs": [
    {
     "data": {
      "text/plain": [
       "1e-05"
      ]
     },
     "execution_count": 19,
     "metadata": {},
     "output_type": "execute_result"
    }
   ],
   "source": [
    "1e-5"
   ]
  },
  {
   "cell_type": "code",
   "execution_count": 21,
   "id": "ce286ecf-08aa-4110-9577-321780121d76",
   "metadata": {},
   "outputs": [
    {
     "data": {
      "text/plain": [
       "int"
      ]
     },
     "execution_count": 21,
     "metadata": {},
     "output_type": "execute_result"
    }
   ],
   "source": [
    "type(42)"
   ]
  },
  {
   "cell_type": "code",
   "execution_count": 22,
   "id": "16e50853-3ec6-4d8e-a879-87c3a0c3b9ae",
   "metadata": {},
   "outputs": [
    {
     "data": {
      "text/plain": [
       "float"
      ]
     },
     "execution_count": 22,
     "metadata": {},
     "output_type": "execute_result"
    }
   ],
   "source": [
    "type(42.0)"
   ]
  },
  {
   "cell_type": "code",
   "execution_count": 23,
   "id": "66065183-1b97-4700-8b55-8a5c98f4a419",
   "metadata": {},
   "outputs": [
    {
     "data": {
      "text/plain": [
       "(1+1j)"
      ]
     },
     "execution_count": 23,
     "metadata": {},
     "output_type": "execute_result"
    }
   ],
   "source": [
    "complex(1,1)"
   ]
  },
  {
   "cell_type": "code",
   "execution_count": 24,
   "id": "82a8ef37-e9d9-4dab-a023-714f80fac3ef",
   "metadata": {},
   "outputs": [
    {
     "data": {
      "text/plain": [
       "(3+5j)"
      ]
     },
     "execution_count": 24,
     "metadata": {},
     "output_type": "execute_result"
    }
   ],
   "source": [
    "(1 + 2j) + (2 + 3j)"
   ]
  },
  {
   "cell_type": "code",
   "execution_count": 27,
   "id": "785a3249-2370-487e-bab6-ce2bc46ea491",
   "metadata": {},
   "outputs": [
    {
     "data": {
      "text/plain": [
       "(12-1j)"
      ]
     },
     "execution_count": 27,
     "metadata": {},
     "output_type": "execute_result"
    }
   ],
   "source": [
    "(2 - 1j) * (5 +2j)"
   ]
  },
  {
   "cell_type": "code",
   "execution_count": 28,
   "id": "64090a45-93b8-4c0f-b45a-47c792c85c3b",
   "metadata": {},
   "outputs": [
    {
     "data": {
      "text/plain": [
       "complex"
      ]
     },
     "execution_count": 28,
     "metadata": {},
     "output_type": "execute_result"
    }
   ],
   "source": [
    "type(2 - 7j)"
   ]
  },
  {
   "cell_type": "markdown",
   "id": "e96a31ad-2c40-4f57-9a9e-1a29872e600e",
   "metadata": {},
   "source": [
    "### Examples"
   ]
  },
  {
   "cell_type": "markdown",
   "id": "8eb1364c-8e72-44c1-92cd-cf850659b350",
   "metadata": {},
   "source": [
    "<h3 id=\"taylor-approximation\">Taylor Approximation</h3>\n",
    "<p>The <a href=\"https://en.wikipedia.org/wiki/Taylor_series\">Taylor series</a> of the exponential function $e^x$ is given by</p>\n",
    "<p>$$\n",
    "e^x = \\sum_{k=0}^{\\infty} \\frac{x^k}{k!}\n",
    "$$</p>\n",
    "<p>Compute the Taylor polynomial of degree 5 evaluated at $x = 1$ to find an approximation of $e$</p>\n",
    "<p>$$\n",
    "e \\approx \\frac{1}{0!} + \\frac{1}{1!} + \\frac{1}{2!} + \\frac{1}{3!} + \\frac{1}{4!} + \\frac{1}{5!}\n",
    "$$</p>\n",
    "<pre><code class=\"python\">1 + 1 + 1/2 + 1/(3*2) + 1/(4*3*2) + 1/(5*4*3*2)\n",
    "</code></pre>\n",
    "\n",
    "<pre><code>2.7166666666666663"
   ]
  },
  {
   "cell_type": "code",
   "execution_count": 33,
   "id": "aadc7014-d507-4dbc-a7ba-df5ecc9c5de0",
   "metadata": {},
   "outputs": [
    {
     "data": {
      "text/plain": [
       "2.7180555555555554"
      ]
     },
     "execution_count": 33,
     "metadata": {},
     "output_type": "execute_result"
    }
   ],
   "source": [
    "1 + 1 + 1/2 + 1/(3*2) + 1/(4*3*2) + 1/(5*4*3*2) + 1/(6*5*4*3*2)"
   ]
  },
  {
   "cell_type": "markdown",
   "id": "8d6f2893-9440-4e44-95d9-e846ee92ab46",
   "metadata": {},
   "source": [
    "<h3 id=\"ramanujans-pi-formula\">Ramanujan's $\\pi$ Formula</h3>\n",
    "<p><a href=\"https://en.wikipedia.org/wiki/Srinivasa_Ramanujan#Mathematical_achievements\">Srinivasa Ramanujan</a> discovered the following beautiful (and very rapidly converging) series representation of $\\pi$</p>\n",
    "<p>$$\n",
    "\\frac{1}{\\pi} = \\frac{2 \\sqrt{2}}{99^2} \\sum_{k = 0}^{\\infty} \\frac{(4k)!}{k!^4} \\frac{1103 + 26390k}{396^{4k}}\n",
    "$$</p>\n",
    "<p>Let's find an approximation of $\\pi$ by computing the <em>reciprocal</em> of the sum of the first 3 terms of the series:</p>\n",
    "<p>$$\n",
    "\\pi \\approx \\frac{99^2}{2 \\sqrt{2}} \\frac{1}{\\left( 1103 + 4! \\frac{1103 + 26390}{396^{4}} + \\frac{8!}{2^4} \\frac{1103 + 26390(2)}{396^{8}} \\right)}\n",
    "$$</p>\n",
    "<pre><code class=\"python\">99**2 / (2 * 2**0.5) / (1103 + 4*3*2 * (26390 + 1103) / 396**4\n",
    "                       + 8*7*6*5*4*3*2 / 2**4 * (26390*2 + 1103) / 396**8)\n",
    "</code></pre>\n",
    "\n",
    "<pre><code>3.141592653589793\n",
    "</code></pre>\n",
    "<p>These are exactly the first 16 digits of <a href=\"https://en.wikipedia.org/wiki/Pi\">$\\pi$</a>.</p>"
   ]
  },
  {
   "cell_type": "markdown",
   "id": "028f6fe7-b07d-4db8-b84e-5219b768be9a",
   "metadata": {},
   "source": [
    "### Exercises"
   ]
  },
  {
   "cell_type": "markdown",
   "id": "765525b4-d7f5-44d2-b571-4db1fd578a15",
   "metadata": {},
   "source": [
    "The [Taylor series](https://en.wikipedia.org/wiki/Taylor_series) of $\\cos x$ is given by\n",
    "\n",
    "$$\n",
    "\\cos x = \\sum_{k=0}^{\\infty} (-1)^k \\frac{x^{2k}}{(2k)!}\n",
    "$$\n",
    "\n",
    "Compute the Taylor polynomial of degree 6 evaluated at $x=2$:\n",
    "\n",
    "$$\n",
    "\\cos(2) \\approx 1 - \\frac{2^2}{2!} + \\frac{2^4}{4!} - \\frac{2^6}{6!}\n",
    "$$"
   ]
  },
  {
   "cell_type": "code",
   "execution_count": 39,
   "id": "2420efda-a602-4008-906e-8096001f4d4c",
   "metadata": {},
   "outputs": [],
   "source": [
    "###"
   ]
  },
  {
   "cell_type": "markdown",
   "id": "2b204437-2dc9-4f0a-956b-db55df37832f",
   "metadata": {},
   "source": [
    "The [Riemann zeta function](https://en.wikipedia.org/wiki/Riemann_zeta_function) is the infinite series\n",
    "\n",
    "$$\n",
    "\\zeta(s) = \\sum_{n=1}^{\\infty} \\frac{1}{n^s}\n",
    "$$\n",
    "\n",
    "and is intimately related to prime numbers by the [Euler product](https://en.wikipedia.org/wiki/Riemann_zeta_function#Euler_product_formula) formula\n",
    "\n",
    "$$\n",
    "\\sum_{n=1}^{\\infty} \\frac{1}{n^s} = \\prod_p \\left( \\frac{1}{1 - p^{-s}} \\right)\n",
    "$$\n",
    "\n",
    "where the product is over all primes $p = 2,3,5,7,11,13,\\dots$\n",
    "\n",
    "Compute the 5th partial sum for $s=2$\n",
    "\n",
    "$$\n",
    "1 + \\frac{1}{2^2} + \\frac{1}{3^2} + \\frac{1}{4^2} + \\frac{1}{5^2}\n",
    "$$\n",
    "\n",
    "Compute the 5th partial product for $s=2$\n",
    "\n",
    "$$\n",
    "\\left( \\frac{1}{1 - 2^{-2}} \\right) \\left( \\frac{1}{1 - 3^{-2}} \\right) \\left( \\frac{1}{1 - 5^{-2}} \\right) \\left( \\frac{1}{1 - 7^{-2}} \\right) \\left( \\frac{1}{1 - 11^{-2}} \\right)\n",
    "$$\n",
    "\n",
    "Given [Euler's special value formula](https://en.wikipedia.org/wiki/Basel_problem)\n",
    "\n",
    "$$\n",
    "\\zeta(2) = \\frac{\\pi^2}{6}\n",
    "$$\n",
    "\n",
    "which converges more quickly: the infinite series or product?"
   ]
  },
  {
   "cell_type": "code",
   "execution_count": 40,
   "id": "ba368042-b19b-4c20-bf47-4249187c9a8d",
   "metadata": {},
   "outputs": [],
   "source": [
    "###"
   ]
  },
  {
   "cell_type": "markdown",
   "id": "dff3316b-ca56-4543-b2c7-747fc9e2eef5",
   "metadata": {},
   "source": [
    "The [continued fraction](https://en.wikipedia.org/wiki/Continued_fraction#Square_roots) for $\\sqrt{2}$ is given by\n",
    "\n",
    "$$\n",
    "\\sqrt{2} = 1 + \\frac{1}{2 + \\frac{1}{2 + \\frac{1}{2 + \\frac{1}{2 + \\ddots}}}}\n",
    "$$\n",
    "\n",
    "Compute the following (partial) continued fraction to approximate $\\sqrt{2}$\n",
    "\n",
    "$$\n",
    "\\sqrt{2} \\approx 1 + \\frac{1}{2 + \\frac{1}{2 + \\frac{1}{2 + \\frac{1}{2}}}}\n",
    "$$"
   ]
  },
  {
   "cell_type": "code",
   "execution_count": 43,
   "id": "b5da6eda-e719-449e-87b7-f8ecadc438ae",
   "metadata": {},
   "outputs": [],
   "source": [
    "###"
   ]
  }
 ],
 "metadata": {
  "kernelspec": {
   "display_name": "Python 3",
   "language": "python",
   "name": "python3"
  },
  "language_info": {
   "codemirror_mode": {
    "name": "ipython",
    "version": 3
   },
   "file_extension": ".py",
   "mimetype": "text/x-python",
   "name": "python",
   "nbconvert_exporter": "python",
   "pygments_lexer": "ipython3",
   "version": "3.7.10"
  }
 },
 "nbformat": 4,
 "nbformat_minor": 5
}
