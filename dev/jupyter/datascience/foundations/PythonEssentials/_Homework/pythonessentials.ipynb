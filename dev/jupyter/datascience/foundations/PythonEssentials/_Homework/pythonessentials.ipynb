{
 "cells": [
  {
   "cell_type": "markdown",
   "id": "e19be47e-2620-49af-bf86-98185a89829a",
   "metadata": {},
   "source": [
    "# Python Intro"
   ]
  },
  {
   "cell_type": "markdown",
   "id": "615eecd3-c040-45d1-9089-7ed8892d6313",
   "metadata": {},
   "source": [
    "## Problem 1"
   ]
  },
  {
   "cell_type": "code",
   "execution_count": null,
   "id": "12adfc05-ea93-4833-9051-aacf8892bf52",
   "metadata": {},
   "outputs": [],
   "source": [
    "if __name__ == \"__main__\":\n",
    "    print(f\"Python Intro - Lab 1\")"
   ]
  },
  {
   "cell_type": "code",
   "execution_count": null,
   "id": "79f63087-af44-4b22-ab01-1944a300d420",
   "metadata": {},
   "outputs": [],
   "source": [
    "if __name__ == \"__main__\":\n",
    "    print(\"Hello, World!\")"
   ]
  },
  {
   "cell_type": "code",
   "execution_count": null,
   "id": "1eedbb3e-c1a6-4e68-8aa5-cabadf10081d",
   "metadata": {},
   "outputs": [],
   "source": [
    "# A list is a basic Python data structure. To see the methods associated with\n",
    "# a list, type the object name (list), followed by a period, and press tab.\n",
    "#list.\n",
    "\n",
    "# To learn more about a specific method, use a '?' and hit 'Enter'.\n",
    "list.append?"
   ]
  },
  {
   "cell_type": "code",
   "execution_count": null,
   "id": "a1e56f74-aeae-4747-800b-da7612e07ca0",
   "metadata": {},
   "outputs": [],
   "source": [
    "help()"
   ]
  },
  {
   "cell_type": "code",
   "execution_count": null,
   "id": "ac16b2d3-fcfe-493d-b32c-65e909207217",
   "metadata": {},
   "outputs": [],
   "source": [
    "3**2 + 2 * 5                   # Python obeys the order of operations."
   ]
  },
  {
   "cell_type": "code",
   "execution_count": null,
   "id": "bde404c0-f077-48e0-8b98-455dd69e0806",
   "metadata": {},
   "outputs": [],
   "source": [
    "13%3  # modulo"
   ]
  },
  {
   "cell_type": "code",
   "execution_count": null,
   "id": "a0bcd5f3-e9b9-4d13-884c-f6915a39b2b6",
   "metadata": {},
   "outputs": [],
   "source": [
    "12 * 3"
   ]
  },
  {
   "cell_type": "code",
   "execution_count": null,
   "id": "b5a9050c-02c3-4192-a4fd-e6f26dddcc9c",
   "metadata": {},
   "outputs": [],
   "source": [
    "_ / 4"
   ]
  },
  {
   "cell_type": "code",
   "execution_count": null,
   "id": "d4840c7b-13c2-475c-9711-0b702a292dbe",
   "metadata": {},
   "outputs": [],
   "source": [
    "3 > 2.99"
   ]
  },
  {
   "cell_type": "code",
   "execution_count": null,
   "id": "bbafa90a-959a-44bc-a112-ac362415201f",
   "metadata": {},
   "outputs": [],
   "source": [
    "1.0 <= 1 or 2 > 3"
   ]
  },
  {
   "cell_type": "code",
   "execution_count": null,
   "id": "17751613-96b1-4d35-9abc-9db6bcd6aebe",
   "metadata": {},
   "outputs": [],
   "source": [
    "7 == 7 and not 4 < 4"
   ]
  },
  {
   "cell_type": "code",
   "execution_count": null,
   "id": "45a6681c-524a-4fcd-a1ad-48c5d9957092",
   "metadata": {},
   "outputs": [],
   "source": [
    "True and True and True and True and True and False"
   ]
  },
  {
   "cell_type": "code",
   "execution_count": null,
   "id": "225bfc41-0b94-41e4-a020-678977ddba18",
   "metadata": {},
   "outputs": [],
   "source": [
    " False or False or False or False or False or True"
   ]
  },
  {
   "cell_type": "code",
   "execution_count": null,
   "id": "a7413d7d-7811-4d63-97bd-1454e7df9501",
   "metadata": {},
   "outputs": [],
   "source": [
    "True or not True"
   ]
  },
  {
   "cell_type": "code",
   "execution_count": null,
   "id": "8ea73c50-f570-49e6-a04f-5030d6bc7f46",
   "metadata": {},
   "outputs": [],
   "source": [
    "x = 12"
   ]
  },
  {
   "cell_type": "code",
   "execution_count": null,
   "id": "81e764cd-308f-4c11-85e8-5f95eb071fa5",
   "metadata": {},
   "outputs": [],
   "source": [
    "y = 2 * 6"
   ]
  },
  {
   "cell_type": "code",
   "execution_count": null,
   "id": "4cb93887-46de-4cd4-be72-b3a171ea5a14",
   "metadata": {},
   "outputs": [],
   "source": [
    "x == y"
   ]
  },
  {
   "cell_type": "code",
   "execution_count": null,
   "id": "ad7b0ef6-1bb5-4189-9ffa-2930e94b94e5",
   "metadata": {},
   "outputs": [],
   "source": [
    "x, y = 2, 4"
   ]
  },
  {
   "cell_type": "code",
   "execution_count": null,
   "id": "5ebe1b42-50e3-456f-991d-e9c9066a327a",
   "metadata": {},
   "outputs": [],
   "source": [
    "x == y"
   ]
  },
  {
   "cell_type": "code",
   "execution_count": null,
   "id": "87e8bb0d-de8e-464d-9ba1-448845b6f60d",
   "metadata": {},
   "outputs": [],
   "source": [
    "def add(x, y):\n",
    "    \"\"\"Return the sum of the two inputs\"\"\"\n",
    "    return x + y"
   ]
  },
  {
   "cell_type": "code",
   "execution_count": null,
   "id": "18998db2-85be-4b6d-be12-20d8a8afb1ea",
   "metadata": {},
   "outputs": [],
   "source": [
    "add(4, 6)"
   ]
  },
  {
   "cell_type": "code",
   "execution_count": null,
   "id": "ab932a76-f007-4bac-b166-aaab42369236",
   "metadata": {},
   "outputs": [],
   "source": [
    "def area(width, height):\n",
    "    \"\"\"Return the area of the recxtangle with the specified width and height\"\"\"\n",
    "    return width * height"
   ]
  },
  {
   "cell_type": "code",
   "execution_count": null,
   "id": "6a98fee8-93c9-407f-935d-2f049239a195",
   "metadata": {},
   "outputs": [],
   "source": [
    "area(2, 5)"
   ]
  },
  {
   "cell_type": "code",
   "execution_count": null,
   "id": "0f3e4d97-c1c0-4228-8625-7e2514f56110",
   "metadata": {},
   "outputs": [],
   "source": [
    "def arithmetic(a, b):\n",
    "    return a - b, a * b\n",
    "\n",
    "x, y = arithmetic(5, 2)\n",
    "print(x, y)"
   ]
  },
  {
   "cell_type": "code",
   "execution_count": null,
   "id": "96078f23-4f13-4dcd-83e0-756f2cc78bba",
   "metadata": {},
   "outputs": [],
   "source": [
    "# Define the polynomials the usual way using 'def'.\n",
    "def f(x):\n",
    "    return 6*x**3 + 4*x**2 - x + 3\n",
    "\n",
    "def g(x, y, z):\n",
    "    return x + y**2 - z**3"
   ]
  },
  {
   "cell_type": "code",
   "execution_count": null,
   "id": "4387b8b9-c511-404f-9aca-73bc5af326bc",
   "metadata": {},
   "outputs": [],
   "source": [
    "f(2)"
   ]
  },
  {
   "cell_type": "code",
   "execution_count": null,
   "id": "e211298f-2fad-4035-95cb-8337a563c1d4",
   "metadata": {},
   "outputs": [],
   "source": [
    "g(1, 2, 3)"
   ]
  },
  {
   "cell_type": "code",
   "execution_count": null,
   "id": "f223ce20-a465-4de5-900e-2bf48a3f2e0e",
   "metadata": {},
   "outputs": [],
   "source": [
    "# Equivalently, define the polynomials quickly using 'lambda'.\n",
    "f = lambda x: 6*x**3 + 4*x**2 - x + 3\n",
    "g = lambda x, y, z: x + y**2 - z**3"
   ]
  },
  {
   "cell_type": "code",
   "execution_count": null,
   "id": "4df7b377-42dd-41b9-82c0-dff66944195a",
   "metadata": {},
   "outputs": [],
   "source": [
    "f(1)"
   ]
  },
  {
   "cell_type": "markdown",
   "id": "2befd1ee-0f2d-45ea-9aa5-b2262164ceec",
   "metadata": {},
   "source": [
    "\n",
    "## Problem 2\n"
   ]
  },
  {
   "cell_type": "markdown",
   "id": "ca4ed93c-c9a6-4902-9d1c-b655afbb20b9",
   "metadata": {},
   "source": [
    "<pre>\n",
    "The volume of a sphere with radius r is V = 4/3*pi*r**3\n",
    "</pre>\n",
    "In your Python file from Problem 1, define a function called sphere_volume() that accepts a single parameter r. Return\n",
    "the volume of the sphere of radius r, using 3.14159 as an approximation for π (for now). Also\n",
    "write an appropriate docstring for your function.\n",
    "To test your function, call it under the if __name__ == \"__main__\" clause and print the\n",
    "returned value. Run your file to see if your answer is what you expect it to be.\n"
   ]
  },
  {
   "cell_type": "code",
   "execution_count": null,
   "id": "a2af24f8-1af8-4f0e-9322-9d4cca62bdf7",
   "metadata": {},
   "outputs": [],
   "source": [
    "def sphere_volume(r):\n",
    "    pi = 3.14159\n",
    "    return (4/3)* pi * r**3"
   ]
  },
  {
   "cell_type": "code",
   "execution_count": null,
   "id": "395f51aa-3468-4547-b41f-8bdec71439f5",
   "metadata": {},
   "outputs": [],
   "source": [
    "sphere_volume(2)"
   ]
  },
  {
   "cell_type": "code",
   "execution_count": null,
   "id": "3d503210-4731-464e-8717-334213cf56c7",
   "metadata": {},
   "outputs": [],
   "source": [
    "def pad(a, b, c=0):\n",
    "    \"\"\"Print the arguments, plus a zero if c is not specified\"\"\"\n",
    "    print(a, b, c)\n",
    "    \n",
    "pad(1, 2, 3)\n",
    "pad(1, 2)"
   ]
  },
  {
   "cell_type": "code",
   "execution_count": null,
   "id": "b6a1700f-d5c9-4ab0-a415-5fecd827e07d",
   "metadata": {},
   "outputs": [],
   "source": [
    "pad(b=3, c=5, a=7)"
   ]
  },
  {
   "cell_type": "code",
   "execution_count": null,
   "id": "d5673339-ff3f-4373-97e1-0ebbc518da24",
   "metadata": {},
   "outputs": [],
   "source": [
    "pad(b=1, a=2)"
   ]
  },
  {
   "cell_type": "code",
   "execution_count": null,
   "id": "9576235e-9fdb-4b3f-9f1e-dfeeb86c4dab",
   "metadata": {},
   "outputs": [],
   "source": [
    "pad(1, c=2, b=3)"
   ]
  },
  {
   "cell_type": "markdown",
   "id": "23e586e2-ea9f-478d-843f-5be4e5e30ba8",
   "metadata": {},
   "source": [
    "The built-in print() function has the useful keyword arguments sep and end.\n",
    "It accepts any number of positional arguments and prints them out with sep inserted between\n",
    "values (defaulting to a space), then prints end (defaulting to the newline character '\\n').\n",
    "Write a function called isolate() that accepts five arguments. Print the first three\n",
    "separated by 5 spaces, then print the rest with a single space between each output. For example:\n",
    "\n",
    "isolate(1, 2, 3, 4, 5)\n",
    "\n",
    "1 2 3 4 5"
   ]
  },
  {
   "cell_type": "code",
   "execution_count": null,
   "id": "50ff806d-d9f1-40cb-822e-5661ed2ed062",
   "metadata": {},
   "outputs": [],
   "source": [
    "def isolate(a, b, c, d, e):\n",
    "    print(a, b, c, sep=\"     \", end=\"\")\n",
    "    print(\" \", d, e)\n",
    "    \n",
    "isolate(1, 2, 3, 4, 5)"
   ]
  },
  {
   "cell_type": "markdown",
   "id": "fa9528ca-d33d-4b54-98bf-6f6623c5d348",
   "metadata": {},
   "source": [
    "#### Data Types and Structures"
   ]
  },
  {
   "cell_type": "code",
   "execution_count": null,
   "id": "e213e344-6bf0-4963-8b41-a5712be57fc1",
   "metadata": {},
   "outputs": [],
   "source": [
    "type(3)"
   ]
  },
  {
   "cell_type": "code",
   "execution_count": null,
   "id": "9debda41-6df8-4a35-91b2-3b90f3625a9c",
   "metadata": {},
   "outputs": [],
   "source": [
    "type(3.0)"
   ]
  },
  {
   "cell_type": "code",
   "execution_count": null,
   "id": "3e057207-2a40-44d9-9c38-8df1ee658b0f",
   "metadata": {},
   "outputs": [],
   "source": [
    "15/4"
   ]
  },
  {
   "cell_type": "code",
   "execution_count": null,
   "id": "a82ada4d-9701-493d-9e41-94c7f2d50683",
   "metadata": {},
   "outputs": [],
   "source": [
    "15//4"
   ]
  },
  {
   "cell_type": "code",
   "execution_count": null,
   "id": "d1723095-8b44-4282-82a1-715ccd14b81c",
   "metadata": {},
   "outputs": [],
   "source": [
    "15.//4"
   ]
  },
  {
   "cell_type": "code",
   "execution_count": null,
   "id": "302a78a2-23d2-452b-96d3-bc92f002ad2d",
   "metadata": {},
   "outputs": [],
   "source": [
    "x = complex(2, 3)\n",
    "y = 4 + 5j"
   ]
  },
  {
   "cell_type": "code",
   "execution_count": null,
   "id": "d21d8bb5-a03f-4642-9a0d-bbd6154b713d",
   "metadata": {},
   "outputs": [],
   "source": [
    "x.real"
   ]
  },
  {
   "cell_type": "code",
   "execution_count": null,
   "id": "a1fe1873-8cf2-49d7-aaa9-652ae886c41b",
   "metadata": {},
   "outputs": [],
   "source": [
    "y.imag"
   ]
  },
  {
   "cell_type": "markdown",
   "id": "9aa62a36-bd37-4780-a27c-e0910b774c8c",
   "metadata": {},
   "source": [
    "### Strings"
   ]
  },
  {
   "cell_type": "code",
   "execution_count": null,
   "id": "e8050375-b2e2-460e-9da5-407caad6a0be",
   "metadata": {},
   "outputs": [],
   "source": [
    "def first_half(s):\n",
    "    return s[:len(s)//2]\n",
    "\n",
    "print(first_half(\"123456\"))\n",
    "print(first_half(\"12345\"))"
   ]
  },
  {
   "cell_type": "code",
   "execution_count": null,
   "id": "952b1ace-3d0a-46ae-b204-93ab073a172e",
   "metadata": {},
   "outputs": [],
   "source": [
    "def backward(s):\n",
    "    return s[::-1]\n",
    "\n",
    "print(backward(\"123456\"))"
   ]
  },
  {
   "cell_type": "markdown",
   "id": "5d8f988c-fc6f-49cb-a0d2-bfba3f6f93dc",
   "metadata": {},
   "source": [
    "### Problem 5"
   ]
  },
  {
   "cell_type": "code",
   "execution_count": null,
   "id": "0de081b4-9fd7-48ec-ad61-239d4b74e273",
   "metadata": {},
   "outputs": [],
   "source": [
    "def list_ops():\n",
    "    words = [\"bear\", \"ant\", \"cat\", \"dog\"]\n",
    "    print(words)\n",
    "    words.append(\"eagle\")\n",
    "    print(words)\n",
    "    words[2] = \"fox\"\n",
    "    print(words)\n",
    "    words.pop(1)\n",
    "    print(words)\n",
    "    words = sorted(words)[::-1]\n",
    "    print(words)\n",
    "    eagle_pos = words.index(\"eagle\")\n",
    "    words[eagle_pos] = \"hawk\"\n",
    "    print(words)\n",
    "    words.append(\"hunter\")\n",
    "    print(words)\n",
    "    \n",
    "list_ops()"
   ]
  },
  {
   "cell_type": "markdown",
   "id": "ec1cf010-443d-4e33-abe1-42744fc2c598",
   "metadata": {},
   "source": [
    "Page 22"
   ]
  }
 ],
 "metadata": {
  "kernelspec": {
   "display_name": "Python 3",
   "language": "python",
   "name": "python3"
  },
  "language_info": {
   "codemirror_mode": {
    "name": "ipython",
    "version": 3
   },
   "file_extension": ".py",
   "mimetype": "text/x-python",
   "name": "python",
   "nbconvert_exporter": "python",
   "pygments_lexer": "ipython3",
   "version": "3.7.10"
  }
 },
 "nbformat": 4,
 "nbformat_minor": 5
}
