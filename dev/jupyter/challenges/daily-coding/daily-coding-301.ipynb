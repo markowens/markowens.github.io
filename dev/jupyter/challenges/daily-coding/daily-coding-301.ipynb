{
 "cells": [
  {
   "cell_type": "markdown",
   "metadata": {},
   "source": [
    "### Daily Coding Problem: Problem #301 [Medium]\n",
    "\n",
    "This problem was asked by Triplebyte.\n",
    "\n",
    "Implement a data structure which carries out the following operations without resizing the underlying array:\n",
    "\n",
    "    add(value): Add a value to the set of values.\n",
    "    check(value): Check whether a value is in the set.\n",
    "\n",
    "The check method may return occasional false positives (in other words, incorrectly identifying an element as part of the set), but should always correctly identify a true element.\n",
    "\n",
    "### Daily Coding Problem: Problem #302 [Medium]\n",
    "\n",
    "This problem was asked by Uber.\n",
    "\n",
    "You are given a 2-d matrix where each cell consists of either /, \\, or an empty space. Write an algorithm that determines into how many regions the slashes divide the space.\n",
    "\n",
    "For example, suppose the input for a three-by-six grid is the following:\n",
    "\n",
    "<pre>\n",
    "\\    /\n",
    " \\  /\n",
    "  \\/\n",
    "</pre>\n",
    "\n",
    "Considering the edges of the matrix as boundaries, this divides the grid into three triangles, so you should return 3.\n",
    "\n",
    "### Daily Coding Problem: Problem #303 [Easy]\n",
    "\n",
    "This problem was asked by Microsoft.\n",
    "\n",
    "Given a clock time in hh:mm format, determine, to the nearest degree, the angle between the hour and the minute hands.\n",
    "\n",
    "Bonus: When, during the course of a day, will the angle be zero?\n",
    "\n",
    "### Daily Coding Problem: Problem #304 [Hard]\n",
    "\n",
    "This problem was asked by Two Sigma.\n",
    "\n",
    "A knight is placed on a given square on an 8 x 8 chessboard. It is then moved randomly several times, where each move is a standard knight move. If the knight jumps off the board at any point, however, it is not allowed to jump back on.\n",
    "\n",
    "After k moves, what is the probability that the knight remains on the board?\n",
    "\n",
    "### Daily Coding Problem: Problem #305 [Easy]\n",
    "\n",
    "This problem was asked by Amazon.\n",
    "\n",
    "Given a linked list, remove all consecutive nodes that sum to zero. Print out the remaining nodes.\n",
    "\n",
    "For example, suppose you are given the input 3 -> 4 -> -7 -> 5 -> -6 -> 6. In this case, you should first remove 3 -> 4 -> -7, then -6 -> 6, leaving only 5.\n",
    "\n",
    "### Daily Coding Problem: Problem #306 [Medium]\n",
    "\n",
    "This problem was asked by Palantir.\n",
    "\n",
    "You are given a list of N numbers, in which each number is located at most k places away from its sorted position. For example, if k = 1, a given element at index 4 might end up at indices 3, 4, or 5.\n",
    "\n",
    "Come up with an algorithm that sorts this list in O(N log k) time.\n",
    "\n",
    "### Daily Coding Problem: Problem #307 [Easy]\n",
    "\n",
    "This problem was asked by Oracle.\n",
    "\n",
    "Given a binary search tree, find the floor and ceiling of a given integer. The floor is the highest element in the tree less than or equal to an integer, while the ceiling is the lowest element in the tree greater than or equal to an integer.\n",
    "\n",
    "If either value does not exist, return None.\n",
    "\n",
    "### Daily Coding Problem: Problem #308 [Hard]\n",
    "\n",
    "This problem was asked by Quantcast.\n",
    "\n",
    "You are presented with an array representing a Boolean expression. The elements are of two kinds:\n",
    "\n",
    "    T and F, representing the values True and False.\n",
    "    &, |, and ^, representing the bitwise operators for AND, OR, and XOR.\n",
    "\n",
    "Determine the number of ways to group the array elements using parentheses so that the entire expression evaluates to True.\n",
    "\n",
    "For example, suppose the input is ['F', '|', 'T', '&', 'T']. In this case, there are two acceptable groupings: (F | T) & T and F | (T & T).\n",
    "\n",
    "### Daily Coding Problem: Problem #309 [Medium]\n",
    "\n",
    "This problem was asked by Walmart Labs.\n",
    "\n",
    "There are M people sitting in a row of N seats, where M < N. Your task is to redistribute people such that there are no gaps between any of them, while keeping overall movement to a minimum.\n",
    "\n",
    "For example, suppose you are faced with an input of [0, 1, 1, 0, 1, 0, 0, 0, 1], where 0 represents an empty seat and 1 represents a person. In this case, one solution would be to place the person on the right in the fourth seat. We can consider the cost of a solution to be the sum of the absolute distance each person must move, so that the cost here would be five.\n",
    "\n",
    "Given an input such as the one above, return the lowest possible cost of moving people to remove all gaps.\n",
    "\n",
    "### Daily Coding Problem: Problem #310 [Easy]\n",
    "\n",
    "This problem was asked by Pivotal.\n",
    "\n",
    "Write an algorithm that finds the total number of set bits in all integers between 1 and N.\n",
    "\n",
    "### Daily Coding Problem: Problem #311 [Easy]\n",
    "\n",
    "This problem was asked by Sumo Logic.\n",
    "\n",
    "Given an unsorted array, in which all elements are distinct, find a \"peak\" element in O(log N) time.\n",
    "\n",
    "An element is considered a peak if it is greater than both its left and right neighbors. It is guaranteed that the first and last elements are lower than all others.\n",
    "\n",
    "### Daily Coding Problem: Problem #312 [Easy]\n",
    "\n",
    "This problem was asked by Wayfair.\n",
    "\n",
    "You are given a 2 x N board, and instructed to completely cover the board with the following shapes:\n",
    "\n",
    "    Dominoes, or 2 x 1 rectangles.\n",
    "    Trominoes, or L-shapes.\n",
    "\n",
    "For example, if N = 4, here is one possible configuration, where A is a domino, and B and C are trominoes.\n",
    "\n",
    "A B B C\n",
    "A B C C\n",
    "\n",
    "Given an integer N, determine in how many ways this task is possible.\n",
    "\n",
    "### Daily Coding Problem: Problem #313 [Hard]\n",
    "\n",
    "This problem was asked by Citrix.\n",
    "\n",
    "You are given a circular lock with three wheels, each of which display the numbers 0 through 9 in order. Each of these wheels rotate clockwise and counterclockwise.\n",
    "\n",
    "In addition, the lock has a certain number of \"dead ends\", meaning that if you turn the wheels to one of these combinations, the lock becomes stuck in that state and cannot be opened.\n",
    "\n",
    "Let us consider a \"move\" to be a rotation of a single wheel by one digit, in either direction. Given a lock initially set to 000, a target combination, and a list of dead ends, write a function that returns the minimum number of moves required to reach the target state, or None if this is impossible.\n",
    "\n",
    "### Daily Coding Problem: Problem #314 [Medium]\n",
    "\n",
    "This problem was asked by Spotify.\n",
    "\n",
    "You are the technical director of WSPT radio, serving listeners nationwide. For simplicity's sake we can consider each listener to live along a horizontal line stretching from 0 (west) to 1000 (east).\n",
    "\n",
    "Given a list of N listeners, and a list of M radio towers, each placed at various locations along this line, determine what the minimum broadcast range would have to be in order for each listener's home to be covered.\n",
    "\n",
    "For example, suppose listeners = [1, 5, 11, 20], and towers = [4, 8, 15]. In this case the minimum range would be 5, since that would be required for the tower at position 15 to reach the listener at position 20.\n",
    "\n",
    "### Daily Coding Problem: Problem #315 [Easy]\n",
    "\n",
    "This problem was asked by Google.\n",
    "\n",
    "In linear algebra, a Toeplitz matrix is one in which the elements on any given diagonal from top left to bottom right are identical.\n",
    "\n",
    "Here is an example:\n",
    "\n",
    "<pre>\n",
    "1 2 3 4 8\n",
    "5 1 2 3 4\n",
    "4 5 1 2 3\n",
    "7 4 5 1 2\n",
    "</pre>\n",
    "\n",
    "Write a program to determine whether a given input is a Toeplitz matrix.\n",
    "\n",
    "### Daily Coding Problem: Problem #316 [Medium]\n",
    "\n",
    "This problem was asked by Snapchat.\n",
    "\n",
    "You are given an array of length N, where each element i represents the number of ways we can produce i units of change. For example, [1, 0, 1, 1, 2] would indicate that there is only one way to make 0, 2, or 3 units, and two ways of making 4 units.\n",
    "\n",
    "Given such an array, determine the denominations that must be in use. In the case above, for example, there must be coins with value 2, 3, and 4.\n",
    "\n",
    "### Daily Coding Problem: Problem #317 [Medium]\n",
    "\n",
    "This problem was asked by Yahoo.\n",
    "\n",
    "Write a function that returns the bitwise AND of all integers between M and N, inclusive.\n",
    "\n",
    "### Daily Coding Problem: Problem #318 [Hard]\n",
    "\n",
    "This problem was asked by Apple.\n",
    "\n",
    "You are going on a road trip, and would like to create a suitable music playlist. The trip will require N songs, though you only have M songs downloaded, where M < N. A valid playlist should select each song at least once, and guarantee a buffer of B songs between repeats.\n",
    "\n",
    "Given N, M, and B, determine the number of valid playlists.\n",
    "\n",
    "### Daily Coding Problem: Problem #319 [Hard]\n",
    "\n",
    "This problem was asked by Airbnb.\n",
    "\n",
    "An 8-puzzle is a game played on a 3 x 3 board of tiles, with the ninth tile missing. The remaining tiles are labeled 1 through 8 but shuffled randomly. Tiles may slide horizontally or vertically into an empty space, but may not be removed from the board.\n",
    "\n",
    "Design a class to represent the board, and find a series of steps to bring the board to the state [[1, 2, 3], [4, 5, 6], [7, 8, None]].\n",
    "\n",
    "### Daily Coding Problem: Problem #320 [Medium]\n",
    "\n",
    "This problem was asked by Amazon.\n",
    "\n",
    "Given a string, find the length of the smallest window that contains every distinct character. Characters may appear more than once in the window.\n",
    "\n",
    "For example, given \"jiujitsu\", you should return 5, corresponding to the final five letters.\n",
    "\n",
    "### Daily Coding Problem: Problem #321 [Easy]\n",
    "\n",
    "This problem was asked by PagerDuty.\n",
    "\n",
    "Given a positive integer N, find the smallest number of steps it will take to reach 1.\n",
    "\n",
    "There are two kinds of permitted steps:\n",
    "\n",
    "    You may decrement N to N - 1.\n",
    "    If a * b = N, you may decrement N to the larger of a and b.\n",
    "\n",
    "For example, given 100, you can reach 1 in five steps with the following route: 100 -> 10 -> 9 -> 3 -> 2 -> 1.\n",
    "\n",
    "### Daily Coding Problem: Problem #322 [Medium]\n",
    "\n",
    "This problem was asked by Flipkart.\n",
    "\n",
    "Starting from 0 on a number line, you would like to make a series of jumps that lead to the integer N.\n",
    "\n",
    "On the ith jump, you may move exactly i places to the left or right.\n",
    "\n",
    "Find a path with the fewest number of jumps required to get from 0 to N.\n",
    "\n",
    "### Daily Coding Problem: Problem #323 [Medium]\n",
    "\n",
    "This problem was asked by Dropbox.\n",
    "\n",
    "Create an algorithm to efficiently compute the approximate median of a list of numbers.\n",
    "\n",
    "More precisely, given an unordered list of N numbers, find an element whose rank is between N / 4 and 3 * N / 4, with a high level of certainty, in less than O(N) time.\n",
    "\n",
    "### Daily Coding Problem: Problem #324 [Easy]\n",
    "\n",
    "This problem was asked by Amazon.\n",
    "\n",
    "Consider the following scenario: there are N mice and N holes placed at integer points along a line. Given this, find a method that maps mice to holes such that the largest number of steps any mouse takes is minimized.\n",
    "\n",
    "Each move consists of moving one mouse one unit to the left or right, and only one mouse can fit inside each hole.\n",
    "\n",
    "For example, suppose the mice are positioned at [1, 4, 9, 15], and the holes are located at [10, -5, 0, 16]. In this case, the best pairing would require us to send the mouse at 1 to the hole at -5, so our function should return 6.\n",
    "\n",
    "### Daily Coding Problem: Problem #325 [Easy]\n",
    "\n",
    "This problem was asked by Jane Street.\n",
    "\n",
    "The United States uses the imperial system of weights and measures, which means that there are many different, seemingly arbitrary units to measure distance. There are 12 inches in a foot, 3 feet in a yard, 22 yards in a chain, and so on.\n",
    "\n",
    "Create a data structure that can efficiently convert a certain quantity of one unit to the correct amount of any other unit. You should also allow for additional units to be added to the system.\n",
    "\n",
    "### Daily Coding Problem: Problem #326 [Hard]\n",
    "\n",
    "This problem was asked by Netflix.\n",
    "\n",
    "A Cartesian tree with sequence S is a binary tree defined by the following two properties:\n",
    "\n",
    "    It is heap-ordered, so that each parent value is strictly less than that of its children.\n",
    "    An in-order traversal of the tree produces nodes with values that correspond exactly to S.\n",
    "\n",
    "For example, given the sequence [3, 2, 6, 1, 9], the resulting Cartesian tree would be:\n",
    "\n",
    "<pre>\n",
    "      1\n",
    "    /   \\   \n",
    "  2       9\n",
    " / \\\n",
    "3   6\n",
    "</pre>\n",
    "\n",
    "Given a sequence S, construct the corresponding Cartesian tree.\n",
    "\n",
    "### Daily Coding Problem: Problem #327 [Easy]\n",
    "\n",
    "This problem was asked by Salesforce.\n",
    "\n",
    "Write a program to merge two binary trees. Each node in the new tree should hold a value equal to the sum of the values of the corresponding nodes of the input trees.\n",
    "\n",
    "If only one input tree has a node in a given position, the corresponding node in the new tree should match that input node.\n",
    "\n",
    "### Daily Coding Problem: Problem #328 [Medium]\n",
    "\n",
    "This problem was asked by Facebook.\n",
    "\n",
    "In chess, the Elo rating system is used to calculate player strengths based on game results.\n",
    "\n",
    "A simplified description of the Elo system is as follows. Every player begins at the same score. For each subsequent game, the loser transfers some points to the winner, where the amount of points transferred depends on how unlikely the win is. For example, a 1200-ranked player should gain much more points for beating a 2000-ranked player than for beating a 1300-ranked player.\n",
    "\n",
    "Implement this system.\n",
    "\n",
    "### Daily Coding Problem: Problem #329 [Hard]\n",
    "\n",
    "This problem was asked by Amazon.\n",
    "\n",
    "The stable marriage problem is defined as follows:\n",
    "\n",
    "Suppose you have N men and N women, and each person has ranked their prospective opposite-sex partners in order of preference.\n",
    "\n",
    "For example, if N = 3, the input could be something like this:\n",
    "\n",
    "guy_preferences = {\n",
    "    'andrew': ['caroline', 'abigail', 'betty'],\n",
    "    'bill': ['caroline', 'betty', 'abigail'],\n",
    "    'chester': ['betty', 'caroline', 'abigail'],\n",
    "}\n",
    "\n",
    "gal_preferences = {\n",
    "    'abigail': ['andrew', 'bill', 'chester'],\n",
    "    'betty': ['bill', 'andrew', 'chester'],\n",
    "    'caroline': ['bill', 'chester', 'andrew']\n",
    "}\n",
    "\n",
    "Write an algorithm that pairs the men and women together in such a way that no two people of opposite sex would both rather be with each other than with their current partners.\n",
    "\n",
    "### Daily Coding Problem: Problem #330 [Hard]\n",
    "\n",
    "This problem was asked by Dropbox.\n",
    "\n",
    "A Boolean formula can be said to be satisfiable if there is a way to assign truth values to each variable such that the entire formula evaluates to true.\n",
    "\n",
    "For example, suppose we have the following formula, where the symbol ¬ is used to denote negation:\n",
    "\n",
    "(¬c OR b) AND (b OR c) AND (¬b OR c) AND (¬c OR ¬a)\n",
    "\n",
    "One way to satisfy this formula would be to let a = False, b = True, and c = True.\n",
    "\n",
    "This type of formula, with AND statements joining tuples containing exactly one OR, is known as 2-CNF.\n",
    "\n",
    "Given a 2-CNF formula, find a way to assign truth values to satisfy it, or return False if this is impossible.\n",
    "\n",
    "### Daily Coding Problem: Problem #331 [Medium]\n",
    "\n",
    "This problem was asked by LinkedIn.\n",
    "\n",
    "You are given a string consisting of the letters x and y, such as xyxxxyxyy. In addition, you have an operation called flip, which changes a single x to y or vice versa.\n",
    "\n",
    "Determine how many times you would need to apply this operation to ensure that all x's come before all y's. In the preceding example, it suffices to flip the second and sixth characters, so you should return 2.\n",
    "\n",
    "### Daily Coding Problem: Problem #332 [Easy]\n",
    "\n",
    "This problem was asked by Jane Street.\n",
    "\n",
    "Given integers M and N, write a program that counts how many positive integer pairs (a, b) satisfy the following conditions:\n",
    "\n",
    "a + b = M\n",
    "a XOR b = N"
   ]
  },
  {
   "cell_type": "markdown",
   "metadata": {},
   "source": [
    "### Daily Coding Problem: Problem #332 [Easy]¶\n",
    "T\n",
    "his problem was asked by Jane Street.\n",
    "\n",
    "Given integers M and N, write a program that counts how many positive integer pairs (a, b) satisfy the following conditions:\n",
    "\n",
    "<pre>\n",
    "a + b = M \n",
    "a XOR b = N\n",
    "</pre>\n"
   ]
  },
  {
   "cell_type": "code",
   "execution_count": 1,
   "metadata": {},
   "outputs": [
    {
     "name": "stdout",
     "output_type": "stream",
     "text": [
      "(   8 +   92 = 100);  00001000 + 01011100 =  1010100\n",
      "(  12 +   88 = 100);  00001100 + 01011000 =  1010100\n",
      "(  24 +   76 = 100);  00011000 + 01001100 =  1010100\n",
      "(  28 +   72 = 100);  00011100 + 01001000 =  1010100\n",
      "None\n"
     ]
    }
   ],
   "source": [
    "def satisfy(m, n):\n",
    "    for a in range(m//2 + 1):\n",
    "        for b in range(m):\n",
    "            if (a+b) > m:\n",
    "                continue\n",
    "            if a+b == m and a^b==n:\n",
    "                print(f\"({a:4d} + {b:4d} = {a+b});  {a:08b} + {b:08b} = {n:8b}\")\n",
    "\n",
    "print(satisfy(100, 84))"
   ]
  },
  {
   "cell_type": "markdown",
   "metadata": {},
   "source": [
    "### Daily Coding Problem: Problem #333 [Medium]\n",
    "\n",
    "At a party, there is a single person who everyone knows, but who does not know anyone in return (the \"celebrity\"). To help figure out who this is, you have access to an O(1) method called knows(a, b), which returns True if person a knows person b, else False.\n",
    "\n",
    "Given a list of N people and the above operation, find a way to identify the celebrity in O(N) time."
   ]
  },
  {
   "cell_type": "code",
   "execution_count": null,
   "metadata": {},
   "outputs": [],
   "source": []
  },
  {
   "cell_type": "markdown",
   "metadata": {},
   "source": [
    "### Daily Coding Problem: Problem #334 [Easy]\n",
    "\n",
    "This problem was asked by Twitter.\n",
    "\n",
    "The 24 game is played as follows. You are given a list of four integers, each between 1 and 9, in a fixed order. By placing the operators +, -, *, and / between the numbers, and grouping them with parentheses, determine whether it is possible to reach the value 24.\n",
    "\n",
    "For example, given the input [5, 2, 7, 8], you should return True, since (5 * 2 - 7) * 8 = 24.\n",
    "\n",
    "Write a function that plays the 24 game."
   ]
  },
  {
   "cell_type": "code",
   "execution_count": null,
   "metadata": {},
   "outputs": [],
   "source": []
  },
  {
   "cell_type": "markdown",
   "metadata": {},
   "source": [
    "### Daily Coding Problem: Problem #335 [Hard]\n",
    "\n",
    "This problem was asked by Google.\n",
    "\n",
    "PageRank is an algorithm used by Google to rank the importance of different websites. While there have been changes over the years, the central idea is to assign each site a score based on the importance of other pages that link to that page.\n",
    "\n",
    "More mathematically, suppose there are N sites, and each site i has a certain count Ci of outgoing links. Then the score for a particular site Sj is defined as :\n",
    "\n",
    "score(Sj) = (1 - d) / N + d * (score(Sx) / Cx+ score(Sy) / Cy+ ... + score(Sz) / Cz))\n",
    "\n",
    "Here, Sx, Sy, ..., Sz denote the scores of all the other sites that have outgoing links to Sj, and d is a damping factor, usually set to around 0.85, used to model the probability that a user will stop searching.\n",
    "\n",
    "Given a directed graph of links between various websites, write a program that calculates each site's page rank.\n"
   ]
  },
  {
   "cell_type": "code",
   "execution_count": null,
   "metadata": {},
   "outputs": [],
   "source": []
  },
  {
   "cell_type": "markdown",
   "metadata": {},
   "source": [
    "### Daily Coding Problem: Problem #336 [Medium]\n",
    "\n",
    "This problem was asked by Microsoft.\n",
    "\n",
    "Write a program to determine how many distinct ways there are to create a max heap from a list of N given integers.\n",
    "\n",
    "For example, if N = 3, and our integers are [1, 2, 3], there are two ways, shown below.\n",
    "\n",
    "  3      3\n",
    " / \\    / \\\n",
    "1   2  2   1\n"
   ]
  },
  {
   "cell_type": "code",
   "execution_count": null,
   "metadata": {},
   "outputs": [],
   "source": []
  },
  {
   "cell_type": "markdown",
   "metadata": {},
   "source": [
    "### Daily Coding Problem: Problem #337 [Hard]\n",
    "\n",
    "This problem was asked by Apple.\n",
    "\n",
    "Given a linked list, uniformly shuffle the nodes. What if we want to prioritize space over time?"
   ]
  },
  {
   "cell_type": "code",
   "execution_count": null,
   "metadata": {},
   "outputs": [],
   "source": []
  },
  {
   "cell_type": "markdown",
   "metadata": {},
   "source": [
    "### Daily Coding Problem: Problem #338 [Medium]\n",
    "\n",
    "This problem was asked by Facebook.\n",
    "\n",
    "Given an integer n, find the next biggest integer with the same number of 1-bits on. For example, given the number 6 (0110 in binary), return 9 (1001)."
   ]
  },
  {
   "cell_type": "code",
   "execution_count": null,
   "metadata": {},
   "outputs": [],
   "source": []
  },
  {
   "cell_type": "markdown",
   "metadata": {},
   "source": [
    "### Daily Coding Problem: Problem #339 [Easy]\n",
    "\n",
    "This problem was asked by Microsoft.\n",
    "\n",
    "Given an array of numbers and a number k, determine if there are three entries in the array which add up to the specified number k. For example, given [20, 303, 3, 4, 25] and k = 49, return true as 20 + 4 + 25 = 49."
   ]
  },
  {
   "cell_type": "code",
   "execution_count": null,
   "metadata": {},
   "outputs": [],
   "source": []
  },
  {
   "cell_type": "markdown",
   "metadata": {},
   "source": [
    "### Daily Coding Problem: Problem #340 [Easy]\n",
    "\n",
    "This problem was asked by Google.\n",
    "\n",
    "Given a set of points (x, y) on a 2D cartesian plane, find the two closest points. For example, given the points [(1, 1), (-1, -1), (3, 4), (6, 1), (-1, -6), (-4, -3)], return [(-1, -1), (1, 1)]."
   ]
  },
  {
   "cell_type": "code",
   "execution_count": null,
   "metadata": {},
   "outputs": [],
   "source": []
  },
  {
   "cell_type": "markdown",
   "metadata": {},
   "source": [
    "### Daily Coding Problem: Problem #341 [Easy]\n",
    "\n",
    "This problem was asked by Google.\n",
    "\n",
    "You are given an N by N matrix of random letters and a dictionary of words. Find the maximum number of words that can be packed on the board from the given dictionary.\n",
    "\n",
    "A word is considered to be able to be packed on the board if:\n",
    "\n",
    "    It can be found in the dictionary\n",
    "    It can be constructed from untaken letters by other words found so far on the board\n",
    "    The letters are adjacent to each other (vertically and horizontally, not diagonally).\n",
    "\n",
    "Each tile can be visited only once by any word.\n",
    "\n",
    "For example, given the following dictionary:\n",
    "\n",
    "{ 'eat', 'rain', 'in', 'rat' }\n",
    "\n",
    "and matrix:\n",
    "\n",
    "[['e', 'a', 'n'],\n",
    " ['t', 't', 'i'],\n",
    " ['a', 'r', 'a']]\n",
    "\n",
    "Your function should return 3, since we can make the words 'eat', 'in', and 'rat' without them touching each other. We could have alternatively made 'eat' and 'rain', but that would be incorrect since that's only 2 words.\n"
   ]
  },
  {
   "cell_type": "code",
   "execution_count": null,
   "metadata": {},
   "outputs": [],
   "source": []
  },
  {
   "cell_type": "markdown",
   "metadata": {},
   "source": [
    "### Daily Coding Problem: Problem #342 [Medium]\n",
    "\n",
    "This problem was asked by Stripe.\n",
    "\n",
    "reduce (also known as fold) is a function that takes in an array, a combining function, and an initial value and builds up a result by calling the combining function on each element of the array, left to right. For example, we can write sum() in terms of reduce:\n",
    "\n",
    "def add(a, b):\n",
    "    return a + b\n",
    "\n",
    "def sum(lst):\n",
    "    return reduce(lst, add, 0)\n",
    "\n",
    "This should call add on the initial value with the first element of the array, and then the result of that with the second element of the array, and so on until we reach the end, when we return the sum of the array.\n",
    "\n",
    "Implement your own version of reduce."
   ]
  },
  {
   "cell_type": "code",
   "execution_count": null,
   "metadata": {},
   "outputs": [],
   "source": []
  },
  {
   "cell_type": "markdown",
   "metadata": {},
   "source": [
    "### Daily Coding Problem: Problem #343 [Medium]\n",
    "\n",
    "This problem was asked by Google.\n",
    "\n",
    "Given a binary search tree and a range [a, b] (inclusive), return the sum of the elements of the binary search tree within the range.\n",
    "\n",
    "For example, given the following tree:\n",
    "\n",
    "    5\n",
    "   / \\\n",
    "  3   8\n",
    " / \\ / \\\n",
    "2  4 6  10\n",
    "\n",
    "and the range [4, 9], return 23 (5 + 4 + 6 + 8).\n"
   ]
  },
  {
   "cell_type": "markdown",
   "metadata": {},
   "source": [
    "### Daily Coding Problem: Problem #344 [Hard]\n",
    "\n",
    "This problem was asked by Adobe.\n",
    "\n",
    "You are given a tree with an even number of nodes. Consider each connection between a parent and child node to be an \"edge\". You would like to remove some of these edges, such that the disconnected subtrees that remain each have an even number of nodes.\n",
    "\n",
    "For example, suppose your input was the following tree:\n",
    "<pre>\n",
    "   1\n",
    "  / \\ \n",
    " 2   3\n",
    "    / \\ \n",
    "   4   5\n",
    " / | \\\n",
    "6  7  8\n",
    "</pre>\n",
    "In this case, removing the edge (3, 4) satisfies our requirement.\n",
    "\n",
    "Write a function that returns the maximum number of edges you can remove while still satisfying this requirement."
   ]
  },
  {
   "cell_type": "code",
   "execution_count": null,
   "metadata": {},
   "outputs": [],
   "source": []
  },
  {
   "cell_type": "markdown",
   "metadata": {},
   "source": [
    "### Daily Coding Problem: Problem #345 [Medium]\n",
    "\n",
    "This problem was asked by Google.\n",
    "\n",
    "You are given a set of synonyms, such as (big, large) and (eat, consume). Using this set, determine if two sentences with the same number of words are equivalent.\n",
    "\n",
    "For example, the following two sentences are equivalent:\n",
    "\n",
    "    \"He wants to eat food.\"\n",
    "    \"He wants to consume food.\"\n",
    "\n",
    "Note that the synonyms (a, b) and (a, c) do not necessarily imply (b, c): consider the case of (coach, bus) and (coach, teacher).\n",
    "\n",
    "Follow-up: what if we can assume that (a, b) and (a, c) do in fact imply (b, c)?"
   ]
  },
  {
   "cell_type": "code",
   "execution_count": null,
   "metadata": {},
   "outputs": [],
   "source": []
  },
  {
   "cell_type": "markdown",
   "metadata": {},
   "source": [
    "### Daily Coding Problem: Problem #346 [Medium]\n",
    "\n",
    "This problem was asked by Airbnb.\n",
    "\n",
    "You are given a huge list of airline ticket prices between different cities around the world on a given day. These are all direct flights. Each element in the list has the format (source_city, destination, price).\n",
    "\n",
    "Consider a user who is willing to take up to k connections from their origin city A to their destination B. Find the cheapest fare possible for this journey and print the itinerary for that journey.\n",
    "\n",
    "For example, our traveler wants to go from JFK to LAX with up to 3 connections, and our input flights are as follows:\n",
    "\n",
    "[\n",
    "    ('JFK', 'ATL', 150),\n",
    "    ('ATL', 'SFO', 400),\n",
    "    ('ORD', 'LAX', 200),\n",
    "    ('LAX', 'DFW', 80),\n",
    "    ('JFK', 'HKG', 800),\n",
    "    ('ATL', 'ORD', 90),\n",
    "    ('JFK', 'LAX', 500),\n",
    "]\n",
    "\n",
    "Due to some improbably low flight prices, the cheapest itinerary would be JFK -> ATL -> ORD -> LAX, costing $440."
   ]
  },
  {
   "cell_type": "code",
   "execution_count": null,
   "metadata": {},
   "outputs": [],
   "source": []
  },
  {
   "cell_type": "markdown",
   "metadata": {},
   "source": []
  },
  {
   "cell_type": "markdown",
   "metadata": {},
   "source": [
    "### Daily Coding Problem: Problem #347 [Easy]\n",
    "\n",
    "This problem was asked by Yahoo.\n",
    "\n",
    "You are given a string of length N and a parameter k. The string can be manipulated by taking one of the first k letters and moving it to the end.\n",
    "\n",
    "Write a program to determine the lexicographically smallest string that can be created after an unlimited number of moves.\n",
    "\n",
    "For example, suppose we are given the string daily and k = 1. The best we can create in this case is ailyd."
   ]
  },
  {
   "cell_type": "markdown",
   "metadata": {},
   "source": [
    "### Daily Coding Problem: Problem #348 [Easy]\n",
    "\n",
    "This problem was asked by Zillow.\n",
    "\n",
    "A ternary search tree is a trie-like data structure where each node may have up to three children. Here is an example which represents the words code, cob, be, ax, war, and we.\n",
    "<pre>\n",
    "       c\n",
    "    /  |  \\\n",
    "   b   o   w\n",
    " / |   |   |\n",
    "a  e   d   a\n",
    "|    / |   | \\ \n",
    "x   b  e   r  e  \n",
    "</pre>\n",
    "The tree is structured according to the following rules:\n",
    "\n",
    "    left child nodes link to words lexicographically earlier than the parent prefix\n",
    "    right child nodes link to words lexicographically later than the parent prefix\n",
    "    middle child nodes continue the current word\n",
    "\n",
    "For instance, since code is the first word inserted in the tree, and cob lexicographically precedes cod, cob is represented as a left child extending from cod.\n",
    "\n",
    "Implement insertion and search functions for a ternary search tree."
   ]
  },
  {
   "cell_type": "markdown",
   "metadata": {},
   "source": [
    "### Daily Coding Problem: Problem #349 [Hard]\n",
    "\n",
    "This problem was asked by Grammarly.\n",
    "\n",
    "Soundex is an algorithm used to categorize phonetically, such that two names that sound alike but are spelled differently have the same representation.\n",
    "\n",
    "Soundex maps every name to a string consisting of one letter and three numbers, like M460.\n",
    "\n",
    "One version of the algorithm is as follows:\n",
    "\n",
    "    Remove consecutive consonants with the same sound (for example, change ck -> c).\n",
    "    Keep the first letter. The remaining steps only apply to the rest of the string.\n",
    "    Remove all vowels, including y, w, and h.\n",
    "    Replace all consonants with the following digits:\n",
    "        b, f, p, v → 1\n",
    "        c, g, j, k, q, s, x, z → 2\n",
    "        d, t → 3\n",
    "        l → 4\n",
    "        m, n → 5\n",
    "        r → 6\n",
    "    If you don't have three numbers yet, append zeros until you do. Keep the first three numbers.\n",
    "\n",
    "Using this scheme, Jackson and Jaxen both map to J250.\n",
    "\n",
    "Implement Soundex."
   ]
  },
  {
   "cell_type": "markdown",
   "metadata": {},
   "source": [
    "### Daily Coding Problem: Problem #350 [Medium]\n",
    "\n",
    "This problem was asked by Uber.\n",
    "\n",
    "Write a program that determines the smallest number of perfect squares that sum up to N.\n",
    "\n",
    "Here are a few examples:\n",
    "\n",
    "    Given N = 4, return 1 (4)\n",
    "    Given N = 17, return 2 (16 + 1)\n",
    "    Given N = 18, return 2 (9 + 9)\n"
   ]
  },
  {
   "cell_type": "markdown",
   "metadata": {},
   "source": [
    "### Daily Coding Problem: Problem #351 [Hard]\n",
    "\n",
    "This problem was asked by Quora.\n",
    "\n",
    "Word sense disambiguation is the problem of determining which sense a word takes on in a particular setting, if that word has multiple meanings. For example, in the sentence \"I went to get money from the bank\", bank probably means the place where people deposit money, not the land beside a river or lake.\n",
    "\n",
    "Suppose you are given a list of meanings for several words, formatted like so:\n",
    "\n",
    "{\n",
    "    \"word_1\": [\"meaning one\", \"meaning two\", ...],\n",
    "    ...\n",
    "    \"word_n\": [\"meaning one\", \"meaning two\", ...]\n",
    "}\n",
    "\n",
    "Given a sentence, most of whose words are contained in the meaning list above, create an algorithm that determines the likely sense of each possibly ambiguous word."
   ]
  },
  {
   "cell_type": "markdown",
   "metadata": {},
   "source": [
    "### Daily Coding Problem: Problem #352 [Easy]\n",
    "\n",
    "This problem was asked by Palantir.\n",
    "\n",
    "A typical American-style crossword puzzle grid is an N x N matrix with black and white squares, which obeys the following rules:\n",
    "\n",
    "    Every white square must be part of an \"across\" word and a \"down\" word.\n",
    "    No word can be fewer than three letters long.\n",
    "    Every white square must be reachable from every other white square.\n",
    "    The grid is rotationally symmetric (for example, the colors of the top left and bottom right squares must match).\n",
    "\n",
    "Write a program to determine whether a given matrix qualifies as a crossword grid."
   ]
  },
  {
   "cell_type": "markdown",
   "metadata": {},
   "source": [
    "### Daily Coding Problem: Problem #353 [Medium]\n",
    "\n",
    "This problem was asked by Square.\n",
    "\n",
    "You are given a histogram consisting of rectangles of different heights. These heights are represented in an input list, such that [1, 3, 2, 5] corresponds to the following diagram:\n",
    "<pre>\n",
    "      x\n",
    "      x  \n",
    "  x   x\n",
    "  x x x\n",
    "x x x x\n",
    "</pre>\n",
    "Determine the area of the largest rectangle that can be formed only from the bars of the histogram. For the diagram above, for example, this would be six, representing the 2 x 3 area at the bottom right."
   ]
  },
  {
   "cell_type": "markdown",
   "metadata": {},
   "source": [
    "### Daily Coding Problem: Problem #354 [Hard]\n",
    "\n",
    "This problem was asked by Google.\n",
    "\n",
    "Design a system to crawl and copy all of Wikipedia using a distributed network of machines.\n",
    "\n",
    "More specifically, suppose your server has access to a set of client machines. Your client machines can execute code you have written to access Wikipedia pages, download and parse their data, and write the results to a database.\n",
    "\n",
    "Some questions you may want to consider as part of your solution are:\n",
    "\n",
    "    How will you reach as many pages as possible?\n",
    "    How can you keep track of pages that have already been visited?\n",
    "    How will you deal with your client machines being blacklisted?\n",
    "    How can you update your database when Wikipedia pages are added or updated?\n"
   ]
  },
  {
   "cell_type": "markdown",
   "metadata": {},
   "source": [
    "### Daily Coding Problem: Problem #355 [Hard]\n",
    "\n",
    "This problem was asked by Airbnb.\n",
    "\n",
    "You are given an array X of floating-point numbers x1, x2, ... xn. These can be rounded up or down to create a corresponding array Y of integers y1, y2, ... yn.\n",
    "\n",
    "Write an algorithm that finds an appropriate Y array with the following properties:\n",
    "\n",
    "    The rounded sums of both arrays should be equal.\n",
    "    The absolute pairwise difference between elements is minimized. In other words, |x1- y1| + |x2- y2| + ... + |xn- yn| should be as small as possible.\n",
    "\n",
    "For example, suppose your input is [1.3, 2.3, 4.4]. In this case you cannot do better than [1, 2, 5], which has an absolute difference of |1.3 - 1| + |2.3 - 2| + |4.4 - 5| = 1."
   ]
  },
  {
   "cell_type": "markdown",
   "metadata": {},
   "source": [
    "### Daily Coding Problem: Problem #356 [Hard]\n",
    "\n",
    "This problem was asked by Netflix.\n",
    "\n",
    "Implement a queue using a set of fixed-length arrays.\n",
    "\n",
    "The queue should support enqueue, dequeue, and get_size operations."
   ]
  },
  {
   "cell_type": "markdown",
   "metadata": {},
   "source": [
    "### Daily Coding Problem: Problem #357 [Hard]\n",
    "\n",
    "This problem was asked by LinkedIn.\n",
    "\n",
    "You are given a binary tree in a peculiar string representation. Each node is written in the form (lr), where l corresponds to the left child and r corresponds to the right child.\n",
    "\n",
    "If either l or r is null, it will be represented as a zero. Otherwise, it will be represented by a new (lr) pair.\n",
    "\n",
    "Here are a few examples:\n",
    "\n",
    "    A root node with no children: (00)\n",
    "    A root node with two children: ((00)(00))\n",
    "    An unbalanced tree with three consecutive left children: ((((00)0)0)0)\n",
    "\n",
    "Given this representation, determine the depth of the tree."
   ]
  },
  {
   "cell_type": "markdown",
   "metadata": {},
   "source": [
    "### Daily Coding Problem: Problem #358 [Hard]\n",
    "\n",
    "Create a data structure that performs all the following operations in O(1) time:\n",
    "\n",
    "    plus: Add a key with value 1. If the key already exists, increment its value by one.\n",
    "    minus: Decrement the value of a key. If the key's value is currently 1, remove it.\n",
    "    get_max: Return a key with the highest value.\n",
    "    get_min: Return a key with the lowest value.\n"
   ]
  },
  {
   "cell_type": "markdown",
   "metadata": {},
   "source": [
    "### Daily Coding Problem: Problem #359 [Easy]\n",
    "\n",
    "This problem was asked by Slack.\n",
    "\n",
    "You are given a string formed by concatenating several words corresponding to the integers zero through nine and then anagramming.\n",
    "\n",
    "For example, the input could be 'niesevehrtfeev', which is an anagram of 'threefiveseven'. Note that there can be multiple instances of each integer.\n",
    "\n",
    "Given this string, return the original integers in sorted order. In the example above, this would be 357."
   ]
  },
  {
   "cell_type": "markdown",
   "metadata": {},
   "source": [
    "### Daily Coding Problem: Problem #360 [Medium]\n",
    "\n",
    "This problem was asked by Spotify.\n",
    "\n",
    "You have access to ranked lists of songs for various users. Each song is represented as an integer, and more preferred songs appear earlier in each list. For example, the list [4, 1, 7] indicates that a user likes song 4 the best, followed by songs 1 and 7.\n",
    "\n",
    "Given a set of these ranked lists, interleave them to create a playlist that satisfies everyone's priorities.\n",
    "\n",
    "For example, suppose your input is {[1, 7, 3], [2, 1, 6, 7, 9], [3, 9, 5]}. In this case a satisfactory playlist could be [2, 1, 6, 7, 3, 9, 5]. "
   ]
  },
  {
   "cell_type": "markdown",
   "metadata": {},
   "source": [
    "### Daily Coding Problem: Problem #361 [Medium]\n",
    "\n",
    "This problem was asked by Facebook.\n",
    "\n",
    "Mastermind is a two-player game in which the first player attempts to guess the secret code of the second. In this version, the code may be any six-digit number with all distinct digits.\n",
    "\n",
    "Each turn the first player guesses some number, and the second player responds by saying how many digits in this number correctly matched their location in the secret code. For example, if the secret code were 123456, then a guess of 175286 would score two, since 1 and 6 were correctly placed.\n",
    "\n",
    "Write an algorithm which, given a sequence of guesses and their scores, determines whether there exists some secret code that could have produced them.\n",
    "\n",
    "For example, for the following scores you should return True, since they correspond to the secret code 123456:\n",
    "\n",
    "{175286: 2, 293416: 3, 654321: 0}\n",
    "\n",
    "However, it is impossible for any key to result in the following scores, so in this case you should return False:\n",
    "\n",
    "{123456: 4, 345678: 4, 567890: 4}\n"
   ]
  },
  {
   "cell_type": "markdown",
   "metadata": {},
   "source": [
    "### Daily Coding Problem: Problem #362 [Easy]\n",
    "\n",
    "This problem was asked by Twitter.\n",
    "\n",
    "A strobogrammatic number is a positive number that appears the same after being rotated 180 degrees. For example, 16891 is strobogrammatic.\n",
    "\n",
    "Create a program that finds all strobogrammatic numbers with N digits."
   ]
  },
  {
   "cell_type": "markdown",
   "metadata": {},
   "source": [
    "### Daily Coding Problem: Problem #363 [Medium]\n",
    "\n",
    "This problem was asked by Squarespace.\n",
    "\n",
    "Write a function, add_subtract, which alternately adds and subtracts curried arguments. Here are some sample operations:\n",
    "\n",
    "add_subtract(7) -> 7\n",
    "\n",
    "add_subtract(1)(2)(3) -> 1 + 2 - 3 -> 0\n",
    "\n",
    "add_subtract(-5)(10)(3)(9) -> -5 + 10 - 3 + 9 -> 11\n"
   ]
  },
  {
   "cell_type": "markdown",
   "metadata": {},
   "source": [
    "### Daily Coding Problem: Problem #364 [Medium]\n",
    "\n",
    "This problem was asked by Facebook.\n",
    "\n",
    "Describe an algorithm to compute the longest increasing subsequence of an array of numbers in O(n log n) time."
   ]
  },
  {
   "cell_type": "markdown",
   "metadata": {},
   "source": [
    "### Daily Coding Problem: Problem #365 [Hard]\n",
    "\n",
    "This problem was asked by Google.\n",
    "\n",
    "A quack is a data structure combining properties of both stacks and queues. It can be viewed as a list of elements written left to right such that three operations are possible:\n",
    "\n",
    "    push(x): add a new item x to the left end of the list\n",
    "    pop(): remove and return the item on the left end of the list\n",
    "    pull(): remove the item on the right end of the list.\n",
    "\n",
    "Implement a quack using three stacks and O(1) additional memory, so that the amortized time for any push, pop, or pull operation is O(1)."
   ]
  },
  {
   "cell_type": "markdown",
   "metadata": {},
   "source": [
    "### Daily Coding Problem: Problem #366 [Medium]"
   ]
  },
  {
   "cell_type": "raw",
   "metadata": {},
   "source": [
    "This problem was asked by Flexport.\n",
    "\n",
    "Given a string s, rearrange the characters so that any two adjacent characters are not the same. If this is not possible, return null.\n",
    "\n",
    "For example, if s = yyz then return yzy. If s = yyy then return null."
   ]
  },
  {
   "cell_type": "markdown",
   "metadata": {},
   "source": [
    "### Daily Coding Problem: Problem #367 "
   ]
  },
  {
   "cell_type": "raw",
   "metadata": {},
   "source": [
    "This problem was asked by Two Sigma.\n",
    "\n",
    "Given two sorted iterators, merge it into one iterator.\n",
    "\n",
    "For example, given these two iterators:\n",
    "\n",
    "foo = iter([5, 10, 15])\n",
    "bar = iter([3, 8, 9])\n",
    "\n",
    "You should be able to do:\n",
    "\n",
    "for num in merge_iterators(foo, bar):\n",
    "    print(num)\n",
    "\n",
    "# 3\n",
    "# 5\n",
    "# 8\n",
    "# 9\n",
    "# 10\n",
    "# 15\n",
    "\n",
    "Bonus: Make it work without pulling in the contents of the iterators in memory."
   ]
  },
  {
   "cell_type": "markdown",
   "metadata": {},
   "source": [
    "### Daily Coding Problem: Problem #368 [Hard]"
   ]
  },
  {
   "cell_type": "raw",
   "metadata": {},
   "source": [
    "This problem was asked by Google.\n",
    "\n",
    "Implement a key value store, where keys and values are integers, with the following methods:\n",
    "\n",
    "    update(key, vl): updates the value at key to val, or sets it if doesn't exist\n",
    "    get(key): returns the value with key, or None if no such value exists\n",
    "    max_key(val): returns the largest key with value val, or None if no key with that value exists\n",
    "\n",
    "For example, if we ran the following calls:\n",
    "\n",
    "kv.update(1, 1)\n",
    "kv.update(2, 1)\n",
    "\n",
    "And then called kv.max_key(1), it should return 2, since it's the largest key with value 1."
   ]
  },
  {
   "cell_type": "markdown",
   "metadata": {},
   "source": [
    "### Daily Coding Problem: Problem #369 [Medium]"
   ]
  },
  {
   "cell_type": "raw",
   "metadata": {},
   "source": [
    "This problem was asked by Two Sigma.\n",
    "\n",
    "You’re tracking stock price at a given instance of time. Implement an API with the following functions: add(), update(), remove(), which adds/updates/removes a datapoint for the stock price you are tracking. The data is given as (timestamp, price), where timestamp is specified in unix epoch time.\n",
    "\n",
    "Also, provide max(), min(), and average() functions that give the max/min/average of all values seen thus far."
   ]
  },
  {
   "cell_type": "markdown",
   "metadata": {},
   "source": [
    "### Daily Coding Problem: Problem #370 [Easy]"
   ]
  },
  {
   "cell_type": "raw",
   "metadata": {},
   "source": [
    "This problem was asked by Postmates.\n",
    "\n",
    "The “active time” of a courier is the time between the pickup and dropoff of a delivery. Given a set of data formatted like the following:\n",
    "\n",
    "(delivery id, timestamp, pickup/dropoff)\n",
    "\n",
    "Calculate the total active time in seconds. A courier can pick up multiple orders before dropping them off. The timestamp is in unix epoch seconds.\n",
    "\n",
    "For example, if the input is the following:\n",
    "\n",
    "(1, 1573280047, 'pickup')\n",
    "(1, 1570320725, 'dropoff')\n",
    "(2, 1570321092, 'pickup')\n",
    "(3, 1570321212, 'pickup')\n",
    "(3, 1570322352, 'dropoff')\n",
    "(2, 1570323012, 'dropoff')\n",
    "\n",
    "The total active time would be 1260 seconds."
   ]
  },
  {
   "cell_type": "markdown",
   "metadata": {},
   "source": [
    "### Daily Coding Problem: Problem #371 [Hard]"
   ]
  },
  {
   "cell_type": "markdown",
   "metadata": {},
   "source": [
    "This problem was asked by Google.\n",
    "\n",
    "You are given a series of arithmetic equations as a string, such as:\n",
    "\n",
    "y = x + 1\n",
    "5 = x + 3\n",
    "10 = z + y + 2\n",
    "\n",
    "The equations use addition only and are separated by newlines. Return a mapping of all variables to their values. If it's not possible, then return null. In this example, you should return:\n",
    "\n",
    "{\n",
    "  x: 2,\n",
    "  y: 3,\n",
    "  z: 5\n",
    "}\n"
   ]
  },
  {
   "cell_type": "markdown",
   "metadata": {},
   "source": [
    "### Daily Coding Problem: Problem #372 [Easy]"
   ]
  },
  {
   "cell_type": "raw",
   "metadata": {},
   "source": [
    "This problem was asked by Amazon.\n",
    "\n",
    "Write a function that takes a natural number as input and returns the number of digits the input has.\n",
    "\n",
    "Constraint: don't use any loops."
   ]
  },
  {
   "cell_type": "markdown",
   "metadata": {},
   "source": [
    "### Daily Coding Problem: Problem #373 [Hard]"
   ]
  },
  {
   "cell_type": "raw",
   "metadata": {},
   "source": [
    "This problem was asked by Facebook.\n",
    "\n",
    "Given a list of integers L, find the maximum length of a sequence of consecutive numbers that can be formed using elements from L.\n",
    "\n",
    "For example, given L = [5, 2, 99, 3, 4, 1, 100], return 5 as we can build a sequence [1, 2, 3, 4, 5] which has length 5.\n"
   ]
  },
  {
   "cell_type": "markdown",
   "metadata": {},
   "source": [
    "### Daily Coding Problem: Problem #374 [Hard]"
   ]
  },
  {
   "cell_type": "raw",
   "metadata": {},
   "source": [
    "This problem was asked by Amazon.\n",
    "\n",
    "Given a sorted array arr of distinct integers, return the lowest index i for which arr[i] == i. Return null if there is no such index.\n",
    "\n",
    "For example, given the array [-5, -3, 2, 3], return 2 since arr[2] == 2. Even though arr[3] == 3, we return 2 since it's the lowest index."
   ]
  },
  {
   "cell_type": "markdown",
   "metadata": {},
   "source": [
    "### Daily Coding Problem: Problem #375 [Medium]"
   ]
  },
  {
   "cell_type": "raw",
   "metadata": {},
   "source": [
    "This problem was asked by Google.\n",
    "\n",
    "The h-index is a metric used to measure the impact and productivity of a scientist or researcher.\n",
    "\n",
    "A scientist has index h if h of their N papers have at least h citations each, and the other N - h papers have no more than h citations each. If there are multiple possible values for h, the maximum value is used.\n",
    "\n",
    "Given an array of natural numbers, with each value representing the number of citations of a researcher's paper, return the h-index of that researcher.\n",
    "\n",
    "For example, if the array was:\n",
    "\n",
    "[4, 0, 0, 2, 3]\n",
    "\n",
    "This means the researcher has 5 papers with 4, 1, 0, 2, and 3 citations respectively. The h-index for this researcher is 2, since they have 2 papers with at least 2 citations and the remaining 3 papers have no more than 2 citations.\n"
   ]
  },
  {
   "cell_type": "markdown",
   "metadata": {},
   "source": [
    "### Daily Coding Problem: Problem #376 [Easy]"
   ]
  },
  {
   "cell_type": "raw",
   "metadata": {},
   "source": [
    "This problem was asked by Google.\n",
    "\n",
    "You are writing an AI for a 2D map game. You are somewhere in a 2D grid, and there are coins strewn about over the map.\n",
    "\n",
    "Given the position of all the coins and your current position, find the closest coin to you in terms of Manhattan distance. That is, you can move around up, down, left, and right, but not diagonally. If there are multiple possible closest coins, return any of them.\n",
    "\n",
    "For example, given the following map, where you are x, coins are o, and empty spaces are . (top left is 0, 0):\n",
    "\n",
    "---------------------\n",
    "| . | . | x | . | o |\n",
    "---------------------\n",
    "| o | . | . | . | . |\n",
    "---------------------\n",
    "| o | . | . | . | o |\n",
    "---------------------\n",
    "| . | . | o | . | . |\n",
    "---------------------\n",
    "\n",
    "return (0, 4), since that coin is closest. This map would be represented in our question as:\n",
    "\n",
    "Our position: (0, 2)\n",
    "Coins: [(0, 4), (1, 0), (2, 0), (3, 2)]\n"
   ]
  },
  {
   "cell_type": "markdown",
   "metadata": {},
   "source": [
    "### Daily Coding Problem: Problem #377 [Hard]"
   ]
  },
  {
   "cell_type": "raw",
   "metadata": {},
   "source": [
    "This problem was asked by Microsoft.\n",
    "\n",
    "Given an array of numbers arr and a window of size k, print out the median of each window of size k starting from the left and moving right by one position each time.\n",
    "\n",
    "For example, given the following array and k = 3:\n",
    "\n",
    "[-1, 5, 13, 8, 2, 3, 3, 1]\n",
    "\n",
    "Your function should print out the following:\n",
    "\n",
    "5 <- median of [-1, 5, 13]\n",
    "8 <- median of [5, 13, 8]\n",
    "8 <- median of [13, 8, 2]\n",
    "3 <- median of [8, 2, 3]\n",
    "3 <- median of [2, 3, 3]\n",
    "3 <- median of [3, 3, 1]\n",
    "\n",
    "Recall that the median of an even-sized list is the average of the two middle numbers."
   ]
  },
  {
   "cell_type": "markdown",
   "metadata": {},
   "source": [
    "### Daily Coding Problem: Problem #378 [Medium]"
   ]
  },
  {
   "cell_type": "raw",
   "metadata": {},
   "source": [
    "This problem was asked by Coinbase.\n",
    "\n",
    "Write a function that takes in a number, string, list, or dictionary and returns its JSON encoding. It should also handle nulls.\n",
    "\n",
    "For example, given the following input:\n",
    "\n",
    "[None, 123, [\"a\", \"b\"], {\"c\":\"d\"}]\n",
    "\n",
    "You should return the following, as a string:\n",
    "\n",
    "'[null, 123, [\"a\", \"b\"], {\"c\": \"d\"}]'\n"
   ]
  },
  {
   "cell_type": "markdown",
   "metadata": {},
   "source": [
    "### Daily Coding Problem: Problem #379 [Easy]"
   ]
  },
  {
   "cell_type": "raw",
   "metadata": {},
   "source": [
    "This problem was asked by Microsoft.\n",
    "\n",
    "Given a string, generate all possible subsequences of the string.\n",
    "\n",
    "For example, given the string xyz, return an array or set with the following strings:\n",
    "\n",
    "\n",
    "x\n",
    "y\n",
    "z\n",
    "xy\n",
    "xz\n",
    "yz\n",
    "xyz\n",
    "\n",
    "Note that zx is not a valid subsequence since it is not in the order of the given string."
   ]
  },
  {
   "cell_type": "markdown",
   "metadata": {},
   "source": [
    "### Daily Coding Problem: Problem #380 [Medium]"
   ]
  },
  {
   "cell_type": "raw",
   "metadata": {},
   "source": [
    "This problem was asked by Nextdoor.\n",
    "\n",
    "Implement integer division without using the division operator. Your function should return a tuple of (dividend, remainder) and it should take two numbers, the product and divisor.\n",
    "\n",
    "For example, calling divide(10, 3) should return (3, 1) since the divisor is 3 and the remainder is 1.\n",
    "\n",
    "Bonus: Can you do it in O(log n) time?"
   ]
  },
  {
   "cell_type": "markdown",
   "metadata": {},
   "source": [
    "### Daily Coding Problem: Problem #381 [Easy]"
   ]
  },
  {
   "cell_type": "raw",
   "metadata": {},
   "source": [
    "This problem was asked by Paypal.\n",
    "\n",
    "Read this Wikipedia article on Base64 encoding.\n",
    "\n",
    "Implement a function that converts a hex string to base64.\n",
    "\n",
    "For example, the string:\n",
    "\n",
    "deadbeef\n",
    "\n",
    "should produce:\n",
    "\n",
    "3q2+7w==\n"
   ]
  },
  {
   "cell_type": "markdown",
   "metadata": {},
   "source": [
    "### Daily Coding Problem: Problem #382 [Easy]"
   ]
  },
  {
   "cell_type": "raw",
   "metadata": {},
   "source": [
    "This problem was asked by Google.\n",
    "\n",
    "Yesterday you implemented a function that encodes a hexadecimal string into Base64.\n",
    "\n",
    "Write a function to decode a Base64 string back to a hexadecimal string.\n",
    "\n",
    "For example, the following string:\n",
    "\n",
    "3q2+7w==\n",
    "\n",
    "should produce:\n",
    "\n",
    "deadbeef\n"
   ]
  },
  {
   "cell_type": "markdown",
   "metadata": {},
   "source": [
    "### Daily Coding Problem: Problem #383 [Medium]"
   ]
  },
  {
   "cell_type": "raw",
   "metadata": {},
   "source": [
    "This problem was asked by Gusto.\n",
    "\n",
    "Implement the function embolden(s, lst) which takes in a string s and list of substrings lst, and wraps all substrings in s with an HTML bold tag <b> and </b>.\n",
    "\n",
    "If two bold tags overlap or are contiguous, they should be merged.\n",
    "\n",
    "For example, given s = abcdefg and lst = [\"bc\", \"ef\"], return the string a<b>bc</b>d<b>ef</b>g.\n",
    "\n",
    "Given s = abcdefg and lst = [\"bcd\", \"def\"], return the string a<b>bcdef</b>g, since they overlap."
   ]
  },
  {
   "cell_type": "markdown",
   "metadata": {},
   "source": [
    "### Daily Coding Problem: Problem #384 [Hard]"
   ]
  },
  {
   "cell_type": "raw",
   "metadata": {},
   "source": [
    "This problem was asked by WeWork.\n",
    "\n",
    "You are given an array of integers representing coin denominations and a total amount of money. Write a function to compute the fewest number of coins needed to make up that amount. If it is not possible to make that amount, return null.\n",
    "\n",
    "For example, given an array of [1, 5, 10] and an amount 56, return 7 since we can use 5 dimes, 1 nickel, and 1 penny.\n",
    "\n",
    "Given an array of [5, 8] and an amount 15, return 3 since we can use 5 5-cent coins."
   ]
  },
  {
   "cell_type": "markdown",
   "metadata": {},
   "source": [
    "### Daily Coding Problem: Problem #385 [Medium]"
   ]
  },
  {
   "cell_type": "raw",
   "metadata": {},
   "source": [
    "This problem was asked by Apple.\n",
    "\n",
    "You are given a hexadecimal-encoded string that has been XOR'd against a single char.\n",
    "\n",
    "Decrypt the message. For example, given the string:\n",
    "\n",
    "7a575e5e5d12455d405e561254405d5f1276535b5e4b12715d565b5c551262405d505e575f\n",
    "\n",
    "You should be able to decrypt it and get:\n",
    "\n",
    "Hello world from Daily Coding Problem\n",
    "\n"
   ]
  },
  {
   "cell_type": "markdown",
   "metadata": {},
   "source": [
    "### Daily Coding Problem: Problem #386 [Easy]"
   ]
  },
  {
   "cell_type": "raw",
   "metadata": {},
   "source": [
    "This problem was asked by Twitter.\n",
    "\n",
    "Given a string, sort it in decreasing order based on the frequency of characters. If there are multiple possible solutions, return any of them.\n",
    "\n",
    "For example, given the string tweet, return tteew. eettw would also be acceptable."
   ]
  },
  {
   "cell_type": "markdown",
   "metadata": {},
   "source": [
    "### Daily Coding Problem: Problem #387 [Medium]"
   ]
  },
  {
   "cell_type": "raw",
   "metadata": {},
   "source": [
    "This problem was recently asked by Amazon.\n",
    "\n",
    "How would you explain the difference between an API and SDK to a non-technical person?"
   ]
  },
  {
   "cell_type": "markdown",
   "metadata": {},
   "source": [
    "### Daily Coding Problem: Problem #"
   ]
  },
  {
   "cell_type": "raw",
   "metadata": {},
   "source": []
  },
  {
   "cell_type": "markdown",
   "metadata": {},
   "source": []
  },
  {
   "cell_type": "markdown",
   "metadata": {},
   "source": []
  },
  {
   "cell_type": "markdown",
   "metadata": {},
   "source": []
  },
  {
   "cell_type": "markdown",
   "metadata": {},
   "source": []
  },
  {
   "cell_type": "markdown",
   "metadata": {},
   "source": []
  },
  {
   "cell_type": "markdown",
   "metadata": {},
   "source": []
  },
  {
   "cell_type": "markdown",
   "metadata": {},
   "source": []
  },
  {
   "cell_type": "markdown",
   "metadata": {},
   "source": []
  },
  {
   "cell_type": "markdown",
   "metadata": {},
   "source": []
  },
  {
   "cell_type": "markdown",
   "metadata": {},
   "source": []
  },
  {
   "cell_type": "markdown",
   "metadata": {},
   "source": []
  },
  {
   "cell_type": "markdown",
   "metadata": {},
   "source": []
  },
  {
   "cell_type": "markdown",
   "metadata": {},
   "source": []
  }
 ],
 "metadata": {
  "kernelspec": {
   "display_name": "Python 3",
   "language": "python",
   "name": "python3"
  },
  "language_info": {
   "codemirror_mode": {
    "name": "ipython",
    "version": 3
   },
   "file_extension": ".py",
   "mimetype": "text/x-python",
   "name": "python",
   "nbconvert_exporter": "python",
   "pygments_lexer": "ipython3",
   "version": "3.7.3"
  }
 },
 "nbformat": 4,
 "nbformat_minor": 2
}
