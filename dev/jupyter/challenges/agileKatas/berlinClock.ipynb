{
 "cells": [
  {
   "cell_type": "markdown",
   "metadata": {},
   "source": [
    "## Berlin Clock\n",
    "\n",
    "![alt text](kata_berlinclock.png \"Berlin Clock\")\n",
    "\n",
    "The Berlin Clock (Mengenlehreclock or Berlin Uhr) is a clock that tells the time using a series of illuminated coloured blocks, as you can see in the picture for this project.\n",
    "\n",
    "The top lamp blinks to show seconds- it is illuminated on even seconds and off on odd seconds.\n",
    "\n",
    "The next two rows represent hours. The upper row represents 5 hour blocks and is made up of 4 red lamps. The lower row represents 1 hour blocks and is also made up of 4 red lamps.\n",
    "\n",
    "The final two rows represent the minutes. The upper row represents 5 minute blocks, and is made up of 11 lamps- every third lamp is red, the rest are yellow. The bottom row represents 1 minute blocks, and is made up of 4 yellow lamps."
   ]
  },
  {
   "cell_type": "markdown",
   "metadata": {},
   "source": [
    "### Implement the Single Minutes Row\n",
    "\n",
    "As a clock user\n",
    "I want to be able to see single minutes\n",
    "So that I can accurately tell the time down to the minute\n",
    "\n",
    "Given I have started the converter:\n",
    "<pre>\n",
    "* When I enter $time\n",
    "* Then $row is returned for the single minutes row\n",
    "</pre>\n",
    "\n",
    "#### Test Cases\n",
    "\n",
    "| Time | Row |\n",
    "|------|-----|\n",
    "| 00:00:00 | OOOO |\n",
    "| 23:59:59 | YYYY |\n",
    "| 12:32:00 | YYOO |\n",
    "| 12:34:00 | YYYY |\n",
    "| 12:35:00 | OOOO |"
   ]
  },
  {
   "cell_type": "code",
   "execution_count": 21,
   "metadata": {},
   "outputs": [
    {
     "name": "stdout",
     "output_type": "stream",
     "text": [
      "00:00:00  ---  OOOO\n",
      "          OOOOOOOOOOO\n",
      "23:51:33  ---  YOOO\n",
      "          YYRYYRYYRYO\n",
      "12:32:00  ---  YYOO\n",
      "          YYRYYROOOOO\n",
      "14:33:00  ---  YYYO\n",
      "          YYRYYROOOOO\n",
      "23:59:59  ---  YYYY\n",
      "          YYRYYRYYRYY\n",
      "12:34:00  ---  YYYY\n",
      "          YYRYYROOOOO\n",
      "12:23:00  ---  YYYO\n",
      "          YYRYOOOOOOO\n",
      "12:35:00  ---  OOOO\n",
      "          YYRYYRYOOOO\n"
     ]
    }
   ],
   "source": [
    "import time\n",
    "\n",
    "tarr = ['00:00:00', '23:51:33', '12:32:00', '14:33:00', '23:59:59', '12:34:00', '12:23:00', '12:35:00']\n",
    "\n",
    "def get_minutes(t):\n",
    "    return int(time.strptime(t, '%H:%M:%S').tm_min)\n",
    "\n",
    "def get_single_minute_row(t):\n",
    "    mins = get_minutes(t) % 5\n",
    "    return (mins * 'Y') + ((4 - mins) * 'O')\n",
    "\n",
    "# 17 = 17//15 = 1\n",
    "# 56//15 = 3;  56%15 = 11//5 = 2\n",
    "# 23//15 = 1;  (23 - (15*1)) = 8;   8//5 = 1   YYR Y00 000 00\n",
    "# 35//15 = 2;  (35 - (15*2)) = 5;   5//5 = 1   YYR YYR Y00 00\n",
    "# 42//15 = 2;  (42 - (15*2)) = 12; 12//5 = 2   YYR YYR YY0 00\n",
    "def get_five_minute_row(t):\n",
    "    yyr = \"YYR\"\n",
    "    triads = get_minutes(t) // 15\n",
    "    rest = (get_minutes(t) - (15*triads))//5\n",
    "    zees = 11 - (triads*3) - rest\n",
    "    row = (yyr*triads) + ('Y'*rest) + ('O' * zees)\n",
    "    return row\n",
    "\n",
    "for t in tarr:\n",
    "    print(f'{t}  ---  {get_single_minute_row(t)}')\n",
    "    print(f'          {get_five_minute_row(t)}')\n",
    "\n"
   ]
  },
  {
   "cell_type": "markdown",
   "metadata": {},
   "source": [
    "## Implement the Five Minutes Row\n",
    "\n",
    "As a clock user\n",
    "I want to be able to see five minutes\n",
    "So that I can tell higher minute amounts more easily at a glance\n",
    "\n",
    "<pre>\n",
    "Given I have started the converter\n",
    "When I enter $time\n",
    "Then $row is returned for the five minutes row\n",
    "</pre>\n",
    "\n",
    "#### Test Cases\n",
    "\n",
    "| Time | Row |\n",
    "| ---  | --- |\n",
    "| 00:00:00 | OOOOOOOOOOO |\n",
    "| 23:59:59 | YYRYYRYYRYY |\n",
    "| 12:04:00 | OOOOOOOOOOO |\n",
    "| 12:23:00 | YYRYOOOOOOO |\n",
    "| 12:35:00 | YYRYYRYOOOO |"
   ]
  },
  {
   "cell_type": "code",
   "execution_count": 2,
   "metadata": {},
   "outputs": [
    {
     "name": "stdout",
     "output_type": "stream",
     "text": [
      "00:00:00  ---  OOOOOOOOOOO\n",
      "00:05:00  ---  YOOOOOOOOOO\n",
      "00:10:00  ---  YYOOOOOOOOO\n",
      "00:15:00  ---  YYROOOOOOOO\n",
      "00:20:00  ---  YYRYOOOOOOO\n",
      "00:25:00  ---  YYRYYOOOOOO\n",
      "00:30:00  ---  YYRYYROOOOO\n",
      "00:35:00  ---  YYRYYRYOOOO\n",
      "00:40:00  ---  YYRYYRYYOOO\n",
      "00:45:00  ---  YYRYYRYYROO\n",
      "00:50:00  ---  YYRYYRYYRYO\n",
      "00:55:00  ---  YYRYYRYYRYY\n",
      "00:02:00  ---  OOOOOOOOOOO\n",
      "00:07:00  ---  YOOOOOOOOOO\n",
      "00:13:00  ---  YYOOOOOOOOO\n",
      "00:18:00  ---  YYROOOOOOOO\n",
      "00:24:00  ---  YYRYOOOOOOO\n",
      "00:31:00  ---  YYRYYROOOOO\n",
      "00:37:00  ---  YYRYYRYOOOO\n",
      "00:42:00  ---  YYRYYRYYOOO\n",
      "00:48:00  ---  YYRYYRYYROO\n",
      "00:52:00  ---  YYRYYRYYRYO\n",
      "00:59:00  ---  YYRYYRYYRYY\n",
      "23:59:59  ---  YYRYYRYYRYY\n",
      "12:04:00  ---  OOOOOOOOOOO\n",
      "12:23:00  ---  YYRYOOOOOOO\n",
      "12:34:00  ---  YYRYYROOOOO\n",
      "12:35:00  ---  YYRYYRYOOOO\n"
     ]
    }
   ],
   "source": [
    "tarr = ['00:00:00', '00:05:00', '00:10:00', '00:15:00', '00:20:00', '00:25:00', '00:30:00', '00:35:00', '00:40:00',\n",
    "        '00:45:00', '00:50:00', '00:55:00', '00:02:00', '00:07:00', '00:13:00', '00:18:00', '00:24:00', '00:31:00',\n",
    "        '00:37:00', '00:42:00', '00:48:00', '00:52:00', '00:59:00', '23:59:59', '12:04:00', '12:23:00', '12:34:00', \n",
    "        '12:35:00']\n",
    "\n",
    "def convert_five_minutes_row(t):\n",
    "    fives = (time.strptime(t, '%H:%M:%S').tm_min) // 5\n",
    "    tmp = list((fives * 'Y') + ((11 - fives) * 'O'))\n",
    "    for i in range(2, 11, 3):\n",
    "        if tmp[i] == 'Y':\n",
    "            tmp[i] = 'R'\n",
    "    return ''.join(tmp)\n",
    "\n",
    "for t in tarr:\n",
    "   print(f'{t}  ---  {convert_five_minutes_row(t)}')"
   ]
  },
  {
   "cell_type": "markdown",
   "metadata": {},
   "source": [
    "## Implement the Single Hours Row\n",
    "\n",
    "As a clock user\n",
    "I want to be able to see single hours\n",
    "So that I can tell what hour it is\n",
    "<pre>\n",
    "    Given I have started the converter\n",
    "    When I enter $time\n",
    "    Then $row is returned for the single hours row\n",
    "</pre>\n",
    "\n",
    "#### Test Cases\n",
    "\n",
    "| Time | Row |\n",
    "| ---  | --- |\n",
    "| 00:00:00 | OOOO |\n",
    "| 23:59:59 | RRRO |\n",
    "| 02:04:00 | RROO |\n",
    "| 08:23:00 | RRRO |\n",
    "| 14:35:00 | RRRR |"
   ]
  },
  {
   "cell_type": "markdown",
   "metadata": {},
   "source": [
    "## Implement the Five Hours Row\n",
    "\n",
    "As a clock user\n",
    "I want to be able to see five hours\n",
    "So that I can tell higher hour amounts more easily at a glance\n",
    "<pre>\n",
    "    Given I have started the converter\n",
    "    When I enter $time\n",
    "    Then $row is returned for the five hours row\n",
    "</pre>\n",
    "\n",
    "#### Test Cases\n",
    "| Time | Row |\n",
    "| 00:00:00 | OOOO |\n",
    "| 23:59:59 | RRRR |\n",
    "| 02:04:00 | OOOO |\n",
    "| 08:23:00 | ROOO |\n",
    "| 16:35:00 | RRRO |"
   ]
  },
  {
   "cell_type": "markdown",
   "metadata": {},
   "source": [
    "\n",
    "## Implement the Seconds Lamp\n",
    "\n",
    "As a clock user\n",
    "I want to be able to see seconds passing\n",
    "So that I can see if my clock is working at a glance\n",
    "<pre>\n",
    "    Given I have started the converter\n",
    "    When I enter $time\n",
    "    Then $lamp is returned for the seconds lamp\n",
    "</pre>\n",
    "\n",
    "#### Test Cases\n",
    "\n",
    "| Time | Row |\n",
    "| ---  | --- |\n",
    "| 00:00:00 | Y |\n",
    "| 23:59:59 | O |"
   ]
  },
  {
   "cell_type": "markdown",
   "metadata": {},
   "source": [
    "## Integrate the Entire Berlin Clock\n",
    "\n",
    "As a clock user\n",
    "I want to be able to see an entire clock\n",
    "So that I can tell what time it is at a glance\n",
    "\n",
    "<pre>\n",
    "    Given I have started the converter\n",
    "    When I enter $time\n",
    "    Then $clock is returned\n",
    "    </pre>\n",
    "    \n",
    "#### Test Cases\n",
    "\n",
    "| Time | Clock |\n",
    "| ---  |  ---  |\n",
    "| 00:00:00 | YOOOOOOOOOOOOOOOOOOOOOOO |\n",
    "| 23:59:59 | ORRRRRRROYYRYYRYYRYYYYYY |\n",
    "| 16:50:06 | YRRROROOOYYRYYRYYRYOOOOO |\n",
    "| 11:37:01 | ORROOROOOYYRYYRYOOOOYYOO |"
   ]
  },
  {
   "cell_type": "markdown",
   "metadata": {},
   "source": [
    "## Feature 2 - Converting Berlin Time to Digital Time\n",
    "\n",
    "The change to using Berlin Time has gone so well that we've decided to introduce it everywhere, from the clocks on the microwaves to the company-approved wristwatches. Unfortunately, people are having trouble quickly deciphering the current time which is having a detrimental effect on productivity. As such, we need to create a converter that takes a Berlin Time and returns a Digital Time."
   ]
  },
  {
   "cell_type": "markdown",
   "metadata": {},
   "source": [
    "## Convert Berlin Time to Digital Time\n",
    "\n",
    "As a Berlin Clock user\n",
    "I want to be able to convert a Berlin Time to a Digital Time\n",
    "So that I can tell what time it is more easily\n",
    "\n",
    "<pre>\n",
    "    Given I have started the converter\n",
    "    When I enter a $berlinTime\n",
    "    Then $digitalTime is returned\n",
    "</pre>\n",
    "\n",
    "#### Test Cases\n",
    "\n",
    "| Clock | Time |\n",
    "| ---   | ---  |\n",
    "| YOOOOOOOOOOOOOOOOOOOOOOO | 00:00:00 |\n",
    "| ORRRRRRROYYRYYRYYRYYYYYY | 23:59:59 |\n",
    "| YRRROROOOYYRYYRYYRYOOOOO | 16:50:06 |\n",
    "| ORROOROOOYYRYYRYOOOOYYOO | 11:37:01 |\n"
   ]
  }
 ],
 "metadata": {
  "kernelspec": {
   "display_name": "Python 3",
   "language": "python",
   "name": "python3"
  },
  "language_info": {
   "codemirror_mode": {
    "name": "ipython",
    "version": 3
   },
   "file_extension": ".py",
   "mimetype": "text/x-python",
   "name": "python",
   "nbconvert_exporter": "python",
   "pygments_lexer": "ipython3",
   "version": "3.7.10"
  }
 },
 "nbformat": 4,
 "nbformat_minor": 4
}
