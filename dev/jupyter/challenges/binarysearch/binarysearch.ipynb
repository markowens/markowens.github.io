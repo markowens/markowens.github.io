{
 "cells": [
  {
   "cell_type": "code",
   "execution_count": null,
   "metadata": {},
   "outputs": [],
   "source": [
    "# Wolf of Wall Street\n",
    "\n",
    "# Given a list of integers prices representing the stock prices of a company in chronological order, \n",
    "# return the maximum profit you could have made from buying and selling that stock once.\n",
    "\n",
    "# You must buy before you can sell it.\n",
    "\n",
    "# Note: You are not required to buy or sell the stock.\n",
    "\n",
    "# prices = [9, 11, 8, 5, 7, 10]\n",
    "# Output\n",
    "\n",
    "# 5\n",
    "\n",
    "# Explanation\n",
    "# You can buy at 5 and sell at 10.\n",
    "\n",
    "def solve2(prices):\n",
    "    pos = len(prices) -1\n",
    "    max_diff = 0\n",
    "    for i in range(pos, 0, -1):\n",
    "        diff = prices[i] - min(prices[:i])\n",
    "        if diff > max_diff:\n",
    "            max_diff = diff\n",
    "    return max_diff\n",
    "\n",
    "def solve(prices):\n",
    "    pos = len(prices) - 1\n",
    "    max_diff = 0\n",
    "    minval = []\n",
    "    for i in range(1, len(prices)):\n",
    "        minval[i] = min(prices[:i])\n",
    "        print(minval[i])\n",
    "    print(minval)\n",
    "\n",
    "prices = [\n",
    "    [9, 11, 8, 5, 7, 10],\n",
    "    [9, 11, 8, 5, 6, 12, 2, 10, 8, 9],\n",
    "    [1, 2, 3, 4, 5, 6, 7, 8, 9],\n",
    "    [9, 8, 7, 6, 5, 4, 3, 2, 1]\n",
    "]\n",
    "answers = [5, 8, 8, 0]\n",
    "\n",
    "for i in range(len(prices)):\n",
    "    try:\n",
    "        assert solve(prices[i]) == answers[i]\n",
    "        cnt += 1\n",
    "    except AssertionError as error:\n",
    "        print(f\"solution incorrect {prices[i]}\")\n",
    "    "
   ]
  }
 ],
 "metadata": {
  "kernelspec": {
   "display_name": "Python 3",
   "language": "python",
   "name": "python3"
  },
  "language_info": {
   "codemirror_mode": {
    "name": "ipython",
    "version": 3
   },
   "file_extension": ".py",
   "mimetype": "text/x-python",
   "name": "python",
   "nbconvert_exporter": "python",
   "pygments_lexer": "ipython3",
   "version": "3.8.5"
  }
 },
 "nbformat": 4,
 "nbformat_minor": 4
}
