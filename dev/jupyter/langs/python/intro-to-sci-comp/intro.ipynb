{
 "cells": [
  {
   "cell_type": "code",
   "execution_count": null,
   "id": "4a92e720-a44e-4ea3-8a07-3938c40d3839",
   "metadata": {},
   "outputs": [],
   "source": [
    "# 2.4.4 Type utility functions\n",
    "\n",
    "import types\n",
    "\n",
    "for name in dir(types):\n",
    "    print(name)\n",
    "    "
   ]
  }
 ],
 "metadata": {
  "kernelspec": {
   "display_name": "Python 3",
   "language": "python",
   "name": "python3"
  },
  "language_info": {
   "codemirror_mode": {
    "name": "ipython",
    "version": 3
   },
   "file_extension": ".py",
   "mimetype": "text/x-python",
   "name": "python",
   "nbconvert_exporter": "python",
   "pygments_lexer": "ipython3",
   "version": "3.8.10"
  }
 },
 "nbformat": 4,
 "nbformat_minor": 5
}
