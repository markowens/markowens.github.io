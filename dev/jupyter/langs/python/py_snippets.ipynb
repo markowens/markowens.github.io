{
 "cells": [
  {
   "cell_type": "markdown",
   "metadata": {},
   "source": [
    "## Notebook containing Python snippets of code (either used or for later use)"
   ]
  },
  {
   "cell_type": "code",
   "execution_count": 1,
   "metadata": {},
   "outputs": [
    {
     "ename": "ImportError",
     "evalue": "cannot import name 'timestamp' from 'jmodules' (/home/mark/bin/jmodules/__init__.py)",
     "output_type": "error",
     "traceback": [
      "\u001b[0;31m---------------------------------------------------------------------------\u001b[0m",
      "\u001b[0;31mImportError\u001b[0m                               Traceback (most recent call last)",
      "\u001b[0;32m<ipython-input-1-e7e3ec157687>\u001b[0m in \u001b[0;36m<module>\u001b[0;34m\u001b[0m\n\u001b[1;32m      2\u001b[0m \u001b[0;32mimport\u001b[0m \u001b[0mtime\u001b[0m\u001b[0;34m\u001b[0m\u001b[0;34m\u001b[0m\u001b[0m\n\u001b[1;32m      3\u001b[0m \u001b[0msys\u001b[0m\u001b[0;34m.\u001b[0m\u001b[0mpath\u001b[0m\u001b[0;34m.\u001b[0m\u001b[0mappend\u001b[0m\u001b[0;34m(\u001b[0m\u001b[0;34m\"/home/mark/bin\"\u001b[0m\u001b[0;34m)\u001b[0m\u001b[0;34m\u001b[0m\u001b[0;34m\u001b[0m\u001b[0m\n\u001b[0;32m----> 4\u001b[0;31m \u001b[0;32mfrom\u001b[0m \u001b[0mjmodules\u001b[0m \u001b[0;32mimport\u001b[0m \u001b[0mtimestamp\u001b[0m\u001b[0;34m\u001b[0m\u001b[0;34m\u001b[0m\u001b[0m\n\u001b[0m\u001b[1;32m      5\u001b[0m \u001b[0mtimestamp\u001b[0m\u001b[0;34m.\u001b[0m\u001b[0mTimer\u001b[0m\u001b[0;34m(\u001b[0m\u001b[0;34m)\u001b[0m\u001b[0;34m\u001b[0m\u001b[0;34m\u001b[0m\u001b[0m\n\u001b[1;32m      6\u001b[0m \u001b[0mtime\u001b[0m\u001b[0;34m.\u001b[0m\u001b[0msleep\u001b[0m\u001b[0;34m(\u001b[0m\u001b[0;36m2\u001b[0m\u001b[0;34m)\u001b[0m\u001b[0;34m\u001b[0m\u001b[0;34m\u001b[0m\u001b[0m\n",
      "\u001b[0;31mImportError\u001b[0m: cannot import name 'timestamp' from 'jmodules' (/home/mark/bin/jmodules/__init__.py)"
     ]
    }
   ],
   "source": [
    "import sys\n",
    "import time\n",
    "sys.path.append(\"/home/mark/bin\")\n",
    "from jmodules import timestamp\n",
    "timestamp.Timer()\n",
    "time.sleep(2)\n",
    "timestamp.Timer()"
   ]
  },
  {
   "cell_type": "code",
   "execution_count": null,
   "metadata": {},
   "outputs": [],
   "source": [
    "# def render_mpl_table(data, col_width=3.0, row_height=0.75, font_size=20,\n",
    "#                      header_color='#40466e', row_colors=['#f1f1f2', 'w'], edge_color='w',\n",
    "#                      bbox=[0, 0, 1, 1], header_columns=2,\n",
    "#                      ax=None, **kwargs):\n",
    "#     if ax is None:\n",
    "#         size = (np.array(data.shape[::-1]) + np.array([0, 1])) * np.array([col_width, row_height])\n",
    "#         fig, ax = plt.subplots(figsize=size)\n",
    "#         ax.axis('off')\n",
    "\n",
    "#     mpl_table = ax.table(cellText=data.values, bbox=bbox, colLabels=data.columns, **kwargs)\n",
    "\n",
    "#     mpl_table.auto_set_font_size(False)\n",
    "#     mpl_table.set_fontsize(font_size)\n",
    "\n",
    "#     for k, cell in  six.iteritems(mpl_table._cells):\n",
    "#         cell.set_edgecolor(edge_color)\n",
    "#         if k[0] == 0 or k[1] < header_columns:\n",
    "#             cell.set_text_props(weight='bold', color='w')\n",
    "#             cell.set_facecolor(header_color)\n",
    "#         else:\n",
    "#             cell.set_facecolor(row_colors[k[0]%len(row_colors) ])\n",
    "#     return ax\n",
    "\n",
    "# render_mpl_table(essential, header_columns=0, col_width=2.0)"
   ]
  },
  {
   "cell_type": "code",
   "execution_count": 2,
   "metadata": {},
   "outputs": [],
   "source": [
    "# essential.to_html(\"/home/mark/Downloads/test.html\")\n",
    "# !pip install imgkit\n",
    "# !pip install imagekit\n",
    "#!sudo pip install imgkit"
   ]
  },
  {
   "cell_type": "code",
   "execution_count": 3,
   "metadata": {},
   "outputs": [],
   "source": [
    "# modified from http://cssmenumaker.com/br/blog/stylish-css-tables-tutorial\n",
    "# css = \"\"\"\n",
    "# <style type=\\\"text/css\\\">\n",
    "# table {\n",
    "# color: #333;\n",
    "# font-family: Helvetica, Arial, sans-serif;\n",
    "# width: 640px;\n",
    "# border-collapse:\n",
    "# collapse; \n",
    "# border-spacing: 0;\n",
    "# }\n",
    "\n",
    "# td, th {\n",
    "# border: 1px solid transparent; /* No more visible border */\n",
    "# height: 30px;\n",
    "# }\n",
    "\n",
    "# th {\n",
    "# background: #DFDFDF; /* Darken header a bit */\n",
    "# font-weight: bold;\n",
    "# }\n",
    "\n",
    "# td {\n",
    "# background: #FAFAFA;\n",
    "# text-align: center;\n",
    "# }\n",
    "\n",
    "# table tr:nth-child(odd) td{\n",
    "# background-color: white;\n",
    "# }\n",
    "# </style>\n",
    "# \"\"\"\n",
    "\n",
    "# DataFrame_to_image(essential, css, outputfile=\"/home/mark/Downloads/out.png\")"
   ]
  },
  {
   "cell_type": "markdown",
   "metadata": {},
   "source": [
    "### Python reduce function\n",
    "\n",
    "The reduce() function is defined in the functools module. Like the map and filter functions, the reduce() function receives two arguments, a function and an iterable. However, it doesn't return another iterable, instead it returns a single value.\n",
    "\n",
    "The argument function is applied cumulatively to arguments in the list from left to right. The result of the function in the first call becomes the first argument and the third item in list becomes second. This is repeated until the list is exhausted.\n",
    "\n",
    "In the example below, the mult() function is defined to return the product of two numbers. This function is used in the reduce() function along with a range of numbers between 1 and 4, which are 1,2 and 3. The output is a factorial value of 3. "
   ]
  },
  {
   "cell_type": "code",
   "execution_count": 6,
   "metadata": {},
   "outputs": [
    {
     "name": "stdout",
     "output_type": "stream",
     "text": [
      "Factorial of 3:  6\n"
     ]
    }
   ],
   "source": [
    "import functools\n",
    "def mult(x,y):\n",
    "    #print(\"x=\",x,\" y=\",y)\n",
    "    return x*y\n",
    "\n",
    "fact=functools.reduce(mult, range(1, 4))\n",
    "print ('Factorial of 3: ', fact)"
   ]
  },
  {
   "cell_type": "code",
   "execution_count": 1,
   "metadata": {},
   "outputs": [],
   "source": [
    "# def DataFrame_to_image(data, css, outputfile=\"out.png\", format=\"png\"):\n",
    "#     '''\n",
    "#     For rendering a Pandas DataFrame as an image.\n",
    "#     data: a pandas DataFrame\n",
    "#     css: a string containing rules for styling the output table. This must \n",
    "#          contain both the opening an closing <style> tags.\n",
    "#     *outputimage: filename for saving of generated image\n",
    "#     *format: output format, as supported by IMGKit. Default is \"png\"\n",
    "#     '''\n",
    "#     fn = str(random.random()*100000000).split(\".\")[0] + \".html\"\n",
    "#     print(fn)\n",
    "    \n",
    "#     try:\n",
    "#         os.remove(fn)\n",
    "#     except:\n",
    "#         None\n",
    "#     text_file = open(fn, \"a\")\n",
    "    \n",
    "#     # write the CSS\n",
    "#     text_file.write(css)\n",
    "#     # write the HTML-ized Pandas DataFrame\n",
    "#     text_file.write(data.to_html())\n",
    "#     text_file.close()\n",
    "    \n",
    "#     # See IMGKit options for full configuration,\n",
    "#     # e.g. cropping of final image\n",
    "#     imgkitoptions = {\"format\": format}\n",
    "    \n",
    "#     imgkit.from_file(fn, outputfile, options=imgkitoptions)\n",
    "#     os.remove(fn)   "
   ]
  },
  {
   "cell_type": "markdown",
   "metadata": {},
   "source": [
    "Import Local Modules/Packages"
   ]
  },
  {
   "cell_type": "code",
   "execution_count": 2,
   "metadata": {},
   "outputs": [],
   "source": [
    "import sys\n",
    "sys.path.append(\"/home/mark/bin\")\n",
    "from jmodules import timestamp"
   ]
  },
  {
   "cell_type": "code",
   "execution_count": null,
   "metadata": {},
   "outputs": [],
   "source": []
  },
  {
   "cell_type": "code",
   "execution_count": 8,
   "metadata": {},
   "outputs": [
    {
     "data": {
      "text/plain": [
       "27.0"
      ]
     },
     "execution_count": 8,
     "metadata": {},
     "output_type": "execute_result"
    }
   ],
   "source": [
    "1620000/60000"
   ]
  },
  {
   "cell_type": "code",
   "execution_count": 14,
   "metadata": {},
   "outputs": [
    {
     "data": {
      "text/plain": [
       "60000.0"
      ]
     },
     "execution_count": 14,
     "metadata": {},
     "output_type": "execute_result"
    }
   ],
   "source": [
    "7200000/120"
   ]
  },
  {
   "cell_type": "code",
   "execution_count": 1,
   "metadata": {},
   "outputs": [
    {
     "data": {
      "text/plain": [
       "23"
      ]
     },
     "execution_count": 1,
     "metadata": {},
     "output_type": "execute_result"
    }
   ],
   "source": [
    "# Function for finding maximum sum \n",
    "def maxPathSum(tri, m, n): \n",
    "  \n",
    "    # loop for bottom-up calculation \n",
    "    for i in range(m-1, -1, -1): \n",
    "        for j in range(i+1): \n",
    "  \n",
    "            # for each element, check both \n",
    "            # elements just below the number \n",
    "            # and below right to the number \n",
    "            # add the maximum of them to it \n",
    "            if (tri[i+1][j] > tri[i+1][j+1]): \n",
    "                tri[i][j] += tri[i+1][j] \n",
    "            else: \n",
    "                tri[i][j] += tri[i+1][j+1] \n",
    "  \n",
    "    # return the top element \n",
    "    # which stores the maximum sum \n",
    "    return tri[0][0] \n",
    "\n",
    "tri = [[3, 0, 0, 0],\n",
    "       [7, 4, 0, 0],\n",
    "       [2, 4, 6, 0],\n",
    "       [8, 5, 9, 3]]\n",
    "maxPathSum(tri, 3, 3)"
   ]
  },
  {
   "cell_type": "code",
   "execution_count": 2,
   "metadata": {},
   "outputs": [
    {
     "name": "stdout",
     "output_type": "stream",
     "text": [
      "23\n"
     ]
    }
   ],
   "source": [
    "from functools import (reduce)\n",
    "from itertools import (starmap)\n",
    " \n",
    " \n",
    "# maxPathSum :: [[Int]] -> Int\n",
    "def maxPathSum(rows):\n",
    "    return reduce(\n",
    "        lambda xs, ys: list(starmap(\n",
    "            lambda a, b, c: a + max(b, c),\n",
    "            zip(ys, xs, xs[1:])\n",
    "        )),\n",
    "        reversed(rows[:-1]), rows[-1]\n",
    "    )[0]\n",
    "\n",
    "print(maxPathSum([\n",
    "    [3],\n",
    "    [7, 4],\n",
    "    [2, 4, 6],\n",
    "    [8, 5, 9, 3]    \n",
    "]))"
   ]
  },
  {
   "cell_type": "code",
   "execution_count": 4,
   "metadata": {},
   "outputs": [],
   "source": [
    "def solve(tri):\n",
    "    while len(tri) > 1:\n",
    "        t0 = tri.pop()\n",
    "        t1 = tri.pop()\n",
    "        tri.append([max(t0[i], t0[i+1]) + t for i,t in enumerate(t1)])\n",
    "    return tri[0][0]\n",
    "\n",
    "#print(solve([map(int, row.split()) for row in data.splitlines()]))"
   ]
  },
  {
   "cell_type": "code",
   "execution_count": null,
   "metadata": {},
   "outputs": [
    {
     "name": "stdout",
     "output_type": "stream",
     "text": [
      "You meet a troll wielding a great axe\n",
      "Type the a key and then RETURN to attack.\n"
     ]
    },
    {
     "name": "stdin",
     "output_type": "stream",
     "text": [
      " a\n"
     ]
    },
    {
     "name": "stdout",
     "output_type": "stream",
     "text": [
      "You take a swing at the troll.\n",
      "You missed.\n",
      "The troll has 16 HP remaining\n"
     ]
    },
    {
     "name": "stdin",
     "output_type": "stream",
     "text": [
      " a\n"
     ]
    },
    {
     "name": "stdout",
     "output_type": "stream",
     "text": [
      "You take a swing at the troll.\n",
      "You hit the troll for 12 damage!\n",
      "The troll has 4 HP remaining\n"
     ]
    },
    {
     "name": "stdin",
     "output_type": "stream",
     "text": [
      " a\n"
     ]
    },
    {
     "name": "stdout",
     "output_type": "stream",
     "text": [
      "You take a swing at the troll.\n",
      "You hit the troll for 12 damage!\n",
      "You killed your foe!\n"
     ]
    }
   ],
   "source": [
    "'''\n",
    "Example of using a function rather than class to create an enemy in a simple game.\n",
    "see:\n",
    "    https://opensource.com/article/19/7/get-modular-python-classes\n",
    "'''\n",
    "\n",
    "import random\n",
    "\n",
    "def enemy(ancestry,gear):\n",
    "    enemy=ancestry\n",
    "    weapon=gear\n",
    "    hp=random.randrange(0,20)\n",
    "    ac=random.randrange(0,20)\n",
    "    return [enemy,weapon,hp,ac]\n",
    "\n",
    "def fight(tgt):\n",
    "    print(\"You take a swing at the \" + tgt[0] + \".\")\n",
    "    hit=random.randrange(0,20)\n",
    "    if hit > tgt[3]:\n",
    "        print(\"You hit the \" + tgt[0] + \" for \" + str(hit) + \" damage!\")\n",
    "        tgt[2] = tgt[2] - hit\n",
    "    else:\n",
    "        print(\"You missed.\")\n",
    "\n",
    "\n",
    "foe=enemy(\"troll\",\"great axe\")\n",
    "print(\"You meet a \" + foe[0] + \" wielding a \" + foe[1])\n",
    "print(\"Type the a key and then RETURN to attack.\")\n",
    "\n",
    "while True:\n",
    "    action=input()\n",
    "\n",
    "    if action.lower() == \"a\":\n",
    "        fight(foe)\n",
    "\n",
    "    if foe[2] < 1:\n",
    "        print(\"You killed your foe!\")\n",
    "    else:\n",
    "        print(\"The \" + foe[0] + \" has \" + str(foe[2]) + \" HP remaining\")"
   ]
  },
  {
   "cell_type": "code",
   "execution_count": null,
   "metadata": {},
   "outputs": [
    {
     "name": "stdout",
     "output_type": "stream",
     "text": [
      "You meet a troll wielding a great axe\n",
      "Type the a key and then RETURN to attack.\n"
     ]
    },
    {
     "name": "stdin",
     "output_type": "stream",
     "text": [
      " a\n"
     ]
    },
    {
     "name": "stdout",
     "output_type": "stream",
     "text": [
      "You take a swing at the troll.\n",
      "You missed.\n",
      "Type the a key and then RETURN to attack.\n"
     ]
    },
    {
     "name": "stdin",
     "output_type": "stream",
     "text": [
      " a\n"
     ]
    },
    {
     "name": "stdout",
     "output_type": "stream",
     "text": [
      "You take a swing at the troll.\n",
      "You hit the troll for 17 damage!\n",
      "The troll has 2 HP remaining\n",
      "Type the a key and then RETURN to attack.\n"
     ]
    },
    {
     "name": "stdin",
     "output_type": "stream",
     "text": [
      " a\n"
     ]
    },
    {
     "name": "stdout",
     "output_type": "stream",
     "text": [
      "You take a swing at the troll.\n",
      "You missed.\n",
      "Type the a key and then RETURN to attack.\n"
     ]
    },
    {
     "name": "stdin",
     "output_type": "stream",
     "text": [
      " a\n"
     ]
    },
    {
     "name": "stdout",
     "output_type": "stream",
     "text": [
      "You take a swing at the troll.\n",
      "You missed.\n",
      "Type the a key and then RETURN to attack.\n"
     ]
    },
    {
     "name": "stdin",
     "output_type": "stream",
     "text": [
      " a\n"
     ]
    },
    {
     "name": "stdout",
     "output_type": "stream",
     "text": [
      "You take a swing at the troll.\n",
      "You missed.\n",
      "Type the a key and then RETURN to attack.\n"
     ]
    },
    {
     "name": "stdin",
     "output_type": "stream",
     "text": [
      " a\n"
     ]
    },
    {
     "name": "stdout",
     "output_type": "stream",
     "text": [
      "You take a swing at the troll.\n",
      "You missed.\n",
      "Type the a key and then RETURN to attack.\n"
     ]
    },
    {
     "name": "stdin",
     "output_type": "stream",
     "text": [
      " a\n"
     ]
    },
    {
     "name": "stdout",
     "output_type": "stream",
     "text": [
      "You take a swing at the troll.\n",
      "You missed.\n",
      "Type the a key and then RETURN to attack.\n"
     ]
    },
    {
     "name": "stdin",
     "output_type": "stream",
     "text": [
      " a\n"
     ]
    },
    {
     "name": "stdout",
     "output_type": "stream",
     "text": [
      "You take a swing at the troll.\n",
      "You hit the troll for 17 damage!\n",
      "The troll has -15 HP remaining\n",
      "You have won...this time.\n",
      "Type the a key and then RETURN to attack.\n"
     ]
    },
    {
     "name": "stdin",
     "output_type": "stream",
     "text": [
      " a\n"
     ]
    },
    {
     "name": "stdout",
     "output_type": "stream",
     "text": [
      "You take a swing at the troll.\n",
      "You missed.\n",
      "You have won...this time.\n",
      "Type the a key and then RETURN to attack.\n"
     ]
    }
   ],
   "source": [
    "import random\n",
    "\n",
    "class Enemy():\n",
    "    def __init__(self,ancestry,gear):\n",
    "        self.enemy=ancestry\n",
    "        self.weapon=gear\n",
    "        self.hp=random.randrange(10,20)\n",
    "        self.ac=random.randrange(12,20)\n",
    "        self.alive=True\n",
    "\n",
    "    def fight(self,tgt):\n",
    "        print(\"You take a swing at the \" + self.enemy + \".\")\n",
    "        hit=random.randrange(0,20)\n",
    "\n",
    "        if self.alive and hit > self.ac:\n",
    "            print(\"You hit the \" + self.enemy + \" for \" + str(hit) + \" damage!\")\n",
    "            self.hp = self.hp - hit\n",
    "            print(\"The \" + self.enemy + \" has \" + str(self.hp) + \" HP remaining\")\n",
    "        else:\n",
    "            print(\"You missed.\")\n",
    "\n",
    "        if self.hp < 1:\n",
    "            self.alive=False\n",
    "\n",
    "            \n",
    "# game start\n",
    "foe=Enemy(\"troll\",\"great axe\")\n",
    "print(\"You meet a \" + foe.enemy + \" wielding a \" + foe.weapon)\n",
    "\n",
    "# main loop\n",
    "while True:\n",
    "   \n",
    "    print(\"Type the a key and then RETURN to attack.\")\n",
    "       \n",
    "    action=input()\n",
    "\n",
    "    if action.lower() == \"a\":\n",
    "        foe.fight(foe)\n",
    "               \n",
    "    if foe.alive == False:\n",
    "        print(\"You have won...this time.\")\n",
    "        exit()\n",
    "        "
   ]
  },
  {
   "cell_type": "code",
   "execution_count": 74,
   "metadata": {},
   "outputs": [
    {
     "name": "stdout",
     "output_type": "stream",
     "text": [
      "5\n"
     ]
    }
   ],
   "source": [
    "import random\n",
    "\n",
    "nums = [1, 2, 3, 4, 5, 6, 7, 8, 9, 0]\n",
    "print(random.choice(nums))"
   ]
  },
  {
   "cell_type": "code",
   "execution_count": 79,
   "metadata": {},
   "outputs": [
    {
     "data": {
      "text/plain": [
       "False"
      ]
     },
     "execution_count": 79,
     "metadata": {},
     "output_type": "execute_result"
    }
   ],
   "source": [
    "str(range(10))\n",
    "x = \"125,000\"\n",
    "x.isdigit()\n"
   ]
  },
  {
   "cell_type": "code",
   "execution_count": 81,
   "metadata": {},
   "outputs": [
    {
     "name": "stdout",
     "output_type": "stream",
     "text": [
      "3\n",
      "2\n"
     ]
    }
   ],
   "source": [
    "x=3 \n",
    "y=x \n",
    "y=y-1 \n",
    "print(x)\n",
    "print(y)"
   ]
  },
  {
   "cell_type": "code",
   "execution_count": 90,
   "metadata": {},
   "outputs": [
    {
     "name": "stdout",
     "output_type": "stream",
     "text": [
      "True\n",
      "False\n"
     ]
    }
   ],
   "source": [
    "def is_vowel(letter):\n",
    "    if letter in ['a', 'e', 'i', 'o', 'u', 'y']:\n",
    "        return(True)\n",
    "    else:\n",
    "        return(False)\n",
    "    \n",
    "def is_vowel1(letter):\n",
    "    if letter in \"aeiouy\":\n",
    "        return(True)\n",
    "    else:\n",
    "        return(False)    \n",
    "    \n",
    "print(is_vowel1('a'))\n",
    "print(is_vowel1('b'))"
   ]
  }
 ],
 "metadata": {
  "kernelspec": {
   "display_name": "Python 3",
   "language": "python",
   "name": "python3"
  },
  "language_info": {
   "codemirror_mode": {
    "name": "ipython",
    "version": 3
   },
   "file_extension": ".py",
   "mimetype": "text/x-python",
   "name": "python",
   "nbconvert_exporter": "python",
   "pygments_lexer": "ipython3",
   "version": "3.8.10"
  }
 },
 "nbformat": 4,
 "nbformat_minor": 4
}
