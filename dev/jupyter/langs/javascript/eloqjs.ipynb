{
 "cells": [
  {
   "cell_type": "markdown",
   "metadata": {},
   "source": [
    "# Chapter 1: Values, Types, and Operators"
   ]
  },
  {
   "cell_type": "markdown",
   "metadata": {},
   "source": [
    "### Numbers\n",
    "\n",
    "i.e., 12, 9.43, 2.998e8. that is 2.998 × 10<sup>8</sup> = 299,800,000.\n",
    "\n",
    "\n",
    "There are three special values in JavaScript that are considered numbers but don’t behave like normal numbers.\n",
    "\n",
    "The first two are <code>Infinity</code> and <code>-Infinity</code>, which represent the positive and negative infinities. \n",
    "\n",
    "<code>NaN</code> stands for “not a number”, even though it is a value of the number type"
   ]
  },
  {
   "cell_type": "markdown",
   "metadata": {},
   "source": [
    "## Strings\n",
    "\n",
    "The next basic data type is the string. Strings are used to represent text. They are written by enclosing their content in quotes.\n",
    "<pre>\n",
    "`Down on the sea`\n",
    "\"Lie on the ocean\"\n",
    "'Float on the ocean'\n",
    "</pre>\n",
    "\n",
    "Backtick-quoted strings, usually called <em>template literals</em>, can do a few more tricks. Apart from being able to span lines, they can also embed other values."
   ]
  },
  {
   "cell_type": "code",
   "execution_count": 2,
   "metadata": {},
   "outputs": [
    {
     "data": {
      "text/plain": [
       "'half of 100 is 50'"
      ]
     },
     "execution_count": 2,
     "metadata": {},
     "output_type": "execute_result"
    }
   ],
   "source": [
    "`half of 100 is ${100 / 2}`"
   ]
  },
  {
   "cell_type": "markdown",
   "metadata": {},
   "source": [
    "## Unary Operators"
   ]
  },
  {
   "cell_type": "code",
   "execution_count": 3,
   "metadata": {},
   "outputs": [
    {
     "name": "stdout",
     "output_type": "stream",
     "text": [
      "number\n",
      "string\n"
     ]
    }
   ],
   "source": [
    "console.log(typeof 4.5)\n",
    "// → number\n",
    "console.log(typeof \"x\")\n",
    "// → string\n"
   ]
  }
 ],
 "metadata": {
  "kernelspec": {
   "display_name": "Javascript (Node.js)",
   "language": "javascript",
   "name": "javascript"
  },
  "language_info": {
   "file_extension": ".js",
   "mimetype": "application/javascript",
   "name": "javascript",
   "version": "8.11.2"
  }
 },
 "nbformat": 4,
 "nbformat_minor": 2
}
