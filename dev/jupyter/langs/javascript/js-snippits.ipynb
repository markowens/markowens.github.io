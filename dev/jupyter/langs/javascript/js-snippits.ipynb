{
 "cells": [
  {
   "cell_type": "markdown",
   "metadata": {},
   "source": [
    "## ALL\n",
    "\n",
    "This snippet returns true if the predicate function returns true for all elements in a collection and false otherwise. You can omit the second argument fn if you want to use Boolean as a default value."
   ]
  },
  {
   "cell_type": "code",
   "execution_count": 1,
   "metadata": {},
   "outputs": [],
   "source": [
    "const all = (arr, fn = Boolean) => arr.every(fn);"
   ]
  },
  {
   "cell_type": "code",
   "execution_count": 2,
   "metadata": {},
   "outputs": [
    {
     "name": "stdout",
     "output_type": "stream",
     "text": [
      "true\n",
      "true\n"
     ]
    }
   ],
   "source": [
    "ans = all([4, 2, 3], x => x > 1); // true\n",
    "console.log(ans)\n",
    "\n",
    "ans = all([1, 2, 3]); // true . shouldn't this be false since 1 !> 1\n",
    "console.log(ans)\n"
   ]
  }
 ],
 "metadata": {
  "kernelspec": {
   "display_name": "Javascript (Node.js)",
   "language": "javascript",
   "name": "javascript"
  },
  "language_info": {
   "file_extension": ".js",
   "mimetype": "application/javascript",
   "name": "javascript",
   "version": "8.11.2"
  }
 },
 "nbformat": 4,
 "nbformat_minor": 2
}
