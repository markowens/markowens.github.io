{
 "cells": [
  {
   "cell_type": "markdown",
   "metadata": {},
   "source": [
    "### Formatted Print"
   ]
  },
  {
   "cell_type": "markdown",
   "metadata": {},
   "source": [
    "Printing is handled by a series of macros defined in std::fmt some of which include:\n",
    "\n",
    "    format!: write formatted text to String\n",
    "    print!: same as format! but the text is printed to the console (io::stdout).\n",
    "    println!: same as print! but a newline is appended.\n",
    "    eprint!: same as format! but the text is printed to the standard error (io::stderr).\n",
    "    eprintln!: same as eprint!but a newline is appended.\n",
    "\n",
    "All parse text in the same fashion. As a plus, Rust checks formatting correctness at compile time."
   ]
  },
  {
   "cell_type": "code",
   "execution_count": 52,
   "metadata": {},
   "outputs": [
    {
     "name": "stdout",
     "output_type": "stream",
     "text": [
      "31 days\n",
      "Alice, this is Bob. Bob, this is Alice\n",
      "the quick brown fox jumps over the lazy dog\n",
      "1 of 10 people know binary, the other half doesn't\n",
      "     1\n",
      "000001\n",
      "My name is Bond, James Bond\n",
      "PI = 3.142\n",
      "PI = 3.142\n",
      "PI = 3.142\n",
      "PI = 3.142\n",
      "PI = 3.142\n",
      "PI = 3.141592\n"
     ]
    },
    {
     "data": {
      "text/plain": [
       "()"
      ]
     },
     "execution_count": 52,
     "metadata": {},
     "output_type": "execute_result"
    }
   ],
   "source": [
    "fn formatted_print() {\n",
    "    // In general, the `{}` will be automatically replaced with any\n",
    "    // arguments. These will be a stringified\n",
    "    println!(\"{} days\", 31);   \n",
    "    \n",
    "    // Without a suffix, 31 becomes an i32. You can change what type 31 is\n",
    "    // by providing a suffix.\n",
    "\n",
    "    // There are various optional patterns this works with. Positional\n",
    "    // arguments can be used.\n",
    "    println!(\"{0}, this is {1}. {1}, this is {0}\", \"Alice\", \"Bob\");    \n",
    "    \n",
    "    // As can named arguments.\n",
    "    println!(\"{subject} {verb} {object}\",\n",
    "             object=\"the lazy dog\",\n",
    "             subject=\"the quick brown fox\",\n",
    "             verb=\"jumps over\");    \n",
    "    \n",
    "    // Special formatting can be specified after a `:`.\n",
    "    println!(\"{} of {:b} people know binary, the other half doesn't\", 1, 2);    \n",
    "    \n",
    "    // You can right-align text with a specified width. This will output\n",
    "    // \"     1\". 5 white spaces and a \"1\".\n",
    "    println!(\"{number:>width$}\", number=1, width=6);\n",
    "    \n",
    "    // You can pad numbers with extra zeroes. This will output \"000001\".\n",
    "    println!(\"{number:>0width$}\", number=1, width=6);    \n",
    "    \n",
    "    // Rust even checks to make sure the correct number of arguments are\n",
    "    // used.\n",
    "    println!(\"My name is {0}, {1} {0}\", \"Bond\", \"James\");\n",
    "    // FIXME ^ Add the missing argument: \"James\"    \n",
    "    \n",
    "    // Create a structure named `Structure` which contains an `i32`.\n",
    "    #[allow(dead_code)]\n",
    "    struct Structure(i32);    \n",
    "    \n",
    "    // However, custom types such as this structure require more complicated\n",
    "    // handling. This will not work.\n",
    "    //println!(\"This struct `{}` won't print...\", Structure(3));\n",
    "    // FIXME ^ Comment out this line.    \n",
    "    \n",
    "    // Add a println! macro that prints: Pi is roughly 3.142 by controlling the number \n",
    "    // of decimal places shown. For the purposes of this exercise, use let pi = 3.141592 \n",
    "    // as an estimate for pi. (Hint: you may need to check the std::fmt documentation for \n",
    "    // setting the number of decimals to display)\n",
    "    let pi = 3.141592;\n",
    "    \n",
    "    // Examples followed by pi print\n",
    "    // Hello {arg 0 (\"x\")} is {arg 1 (0.01) with precision specified inline (5)}\n",
    "    // println!(\"Hello {0} is {1:.5}\", \"x\", 0.01);\n",
    "    println!(\"PI = {0:.3}\", pi);\n",
    "    \n",
    "    // Hello {arg 1 (\"x\")} is {arg 2 (0.01) with precision specified in arg 0 (5)}\n",
    "    // println!(\"Hello {1} is {2:.0$}\", 5, \"x\", 0.01);\n",
    "    println!(\"PI = {1:.0$}\", 3, pi);\n",
    "    \n",
    "    // Hello {arg 0 (\"x\")} is {arg 2 (0.01) with precision specified in arg 1 (5)}\n",
    "    // println!(\"Hello {0} is {2:.1$}\", \"x\", 5, 0.01);\n",
    "    println!(\"PI = {0:.1$}\", pi, 3);\n",
    "\n",
    "    // Hello {next arg (\"x\")} is {second of next two args (0.01) with precision\n",
    "    //                          specified in first of next two args (5)}\n",
    "    // println!(\"Hello {} is {:.*}\",    \"x\", 5, 0.01);\n",
    "    println!(\"PI = {:.*}\", 3, pi);\n",
    "\n",
    "    // Hello {next arg (\"x\")} is {arg 2 (0.01) with precision\n",
    "    //                          specified in its predecessor (5)}\n",
    "    // println!(\"Hello {} is {2:.*}\",   \"x\", 5, 0.01);\n",
    "    println!(\"PI = {1:.*}\", 3, pi);\n",
    "\n",
    "    // Hello {next arg (\"x\")} is {arg \"number\" (0.01) with precision specified\n",
    "    //                          in arg \"prec\" (5)}\n",
    "    // println!(\"Hello {} is {number:.prec$}\", \"x\", prec = 5, number = 0.01);\n",
    "    println!(\"PI = {number:prec$}\", prec = 3, number = pi);\n",
    "}\n",
    "\n",
    "\n",
    "formatted_print()"
   ]
  },
  {
   "cell_type": "markdown",
   "metadata": {},
   "source": [
    "<p><a href=\"https://doc.rust-lang.org/std/fmt/\"><code>std::fmt</code></a> contains many <a href=\"../trait.html\"><code>traits</code></a> which govern the display\n",
    "of text. The base form of two important ones are listed below:</p>\n",
    "<ul>\n",
    "<li><code>fmt::Debug</code>: Uses the <code>{:?}</code> marker. Format text for debugging purposes.</li>\n",
    "<li><code>fmt::Display</code>: Uses the <code>{}</code> marker. Format text in a more elegant, user\n",
    "friendly fashion.</li>\n",
    "</ul>\n",
    "<p>Here, we used <code>fmt::Display </code>because the std library provides implementations\n",
    "for these types. To print text for custom types, more steps are required.</p>\n",
    "<p>Implementing the <code>fmt::Display</code> trait automatically implements the\n",
    "<a href=\"https://doc.rust-lang.org/std/string/trait.ToString.html\"><code>ToString</code></a> trait which allows us to <a href=\"../conversion/string.html\">convert</a> the type to <a href=\"../std/str.html\"><code>String</code></a>.</p>\n",
    "<h3><a class=\"header\" href=\"#activities\" id=\"activities\">Activities</a></h3>\n",
    "<ul>\n",
    "<li>Fix the two issues in the above code (see FIXME) so that it runs without\n",
    "error.</li>\n",
    "<li>Add a <code>println!</code> macro that prints: <code>Pi is roughly 3.142</code> by controlling\n",
    "the number of decimal places shown. For the purposes of this exercise,\n",
    "use <code>let pi = 3.141592</code> as an estimate for pi. (Hint: you may need to\n",
    "check the <a href=\"https://doc.rust-lang.org/std/fmt/\"><code>std::fmt</code></a> documentation for setting the number of\n",
    "decimals to display)</li>\n",
    "</ul>\n",
    "<h3><a class=\"header\" href=\"#see-also\" id=\"see-also\">See also:</a></h3>\n",
    "<p><a href=\"https://doc.rust-lang.org/std/fmt/\"><code>std::fmt</code></a>, <a href=\"../macros.html\"><code>macros</code></a>, <a href=\"../custom_types/structs.html\"><code>struct</code></a>,\n",
    "and <a href=\"../trait.html\"><code>traits</code></a></p>"
   ]
  }
 ],
 "metadata": {
  "kernelspec": {
   "display_name": "Rust",
   "language": "rust",
   "name": "rust"
  },
  "language_info": {
   "codemirror_mode": "rust",
   "file_extension": ".rs",
   "mimetype": "text/rust",
   "name": "Rust",
   "pygment_lexer": "rust",
   "version": ""
  }
 },
 "nbformat": 4,
 "nbformat_minor": 2
}
