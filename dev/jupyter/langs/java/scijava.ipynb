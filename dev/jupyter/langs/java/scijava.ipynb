{
 "cells": [
  {
   "cell_type": "code",
   "execution_count": null,
   "metadata": {},
   "outputs": [],
   "source": []
  },
  {
   "cell_type": "markdown",
   "metadata": {},
   "source": [
    "#!groovy\n",
    "// @ImageJ ij\n",
    "\n",
    "// The plugin service manages the available plugins (see \"Plugins\" below).\n",
    "pluginCount = ij.plugin().getIndex().size()\n",
    "println(\"There are \" + pluginCount + \" plugins available.\")\n",
    "\n",
    "// The log service is used for logging messages.\n",
    "ij.log().info(\"Ignoring negative sigma value.\")\n",
    "\n",
    "// The status service is used to report the current status of operations.\n",
    "// Within a notebook like this, the call does not do anything visible.\n",
    "ij.status().showStatus(\"Processing data file 34 of 97...\")\n",
    "\n",
    "// The menu service organizes a menu hierarchy for modules (see \"Modules\" below).\n",
    "menuItemCount = ij.menu().getMenu().size()\n",
    "println(\"There are \" + menuItemCount + \" menu items total.\")\n",
    "\n"
   ]
  },
  {
   "cell_type": "code",
   "execution_count": null,
   "metadata": {},
   "outputs": [],
   "source": []
  }
 ],
 "metadata": {
  "kernelspec": {
   "display_name": "Python 3",
   "language": "python",
   "name": "python3"
  },
  "language_info": {
   "codemirror_mode": {
    "name": "ipython",
    "version": 3
   },
   "file_extension": ".py",
   "mimetype": "text/x-python",
   "name": "python",
   "nbconvert_exporter": "python",
   "pygments_lexer": "ipython3",
   "version": "3.7.3"
  }
 },
 "nbformat": 4,
 "nbformat_minor": 2
}
