{
 "cells": [
  {
   "cell_type": "markdown",
   "metadata": {},
   "source": [
    "## Learning Resources\n",
    "\n",
    "* [The Rust Programming Language](https://doc.rust-lang.org/book/)\n",
    "* [Rust by Example](https://doc.rust-lang.org/rust-by-example/index.html)\n",
    "* [Learn Rust](https://www.rust-lang.org/learn)\n",
    "* [A Tour of the Rust Standard Library](https://doc.rust-lang.org/std/)"
   ]
  }
 ],
 "metadata": {
  "kernelspec": {
   "display_name": "Rust",
   "language": "rust",
   "name": "rust"
  },
  "language_info": {
   "codemirror_mode": "rust",
   "file_extension": ".rs",
   "mimetype": "text/rust",
   "name": "Rust",
   "pygment_lexer": "rust",
   "version": ""
  }
 },
 "nbformat": 4,
 "nbformat_minor": 2
}
