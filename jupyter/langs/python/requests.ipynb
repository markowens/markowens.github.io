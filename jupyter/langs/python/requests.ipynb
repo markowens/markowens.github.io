{
 "cells": [
  {
   "cell_type": "markdown",
   "metadata": {},
   "source": [
    "### Introduction\n",
    "\n",
    "The Internet is an enormous source of data and, often, websites will offer a RESTful <a href=\"https://en.wikipedia.org/wiki/Application_programming_interface\" data-css-1skajya=\"\">API</a> endpoints (URLs, URIs) to share data via HTTP requests. HTTP requests are composed of methods like GET, POST, PUT, DELETE, etc. to manipulate and access resources or data. Often, websites require a registration process to access RESTful APIs or offer no API at all. So, to simplify the process, we can also download the data as raw text and format it. For instance, downloading content from a personal blog or profile information of a GitHub user without any registration. This guide will explain the process of making web requests in python using <span class=\"jsx-3120878690\"><code data-css-1v4omo4=\"\">Requests</code></span> package and its various features. \n",
    "\n",
    "### Prerequisites\n",
    "\n",
    "<ol><li>Python setup: Download and install the python setup from <a href=\"https://www.python.org/downloads/\" data-css-1skajya=\"\">python.org</a> or you can run python in browser with <a href=\"https://jupyter.org\" data-css-1skajya=\"\">jupyter notebook</a>. </li>\n",
    "    <li>Request Package: Use python package manager (pip) command in the terminal (command prompt) to install packages. \n",
    "    </li></ol>"
   ]
  },
  {
   "cell_type": "code",
   "execution_count": 18,
   "metadata": {},
   "outputs": [
    {
     "name": "stdout",
     "output_type": "stream",
     "text": [
      "Requirement already satisfied: requests in /home/mark/bin2/anaconda3/lib/python3.7/site-packages (2.21.0)\n",
      "Requirement already satisfied: certifi>=2017.4.17 in /home/mark/bin2/anaconda3/lib/python3.7/site-packages (from requests) (2019.3.9)\n",
      "Requirement already satisfied: idna<2.9,>=2.5 in /home/mark/bin2/anaconda3/lib/python3.7/site-packages (from requests) (2.8)\n",
      "Requirement already satisfied: chardet<3.1.0,>=3.0.2 in /home/mark/bin2/anaconda3/lib/python3.7/site-packages (from requests) (3.0.4)\n",
      "Requirement already satisfied: urllib3<1.25,>=1.21.1 in /home/mark/bin2/anaconda3/lib/python3.7/site-packages (from requests) (1.24.1)\n",
      "Note: you may need to restart the kernel to use updated packages.\n"
     ]
    }
   ],
   "source": [
    "pip install requests"
   ]
  },
  {
   "cell_type": "markdown",
   "metadata": {},
   "source": [
    "<i>Use  <code>pip</code> for python 2 (until python 3.4). Python also offers <a href=\"https://virtualenv.pypa.io/en/stable\">Virtualenv</a> to manage the dependencies and development environments separately, across multiple applications.</i>"
   ]
  },
  {
   "cell_type": "code",
   "execution_count": 37,
   "metadata": {},
   "outputs": [
    {
     "name": "stdout",
     "output_type": "stream",
     "text": [
      "200\n"
     ]
    }
   ],
   "source": [
    "import requests as reqs\n",
    "response = reqs.get('https://www.google.com')\n",
    "print(response.status_code)\n",
    "#print(response.text)"
   ]
  },
  {
   "cell_type": "code",
   "execution_count": 20,
   "metadata": {},
   "outputs": [
    {
     "name": "stdout",
     "output_type": "stream",
     "text": [
      "200\n",
      "{\n",
      "  \"userId\": 1,\n",
      "  \"id\": 1,\n",
      "  \"title\": \"delectus aut autem\",\n",
      "  \"completed\": false\n",
      "}\n"
     ]
    }
   ],
   "source": [
    "url = 'https://jsonplaceholder.typicode.com/todos/1'\n",
    "response = reqs.get(url)\n",
    "print(response.status_code)\n",
    "print(response.text)"
   ]
  },
  {
   "cell_type": "code",
   "execution_count": 21,
   "metadata": {},
   "outputs": [
    {
     "name": "stdout",
     "output_type": "stream",
     "text": [
      "200\n",
      "How are you today?\n"
     ]
    }
   ],
   "source": [
    "url = 'http://www.mocky.io/v2/5ebe7de13100005f00c5d374'\n",
    "response = reqs.get(url)\n",
    "print(response.status_code)\n",
    "print(response.text)"
   ]
  },
  {
   "cell_type": "code",
   "execution_count": 22,
   "metadata": {},
   "outputs": [
    {
     "name": "stdout",
     "output_type": "stream",
     "text": [
      "201\n",
      "{\n",
      "  \"title\": \"Python Requests\",\n",
      "  \"body\": \"Requests are awesome\",\n",
      "  \"userId\": \"1\",\n",
      "  \"id\": 101\n",
      "}\n"
     ]
    }
   ],
   "source": [
    "data = {'title':'Python Requests','body':'Requests are awesome','userId':1} \n",
    "response = requests.post('https://jsonplaceholder.typicode.com/posts', data) \n",
    "print(response.status_code) \n",
    "print(response.text) "
   ]
  },
  {
   "cell_type": "code",
   "execution_count": 24,
   "metadata": {},
   "outputs": [
    {
     "name": "stdout",
     "output_type": "stream",
     "text": [
      "b'{\\n  \"title\": \"Pyton Requests\",'\n"
     ]
    }
   ],
   "source": [
    "data = {'title':'Pyton Requests','body':'Requests are qwesome','userId':1} \n",
    "response = reqs.post('https://jsonplaceholder.typicode.com/posts', data, stream = True) \n",
    "print(response.raw.read(30))     # output: b'{\\n  \"title\": \"Python Requests\"' "
   ]
  },
  {
   "cell_type": "code",
   "execution_count": 25,
   "metadata": {},
   "outputs": [
    {
     "data": {
      "text/plain": [
       "<generator object Response.iter_content.<locals>.generate at 0x7f8ac45feed0>"
      ]
     },
     "execution_count": 25,
     "metadata": {},
     "output_type": "execute_result"
    }
   ],
   "source": [
    "response.iter_content(chunk_size=1024) "
   ]
  },
  {
   "cell_type": "markdown",
   "metadata": {},
   "source": [
    "### Authentication\n",
    "\n",
    "The process of authentication is required by many APIs to allow access to user specific details. Requests support various types of authentication, such as:\n",
    "\n",
    "* Basic Auth: This transfers the authentication details as base64 encoding (text as bytes), meaning there is no encryption and security. It is suitable for HTTPs or SSL/TSL enabled connections where security is inbuilt. "
   ]
  },
  {
   "cell_type": "code",
   "execution_count": 28,
   "metadata": {},
   "outputs": [
    {
     "data": {
      "text/plain": [
       "<Response [401]>"
      ]
     },
     "execution_count": 28,
     "metadata": {},
     "output_type": "execute_result"
    }
   ],
   "source": [
    "# Open github API to test authentication \n",
    "from requests.auth import HTTPBasicAuth     \n",
    "#requests.get('https://api.github.com/user', auth=HTTPBasicAuth('userName', 'password')) \n",
    " \n",
    "# or shortcut method \n",
    "requests.get('https://api.github.com/user', auth=('markowens', 'password'))  "
   ]
  },
  {
   "cell_type": "code",
   "execution_count": 30,
   "metadata": {},
   "outputs": [
    {
     "name": "stdout",
     "output_type": "stream",
     "text": [
      "200\n",
      "{\"authenticated\":true}\n"
     ]
    }
   ],
   "source": [
    "from requests.auth import HTTPDigestAuth \n",
    "response = reqs.get('https://postman-echo.com/digest-auth', auth=HTTPDigestAuth('postman', \n",
    "'password')) \n",
    "print(response.status_code)\n",
    "print(response.text)"
   ]
  },
  {
   "cell_type": "code",
   "execution_count": 31,
   "metadata": {},
   "outputs": [
    {
     "name": "stdout",
     "output_type": "stream",
     "text": [
      "{'Server': 'Cowboy', 'Connection': 'keep-alive', 'Date': 'Fri, 15 May 2020 12:59:18 GMT', 'Content-Type': 'text/plain; charset=UTF-8', 'Content-Length': '18', 'Via': '1.1 vegur'}\n",
      "text/plain; charset=UTF-8\n"
     ]
    }
   ],
   "source": [
    "headers = {'user-agent': 'customize header string', 'Content-Type': 'application/json; charset=utf-8'}  \n",
    "response = requests.get(url, headers=headers)   # modify request headers \n",
    "print(response.headers)                         # print response headers \n",
    "print(response.headers['Content-Type'])         # output: application/json; charset=utf-8 "
   ]
  },
  {
   "cell_type": "code",
   "execution_count": 32,
   "metadata": {},
   "outputs": [
    {
     "name": "stdout",
     "output_type": "stream",
     "text": [
      "{\"cookies\":{\"username\":\"Pavneet\"}}\n"
     ]
    }
   ],
   "source": [
    "cookie = {'username':'Pavneet'} \n",
    "response = reqs.get('https://postman-echo.com/cookies/set',cookies = cookie)   # send cookie \n",
    "print(response.text)    # output: {\"cookies\":{\"username\":\"Pavneet\"}} "
   ]
  },
  {
   "cell_type": "code",
   "execution_count": 33,
   "metadata": {},
   "outputs": [
    {
     "data": {
      "text/plain": [
       "<Response [200]>"
      ]
     },
     "execution_count": 33,
     "metadata": {},
     "output_type": "execute_result"
    }
   ],
   "source": [
    "requests.get('https://github.com/', timeout=0.50) "
   ]
  },
  {
   "cell_type": "code",
   "execution_count": 34,
   "metadata": {},
   "outputs": [
    {
     "data": {
      "text/plain": [
       "'https://github.com/'"
      ]
     },
     "execution_count": 34,
     "metadata": {},
     "output_type": "execute_result"
    }
   ],
   "source": [
    "response = requests.get('http://github.com/', allow_redirects=True) \n",
    "response.url"
   ]
  },
  {
   "cell_type": "code",
   "execution_count": 35,
   "metadata": {},
   "outputs": [],
   "source": [
    "try: \n",
    "    response = requests.get(url,timeout=3) \n",
    "    response.raise_for_status()                 # Raise error in case of failure \n",
    "except requests.exceptions.HTTPError as httpErr: \n",
    "    print (\"Http Error:\",httpErr) \n",
    "except requests.exceptions.ConnectionError as connErr: \n",
    "    print (\"Error Connecting:\",connErr) \n",
    "except requests.exceptions.Timeout as timeOutErr: \n",
    "    print (\"Timeout Error:\",timeOutErr) \n",
    "except requests.exceptions.RequestException as reqErr: \n",
    "    print (\"Something Else:\",reqErr) "
   ]
  }
 ],
 "metadata": {
  "kernelspec": {
   "display_name": "Python 3",
   "language": "python",
   "name": "python3"
  },
  "language_info": {
   "codemirror_mode": {
    "name": "ipython",
    "version": 3
   },
   "file_extension": ".py",
   "mimetype": "text/x-python",
   "name": "python",
   "nbconvert_exporter": "python",
   "pygments_lexer": "ipython3",
   "version": "3.7.3"
  }
 },
 "nbformat": 4,
 "nbformat_minor": 2
}
