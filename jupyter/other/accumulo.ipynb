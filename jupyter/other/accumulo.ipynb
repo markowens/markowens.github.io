{
 "cells": [
  {
   "cell_type": "code",
   "execution_count": 7,
   "metadata": {},
   "outputs": [],
   "source": [
    "%%loadFromPOM\n",
    "<properties>\n",
    "    <accumulo.version>1.8.1</accumulo.version>\n",
    "    <java.version>1.8</java.version>\n",
    "</properties>\n",
    "<build>\n",
    "<plugins>\n",
    "  <plugin>\n",
    "    <artifactId>maven-compiler-plugin</artifactId>\n",
    "      <version>3.8.1</version>\n",
    "      <configuration>\n",
    "          <source>${java.version}</source>\n",
    "          <target>${java.version}</target>\n",
    "      </configuration>\n",
    "  </plugin>\n",
    "  <plugin>\n",
    "    <groupId>org.codehaus.mojo</groupId>\n",
    "    <artifactId>exec-maven-plugin</artifactId>\n",
    "    <version>1.5.0</version>\n",
    "    <configuration>\n",
    "      <mainClass>tour.Main</mainClass>\n",
    "      <cleanupDaemonThreads>false</cleanupDaemonThreads>\n",
    "    </configuration>\n",
    "  </plugin>\n",
    "</plugins>\n",
    "</build>\n",
    "\n",
    "<dependencies>\n",
    "    <dependency>\n",
    "        <groupId>org.apache.accumulo</groupId>\n",
    "        <artifactId>accumulo-minicluster</artifactId>\n",
    "        <version>${accumulo.version}</version>\n",
    "    </dependency>\n",
    "</dependencies>\n"
   ]
  },
  {
   "cell_type": "code",
   "execution_count": 9,
   "metadata": {},
   "outputs": [],
   "source": [
    "// Classes you will use along the tour\n",
    "import java.util.Map;\n",
    "import java.util.Map.Entry;\n",
    "import java.util.Random;\n",
    "import java.util.List;\n",
    "import java.util.ArrayList;\n",
    "import java.util.concurrent.CompletableFuture;\n",
    "import java.util.concurrent.Future;\n",
    "import java.util.function.Function;\n",
    "import org.apache.accumulo.core.client.BatchWriter;\n",
    "import org.apache.accumulo.core.client.BatchWriterConfig;\n",
    "import org.apache.accumulo.core.client.Connector;\n",
    "import org.apache.accumulo.core.client.Scanner;\n",
    "import org.apache.accumulo.core.client.TableNotFoundException;\n",
    "import org.apache.accumulo.core.client.IsolatedScanner;\n",
    "import org.apache.accumulo.core.client.BatchScanner;\n",
    "import org.apache.accumulo.core.client.ConditionalWriter;\n",
    "import org.apache.accumulo.core.client.ConditionalWriter.Status;\n",
    "import org.apache.accumulo.core.client.ConditionalWriterConfig;\n",
    "import org.apache.accumulo.core.client.security.tokens.PasswordToken;\n",
    "import org.apache.accumulo.core.data.Key;\n",
    "import org.apache.accumulo.core.data.Range;\n",
    "import org.apache.accumulo.core.data.Mutation;\n",
    "import org.apache.accumulo.core.data.Value;\n",
    "import org.apache.accumulo.core.data.Condition;\n",
    "import org.apache.accumulo.core.data.ConditionalMutation;\n",
    "import org.apache.accumulo.core.security.Authorizations;\n",
    "import org.apache.accumulo.core.security.TablePermission;\n",
    "import org.apache.accumulo.core.security.ColumnVisibility;\n",
    "import org.apache.accumulo.minicluster.MiniAccumuloCluster;\n",
    "import org.apache.hadoop.io.Text;\n",
    "import java.nio.file.Files;\n",
    "import java.nio.file.Path;\n",
    "import java.nio.file.Paths;\n"
   ]
  },
  {
   "cell_type": "code",
   "execution_count": 18,
   "metadata": {},
   "outputs": [],
   "source": [
    "public class Main {\n",
    "    public static void main(String[] args) throws Exception {\n",
    "        System.out.println(\"Running the Accumulo tour!\");\n",
    "        \n",
    "        Path tempDir = Files.createTempDirectory(Paths.get(\"target\"), \"mac\");\n",
    "        MiniAccumuloCluster mac = new MiniAccumuloCluster(tempDir.toFile(), \"tourguide\");\n",
    "\n",
    "//         mac.start();\n",
    "//         exercise(mac);\n",
    "//         mac.stop();\n",
    "    }\n",
    "    \n",
    "    static void exercise() {\n",
    "        System.out.println(\"Hello world\");\n",
    "    }\n",
    "}"
   ]
  },
  {
   "cell_type": "code",
   "execution_count": 28,
   "metadata": {},
   "outputs": [
    {
     "ename": "EvalException",
     "evalue": "Undefined line magic 'ls'",
     "output_type": "error",
     "traceback": [
      "\u001b[1m\u001b[31m---------------------------------------------------------------------------\u001b[0m",
      "\u001b[1m\u001b[31mio.github.spencerpark.jupyter.kernel.magic.registry.UndefinedMagicException: Undefined line magic 'ls'\u001b[0m",
      "\u001b[1m\u001b[31m\tat io.github.spencerpark.jupyter.kernel.magic.registry.Magics.applyLineMagic(Magics.java:24)\u001b[0m",
      "\u001b[1m\u001b[31m\tat io.github.spencerpark.ijava.runtime.Magics.lineMagic(Magics.java:15)\u001b[0m",
      "\u001b[1m\u001b[31m\tat .(#65:1)\u001b[0m"
     ]
    }
   ],
   "source": []
  },
  {
   "cell_type": "code",
   "execution_count": null,
   "metadata": {},
   "outputs": [],
   "source": []
  }
 ],
 "metadata": {
  "kernelspec": {
   "display_name": "Java",
   "language": "java",
   "name": "java"
  },
  "language_info": {
   "codemirror_mode": "java",
   "file_extension": ".jshell",
   "mimetype": "text/x-java-source",
   "name": "Java",
   "pygments_lexer": "java",
   "version": "11.0.2+9"
  }
 },
 "nbformat": 4,
 "nbformat_minor": 2
}
