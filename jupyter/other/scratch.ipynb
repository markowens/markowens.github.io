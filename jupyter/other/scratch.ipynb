{
 "cells": [
  {
   "cell_type": "markdown",
   "metadata": {},
   "source": [
    "#### text via email\n",
    "\n",
    "    AT&T: @text.att.net\n",
    "\n",
    "    Sprint: @messaging.sprintpcs.com\n",
    "\n",
    "    T-Mobile: @tmomail.net\n",
    "\n",
    "    Verizon: @vtext.com (or @vzwpix.com for photos and video)\n"
   ]
  }
 ],
 "metadata": {
  "kernelspec": {
   "display_name": "Python 3",
   "language": "python",
   "name": "python3"
  },
  "language_info": {
   "codemirror_mode": {
    "name": "ipython",
    "version": 3
   },
   "file_extension": ".py",
   "mimetype": "text/x-python",
   "name": "python",
   "nbconvert_exporter": "python",
   "pygments_lexer": "ipython3",
   "version": "3.8.5"
  }
 },
 "nbformat": 4,
 "nbformat_minor": 4
}
