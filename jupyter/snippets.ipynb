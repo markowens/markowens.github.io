{
 "cells": [
  {
   "cell_type": "markdown",
   "metadata": {},
   "source": [
    "## Notebook containing Snippets of code (either used or for later use)"
   ]
  },
  {
   "cell_type": "code",
   "execution_count": 1,
   "metadata": {},
   "outputs": [],
   "source": [
    "# def render_mpl_table(data, col_width=3.0, row_height=0.75, font_size=20,\n",
    "#                      header_color='#40466e', row_colors=['#f1f1f2', 'w'], edge_color='w',\n",
    "#                      bbox=[0, 0, 1, 1], header_columns=2,\n",
    "#                      ax=None, **kwargs):\n",
    "#     if ax is None:\n",
    "#         size = (np.array(data.shape[::-1]) + np.array([0, 1])) * np.array([col_width, row_height])\n",
    "#         fig, ax = plt.subplots(figsize=size)\n",
    "#         ax.axis('off')\n",
    "\n",
    "#     mpl_table = ax.table(cellText=data.values, bbox=bbox, colLabels=data.columns, **kwargs)\n",
    "\n",
    "#     mpl_table.auto_set_font_size(False)\n",
    "#     mpl_table.set_fontsize(font_size)\n",
    "\n",
    "#     for k, cell in  six.iteritems(mpl_table._cells):\n",
    "#         cell.set_edgecolor(edge_color)\n",
    "#         if k[0] == 0 or k[1] < header_columns:\n",
    "#             cell.set_text_props(weight='bold', color='w')\n",
    "#             cell.set_facecolor(header_color)\n",
    "#         else:\n",
    "#             cell.set_facecolor(row_colors[k[0]%len(row_colors) ])\n",
    "#     return ax\n",
    "\n",
    "# render_mpl_table(essential, header_columns=0, col_width=2.0)"
   ]
  },
  {
   "cell_type": "code",
   "execution_count": 2,
   "metadata": {},
   "outputs": [],
   "source": [
    "# essential.to_html(\"/home/mark/Downloads/test.html\")\n",
    "# !pip install imgkit\n",
    "# !pip install imagekit\n",
    "#!sudo pip install imgkit"
   ]
  },
  {
   "cell_type": "code",
   "execution_count": 3,
   "metadata": {},
   "outputs": [],
   "source": [
    "# modified from http://cssmenumaker.com/br/blog/stylish-css-tables-tutorial\n",
    "# css = \"\"\"\n",
    "# <style type=\\\"text/css\\\">\n",
    "# table {\n",
    "# color: #333;\n",
    "# font-family: Helvetica, Arial, sans-serif;\n",
    "# width: 640px;\n",
    "# border-collapse:\n",
    "# collapse; \n",
    "# border-spacing: 0;\n",
    "# }\n",
    "\n",
    "# td, th {\n",
    "# border: 1px solid transparent; /* No more visible border */\n",
    "# height: 30px;\n",
    "# }\n",
    "\n",
    "# th {\n",
    "# background: #DFDFDF; /* Darken header a bit */\n",
    "# font-weight: bold;\n",
    "# }\n",
    "\n",
    "# td {\n",
    "# background: #FAFAFA;\n",
    "# text-align: center;\n",
    "# }\n",
    "\n",
    "# table tr:nth-child(odd) td{\n",
    "# background-color: white;\n",
    "# }\n",
    "# </style>\n",
    "# \"\"\"\n",
    "\n",
    "# DataFrame_to_image(essential, css, outputfile=\"/home/mark/Downloads/out.png\")"
   ]
  },
  {
   "cell_type": "code",
   "execution_count": null,
   "metadata": {},
   "outputs": [],
   "source": []
  }
 ],
 "metadata": {
  "kernelspec": {
   "display_name": "Python 3",
   "language": "python",
   "name": "python3"
  },
  "language_info": {
   "codemirror_mode": {
    "name": "ipython",
    "version": 3
   },
   "file_extension": ".py",
   "mimetype": "text/x-python",
   "name": "python",
   "nbconvert_exporter": "python",
   "pygments_lexer": "ipython3",
   "version": "3.7.3"
  }
 },
 "nbformat": 4,
 "nbformat_minor": 2
}
