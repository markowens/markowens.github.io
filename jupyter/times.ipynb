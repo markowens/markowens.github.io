{
 "cells": [
  {
   "cell_type": "code",
   "execution_count": 1,
   "metadata": {},
   "outputs": [],
   "source": [
    "import numpy as np\n",
    "import pandas as pd\n",
    "\n",
    "(sun0, mon0, tue0, wed0, thu0, fri0, sat0, sun1, mon1, tue1, wed1, thu1, fri1, sat1) = range(14)\n",
    "labels = ['RG', 'LA', 'LS', 'CD', 'CN', 'LH', 'LN', 'MB']\n",
    "dlabels = ['sun0', 'mon0', 'tue0', 'wed0', 'thu0', 'fri0', 'sat0', \n",
    "           'sun1', 'mon1', 'tue1', 'wed1', 'thu1', 'fri1', 'sat1']\n",
    "days = dict(zip(range(14), dlabels))\n",
    "row_names = dict(zip(range(8), labels))\n",
    "row_names[8] = \"Total\"\n",
    "\n",
    "def sum_by_leave_category(df):\n",
    "    rgs = df.loc['RG'].sum()\n",
    "    las = df.loc['LA'].sum()\n",
    "    lss = df.loc['LS'].sum()\n",
    "    cds = df.loc['CD'].sum()\n",
    "    cns = df.loc['CN'].sum()\n",
    "    lhs = df.loc['LH'].sum()\n",
    "    lns = df.loc['LN'].sum()\n",
    "    mbs = df.loc['MB'].sum()\n",
    "    sums = pd.Series([rgs, las, lss, cds, cns, lhs, lns, mbs], index=labels)\n",
    "    return sums\n",
    "\n",
    "def sum_by_days(df):\n",
    "    day_sums = pd.Series([df['sun0'].sum(), df['mon0'].sum(), df['tue0'].sum(), df['wed0'].sum(), df['thu0'].sum(), df['fri0'].sum(), df['sat0'].sum(),\n",
    "                          df['sun1'].sum(), df['mon1'].sum(), df['tue1'].sum(), df['wed1'].sum(), df['thu1'].sum(), df['fri1'].sum(), df['sat1'].sum()],\n",
    "                        index=dlabels)\n",
    "    return day_sums\n",
    "\n",
    "def rg(day, val):\n",
    "    df.loc['RG', days[day]] = val\n",
    "    \n",
    "def la(day, val):\n",
    "    df.loc['LA', days[day]] = val\n",
    "    \n",
    "def ls(day, val):\n",
    "    df.loc['LS', days[day]] = val\n",
    "    \n",
    "def cd(day, val):\n",
    "    df.loc['CD', days[day]] = val\n",
    "    \n",
    "def cn(day, val):\n",
    "    df.loc['CN', days[day]] = val\n",
    "    \n",
    "def lh(day, val):\n",
    "    df.loc['LH', days[day]] = val\n",
    "    \n",
    "def ln(day, val):\n",
    "    df.loc['LN', days[day]] = val\n",
    "    \n",
    "def mb(day, val):\n",
    "    df.loc['MB', days[day]] = val    \n",
    "        "
   ]
  },
  {
   "cell_type": "code",
   "execution_count": 2,
   "metadata": {},
   "outputs": [],
   "source": [
    "times = np.zeros((8, 14))\n",
    "df = pd.DataFrame(times, index=labels, columns=dlabels)"
   ]
  },
  {
   "cell_type": "markdown",
   "metadata": {},
   "source": [
    "### Enter Daily Times Here"
   ]
  },
  {
   "cell_type": "code",
   "execution_count": 3,
   "metadata": {},
   "outputs": [],
   "source": [
    "# update daily times here\n",
    "# sun0\n",
    "# mon0\n",
    "rg(mon0, 8.5)\n",
    "ln(mon0, 1.0)\n",
    "# tue0\n",
    "rg(tue0, 9.0)\n",
    "# wed0\n",
    "rg(wed0, 8.5)\n",
    "ln(wed0, 1.0)\n",
    "# thu0\n",
    "rg(thu0, 9.5)\n",
    "# fri0\n",
    "rg(fri0, 7.5)\n",
    "ln(fri0, 1.0)\n",
    "# sat0\n",
    "# sun1\n",
    "# mon1\n",
    "rg(mon1, 9.0)\n",
    "# tue1\n",
    "rg(tue1, 8.0)\n",
    "# wed1\n",
    "# thu1\n",
    "# fri1\n",
    "# sat1\n",
    "\n",
    "# df_rowsum = pd.concat([df, sum_by_leave_category(df)], axis=1)\n",
    "# df_rowsum.rename(columns={0:'Total'})\n",
    "# df_rowsum2 = df_rowsum.rename(columns={0:'Total'})\n",
    "# df_rowsum2"
   ]
  },
  {
   "cell_type": "code",
   "execution_count": 4,
   "metadata": {},
   "outputs": [
    {
     "name": "stdout",
     "output_type": "stream",
     "text": [
      "\n",
      "\n",
      "total by leave category: 63.0\n",
      "total by day category:   63.0\n",
      "remaining to work:       17.0\n",
      "==================================================================================\n"
     ]
    },
    {
     "data": {
      "text/html": [
       "<style  type=\"text/css\" >\n",
       "</style><table id=\"T_fab2f8f4_91ba_11e9_a6dc_c5f7e71c3d66\" ><thead>    <tr>        <th class=\"blank level0\" ></th>        <th class=\"col_heading level0 col0\" >sun0</th>        <th class=\"col_heading level0 col1\" >mon0</th>        <th class=\"col_heading level0 col2\" >tue0</th>        <th class=\"col_heading level0 col3\" >wed0</th>        <th class=\"col_heading level0 col4\" >thu0</th>        <th class=\"col_heading level0 col5\" >fri0</th>        <th class=\"col_heading level0 col6\" >sat0</th>        <th class=\"col_heading level0 col7\" >sun1</th>        <th class=\"col_heading level0 col8\" >mon1</th>        <th class=\"col_heading level0 col9\" >tue1</th>        <th class=\"col_heading level0 col10\" >wed1</th>        <th class=\"col_heading level0 col11\" >thu1</th>        <th class=\"col_heading level0 col12\" >fri1</th>        <th class=\"col_heading level0 col13\" >sat1</th>        <th class=\"col_heading level0 col14\" >Total</th>    </tr></thead><tbody>\n",
       "                <tr>\n",
       "                        <th id=\"T_fab2f8f4_91ba_11e9_a6dc_c5f7e71c3d66level0_row0\" class=\"row_heading level0 row0\" >RG</th>\n",
       "                        <td id=\"T_fab2f8f4_91ba_11e9_a6dc_c5f7e71c3d66row0_col0\" class=\"data row0 col0\" >0</td>\n",
       "                        <td id=\"T_fab2f8f4_91ba_11e9_a6dc_c5f7e71c3d66row0_col1\" class=\"data row0 col1\" >8.5</td>\n",
       "                        <td id=\"T_fab2f8f4_91ba_11e9_a6dc_c5f7e71c3d66row0_col2\" class=\"data row0 col2\" >9</td>\n",
       "                        <td id=\"T_fab2f8f4_91ba_11e9_a6dc_c5f7e71c3d66row0_col3\" class=\"data row0 col3\" >8.5</td>\n",
       "                        <td id=\"T_fab2f8f4_91ba_11e9_a6dc_c5f7e71c3d66row0_col4\" class=\"data row0 col4\" >9.5</td>\n",
       "                        <td id=\"T_fab2f8f4_91ba_11e9_a6dc_c5f7e71c3d66row0_col5\" class=\"data row0 col5\" >7.5</td>\n",
       "                        <td id=\"T_fab2f8f4_91ba_11e9_a6dc_c5f7e71c3d66row0_col6\" class=\"data row0 col6\" >0</td>\n",
       "                        <td id=\"T_fab2f8f4_91ba_11e9_a6dc_c5f7e71c3d66row0_col7\" class=\"data row0 col7\" >0</td>\n",
       "                        <td id=\"T_fab2f8f4_91ba_11e9_a6dc_c5f7e71c3d66row0_col8\" class=\"data row0 col8\" >9</td>\n",
       "                        <td id=\"T_fab2f8f4_91ba_11e9_a6dc_c5f7e71c3d66row0_col9\" class=\"data row0 col9\" >8</td>\n",
       "                        <td id=\"T_fab2f8f4_91ba_11e9_a6dc_c5f7e71c3d66row0_col10\" class=\"data row0 col10\" >0</td>\n",
       "                        <td id=\"T_fab2f8f4_91ba_11e9_a6dc_c5f7e71c3d66row0_col11\" class=\"data row0 col11\" >0</td>\n",
       "                        <td id=\"T_fab2f8f4_91ba_11e9_a6dc_c5f7e71c3d66row0_col12\" class=\"data row0 col12\" >0</td>\n",
       "                        <td id=\"T_fab2f8f4_91ba_11e9_a6dc_c5f7e71c3d66row0_col13\" class=\"data row0 col13\" >0</td>\n",
       "                        <td id=\"T_fab2f8f4_91ba_11e9_a6dc_c5f7e71c3d66row0_col14\" class=\"data row0 col14\" >60</td>\n",
       "            </tr>\n",
       "            <tr>\n",
       "                        <th id=\"T_fab2f8f4_91ba_11e9_a6dc_c5f7e71c3d66level0_row1\" class=\"row_heading level0 row1\" >LN</th>\n",
       "                        <td id=\"T_fab2f8f4_91ba_11e9_a6dc_c5f7e71c3d66row1_col0\" class=\"data row1 col0\" >0</td>\n",
       "                        <td id=\"T_fab2f8f4_91ba_11e9_a6dc_c5f7e71c3d66row1_col1\" class=\"data row1 col1\" >1</td>\n",
       "                        <td id=\"T_fab2f8f4_91ba_11e9_a6dc_c5f7e71c3d66row1_col2\" class=\"data row1 col2\" >0</td>\n",
       "                        <td id=\"T_fab2f8f4_91ba_11e9_a6dc_c5f7e71c3d66row1_col3\" class=\"data row1 col3\" >1</td>\n",
       "                        <td id=\"T_fab2f8f4_91ba_11e9_a6dc_c5f7e71c3d66row1_col4\" class=\"data row1 col4\" >0</td>\n",
       "                        <td id=\"T_fab2f8f4_91ba_11e9_a6dc_c5f7e71c3d66row1_col5\" class=\"data row1 col5\" >1</td>\n",
       "                        <td id=\"T_fab2f8f4_91ba_11e9_a6dc_c5f7e71c3d66row1_col6\" class=\"data row1 col6\" >0</td>\n",
       "                        <td id=\"T_fab2f8f4_91ba_11e9_a6dc_c5f7e71c3d66row1_col7\" class=\"data row1 col7\" >0</td>\n",
       "                        <td id=\"T_fab2f8f4_91ba_11e9_a6dc_c5f7e71c3d66row1_col8\" class=\"data row1 col8\" >0</td>\n",
       "                        <td id=\"T_fab2f8f4_91ba_11e9_a6dc_c5f7e71c3d66row1_col9\" class=\"data row1 col9\" >0</td>\n",
       "                        <td id=\"T_fab2f8f4_91ba_11e9_a6dc_c5f7e71c3d66row1_col10\" class=\"data row1 col10\" >0</td>\n",
       "                        <td id=\"T_fab2f8f4_91ba_11e9_a6dc_c5f7e71c3d66row1_col11\" class=\"data row1 col11\" >0</td>\n",
       "                        <td id=\"T_fab2f8f4_91ba_11e9_a6dc_c5f7e71c3d66row1_col12\" class=\"data row1 col12\" >0</td>\n",
       "                        <td id=\"T_fab2f8f4_91ba_11e9_a6dc_c5f7e71c3d66row1_col13\" class=\"data row1 col13\" >0</td>\n",
       "                        <td id=\"T_fab2f8f4_91ba_11e9_a6dc_c5f7e71c3d66row1_col14\" class=\"data row1 col14\" >3</td>\n",
       "            </tr>\n",
       "            <tr>\n",
       "                        <th id=\"T_fab2f8f4_91ba_11e9_a6dc_c5f7e71c3d66level0_row2\" class=\"row_heading level0 row2\" >Total</th>\n",
       "                        <td id=\"T_fab2f8f4_91ba_11e9_a6dc_c5f7e71c3d66row2_col0\" class=\"data row2 col0\" >0</td>\n",
       "                        <td id=\"T_fab2f8f4_91ba_11e9_a6dc_c5f7e71c3d66row2_col1\" class=\"data row2 col1\" >9.5</td>\n",
       "                        <td id=\"T_fab2f8f4_91ba_11e9_a6dc_c5f7e71c3d66row2_col2\" class=\"data row2 col2\" >9</td>\n",
       "                        <td id=\"T_fab2f8f4_91ba_11e9_a6dc_c5f7e71c3d66row2_col3\" class=\"data row2 col3\" >9.5</td>\n",
       "                        <td id=\"T_fab2f8f4_91ba_11e9_a6dc_c5f7e71c3d66row2_col4\" class=\"data row2 col4\" >9.5</td>\n",
       "                        <td id=\"T_fab2f8f4_91ba_11e9_a6dc_c5f7e71c3d66row2_col5\" class=\"data row2 col5\" >8.5</td>\n",
       "                        <td id=\"T_fab2f8f4_91ba_11e9_a6dc_c5f7e71c3d66row2_col6\" class=\"data row2 col6\" >0</td>\n",
       "                        <td id=\"T_fab2f8f4_91ba_11e9_a6dc_c5f7e71c3d66row2_col7\" class=\"data row2 col7\" >0</td>\n",
       "                        <td id=\"T_fab2f8f4_91ba_11e9_a6dc_c5f7e71c3d66row2_col8\" class=\"data row2 col8\" >9</td>\n",
       "                        <td id=\"T_fab2f8f4_91ba_11e9_a6dc_c5f7e71c3d66row2_col9\" class=\"data row2 col9\" >8</td>\n",
       "                        <td id=\"T_fab2f8f4_91ba_11e9_a6dc_c5f7e71c3d66row2_col10\" class=\"data row2 col10\" >0</td>\n",
       "                        <td id=\"T_fab2f8f4_91ba_11e9_a6dc_c5f7e71c3d66row2_col11\" class=\"data row2 col11\" >0</td>\n",
       "                        <td id=\"T_fab2f8f4_91ba_11e9_a6dc_c5f7e71c3d66row2_col12\" class=\"data row2 col12\" >0</td>\n",
       "                        <td id=\"T_fab2f8f4_91ba_11e9_a6dc_c5f7e71c3d66row2_col13\" class=\"data row2 col13\" >0</td>\n",
       "                        <td id=\"T_fab2f8f4_91ba_11e9_a6dc_c5f7e71c3d66row2_col14\" class=\"data row2 col14\" >nan</td>\n",
       "            </tr>\n",
       "    </tbody></table>"
      ],
      "text/plain": [
       "<IPython.core.display.HTML object>"
      ]
     },
     "metadata": {},
     "output_type": "display_data"
    },
    {
     "name": "stdout",
     "output_type": "stream",
     "text": [
      "==================================================================================\n"
     ]
    }
   ],
   "source": [
    "# Create Time grid\n",
    "\n",
    "df_rowsum = pd.concat([df, sum_by_leave_category(df)], axis=1)\n",
    "df_rowsum.rename(columns={0:'Total'})\n",
    "df_rowsum2 = df_rowsum.rename(columns={0:'Total'})\n",
    "\n",
    "df_colsum = df_rowsum2.append(sum_by_days(df),ignore_index=True)\n",
    "df_colsum.rename(index=row_names, inplace=True)\n",
    "\n",
    "total_leave = sum_by_leave_category(df).sum()\n",
    "total_days = sum_by_days(df).sum()\n",
    "remaining_hrs = 80.0 - total_days\n",
    "\n",
    "print(\"\\n\")\n",
    "print(f\"total by leave category: {total_leave}\")\n",
    "print(f\"total by day category:   {total_days}\")\n",
    "print(f\"remaining to work:       {remaining_hrs}\")\n",
    "print(\"==================================================================================\")\n",
    "essential = df_colsum.loc[(df_colsum!=0).any(1)]\n",
    "from IPython.display import display, HTML\n",
    "display( HTML( essential.style.render() ) )\n",
    "# essential\n",
    "print(\"==================================================================================\")"
   ]
  },
  {
   "cell_type": "code",
   "execution_count": 5,
   "metadata": {},
   "outputs": [],
   "source": [
    "# from IPython.display import display, HTML\n",
    "# display( HTML( essential.style.render() ) )"
   ]
  },
  {
   "cell_type": "code",
   "execution_count": 6,
   "metadata": {},
   "outputs": [],
   "source": [
    "# df_colsum = df_rowsum2.append(sum_by_days(df),ignore_index=True)\n",
    "# df_colsum.rename(index=row_names, inplace=True)\n",
    "# df_colsum"
   ]
  },
  {
   "cell_type": "code",
   "execution_count": 7,
   "metadata": {},
   "outputs": [],
   "source": [
    "# sum total hour by leave category\n",
    "# sum_by_leave_category(df)"
   ]
  },
  {
   "cell_type": "code",
   "execution_count": 8,
   "metadata": {},
   "outputs": [],
   "source": [
    "# sum by days\n",
    "# sum_by_days(df)"
   ]
  },
  {
   "cell_type": "code",
   "execution_count": 9,
   "metadata": {},
   "outputs": [],
   "source": [
    "# total_leave = sum_by_leave_category(df).sum()\n",
    "# total_days = sum_by_days(df).sum()\n",
    "\n",
    "# if total_leave != total_days:\n",
    "#     print(f\"ERROR: Totals to not match: {total_days} != {total_leave}\")\n",
    "# else:\n",
    "#     print(f\"total by leave category: {total_leave}\")\n",
    "#     print(f\"total by day category:   {total_days}\")"
   ]
  },
  {
   "cell_type": "code",
   "execution_count": null,
   "metadata": {},
   "outputs": [],
   "source": []
  }
 ],
 "metadata": {
  "kernelspec": {
   "display_name": "Python 3",
   "language": "python",
   "name": "python3"
  },
  "language_info": {
   "codemirror_mode": {
    "name": "ipython",
    "version": 3
   },
   "file_extension": ".py",
   "mimetype": "text/x-python",
   "name": "python",
   "nbconvert_exporter": "python",
   "pygments_lexer": "ipython3",
   "version": "3.7.3"
  }
 },
 "nbformat": 4,
 "nbformat_minor": 2
}
