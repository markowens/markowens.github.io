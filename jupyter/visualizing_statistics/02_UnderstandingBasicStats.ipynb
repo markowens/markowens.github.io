{
 "cells": [
  {
   "cell_type": "code",
   "execution_count": 1,
   "metadata": {
    "collapsed": true
   },
   "outputs": [],
   "source": [
    "import pandas as pd\n",
    "import matplotlib\n",
    "import matplotlib.pyplot as plt\n",
    "import numpy as np\n",
    "from scipy import stats"
   ]
  },
  {
   "cell_type": "code",
   "execution_count": 2,
   "metadata": {
    "collapsed": true
   },
   "outputs": [],
   "source": [
    "import warnings\n",
    "warnings.filterwarnings('ignore')"
   ]
  },
  {
   "cell_type": "markdown",
   "metadata": {},
   "source": [
    "#### Data source:\n",
    "https://www.kaggle.com/binovi/wholesale-customers-data-set"
   ]
  },
  {
   "cell_type": "code",
   "execution_count": 3,
   "metadata": {
    "collapsed": true
   },
   "outputs": [],
   "source": [
    "wholesale_data = pd.read_csv('datasets/Wholesale_customers.csv',\n",
    "                             sep=r'\\s*,\\s*', \n",
    "                             engine='python')"
   ]
  },
  {
   "cell_type": "code",
   "execution_count": 4,
   "metadata": {},
   "outputs": [
    {
     "data": {
      "text/plain": [
       "440"
      ]
     },
     "execution_count": 4,
     "metadata": {},
     "output_type": "execute_result"
    }
   ],
   "source": [
    "len(wholesale_data)"
   ]
  },
  {
   "cell_type": "markdown",
   "metadata": {},
   "source": [
    "The data set refers to clients of a wholesale distributor. It includes the annual spending in monetary units (m.u.) on diverse product categories\n",
    "\t\n",
    "    Attribute Information:\n",
    "\n",
    "1) FRESH: annual spending (m.u.) on fresh products (Continuous);\n",
    "2) MILK: annual spending (m.u.) on milk products (Continuous);\n",
    "3) GROCERY: annual spending (m.u.)on grocery products (Continuous);\n",
    "4) FROZEN: annual spending (m.u.)on frozen products (Continuous)\n",
    "5) DETERGENTS_PAPER: annual spending (m.u.) on detergents and paper products (Continuous)\n",
    "6) DELICATESSEN: annual spending (m.u.)on and delicatessen products (Continuous);\n",
    "7) CHANNEL: customersâ€™ Channel - Horeca (Hotel/Restaurant/CafÃ©) or Retail channel (Nominal)\n",
    "8) REGION: customersâ€™ Region â€“ Lisnon, Oporto or Other (Nominal) \n",
    "\n",
    "Delicatessens offer a variety of beverages, such as pre-packaged soft drinks, coffee, tea and milk. Potato chips and similar products, newspapers and small items such as candy and mints are also usually available."
   ]
  },
  {
   "cell_type": "code",
   "execution_count": 5,
   "metadata": {},
   "outputs": [
    {
     "data": {
      "text/html": [
       "<div>\n",
       "<style scoped>\n",
       "    .dataframe tbody tr th:only-of-type {\n",
       "        vertical-align: middle;\n",
       "    }\n",
       "\n",
       "    .dataframe tbody tr th {\n",
       "        vertical-align: top;\n",
       "    }\n",
       "\n",
       "    .dataframe thead th {\n",
       "        text-align: right;\n",
       "    }\n",
       "</style>\n",
       "<table border=\"1\" class=\"dataframe\">\n",
       "  <thead>\n",
       "    <tr style=\"text-align: right;\">\n",
       "      <th></th>\n",
       "      <th>Channel</th>\n",
       "      <th>Region</th>\n",
       "      <th>Fresh</th>\n",
       "      <th>Milk</th>\n",
       "      <th>Grocery</th>\n",
       "      <th>Frozen</th>\n",
       "      <th>Detergents_Paper</th>\n",
       "      <th>Delicassen</th>\n",
       "    </tr>\n",
       "  </thead>\n",
       "  <tbody>\n",
       "    <tr>\n",
       "      <th>0</th>\n",
       "      <td>2</td>\n",
       "      <td>3</td>\n",
       "      <td>12669</td>\n",
       "      <td>9656</td>\n",
       "      <td>7561</td>\n",
       "      <td>214</td>\n",
       "      <td>2674</td>\n",
       "      <td>1338</td>\n",
       "    </tr>\n",
       "    <tr>\n",
       "      <th>1</th>\n",
       "      <td>2</td>\n",
       "      <td>3</td>\n",
       "      <td>7057</td>\n",
       "      <td>9810</td>\n",
       "      <td>9568</td>\n",
       "      <td>1762</td>\n",
       "      <td>3293</td>\n",
       "      <td>1776</td>\n",
       "    </tr>\n",
       "    <tr>\n",
       "      <th>2</th>\n",
       "      <td>2</td>\n",
       "      <td>3</td>\n",
       "      <td>6353</td>\n",
       "      <td>8808</td>\n",
       "      <td>7684</td>\n",
       "      <td>2405</td>\n",
       "      <td>3516</td>\n",
       "      <td>7844</td>\n",
       "    </tr>\n",
       "    <tr>\n",
       "      <th>3</th>\n",
       "      <td>1</td>\n",
       "      <td>3</td>\n",
       "      <td>13265</td>\n",
       "      <td>1196</td>\n",
       "      <td>4221</td>\n",
       "      <td>6404</td>\n",
       "      <td>507</td>\n",
       "      <td>1788</td>\n",
       "    </tr>\n",
       "    <tr>\n",
       "      <th>4</th>\n",
       "      <td>2</td>\n",
       "      <td>3</td>\n",
       "      <td>22615</td>\n",
       "      <td>5410</td>\n",
       "      <td>7198</td>\n",
       "      <td>3915</td>\n",
       "      <td>1777</td>\n",
       "      <td>5185</td>\n",
       "    </tr>\n",
       "  </tbody>\n",
       "</table>\n",
       "</div>"
      ],
      "text/plain": [
       "   Channel  Region  Fresh  Milk  Grocery  Frozen  Detergents_Paper  Delicassen\n",
       "0        2       3  12669  9656     7561     214              2674        1338\n",
       "1        2       3   7057  9810     9568    1762              3293        1776\n",
       "2        2       3   6353  8808     7684    2405              3516        7844\n",
       "3        1       3  13265  1196     4221    6404               507        1788\n",
       "4        2       3  22615  5410     7198    3915              1777        5185"
      ]
     },
     "execution_count": 5,
     "metadata": {},
     "output_type": "execute_result"
    }
   ],
   "source": [
    "wholesale_data.head()"
   ]
  },
  {
   "cell_type": "markdown",
   "metadata": {},
   "source": [
    "How do we find the maximum or minimum amount spent on a particular item?"
   ]
  },
  {
   "cell_type": "code",
   "execution_count": 6,
   "metadata": {
    "scrolled": true
   },
   "outputs": [
    {
     "data": {
      "text/plain": [
       "92780"
      ]
     },
     "execution_count": 6,
     "metadata": {},
     "output_type": "execute_result"
    }
   ],
   "source": [
    "max(wholesale_data.Grocery)"
   ]
  },
  {
   "cell_type": "code",
   "execution_count": 7,
   "metadata": {},
   "outputs": [
    {
     "data": {
      "text/plain": [
       "3"
      ]
     },
     "execution_count": 7,
     "metadata": {},
     "output_type": "execute_result"
    }
   ],
   "source": [
    "min(wholesale_data.Grocery)"
   ]
  },
  {
   "cell_type": "markdown",
   "metadata": {},
   "source": [
    "What is the maximum amount spent in this dataset? On which item was it spent?\n",
    "\n",
    "We will create a dictionary with max for each item stored for every category of items, and then appy the max function on it. We can calculate the max as either the max spend by one customer, or max of the sum all purchases by all clients."
   ]
  },
  {
   "cell_type": "code",
   "execution_count": 8,
   "metadata": {},
   "outputs": [
    {
     "name": "stdout",
     "output_type": "stream",
     "text": [
      "['Channel', 'Region', 'Fresh', 'Milk', 'Grocery', 'Frozen', 'Detergents_Paper', 'Delicassen']\n"
     ]
    }
   ],
   "source": [
    "column_names = list(wholesale_data)\n",
    "print(column_names)"
   ]
  },
  {
   "cell_type": "code",
   "execution_count": 9,
   "metadata": {
    "collapsed": true
   },
   "outputs": [],
   "source": [
    "max_dict={column_names[2]:max(wholesale_data.Fresh),\n",
    "          column_names[3]:max(wholesale_data.Milk),\n",
    "          column_names[4]:max(wholesale_data.Grocery),\n",
    "          column_names[5]:max(wholesale_data.Frozen),\n",
    "          column_names[6]:max(wholesale_data.Detergents_Paper),\n",
    "          column_names[7]:max(wholesale_data.Delicassen)}"
   ]
  },
  {
   "cell_type": "code",
   "execution_count": 10,
   "metadata": {},
   "outputs": [
    {
     "data": {
      "text/plain": [
       "{'Delicassen': 47943,\n",
       " 'Detergents_Paper': 40827,\n",
       " 'Fresh': 112151,\n",
       " 'Frozen': 60869,\n",
       " 'Grocery': 92780,\n",
       " 'Milk': 73498}"
      ]
     },
     "execution_count": 10,
     "metadata": {},
     "output_type": "execute_result"
    }
   ],
   "source": [
    "max_dict"
   ]
  },
  {
   "cell_type": "code",
   "execution_count": 11,
   "metadata": {},
   "outputs": [
    {
     "data": {
      "text/plain": [
       "'Fresh'"
      ]
     },
     "execution_count": 11,
     "metadata": {},
     "output_type": "execute_result"
    }
   ],
   "source": [
    "max(max_dict, key=max_dict.get)"
   ]
  },
  {
   "cell_type": "markdown",
   "metadata": {},
   "source": [
    "This is the max spend by a single client"
   ]
  },
  {
   "cell_type": "code",
   "execution_count": 12,
   "metadata": {
    "scrolled": true
   },
   "outputs": [
    {
     "data": {
      "image/png": "[encoded data removed]",
      "text/plain": [
       "<matplotlib.figure.Figure at 0x1129bf400>"
      ]
     },
     "metadata": {},
     "output_type": "display_data"
    }
   ],
   "source": [
    "plt.bar(range(len(max_dict)), \n",
    "        list(max_dict.values()), \n",
    "        align='center')\n",
    "\n",
    "plt.xticks(range(len(max_dict)), \n",
    "           list(max_dict.keys()))\n",
    "\n",
    "plt.xlabel('Products')\n",
    "plt.ylabel('Max spend by clients')\n",
    "\n",
    "plt.show()"
   ]
  },
  {
   "cell_type": "code",
   "execution_count": 13,
   "metadata": {},
   "outputs": [
    {
     "data": {
      "text/plain": [
       "{'Delicassen': 670943,\n",
       " 'Detergents_Paper': 1267857,\n",
       " 'Fresh': 5280131,\n",
       " 'Frozen': 1351650,\n",
       " 'Grocery': 3498562,\n",
       " 'Milk': 2550357}"
      ]
     },
     "execution_count": 13,
     "metadata": {},
     "output_type": "execute_result"
    }
   ],
   "source": [
    "sum_dict={column_names[2]:sum(wholesale_data.Fresh),\n",
    "          column_names[3]:sum(wholesale_data.Milk),\n",
    "          column_names[4]:sum(wholesale_data.Grocery),\n",
    "          column_names[5]:sum(wholesale_data.Frozen),\n",
    "          column_names[6]:sum(wholesale_data.Detergents_Paper),\n",
    "          column_names[7]:sum(wholesale_data.Delicassen)}\n",
    "\n",
    "sum_dict"
   ]
  },
  {
   "cell_type": "code",
   "execution_count": 14,
   "metadata": {},
   "outputs": [
    {
     "data": {
      "text/plain": [
       "'Fresh'"
      ]
     },
     "execution_count": 14,
     "metadata": {},
     "output_type": "execute_result"
    }
   ],
   "source": [
    "max(sum_dict, key = sum_dict.get)"
   ]
  },
  {
   "cell_type": "markdown",
   "metadata": {},
   "source": [
    "This is the max spend amongst all clients put together.\n",
    "\n",
    "Expenditure on fresh products seems to be the highest in both cases."
   ]
  },
  {
   "cell_type": "code",
   "execution_count": 15,
   "metadata": {},
   "outputs": [
    {
     "data": {
      "image/png": "[encoded data removed]",
      "text/plain": [
       "<matplotlib.figure.Figure at 0x11299eb70>"
      ]
     },
     "metadata": {},
     "output_type": "display_data"
    }
   ],
   "source": [
    "plt.bar(range(len(sum_dict)), \n",
    "        list(sum_dict.values()), \n",
    "        align='center')\n",
    "\n",
    "plt.xticks(range(len(sum_dict)), \n",
    "           list(sum_dict.keys()))\n",
    "\n",
    "plt.xlabel('products')\n",
    "plt.ylabel('Total spend by clients')\n",
    "\n",
    "plt.show()"
   ]
  },
  {
   "cell_type": "markdown",
   "metadata": {},
   "source": [
    "### Average"
   ]
  },
  {
   "cell_type": "code",
   "execution_count": 16,
   "metadata": {},
   "outputs": [
    {
     "data": {
      "image/png": "[encoded data removed]",
      "text/plain": [
       "<matplotlib.figure.Figure at 0x11299eb38>"
      ]
     },
     "metadata": {},
     "output_type": "display_data"
    }
   ],
   "source": [
    "plt.scatter(wholesale_data.index,\n",
    "            wholesale_data.Grocery)\n",
    "\n",
    "plt.xlabel('clients by index')\n",
    "plt.ylabel('spend on grocery')\n",
    "\n",
    "plt.show()"
   ]
  },
  {
   "cell_type": "markdown",
   "metadata": {},
   "source": [
    "This is how the expenditure on Grocery varies across the various clients of our wholesale dealer. There are many clients who spend minimally everywhere, indicated by the cluster of points near zero. As rate increases, the density of customers decreases. There are very few clients spending beyond 50K a year.\n",
    "\n",
    "On an average, how much do clients spend on the various food items?"
   ]
  },
  {
   "cell_type": "code",
   "execution_count": 17,
   "metadata": {},
   "outputs": [
    {
     "data": {
      "text/plain": [
       "7951.277272727273"
      ]
     },
     "execution_count": 17,
     "metadata": {},
     "output_type": "execute_result"
    }
   ],
   "source": [
    "av = sum(wholesale_data.Grocery)/len(wholesale_data.Grocery)\n",
    "\n",
    "av"
   ]
  },
  {
   "cell_type": "code",
   "execution_count": 18,
   "metadata": {},
   "outputs": [
    {
     "data": {
      "text/plain": [
       "662.6064393939395"
      ]
     },
     "execution_count": 18,
     "metadata": {},
     "output_type": "execute_result"
    }
   ],
   "source": [
    "monthly = av/12\n",
    "\n",
    "monthly"
   ]
  },
  {
   "cell_type": "code",
   "execution_count": 19,
   "metadata": {},
   "outputs": [
    {
     "data": {
      "image/png": "[encoded data removed]",
      "text/plain": [
       "<matplotlib.figure.Figure at 0x114b4fd68>"
      ]
     },
     "metadata": {},
     "output_type": "display_data"
    }
   ],
   "source": [
    "fig, ax = plt.subplots(figsize=(12, 6))\n",
    "\n",
    "plt.scatter(wholesale_data.index,\n",
    "            wholesale_data.Grocery)\n",
    "\n",
    "ax.axhline(y=av, label=\"mean\",color='green')\n",
    "\n",
    "plt.xlabel('clients by index')\n",
    "plt.ylabel('spend on grocery')\n",
    "\n",
    "ax.legend()\n",
    "\n",
    "plt.show()"
   ]
  },
  {
   "cell_type": "markdown",
   "metadata": {},
   "source": [
    "### Measures of central tendency"
   ]
  },
  {
   "cell_type": "code",
   "execution_count": 20,
   "metadata": {},
   "outputs": [
    {
     "name": "stdout",
     "output_type": "stream",
     "text": [
      "Mean: 7951.277272727273\n"
     ]
    }
   ],
   "source": [
    "print('Mean:', np.mean(wholesale_data.Grocery))"
   ]
  },
  {
   "cell_type": "code",
   "execution_count": 21,
   "metadata": {},
   "outputs": [
    {
     "data": {
      "text/plain": [
       "4755.5"
      ]
     },
     "execution_count": 21,
     "metadata": {},
     "output_type": "execute_result"
    }
   ],
   "source": [
    "np.median(wholesale_data.Grocery)"
   ]
  },
  {
   "cell_type": "markdown",
   "metadata": {},
   "source": [
    "Lets try to visually understand what these points indicate"
   ]
  },
  {
   "cell_type": "code",
   "execution_count": 22,
   "metadata": {
    "collapsed": true
   },
   "outputs": [],
   "source": [
    "minvalue=min(wholesale_data.Grocery)\n",
    "maxvalue=max(wholesale_data.Grocery)\n",
    "meanvalue=np.mean(wholesale_data.Grocery)\n",
    "medianvalue=np.median(wholesale_data.Grocery)\n",
    "\n",
    "points=[minvalue, maxvalue, meanvalue, medianvalue]\n",
    "names=[\"min\",\"max\",\"mean\",\"mid\"]"
   ]
  },
  {
   "cell_type": "code",
   "execution_count": 23,
   "metadata": {},
   "outputs": [
    {
     "data": {
      "image/png": "[encoded data removed]",
      "text/plain": [
       "<matplotlib.figure.Figure at 0x1129bf048>"
      ]
     },
     "metadata": {},
     "output_type": "display_data"
    }
   ],
   "source": [
    "plt.scatter(names,\n",
    "            points)\n",
    "\n",
    "plt.xlabel('statistical parameters')\n",
    "plt.ylabel('values')\n",
    "\n",
    "plt.show()"
   ]
  },
  {
   "cell_type": "code",
   "execution_count": 24,
   "metadata": {},
   "outputs": [
    {
     "data": {
      "image/png": "[encoded data removed]",
      "text/plain": [
       "<matplotlib.figure.Figure at 0x114e8d5c0>"
      ]
     },
     "metadata": {},
     "output_type": "display_data"
    }
   ],
   "source": [
    "fig, ax = plt.subplots(figsize=(12, 6))\n",
    "\n",
    "plt.scatter(wholesale_data.index,\n",
    "            wholesale_data.Grocery,\n",
    "            color=\"deeppink\")\n",
    "\n",
    "ax.axhline(y=minvalue, label=\"min\",color='blue')\n",
    "ax.axhline(y=maxvalue, label=\"max\",color='cyan')\n",
    "ax.axhline(y=meanvalue, label=\"mean\",color='red')\n",
    "ax.axhline(y=medianvalue, label=\"mid\",color='green')\n",
    "\n",
    "plt.xlabel('clients by index')\n",
    "plt.ylabel('spend on grocery')\n",
    "ax.legend()\n",
    "plt.show()"
   ]
  },
  {
   "cell_type": "markdown",
   "metadata": {},
   "source": [
    "The above graph shows how the min, max, average and median values vary for the Grocery distribution. We see that the median/mid value, is clearly nowhere close to the mean. And in our case, the median lies close to the bottom of the graph. This is because our graph is densely populated closer to the lower end, meaning there are more data points there."
   ]
  },
  {
   "cell_type": "raw",
   "metadata": {},
   "source": []
  },
  {
   "cell_type": "markdown",
   "metadata": {},
   "source": [
    "Let us understand the median in another context"
   ]
  },
  {
   "cell_type": "code",
   "execution_count": 25,
   "metadata": {},
   "outputs": [
    {
     "data": {
      "text/plain": [
       "5.0"
      ]
     },
     "execution_count": 25,
     "metadata": {},
     "output_type": "execute_result"
    }
   ],
   "source": [
    "y = [1,3,5,7,11]\n",
    "\n",
    "np.median(y)"
   ]
  },
  {
   "cell_type": "code",
   "execution_count": 26,
   "metadata": {},
   "outputs": [
    {
     "data": {
      "image/png": "[encoded data removed]",
      "text/plain": [
       "<matplotlib.figure.Figure at 0x114b68128>"
      ]
     },
     "metadata": {},
     "output_type": "display_data"
    }
   ],
   "source": [
    "plt.plot(y, len(y) * [1], \"x\")\n",
    "plt.axvline(x = np.median(y))\n",
    "\n",
    "plt.xlabel('Numbers')\n",
    "plt.show()"
   ]
  },
  {
   "cell_type": "markdown",
   "metadata": {},
   "source": [
    "Median corresponds to a data point"
   ]
  },
  {
   "cell_type": "code",
   "execution_count": 27,
   "metadata": {},
   "outputs": [
    {
     "data": {
      "text/plain": [
       "9.0"
      ]
     },
     "execution_count": 27,
     "metadata": {},
     "output_type": "execute_result"
    }
   ],
   "source": [
    "y = [1,3,5,7,11,13,17,19]\n",
    "\n",
    "np.median(y)"
   ]
  },
  {
   "cell_type": "code",
   "execution_count": 28,
   "metadata": {
    "scrolled": false
   },
   "outputs": [
    {
     "data": {
      "image/png": "[encoded data removed]",
      "text/plain": [
       "<matplotlib.figure.Figure at 0x1150f5518>"
      ]
     },
     "metadata": {},
     "output_type": "display_data"
    }
   ],
   "source": [
    "plt.plot(y, len(y) * [1], \"x\")\n",
    "plt.axvline(x = np.median(y))\n",
    "\n",
    "plt.xlabel('Numbers')\n",
    "plt.show()"
   ]
  },
  {
   "cell_type": "markdown",
   "metadata": {},
   "source": [
    "Median does not correspond to a data point"
   ]
  },
  {
   "cell_type": "raw",
   "metadata": {},
   "source": []
  },
  {
   "cell_type": "markdown",
   "metadata": {},
   "source": [
    "#### Mode\n",
    "Gives the element that is repeated most times in the distribution\n",
    "the count parameter tells us how many times"
   ]
  },
  {
   "cell_type": "code",
   "execution_count": 29,
   "metadata": {},
   "outputs": [
    {
     "data": {
      "text/plain": [
       "ModeResult(mode=array(['apple'], dtype='<U8'), count=array([1]))"
      ]
     },
     "execution_count": 29,
     "metadata": {},
     "output_type": "execute_result"
    }
   ],
   "source": [
    "stats.mode([\"apple\",\"ball\",\"cat\",\"dog\",\"elephant\"])"
   ]
  },
  {
   "cell_type": "markdown",
   "metadata": {},
   "source": [
    "As there is no clear mode, the first element is given as the output. Count=1 is an idication of this fact."
   ]
  },
  {
   "cell_type": "code",
   "execution_count": 30,
   "metadata": {},
   "outputs": [
    {
     "data": {
      "text/plain": [
       "ModeResult(mode=array(['cat'], dtype='<U5'), count=array([3]))"
      ]
     },
     "execution_count": 30,
     "metadata": {},
     "output_type": "execute_result"
    }
   ],
   "source": [
    "stats.mode([\"apple\",\"ball\",\"ball\",\"cat\",\"cat\",\"cat\"])"
   ]
  },
  {
   "cell_type": "code",
   "execution_count": 31,
   "metadata": {},
   "outputs": [
    {
     "data": {
      "text/plain": [
       "ModeResult(mode=array(['ball'], dtype='<U5'), count=array([3]))"
      ]
     },
     "execution_count": 31,
     "metadata": {},
     "output_type": "execute_result"
    }
   ],
   "source": [
    "stats.mode([\"apple\",\"ball\",\"ball\",\"ball\",\"cat\",\"cat\",\"cat\"])"
   ]
  },
  {
   "cell_type": "markdown",
   "metadata": {},
   "source": [
    "When there are multiple elements repeated equal number of times, the first element that is repeated is taken as the mode"
   ]
  },
  {
   "cell_type": "code",
   "execution_count": null,
   "metadata": {
    "collapsed": true
   },
   "outputs": [],
   "source": []
  },
  {
   "cell_type": "markdown",
   "metadata": {},
   "source": [
    "#### Range - A measure of variability\n",
    "ptp stands for peak to peak\n",
    "gives the range of values (maximum - minimum) along an axis."
   ]
  },
  {
   "cell_type": "code",
   "execution_count": 32,
   "metadata": {},
   "outputs": [
    {
     "data": {
      "text/plain": [
       "92777"
      ]
     },
     "execution_count": 32,
     "metadata": {},
     "output_type": "execute_result"
    }
   ],
   "source": [
    "np.ptp(wholesale_data.Grocery)"
   ]
  },
  {
   "cell_type": "markdown",
   "metadata": {},
   "source": [
    "This shows the variation in the amount spent by different clients annually, in monetary units. The huge variation can be an indication of the factor that customers vary from small, individual families to wholesale units/distributors."
   ]
  },
  {
   "cell_type": "markdown",
   "metadata": {},
   "source": [
    "#### Percentile"
   ]
  },
  {
   "cell_type": "code",
   "execution_count": 33,
   "metadata": {},
   "outputs": [
    {
     "data": {
      "text/plain": [
       "array([ 1381.9,  4755.5, 18910.1])"
      ]
     },
     "execution_count": 33,
     "metadata": {},
     "output_type": "execute_result"
    }
   ],
   "source": [
    "np.percentile(wholesale_data.Grocery, \n",
    "              [10 ,50, 90])"
   ]
  },
  {
   "cell_type": "markdown",
   "metadata": {},
   "source": [
    "#### Interquartile range"
   ]
  },
  {
   "cell_type": "code",
   "execution_count": 34,
   "metadata": {},
   "outputs": [
    {
     "data": {
      "text/plain": [
       "8502.75"
      ]
     },
     "execution_count": 34,
     "metadata": {},
     "output_type": "execute_result"
    }
   ],
   "source": [
    "q75, q25 = np.percentile(wholesale_data.Grocery, \n",
    "                         [75 ,25])\n",
    "\n",
    "q75 - q25"
   ]
  },
  {
   "cell_type": "code",
   "execution_count": 35,
   "metadata": {},
   "outputs": [
    {
     "data": {
      "image/png": "[encoded data removed]",
      "text/plain": [
       "<matplotlib.figure.Figure at 0x1151b66d8>"
      ]
     },
     "metadata": {},
     "output_type": "display_data"
    }
   ],
   "source": [
    "fig, ax = plt.subplots(figsize=(12, 6))\n",
    "\n",
    "plt.scatter(wholesale_data.index,\n",
    "            wholesale_data.Grocery,\n",
    "            color=\"deeppink\")\n",
    "\n",
    "ax.axhline(y=q25, label=\"Q1\",color='blue')\n",
    "ax.axhline(y=q75, label=\"Q3\",color='cyan')\n",
    "ax.axhline(y=meanvalue, label=\"mean\",color='red')\n",
    "ax.axhline(y=medianvalue, label=\"mid\",color='green')\n",
    "\n",
    "plt.xlabel('clients by index')\n",
    "plt.ylabel('spend on grocery')\n",
    "ax.legend()\n",
    "plt.show()"
   ]
  },
  {
   "cell_type": "code",
   "execution_count": 36,
   "metadata": {},
   "outputs": [
    {
     "data": {
      "image/png": "[encoded data removed]",
      "text/plain": [
       "<matplotlib.figure.Figure at 0x114ea2128>"
      ]
     },
     "metadata": {},
     "output_type": "display_data"
    }
   ],
   "source": [
    "fig, ax = plt.subplots(figsize=(12, 6))\n",
    "\n",
    "ax.boxplot(wholesale_data.Grocery)\n",
    "\n",
    "plt.show()"
   ]
  },
  {
   "cell_type": "markdown",
   "metadata": {},
   "source": [
    "#### std deviation\n",
    "Shows how much the age of adults in this distribution varies from the mean"
   ]
  },
  {
   "cell_type": "code",
   "execution_count": 37,
   "metadata": {},
   "outputs": [
    {
     "name": "stdout",
     "output_type": "stream",
     "text": [
      "9492.35763751948\n"
     ]
    }
   ],
   "source": [
    "print(np.std(wholesale_data.Grocery))"
   ]
  },
  {
   "cell_type": "code",
   "execution_count": 38,
   "metadata": {},
   "outputs": [
    {
     "name": "stdout",
     "output_type": "stream",
     "text": [
      "7951.277272727273\n",
      "92780\n",
      "3\n"
     ]
    }
   ],
   "source": [
    "print(np.mean(wholesale_data.Grocery))\n",
    "print(np.max(wholesale_data.Grocery))\n",
    "print(np.min(wholesale_data.Grocery))"
   ]
  },
  {
   "cell_type": "markdown",
   "metadata": {},
   "source": [
    "We will now see what this std deviation translates to"
   ]
  },
  {
   "cell_type": "code",
   "execution_count": 39,
   "metadata": {
    "collapsed": true
   },
   "outputs": [],
   "source": [
    "meanplusstddev = np.mean(wholesale_data.Grocery) + np.std(wholesale_data.Grocery)\n",
    "meanminusstddev = np.mean(wholesale_data.Grocery) - np.std(wholesale_data.Grocery)"
   ]
  },
  {
   "cell_type": "code",
   "execution_count": 40,
   "metadata": {},
   "outputs": [
    {
     "data": {
      "image/png": "[encoded data removed]",
      "text/plain": [
       "<matplotlib.figure.Figure at 0x1150f5358>"
      ]
     },
     "metadata": {},
     "output_type": "display_data"
    }
   ],
   "source": [
    "fig, ax = plt.subplots(figsize=(12, 6))\n",
    "\n",
    "plt.scatter(wholesale_data.index,\n",
    "            wholesale_data.Grocery,\n",
    "            color=\"deeppink\")\n",
    "\n",
    "ax.axhline(y=meanminusstddev, label=\"mean-stddev\",color='blue')\n",
    "ax.axhline(y=meanplusstddev, label=\"mean+stddev\",color='cyan')\n",
    "ax.axhline(y=meanvalue, label=\"mean\",color='red')\n",
    "\n",
    "plt.xlabel('clients by index')\n",
    "plt.ylabel('spend on grocery')\n",
    "ax.legend()\n",
    "plt.show()"
   ]
  },
  {
   "cell_type": "markdown",
   "metadata": {},
   "source": [
    "A large standard deviation indicates that the data points are spread far from the mean and a small standard deviation indicates that they are clustered closely around the mean.\n",
    "\n",
    "Shows that the standard deviaion in the expenditure for Grocery amongst the customers of the wholesale dealer is very high. This shows that the data is spread out heavily. This could be because the customers of this dealer varies from general small families to maybe of the order of departmental stores. The huge difference between max and min values also indicates the same.\n",
    "\n",
    "Also notice that most of the data points lie within the mean+-std deviation range\n"
   ]
  },
  {
   "cell_type": "markdown",
   "metadata": {},
   "source": [
    "#### variance"
   ]
  },
  {
   "cell_type": "code",
   "execution_count": 41,
   "metadata": {},
   "outputs": [
    {
     "data": {
      "text/plain": [
       "90104853.51857442"
      ]
     },
     "execution_count": 41,
     "metadata": {},
     "output_type": "execute_result"
    }
   ],
   "source": [
    "np.var(wholesale_data.Grocery)"
   ]
  },
  {
   "cell_type": "markdown",
   "metadata": {},
   "source": [
    "Variance measures how far a data set is spread out. The technical definition is “The average of the squared differences from the mean,” but all it really does is to give you a very general idea of the spread of your data. A value of zero means that there is no variability; All the numbers in the data set are the same."
   ]
  },
  {
   "cell_type": "markdown",
   "metadata": {},
   "source": [
    "#### standard error of mean\n",
    "Standard error is the approximate standard deviation of a statistical sample population. \n",
    "Standard error is a statistical term that measures the accuracy with which a sample represents a population. \n",
    "In statistics, a sample mean deviates from the actual mean of a population; this deviation is the standard error."
   ]
  },
  {
   "cell_type": "code",
   "execution_count": 42,
   "metadata": {},
   "outputs": [
    {
     "data": {
      "text/plain": [
       "453.04551184777074"
      ]
     },
     "execution_count": 42,
     "metadata": {},
     "output_type": "execute_result"
    }
   ],
   "source": [
    "stats.sem(wholesale_data.Grocery)"
   ]
  },
  {
   "cell_type": "code",
   "execution_count": null,
   "metadata": {
    "collapsed": true
   },
   "outputs": [],
   "source": []
  },
  {
   "cell_type": "code",
   "execution_count": null,
   "metadata": {
    "collapsed": true
   },
   "outputs": [],
   "source": []
  },
  {
   "cell_type": "markdown",
   "metadata": {},
   "source": [
    "### Correlation and Covariance"
   ]
  },
  {
   "cell_type": "markdown",
   "metadata": {},
   "source": [
    "Correlation values range between -1 and 1.\n",
    "There are two key components of a correlation value:\n",
    "\n",
    "magnitude – The larger the magnitude (closer to 1 or -1), the stronger the correlation\n",
    "sign – If negative, there is an inverse correlation. If positive, there is a regular correlation."
   ]
  },
  {
   "cell_type": "markdown",
   "metadata": {},
   "source": [
    "Covariance is a measure of how much two random variables vary together. It’s similar to variance, but where variance tells you how a single variable varies, co variance tells you how two variables vary together.\n",
    "\n",
    "\n",
    "The covariance between two variables is positive when they tend to move in the same direction and negative if they tend to move in opposite directions.\n",
    "\n",
    "To see how we arrive at the definition, first think about two variables each with mean zero. That is, each variable could be positive or negative but is on average zero. To summarize whether the two variables move together, we can look at the product: \n",
    "When both variables have the same sign, it's positive;\n",
    "When they have opposite signs, it's negative;\n",
    "When they are both large and have the same sign, you get a big positive number;\n",
    "When they are both large and have opposite signs, you get a big negative number;"
   ]
  },
  {
   "cell_type": "code",
   "execution_count": 43,
   "metadata": {},
   "outputs": [
    {
     "data": {
      "text/plain": [
       "array([[1.        , 0.34588146],\n",
       "       [0.34588146, 1.        ]])"
      ]
     },
     "execution_count": 43,
     "metadata": {},
     "output_type": "execute_result"
    }
   ],
   "source": [
    "np.corrcoef(wholesale_data.Fresh,\n",
    "            wholesale_data.Frozen)"
   ]
  },
  {
   "cell_type": "markdown",
   "metadata": {},
   "source": [
    "The above matrix gives correlation of fresh products with frozen products, fresh products with fresh products, frozen products with fresh products, frozen products with frozen products."
   ]
  },
  {
   "cell_type": "code",
   "execution_count": 44,
   "metadata": {},
   "outputs": [
    {
     "data": {
      "text/plain": [
       "array([[ 1.        , -0.01185387],\n",
       "       [-0.01185387,  1.        ]])"
      ]
     },
     "execution_count": 44,
     "metadata": {},
     "output_type": "execute_result"
    }
   ],
   "source": [
    "np.corrcoef(wholesale_data.Fresh,\n",
    "            wholesale_data.Grocery)"
   ]
  },
  {
   "cell_type": "code",
   "execution_count": 45,
   "metadata": {},
   "outputs": [
    {
     "data": {
      "text/plain": [
       "array([[ 1.        , -0.04019274],\n",
       "       [-0.04019274,  1.        ]])"
      ]
     },
     "execution_count": 45,
     "metadata": {},
     "output_type": "execute_result"
    }
   ],
   "source": [
    "np.corrcoef(wholesale_data.Grocery,\n",
    "            wholesale_data.Frozen)"
   ]
  },
  {
   "cell_type": "markdown",
   "metadata": {},
   "source": [
    "The total expenditure on fresh and frozen products have the most correlation in this dataset; while that between fresh products and groceries has the least connection."
   ]
  },
  {
   "cell_type": "code",
   "execution_count": null,
   "metadata": {
    "collapsed": true
   },
   "outputs": [],
   "source": []
  },
  {
   "cell_type": "code",
   "execution_count": 46,
   "metadata": {},
   "outputs": [
    {
     "data": {
      "text/plain": [
       "array([[1.59954927e+08, 2.12366546e+07],\n",
       "       [2.12366546e+07, 2.35678532e+07]])"
      ]
     },
     "execution_count": 46,
     "metadata": {},
     "output_type": "execute_result"
    }
   ],
   "source": [
    "np.cov(wholesale_data.Fresh,\n",
    "       wholesale_data.Frozen)"
   ]
  },
  {
   "cell_type": "code",
   "execution_count": 47,
   "metadata": {},
   "outputs": [
    {
     "data": {
      "text/plain": [
       "array([[ 1.59954927e+08, -1.42471280e+06],\n",
       "       [-1.42471280e+06,  9.03101038e+07]])"
      ]
     },
     "execution_count": 47,
     "metadata": {},
     "output_type": "execute_result"
    }
   ],
   "source": [
    "np.cov(wholesale_data.Fresh,\n",
    "       wholesale_data.Grocery)"
   ]
  },
  {
   "cell_type": "code",
   "execution_count": 48,
   "metadata": {},
   "outputs": [
    {
     "data": {
      "text/plain": [
       "array([[90310103.75437981, -1854281.91954856],\n",
       "       [-1854281.91954856, 23567853.16618347]])"
      ]
     },
     "execution_count": 48,
     "metadata": {},
     "output_type": "execute_result"
    }
   ],
   "source": [
    "np.cov(wholesale_data.Grocery,\n",
    "       wholesale_data.Frozen)"
   ]
  },
  {
   "cell_type": "markdown",
   "metadata": {},
   "source": [
    "The most variation is clearly in the expenditure of fresh products with a very high covariance with itself, followed by that on frozen products"
   ]
  },
  {
   "cell_type": "code",
   "execution_count": null,
   "metadata": {
    "collapsed": true
   },
   "outputs": [],
   "source": []
  },
  {
   "cell_type": "markdown",
   "metadata": {},
   "source": [
    "### Let's understand correlation. We define an array x.\n",
    "Use 250 random integers between 0 and 500"
   ]
  },
  {
   "cell_type": "code",
   "execution_count": 49,
   "metadata": {
    "collapsed": true
   },
   "outputs": [],
   "source": [
    "np.random.seed(1)\n",
    "\n",
    "x = np.random.randint(0, 500, 250)"
   ]
  },
  {
   "cell_type": "markdown",
   "metadata": {},
   "source": [
    "#### Introduce randomness in the data\n",
    "Defining some random integers to introduce randomness into the data"
   ]
  },
  {
   "cell_type": "code",
   "execution_count": 50,
   "metadata": {
    "collapsed": true
   },
   "outputs": [],
   "source": [
    "variation = np.random.normal(0, 100, 250)"
   ]
  },
  {
   "cell_type": "markdown",
   "metadata": {},
   "source": [
    "#### Positive Correlation with some noise - as y has something added to x, As x increases, so does y"
   ]
  },
  {
   "cell_type": "code",
   "execution_count": 51,
   "metadata": {},
   "outputs": [
    {
     "name": "stdout",
     "output_type": "stream",
     "text": [
      "[[1.         0.81711152]\n",
      " [0.81711152 1.        ]]\n"
     ]
    }
   ],
   "source": [
    "y_poscor = x + variation\n",
    "\n",
    "print(np.corrcoef(x,y_poscor))"
   ]
  },
  {
   "cell_type": "code",
   "execution_count": 52,
   "metadata": {},
   "outputs": [
    {
     "data": {
      "image/png": "[encoded data removed]",
      "text/plain": [
       "<matplotlib.figure.Figure at 0x1150fbac8>"
      ]
     },
     "metadata": {},
     "output_type": "display_data"
    }
   ],
   "source": [
    "plt.scatter(x, y_poscor)\n",
    "\n",
    "plt.show()"
   ]
  },
  {
   "cell_type": "markdown",
   "metadata": {},
   "source": [
    "#### Negative Correlation with some noise - as x is subtracted from y. as x increases,  decreses."
   ]
  },
  {
   "cell_type": "code",
   "execution_count": 53,
   "metadata": {},
   "outputs": [
    {
     "name": "stdout",
     "output_type": "stream",
     "text": [
      "[[ 1.         -0.83521732]\n",
      " [-0.83521732  1.        ]]\n"
     ]
    }
   ],
   "source": [
    "y_negcor = 100 - x + variation\n",
    "\n",
    "print(np.corrcoef(x,y_negcor))"
   ]
  },
  {
   "cell_type": "code",
   "execution_count": 54,
   "metadata": {},
   "outputs": [
    {
     "data": {
      "image/png": "[encoded data removed]",
      "text/plain": [
       "<matplotlib.figure.Figure at 0x114a69ef0>"
      ]
     },
     "metadata": {},
     "output_type": "display_data"
    }
   ],
   "source": [
    "plt.scatter(x, y_negcor)\n",
    "plt.show()"
   ]
  },
  {
   "cell_type": "markdown",
   "metadata": {},
   "source": [
    "#### No/weak correlation - y does not depend on the value of x"
   ]
  },
  {
   "cell_type": "code",
   "execution_count": 55,
   "metadata": {},
   "outputs": [
    {
     "name": "stdout",
     "output_type": "stream",
     "text": [
      "[[ 1.         -0.05062585]\n",
      " [-0.05062585  1.        ]]\n"
     ]
    }
   ],
   "source": [
    "y_nocor = variation\n",
    "\n",
    "print(np.corrcoef(x,y_nocor))"
   ]
  },
  {
   "cell_type": "code",
   "execution_count": 56,
   "metadata": {},
   "outputs": [
    {
     "data": {
      "image/png": "[encoded data removed]",
      "text/plain": [
       "<matplotlib.figure.Figure at 0x114f9f6d8>"
      ]
     },
     "metadata": {},
     "output_type": "display_data"
    }
   ],
   "source": [
    "plt.scatter(x, y_nocor)\n",
    "plt.show()"
   ]
  },
  {
   "cell_type": "code",
   "execution_count": null,
   "metadata": {
    "collapsed": true
   },
   "outputs": [],
   "source": []
  },
  {
   "cell_type": "markdown",
   "metadata": {},
   "source": [
    "#### Standardization"
   ]
  },
  {
   "cell_type": "markdown",
   "metadata": {},
   "source": [
    "Let's say we have a dataset that has the prices for different vegetables and fruits bought by a certain dealer. "
   ]
  },
  {
   "cell_type": "markdown",
   "metadata": {},
   "source": [
    "Data source - https://www.foodcoop.com/produce/"
   ]
  },
  {
   "cell_type": "code",
   "execution_count": 57,
   "metadata": {
    "collapsed": true
   },
   "outputs": [],
   "source": [
    "prices_data = pd.read_csv('datasets/prices.csv',\n",
    "                          sep=r'\\s*,\\s*', \n",
    "                          engine='python')"
   ]
  },
  {
   "cell_type": "code",
   "execution_count": 58,
   "metadata": {},
   "outputs": [
    {
     "data": {
      "text/html": [
       "<div>\n",
       "<style scoped>\n",
       "    .dataframe tbody tr th:only-of-type {\n",
       "        vertical-align: middle;\n",
       "    }\n",
       "\n",
       "    .dataframe tbody tr th {\n",
       "        vertical-align: top;\n",
       "    }\n",
       "\n",
       "    .dataframe thead th {\n",
       "        text-align: right;\n",
       "    }\n",
       "</style>\n",
       "<table border=\"1\" class=\"dataframe\">\n",
       "  <thead>\n",
       "    <tr style=\"text-align: right;\">\n",
       "      <th></th>\n",
       "      <th>PRODUCT</th>\n",
       "      <th>QUANTITY (pound)</th>\n",
       "      <th>RETAIL PRICE(dollars)</th>\n",
       "    </tr>\n",
       "  </thead>\n",
       "  <tbody>\n",
       "    <tr>\n",
       "      <th>0</th>\n",
       "      <td>Tomatoes</td>\n",
       "      <td>10</td>\n",
       "      <td>28.60</td>\n",
       "    </tr>\n",
       "    <tr>\n",
       "      <th>1</th>\n",
       "      <td>Potatoes</td>\n",
       "      <td>8</td>\n",
       "      <td>10.40</td>\n",
       "    </tr>\n",
       "    <tr>\n",
       "      <th>2</th>\n",
       "      <td>Red Leaf Lettuce (organic)</td>\n",
       "      <td>5</td>\n",
       "      <td>17.70</td>\n",
       "    </tr>\n",
       "    <tr>\n",
       "      <th>3</th>\n",
       "      <td>cauliflower</td>\n",
       "      <td>6</td>\n",
       "      <td>15.66</td>\n",
       "    </tr>\n",
       "    <tr>\n",
       "      <th>4</th>\n",
       "      <td>carrots</td>\n",
       "      <td>10</td>\n",
       "      <td>25.90</td>\n",
       "    </tr>\n",
       "    <tr>\n",
       "      <th>5</th>\n",
       "      <td>Iceberg lettuce</td>\n",
       "      <td>3</td>\n",
       "      <td>4.62</td>\n",
       "    </tr>\n",
       "    <tr>\n",
       "      <th>6</th>\n",
       "      <td>oranges</td>\n",
       "      <td>15</td>\n",
       "      <td>30.30</td>\n",
       "    </tr>\n",
       "    <tr>\n",
       "      <th>7</th>\n",
       "      <td>grapes</td>\n",
       "      <td>5</td>\n",
       "      <td>11.80</td>\n",
       "    </tr>\n",
       "    <tr>\n",
       "      <th>8</th>\n",
       "      <td>peppers yellow organic</td>\n",
       "      <td>3</td>\n",
       "      <td>13.65</td>\n",
       "    </tr>\n",
       "    <tr>\n",
       "      <th>9</th>\n",
       "      <td>blackberries</td>\n",
       "      <td>7</td>\n",
       "      <td>29.40</td>\n",
       "    </tr>\n",
       "  </tbody>\n",
       "</table>\n",
       "</div>"
      ],
      "text/plain": [
       "                      PRODUCT  QUANTITY (pound)  RETAIL PRICE(dollars)\n",
       "0                    Tomatoes                10                  28.60\n",
       "1                    Potatoes                 8                  10.40\n",
       "2  Red Leaf Lettuce (organic)                 5                  17.70\n",
       "3                 cauliflower                 6                  15.66\n",
       "4                     carrots                10                  25.90\n",
       "5             Iceberg lettuce                 3                   4.62\n",
       "6                     oranges                15                  30.30\n",
       "7                      grapes                 5                  11.80\n",
       "8      peppers yellow organic                 3                  13.65\n",
       "9                blackberries                 7                  29.40"
      ]
     },
     "execution_count": 58,
     "metadata": {},
     "output_type": "execute_result"
    }
   ],
   "source": [
    "prices_data"
   ]
  },
  {
   "cell_type": "markdown",
   "metadata": {},
   "source": [
    "At first glance, looking at just the prices, we can say that oranges are the costliest. Carrots are costlier than lettuce. But let's hold back a minute and look at the quantities column. The prices metioned are for different weights for different products. So, if we want to compare the cost of these products, it is not fair to compare these directly."
   ]
  },
  {
   "cell_type": "code",
   "execution_count": 59,
   "metadata": {
    "collapsed": true
   },
   "outputs": [],
   "source": [
    "prices_data['ratio'] = prices_data[\"RETAIL PRICE(dollars)\"] / prices_data[\"QUANTITY (pound)\"]"
   ]
  },
  {
   "cell_type": "code",
   "execution_count": 60,
   "metadata": {},
   "outputs": [
    {
     "data": {
      "text/html": [
       "<div>\n",
       "<style scoped>\n",
       "    .dataframe tbody tr th:only-of-type {\n",
       "        vertical-align: middle;\n",
       "    }\n",
       "\n",
       "    .dataframe tbody tr th {\n",
       "        vertical-align: top;\n",
       "    }\n",
       "\n",
       "    .dataframe thead th {\n",
       "        text-align: right;\n",
       "    }\n",
       "</style>\n",
       "<table border=\"1\" class=\"dataframe\">\n",
       "  <thead>\n",
       "    <tr style=\"text-align: right;\">\n",
       "      <th></th>\n",
       "      <th>PRODUCT</th>\n",
       "      <th>QUANTITY (pound)</th>\n",
       "      <th>RETAIL PRICE(dollars)</th>\n",
       "      <th>ratio</th>\n",
       "    </tr>\n",
       "  </thead>\n",
       "  <tbody>\n",
       "    <tr>\n",
       "      <th>0</th>\n",
       "      <td>Tomatoes</td>\n",
       "      <td>10</td>\n",
       "      <td>28.60</td>\n",
       "      <td>2.86</td>\n",
       "    </tr>\n",
       "    <tr>\n",
       "      <th>1</th>\n",
       "      <td>Potatoes</td>\n",
       "      <td>8</td>\n",
       "      <td>10.40</td>\n",
       "      <td>1.30</td>\n",
       "    </tr>\n",
       "    <tr>\n",
       "      <th>2</th>\n",
       "      <td>Red Leaf Lettuce (organic)</td>\n",
       "      <td>5</td>\n",
       "      <td>17.70</td>\n",
       "      <td>3.54</td>\n",
       "    </tr>\n",
       "    <tr>\n",
       "      <th>3</th>\n",
       "      <td>cauliflower</td>\n",
       "      <td>6</td>\n",
       "      <td>15.66</td>\n",
       "      <td>2.61</td>\n",
       "    </tr>\n",
       "    <tr>\n",
       "      <th>4</th>\n",
       "      <td>carrots</td>\n",
       "      <td>10</td>\n",
       "      <td>25.90</td>\n",
       "      <td>2.59</td>\n",
       "    </tr>\n",
       "    <tr>\n",
       "      <th>5</th>\n",
       "      <td>Iceberg lettuce</td>\n",
       "      <td>3</td>\n",
       "      <td>4.62</td>\n",
       "      <td>1.54</td>\n",
       "    </tr>\n",
       "    <tr>\n",
       "      <th>6</th>\n",
       "      <td>oranges</td>\n",
       "      <td>15</td>\n",
       "      <td>30.30</td>\n",
       "      <td>2.02</td>\n",
       "    </tr>\n",
       "    <tr>\n",
       "      <th>7</th>\n",
       "      <td>grapes</td>\n",
       "      <td>5</td>\n",
       "      <td>11.80</td>\n",
       "      <td>2.36</td>\n",
       "    </tr>\n",
       "    <tr>\n",
       "      <th>8</th>\n",
       "      <td>peppers yellow organic</td>\n",
       "      <td>3</td>\n",
       "      <td>13.65</td>\n",
       "      <td>4.55</td>\n",
       "    </tr>\n",
       "    <tr>\n",
       "      <th>9</th>\n",
       "      <td>blackberries</td>\n",
       "      <td>7</td>\n",
       "      <td>29.40</td>\n",
       "      <td>4.20</td>\n",
       "    </tr>\n",
       "  </tbody>\n",
       "</table>\n",
       "</div>"
      ],
      "text/plain": [
       "                      PRODUCT  QUANTITY (pound)  RETAIL PRICE(dollars)  ratio\n",
       "0                    Tomatoes                10                  28.60   2.86\n",
       "1                    Potatoes                 8                  10.40   1.30\n",
       "2  Red Leaf Lettuce (organic)                 5                  17.70   3.54\n",
       "3                 cauliflower                 6                  15.66   2.61\n",
       "4                     carrots                10                  25.90   2.59\n",
       "5             Iceberg lettuce                 3                   4.62   1.54\n",
       "6                     oranges                15                  30.30   2.02\n",
       "7                      grapes                 5                  11.80   2.36\n",
       "8      peppers yellow organic                 3                  13.65   4.55\n",
       "9                blackberries                 7                  29.40   4.20"
      ]
     },
     "execution_count": 60,
     "metadata": {},
     "output_type": "execute_result"
    }
   ],
   "source": [
    "prices_data"
   ]
  },
  {
   "cell_type": "markdown",
   "metadata": {},
   "source": [
    "What we have done is reduced all the prices to cost per pound. In fact, our assumption was not completely correct. Looking at the prices per pound, we can say that organic yellow peppers are the costliest, although carrots are still costlier than lettuce."
   ]
  },
  {
   "cell_type": "code",
   "execution_count": null,
   "metadata": {
    "collapsed": true
   },
   "outputs": [],
   "source": []
  },
  {
   "cell_type": "markdown",
   "metadata": {},
   "source": [
    "What we can do here is 'normalise' the dataframe. We consider our data with context."
   ]
  },
  {
   "cell_type": "markdown",
   "metadata": {},
   "source": [
    "Normalisation can be of different types \n",
    "* normalise by a constant - Normalize a dataset by dividing each data point by a constant, such as the standard deviation of the data.\n",
    "* normalise to [0,1] - Normalize a dataset by dividing each data point by the norm of the dataset.\n",
    "* normalise to any interval - Normalize a dataset to an interval [a, b] where a, b are real numbers.\n",
    "\n"
   ]
  },
  {
   "cell_type": "markdown",
   "metadata": {},
   "source": [
    "Let us try to calculate the z score of each value in the sample, relative to the sample mean and standard deviation., to see if we can understand this more intuitively.\n",
    "\n",
    "A z-score (aka, a standard score) indicates how many standard deviations an element is from the mean. \n"
   ]
  },
  {
   "cell_type": "code",
   "execution_count": 61,
   "metadata": {},
   "outputs": [
    {
     "data": {
      "text/html": [
       "<div>\n",
       "<style scoped>\n",
       "    .dataframe tbody tr th:only-of-type {\n",
       "        vertical-align: middle;\n",
       "    }\n",
       "\n",
       "    .dataframe tbody tr th {\n",
       "        vertical-align: top;\n",
       "    }\n",
       "\n",
       "    .dataframe thead th {\n",
       "        text-align: right;\n",
       "    }\n",
       "</style>\n",
       "<table border=\"1\" class=\"dataframe\">\n",
       "  <thead>\n",
       "    <tr style=\"text-align: right;\">\n",
       "      <th></th>\n",
       "      <th>PRODUCT</th>\n",
       "      <th>QUANTITY (pound)</th>\n",
       "      <th>RETAIL PRICE(dollars)</th>\n",
       "      <th>ratio</th>\n",
       "      <th>zscore</th>\n",
       "    </tr>\n",
       "  </thead>\n",
       "  <tbody>\n",
       "    <tr>\n",
       "      <th>0</th>\n",
       "      <td>Tomatoes</td>\n",
       "      <td>10</td>\n",
       "      <td>28.60</td>\n",
       "      <td>2.86</td>\n",
       "      <td>0.101612</td>\n",
       "    </tr>\n",
       "    <tr>\n",
       "      <th>1</th>\n",
       "      <td>Potatoes</td>\n",
       "      <td>8</td>\n",
       "      <td>10.40</td>\n",
       "      <td>1.30</td>\n",
       "      <td>-1.437369</td>\n",
       "    </tr>\n",
       "    <tr>\n",
       "      <th>2</th>\n",
       "      <td>Red Leaf Lettuce (organic)</td>\n",
       "      <td>5</td>\n",
       "      <td>17.70</td>\n",
       "      <td>3.54</td>\n",
       "      <td>0.772450</td>\n",
       "    </tr>\n",
       "    <tr>\n",
       "      <th>3</th>\n",
       "      <td>cauliflower</td>\n",
       "      <td>6</td>\n",
       "      <td>15.66</td>\n",
       "      <td>2.61</td>\n",
       "      <td>-0.145019</td>\n",
       "    </tr>\n",
       "    <tr>\n",
       "      <th>4</th>\n",
       "      <td>carrots</td>\n",
       "      <td>10</td>\n",
       "      <td>25.90</td>\n",
       "      <td>2.59</td>\n",
       "      <td>-0.164750</td>\n",
       "    </tr>\n",
       "    <tr>\n",
       "      <th>5</th>\n",
       "      <td>Iceberg lettuce</td>\n",
       "      <td>3</td>\n",
       "      <td>4.62</td>\n",
       "      <td>1.54</td>\n",
       "      <td>-1.200603</td>\n",
       "    </tr>\n",
       "    <tr>\n",
       "      <th>6</th>\n",
       "      <td>oranges</td>\n",
       "      <td>15</td>\n",
       "      <td>30.30</td>\n",
       "      <td>2.02</td>\n",
       "      <td>-0.727070</td>\n",
       "    </tr>\n",
       "    <tr>\n",
       "      <th>7</th>\n",
       "      <td>grapes</td>\n",
       "      <td>5</td>\n",
       "      <td>11.80</td>\n",
       "      <td>2.36</td>\n",
       "      <td>-0.391651</td>\n",
       "    </tr>\n",
       "    <tr>\n",
       "      <th>8</th>\n",
       "      <td>peppers yellow organic</td>\n",
       "      <td>3</td>\n",
       "      <td>13.65</td>\n",
       "      <td>4.55</td>\n",
       "      <td>1.768842</td>\n",
       "    </tr>\n",
       "    <tr>\n",
       "      <th>9</th>\n",
       "      <td>blackberries</td>\n",
       "      <td>7</td>\n",
       "      <td>29.40</td>\n",
       "      <td>4.20</td>\n",
       "      <td>1.423558</td>\n",
       "    </tr>\n",
       "  </tbody>\n",
       "</table>\n",
       "</div>"
      ],
      "text/plain": [
       "                      PRODUCT  QUANTITY (pound)  RETAIL PRICE(dollars)  ratio  \\\n",
       "0                    Tomatoes                10                  28.60   2.86   \n",
       "1                    Potatoes                 8                  10.40   1.30   \n",
       "2  Red Leaf Lettuce (organic)                 5                  17.70   3.54   \n",
       "3                 cauliflower                 6                  15.66   2.61   \n",
       "4                     carrots                10                  25.90   2.59   \n",
       "5             Iceberg lettuce                 3                   4.62   1.54   \n",
       "6                     oranges                15                  30.30   2.02   \n",
       "7                      grapes                 5                  11.80   2.36   \n",
       "8      peppers yellow organic                 3                  13.65   4.55   \n",
       "9                blackberries                 7                  29.40   4.20   \n",
       "\n",
       "     zscore  \n",
       "0  0.101612  \n",
       "1 -1.437369  \n",
       "2  0.772450  \n",
       "3 -0.145019  \n",
       "4 -0.164750  \n",
       "5 -1.200603  \n",
       "6 -0.727070  \n",
       "7 -0.391651  \n",
       "8  1.768842  \n",
       "9  1.423558  "
      ]
     },
     "execution_count": 61,
     "metadata": {},
     "output_type": "execute_result"
    }
   ],
   "source": [
    "prices_data['zscore'] = stats.zscore(prices_data.ratio) \n",
    "\n",
    "prices_data"
   ]
  },
  {
   "cell_type": "code",
   "execution_count": null,
   "metadata": {
    "collapsed": true
   },
   "outputs": [],
   "source": []
  },
  {
   "cell_type": "markdown",
   "metadata": {},
   "source": [
    "The zscore column will help us understand the absolute cost of different products, the value of where the product stands when compared to the other products. All those with negative costs have unit price lesser than the average, while those with positive numbers are priced higher than average. "
   ]
  },
  {
   "cell_type": "markdown",
   "metadata": {},
   "source": [
    "### Basic Stats on dataframes\n",
    "The describe() function gives the statistical description of the dataset. The count, max, min, mean etc for every variable in this dataset"
   ]
  },
  {
   "cell_type": "code",
   "execution_count": 62,
   "metadata": {},
   "outputs": [
    {
     "data": {
      "text/html": [
       "<div>\n",
       "<style scoped>\n",
       "    .dataframe tbody tr th:only-of-type {\n",
       "        vertical-align: middle;\n",
       "    }\n",
       "\n",
       "    .dataframe tbody tr th {\n",
       "        vertical-align: top;\n",
       "    }\n",
       "\n",
       "    .dataframe thead th {\n",
       "        text-align: right;\n",
       "    }\n",
       "</style>\n",
       "<table border=\"1\" class=\"dataframe\">\n",
       "  <thead>\n",
       "    <tr style=\"text-align: right;\">\n",
       "      <th></th>\n",
       "      <th>Channel</th>\n",
       "      <th>Region</th>\n",
       "      <th>Fresh</th>\n",
       "      <th>Milk</th>\n",
       "      <th>Grocery</th>\n",
       "      <th>Frozen</th>\n",
       "      <th>Detergents_Paper</th>\n",
       "      <th>Delicassen</th>\n",
       "    </tr>\n",
       "  </thead>\n",
       "  <tbody>\n",
       "    <tr>\n",
       "      <th>count</th>\n",
       "      <td>440.000000</td>\n",
       "      <td>440.000000</td>\n",
       "      <td>440.000000</td>\n",
       "      <td>440.000000</td>\n",
       "      <td>440.000000</td>\n",
       "      <td>440.000000</td>\n",
       "      <td>440.000000</td>\n",
       "      <td>440.000000</td>\n",
       "    </tr>\n",
       "    <tr>\n",
       "      <th>mean</th>\n",
       "      <td>1.322727</td>\n",
       "      <td>2.543182</td>\n",
       "      <td>12000.297727</td>\n",
       "      <td>5796.265909</td>\n",
       "      <td>7951.277273</td>\n",
       "      <td>3071.931818</td>\n",
       "      <td>2881.493182</td>\n",
       "      <td>1524.870455</td>\n",
       "    </tr>\n",
       "    <tr>\n",
       "      <th>std</th>\n",
       "      <td>0.468052</td>\n",
       "      <td>0.774272</td>\n",
       "      <td>12647.328865</td>\n",
       "      <td>7380.377175</td>\n",
       "      <td>9503.162829</td>\n",
       "      <td>4854.673333</td>\n",
       "      <td>4767.854448</td>\n",
       "      <td>2820.105937</td>\n",
       "    </tr>\n",
       "    <tr>\n",
       "      <th>min</th>\n",
       "      <td>1.000000</td>\n",
       "      <td>1.000000</td>\n",
       "      <td>3.000000</td>\n",
       "      <td>55.000000</td>\n",
       "      <td>3.000000</td>\n",
       "      <td>25.000000</td>\n",
       "      <td>3.000000</td>\n",
       "      <td>3.000000</td>\n",
       "    </tr>\n",
       "    <tr>\n",
       "      <th>25%</th>\n",
       "      <td>1.000000</td>\n",
       "      <td>2.000000</td>\n",
       "      <td>3127.750000</td>\n",
       "      <td>1533.000000</td>\n",
       "      <td>2153.000000</td>\n",
       "      <td>742.250000</td>\n",
       "      <td>256.750000</td>\n",
       "      <td>408.250000</td>\n",
       "    </tr>\n",
       "    <tr>\n",
       "      <th>50%</th>\n",
       "      <td>1.000000</td>\n",
       "      <td>3.000000</td>\n",
       "      <td>8504.000000</td>\n",
       "      <td>3627.000000</td>\n",
       "      <td>4755.500000</td>\n",
       "      <td>1526.000000</td>\n",
       "      <td>816.500000</td>\n",
       "      <td>965.500000</td>\n",
       "    </tr>\n",
       "    <tr>\n",
       "      <th>75%</th>\n",
       "      <td>2.000000</td>\n",
       "      <td>3.000000</td>\n",
       "      <td>16933.750000</td>\n",
       "      <td>7190.250000</td>\n",
       "      <td>10655.750000</td>\n",
       "      <td>3554.250000</td>\n",
       "      <td>3922.000000</td>\n",
       "      <td>1820.250000</td>\n",
       "    </tr>\n",
       "    <tr>\n",
       "      <th>max</th>\n",
       "      <td>2.000000</td>\n",
       "      <td>3.000000</td>\n",
       "      <td>112151.000000</td>\n",
       "      <td>73498.000000</td>\n",
       "      <td>92780.000000</td>\n",
       "      <td>60869.000000</td>\n",
       "      <td>40827.000000</td>\n",
       "      <td>47943.000000</td>\n",
       "    </tr>\n",
       "  </tbody>\n",
       "</table>\n",
       "</div>"
      ],
      "text/plain": [
       "          Channel      Region          Fresh          Milk       Grocery  \\\n",
       "count  440.000000  440.000000     440.000000    440.000000    440.000000   \n",
       "mean     1.322727    2.543182   12000.297727   5796.265909   7951.277273   \n",
       "std      0.468052    0.774272   12647.328865   7380.377175   9503.162829   \n",
       "min      1.000000    1.000000       3.000000     55.000000      3.000000   \n",
       "25%      1.000000    2.000000    3127.750000   1533.000000   2153.000000   \n",
       "50%      1.000000    3.000000    8504.000000   3627.000000   4755.500000   \n",
       "75%      2.000000    3.000000   16933.750000   7190.250000  10655.750000   \n",
       "max      2.000000    3.000000  112151.000000  73498.000000  92780.000000   \n",
       "\n",
       "             Frozen  Detergents_Paper    Delicassen  \n",
       "count    440.000000        440.000000    440.000000  \n",
       "mean    3071.931818       2881.493182   1524.870455  \n",
       "std     4854.673333       4767.854448   2820.105937  \n",
       "min       25.000000          3.000000      3.000000  \n",
       "25%      742.250000        256.750000    408.250000  \n",
       "50%     1526.000000        816.500000    965.500000  \n",
       "75%     3554.250000       3922.000000   1820.250000  \n",
       "max    60869.000000      40827.000000  47943.000000  "
      ]
     },
     "execution_count": 62,
     "metadata": {},
     "output_type": "execute_result"
    }
   ],
   "source": [
    "wholesale_data.describe()"
   ]
  },
  {
   "cell_type": "code",
   "execution_count": 63,
   "metadata": {},
   "outputs": [
    {
     "data": {
      "text/html": [
       "<div>\n",
       "<style scoped>\n",
       "    .dataframe tbody tr th:only-of-type {\n",
       "        vertical-align: middle;\n",
       "    }\n",
       "\n",
       "    .dataframe tbody tr th {\n",
       "        vertical-align: top;\n",
       "    }\n",
       "\n",
       "    .dataframe thead th {\n",
       "        text-align: right;\n",
       "    }\n",
       "</style>\n",
       "<table border=\"1\" class=\"dataframe\">\n",
       "  <thead>\n",
       "    <tr style=\"text-align: right;\">\n",
       "      <th></th>\n",
       "      <th>Channel</th>\n",
       "      <th>Region</th>\n",
       "      <th>Fresh</th>\n",
       "      <th>Milk</th>\n",
       "      <th>Grocery</th>\n",
       "      <th>Frozen</th>\n",
       "      <th>Detergents_Paper</th>\n",
       "      <th>Delicassen</th>\n",
       "    </tr>\n",
       "  </thead>\n",
       "  <tbody>\n",
       "    <tr>\n",
       "      <th>Channel</th>\n",
       "      <td>1.000000</td>\n",
       "      <td>0.062028</td>\n",
       "      <td>-0.169172</td>\n",
       "      <td>0.460720</td>\n",
       "      <td>0.608792</td>\n",
       "      <td>-0.202046</td>\n",
       "      <td>0.636026</td>\n",
       "      <td>0.056011</td>\n",
       "    </tr>\n",
       "    <tr>\n",
       "      <th>Region</th>\n",
       "      <td>0.062028</td>\n",
       "      <td>1.000000</td>\n",
       "      <td>0.055287</td>\n",
       "      <td>0.032288</td>\n",
       "      <td>0.007696</td>\n",
       "      <td>-0.021044</td>\n",
       "      <td>-0.001483</td>\n",
       "      <td>0.045212</td>\n",
       "    </tr>\n",
       "    <tr>\n",
       "      <th>Fresh</th>\n",
       "      <td>-0.169172</td>\n",
       "      <td>0.055287</td>\n",
       "      <td>1.000000</td>\n",
       "      <td>0.100510</td>\n",
       "      <td>-0.011854</td>\n",
       "      <td>0.345881</td>\n",
       "      <td>-0.101953</td>\n",
       "      <td>0.244690</td>\n",
       "    </tr>\n",
       "    <tr>\n",
       "      <th>Milk</th>\n",
       "      <td>0.460720</td>\n",
       "      <td>0.032288</td>\n",
       "      <td>0.100510</td>\n",
       "      <td>1.000000</td>\n",
       "      <td>0.728335</td>\n",
       "      <td>0.123994</td>\n",
       "      <td>0.661816</td>\n",
       "      <td>0.406368</td>\n",
       "    </tr>\n",
       "    <tr>\n",
       "      <th>Grocery</th>\n",
       "      <td>0.608792</td>\n",
       "      <td>0.007696</td>\n",
       "      <td>-0.011854</td>\n",
       "      <td>0.728335</td>\n",
       "      <td>1.000000</td>\n",
       "      <td>-0.040193</td>\n",
       "      <td>0.924641</td>\n",
       "      <td>0.205497</td>\n",
       "    </tr>\n",
       "    <tr>\n",
       "      <th>Frozen</th>\n",
       "      <td>-0.202046</td>\n",
       "      <td>-0.021044</td>\n",
       "      <td>0.345881</td>\n",
       "      <td>0.123994</td>\n",
       "      <td>-0.040193</td>\n",
       "      <td>1.000000</td>\n",
       "      <td>-0.131525</td>\n",
       "      <td>0.390947</td>\n",
       "    </tr>\n",
       "    <tr>\n",
       "      <th>Detergents_Paper</th>\n",
       "      <td>0.636026</td>\n",
       "      <td>-0.001483</td>\n",
       "      <td>-0.101953</td>\n",
       "      <td>0.661816</td>\n",
       "      <td>0.924641</td>\n",
       "      <td>-0.131525</td>\n",
       "      <td>1.000000</td>\n",
       "      <td>0.069291</td>\n",
       "    </tr>\n",
       "    <tr>\n",
       "      <th>Delicassen</th>\n",
       "      <td>0.056011</td>\n",
       "      <td>0.045212</td>\n",
       "      <td>0.244690</td>\n",
       "      <td>0.406368</td>\n",
       "      <td>0.205497</td>\n",
       "      <td>0.390947</td>\n",
       "      <td>0.069291</td>\n",
       "      <td>1.000000</td>\n",
       "    </tr>\n",
       "  </tbody>\n",
       "</table>\n",
       "</div>"
      ],
      "text/plain": [
       "                   Channel    Region     Fresh      Milk   Grocery    Frozen  \\\n",
       "Channel           1.000000  0.062028 -0.169172  0.460720  0.608792 -0.202046   \n",
       "Region            0.062028  1.000000  0.055287  0.032288  0.007696 -0.021044   \n",
       "Fresh            -0.169172  0.055287  1.000000  0.100510 -0.011854  0.345881   \n",
       "Milk              0.460720  0.032288  0.100510  1.000000  0.728335  0.123994   \n",
       "Grocery           0.608792  0.007696 -0.011854  0.728335  1.000000 -0.040193   \n",
       "Frozen           -0.202046 -0.021044  0.345881  0.123994 -0.040193  1.000000   \n",
       "Detergents_Paper  0.636026 -0.001483 -0.101953  0.661816  0.924641 -0.131525   \n",
       "Delicassen        0.056011  0.045212  0.244690  0.406368  0.205497  0.390947   \n",
       "\n",
       "                  Detergents_Paper  Delicassen  \n",
       "Channel                   0.636026    0.056011  \n",
       "Region                   -0.001483    0.045212  \n",
       "Fresh                    -0.101953    0.244690  \n",
       "Milk                      0.661816    0.406368  \n",
       "Grocery                   0.924641    0.205497  \n",
       "Frozen                   -0.131525    0.390947  \n",
       "Detergents_Paper          1.000000    0.069291  \n",
       "Delicassen                0.069291    1.000000  "
      ]
     },
     "execution_count": 63,
     "metadata": {},
     "output_type": "execute_result"
    }
   ],
   "source": [
    "wholesale_data.corr()"
   ]
  },
  {
   "cell_type": "code",
   "execution_count": 64,
   "metadata": {},
   "outputs": [
    {
     "data": {
      "text/html": [
       "<div>\n",
       "<style scoped>\n",
       "    .dataframe tbody tr th:only-of-type {\n",
       "        vertical-align: middle;\n",
       "    }\n",
       "\n",
       "    .dataframe tbody tr th {\n",
       "        vertical-align: top;\n",
       "    }\n",
       "\n",
       "    .dataframe thead th {\n",
       "        text-align: right;\n",
       "    }\n",
       "</style>\n",
       "<table border=\"1\" class=\"dataframe\">\n",
       "  <thead>\n",
       "    <tr style=\"text-align: right;\">\n",
       "      <th></th>\n",
       "      <th>Channel</th>\n",
       "      <th>Region</th>\n",
       "      <th>Fresh</th>\n",
       "      <th>Milk</th>\n",
       "      <th>Grocery</th>\n",
       "      <th>Frozen</th>\n",
       "      <th>Detergents_Paper</th>\n",
       "      <th>Delicassen</th>\n",
       "    </tr>\n",
       "  </thead>\n",
       "  <tbody>\n",
       "    <tr>\n",
       "      <th>Channel</th>\n",
       "      <td>0.219072</td>\n",
       "      <td>0.022479</td>\n",
       "      <td>-1.001431e+03</td>\n",
       "      <td>1.591511e+03</td>\n",
       "      <td>2.707890e+03</td>\n",
       "      <td>-4.590964e+02</td>\n",
       "      <td>1.419358e+03</td>\n",
       "      <td>7.393256e+01</td>\n",
       "    </tr>\n",
       "    <tr>\n",
       "      <th>Region</th>\n",
       "      <td>0.022479</td>\n",
       "      <td>0.599498</td>\n",
       "      <td>5.413960e+02</td>\n",
       "      <td>1.845044e+02</td>\n",
       "      <td>5.662581e+01</td>\n",
       "      <td>-7.910183e+01</td>\n",
       "      <td>-5.473509e+00</td>\n",
       "      <td>9.872201e+01</td>\n",
       "    </tr>\n",
       "    <tr>\n",
       "      <th>Fresh</th>\n",
       "      <td>-1001.431156</td>\n",
       "      <td>541.395998</td>\n",
       "      <td>1.599549e+08</td>\n",
       "      <td>9.381789e+06</td>\n",
       "      <td>-1.424713e+06</td>\n",
       "      <td>2.123665e+07</td>\n",
       "      <td>-6.147826e+06</td>\n",
       "      <td>8.727310e+06</td>\n",
       "    </tr>\n",
       "    <tr>\n",
       "      <th>Milk</th>\n",
       "      <td>1591.510799</td>\n",
       "      <td>184.504437</td>\n",
       "      <td>9.381789e+06</td>\n",
       "      <td>5.446997e+07</td>\n",
       "      <td>5.108319e+07</td>\n",
       "      <td>4.442612e+06</td>\n",
       "      <td>2.328834e+07</td>\n",
       "      <td>8.457925e+06</td>\n",
       "    </tr>\n",
       "    <tr>\n",
       "      <th>Grocery</th>\n",
       "      <td>2707.889812</td>\n",
       "      <td>56.625813</td>\n",
       "      <td>-1.424713e+06</td>\n",
       "      <td>5.108319e+07</td>\n",
       "      <td>9.031010e+07</td>\n",
       "      <td>-1.854282e+06</td>\n",
       "      <td>4.189519e+07</td>\n",
       "      <td>5.507291e+06</td>\n",
       "    </tr>\n",
       "    <tr>\n",
       "      <th>Frozen</th>\n",
       "      <td>-459.096397</td>\n",
       "      <td>-79.101833</td>\n",
       "      <td>2.123665e+07</td>\n",
       "      <td>4.442612e+06</td>\n",
       "      <td>-1.854282e+06</td>\n",
       "      <td>2.356785e+07</td>\n",
       "      <td>-3.044325e+06</td>\n",
       "      <td>5.352342e+06</td>\n",
       "    </tr>\n",
       "    <tr>\n",
       "      <th>Detergents_Paper</th>\n",
       "      <td>1419.357559</td>\n",
       "      <td>-5.473509</td>\n",
       "      <td>-6.147826e+06</td>\n",
       "      <td>2.328834e+07</td>\n",
       "      <td>4.189519e+07</td>\n",
       "      <td>-3.044325e+06</td>\n",
       "      <td>2.273244e+07</td>\n",
       "      <td>9.316807e+05</td>\n",
       "    </tr>\n",
       "    <tr>\n",
       "      <th>Delicassen</th>\n",
       "      <td>73.932564</td>\n",
       "      <td>98.722008</td>\n",
       "      <td>8.727310e+06</td>\n",
       "      <td>8.457925e+06</td>\n",
       "      <td>5.507291e+06</td>\n",
       "      <td>5.352342e+06</td>\n",
       "      <td>9.316807e+05</td>\n",
       "      <td>7.952997e+06</td>\n",
       "    </tr>\n",
       "  </tbody>\n",
       "</table>\n",
       "</div>"
      ],
      "text/plain": [
       "                      Channel      Region         Fresh          Milk  \\\n",
       "Channel              0.219072    0.022479 -1.001431e+03  1.591511e+03   \n",
       "Region               0.022479    0.599498  5.413960e+02  1.845044e+02   \n",
       "Fresh            -1001.431156  541.395998  1.599549e+08  9.381789e+06   \n",
       "Milk              1591.510799  184.504437  9.381789e+06  5.446997e+07   \n",
       "Grocery           2707.889812   56.625813 -1.424713e+06  5.108319e+07   \n",
       "Frozen            -459.096397  -79.101833  2.123665e+07  4.442612e+06   \n",
       "Detergents_Paper  1419.357559   -5.473509 -6.147826e+06  2.328834e+07   \n",
       "Delicassen          73.932564   98.722008  8.727310e+06  8.457925e+06   \n",
       "\n",
       "                       Grocery        Frozen  Detergents_Paper    Delicassen  \n",
       "Channel           2.707890e+03 -4.590964e+02      1.419358e+03  7.393256e+01  \n",
       "Region            5.662581e+01 -7.910183e+01     -5.473509e+00  9.872201e+01  \n",
       "Fresh            -1.424713e+06  2.123665e+07     -6.147826e+06  8.727310e+06  \n",
       "Milk              5.108319e+07  4.442612e+06      2.328834e+07  8.457925e+06  \n",
       "Grocery           9.031010e+07 -1.854282e+06      4.189519e+07  5.507291e+06  \n",
       "Frozen           -1.854282e+06  2.356785e+07     -3.044325e+06  5.352342e+06  \n",
       "Detergents_Paper  4.189519e+07 -3.044325e+06      2.273244e+07  9.316807e+05  \n",
       "Delicassen        5.507291e+06  5.352342e+06      9.316807e+05  7.952997e+06  "
      ]
     },
     "execution_count": 64,
     "metadata": {},
     "output_type": "execute_result"
    }
   ],
   "source": [
    "wholesale_data.cov()"
   ]
  },
  {
   "cell_type": "markdown",
   "metadata": {},
   "source": [
    "One can also find the correlation between just some specific variables in the dataset"
   ]
  },
  {
   "cell_type": "code",
   "execution_count": 65,
   "metadata": {},
   "outputs": [
    {
     "name": "stdout",
     "output_type": "stream",
     "text": [
      "           Fresh    Frozen\n",
      "Fresh   1.000000  0.345881\n",
      "Frozen  0.345881  1.000000\n"
     ]
    }
   ],
   "source": [
    "print( wholesale_data[['Fresh','Frozen']].corr())"
   ]
  },
  {
   "cell_type": "code",
   "execution_count": null,
   "metadata": {
    "collapsed": true
   },
   "outputs": [],
   "source": []
  },
  {
   "cell_type": "code",
   "execution_count": null,
   "metadata": {
    "collapsed": true
   },
   "outputs": [],
   "source": []
  },
  {
   "cell_type": "code",
   "execution_count": null,
   "metadata": {
    "collapsed": true
   },
   "outputs": [],
   "source": []
  },
  {
   "cell_type": "code",
   "execution_count": null,
   "metadata": {
    "collapsed": true
   },
   "outputs": [],
   "source": []
  },
  {
   "cell_type": "code",
   "execution_count": null,
   "metadata": {
    "collapsed": true
   },
   "outputs": [],
   "source": []
  },
  {
   "cell_type": "code",
   "execution_count": null,
   "metadata": {
    "collapsed": true
   },
   "outputs": [],
   "source": []
  },
  {
   "cell_type": "code",
   "execution_count": null,
   "metadata": {
    "collapsed": true
   },
   "outputs": [],
   "source": []
  },
  {
   "cell_type": "code",
   "execution_count": null,
   "metadata": {
    "collapsed": true
   },
   "outputs": [],
   "source": []
  },
  {
   "cell_type": "code",
   "execution_count": null,
   "metadata": {
    "collapsed": true
   },
   "outputs": [],
   "source": []
  },
  {
   "cell_type": "code",
   "execution_count": null,
   "metadata": {
    "collapsed": true
   },
   "outputs": [],
   "source": []
  },
  {
   "cell_type": "code",
   "execution_count": null,
   "metadata": {
    "collapsed": true
   },
   "outputs": [],
   "source": []
  },
  {
   "cell_type": "code",
   "execution_count": null,
   "metadata": {
    "collapsed": true
   },
   "outputs": [],
   "source": []
  },
  {
   "cell_type": "code",
   "execution_count": null,
   "metadata": {
    "collapsed": true
   },
   "outputs": [],
   "source": []
  }
 ],
 "metadata": {
  "kernelspec": {
   "display_name": "Python 3",
   "language": "python",
   "name": "python3"
  },
  "language_info": {
   "codemirror_mode": {
    "name": "ipython",
    "version": 3
   },
   "file_extension": ".py",
   "mimetype": "text/x-python",
   "name": "python",
   "nbconvert_exporter": "python",
   "pygments_lexer": "ipython3",
   "version": "3.6.3"
  }
 },
 "nbformat": 4,
 "nbformat_minor": 2
}
