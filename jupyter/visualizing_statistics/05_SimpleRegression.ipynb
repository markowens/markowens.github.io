{
 "cells": [
  {
   "cell_type": "markdown",
   "metadata": {},
   "source": [
    "## Implementing simple linear regression models in Python\n"
   ]
  },
  {
   "cell_type": "code",
   "execution_count": 1,
   "metadata": {
    "collapsed": true
   },
   "outputs": [],
   "source": [
    "import numpy as np\n",
    "import pandas as pd"
   ]
  },
  {
   "cell_type": "code",
   "execution_count": 2,
   "metadata": {
    "collapsed": true
   },
   "outputs": [],
   "source": [
    "import warnings\n",
    "warnings.filterwarnings('ignore')"
   ]
  },
  {
   "cell_type": "code",
   "execution_count": 3,
   "metadata": {
    "collapsed": true
   },
   "outputs": [],
   "source": [
    "combined_data = pd.read_csv('datasets/regression/combined.csv', \n",
    "                            sep=\",\")"
   ]
  },
  {
   "cell_type": "code",
   "execution_count": 4,
   "metadata": {},
   "outputs": [
    {
     "data": {
      "text/html": [
       "<div>\n",
       "<style scoped>\n",
       "    .dataframe tbody tr th:only-of-type {\n",
       "        vertical-align: middle;\n",
       "    }\n",
       "\n",
       "    .dataframe tbody tr th {\n",
       "        vertical-align: top;\n",
       "    }\n",
       "\n",
       "    .dataframe thead th {\n",
       "        text-align: right;\n",
       "    }\n",
       "</style>\n",
       "<table border=\"1\" class=\"dataframe\">\n",
       "  <thead>\n",
       "    <tr style=\"text-align: right;\">\n",
       "      <th></th>\n",
       "      <th>Date</th>\n",
       "      <th>Nike</th>\n",
       "      <th>Ralph Lauren</th>\n",
       "      <th>S&amp;P 500</th>\n",
       "      <th>UUP</th>\n",
       "    </tr>\n",
       "  </thead>\n",
       "  <tbody>\n",
       "    <tr>\n",
       "      <th>0</th>\n",
       "      <td>01-09-2018</td>\n",
       "      <td>84.720001</td>\n",
       "      <td>136.924500</td>\n",
       "      <td>2913.979980</td>\n",
       "      <td>25.260000</td>\n",
       "    </tr>\n",
       "    <tr>\n",
       "      <th>1</th>\n",
       "      <td>01-08-2018</td>\n",
       "      <td>81.998032</td>\n",
       "      <td>132.206055</td>\n",
       "      <td>2901.520020</td>\n",
       "      <td>25.190001</td>\n",
       "    </tr>\n",
       "    <tr>\n",
       "      <th>2</th>\n",
       "      <td>01-07-2018</td>\n",
       "      <td>76.721031</td>\n",
       "      <td>134.366180</td>\n",
       "      <td>2816.290039</td>\n",
       "      <td>24.980000</td>\n",
       "    </tr>\n",
       "    <tr>\n",
       "      <th>3</th>\n",
       "      <td>01-06-2018</td>\n",
       "      <td>79.262825</td>\n",
       "      <td>124.531288</td>\n",
       "      <td>2718.370117</td>\n",
       "      <td>24.940001</td>\n",
       "    </tr>\n",
       "    <tr>\n",
       "      <th>4</th>\n",
       "      <td>01-05-2018</td>\n",
       "      <td>71.424080</td>\n",
       "      <td>133.307510</td>\n",
       "      <td>2705.270020</td>\n",
       "      <td>24.760000</td>\n",
       "    </tr>\n",
       "  </tbody>\n",
       "</table>\n",
       "</div>"
      ],
      "text/plain": [
       "         Date       Nike  Ralph Lauren      S&P 500        UUP\n",
       "0  01-09-2018  84.720001    136.924500  2913.979980  25.260000\n",
       "1  01-08-2018  81.998032    132.206055  2901.520020  25.190001\n",
       "2  01-07-2018  76.721031    134.366180  2816.290039  24.980000\n",
       "3  01-06-2018  79.262825    124.531288  2718.370117  24.940001\n",
       "4  01-05-2018  71.424080    133.307510  2705.270020  24.760000"
      ]
     },
     "execution_count": 4,
     "metadata": {},
     "output_type": "execute_result"
    }
   ],
   "source": [
    "combined_data.head()"
   ]
  },
  {
   "cell_type": "code",
   "execution_count": 5,
   "metadata": {
    "collapsed": true
   },
   "outputs": [],
   "source": [
    "combined_data['Date'] = pd.to_datetime(combined_data['Date'])"
   ]
  },
  {
   "cell_type": "code",
   "execution_count": 6,
   "metadata": {},
   "outputs": [
    {
     "data": {
      "text/html": [
       "<div>\n",
       "<style scoped>\n",
       "    .dataframe tbody tr th:only-of-type {\n",
       "        vertical-align: middle;\n",
       "    }\n",
       "\n",
       "    .dataframe tbody tr th {\n",
       "        vertical-align: top;\n",
       "    }\n",
       "\n",
       "    .dataframe thead th {\n",
       "        text-align: right;\n",
       "    }\n",
       "</style>\n",
       "<table border=\"1\" class=\"dataframe\">\n",
       "  <thead>\n",
       "    <tr style=\"text-align: right;\">\n",
       "      <th></th>\n",
       "      <th>Date</th>\n",
       "      <th>Nike</th>\n",
       "      <th>Ralph Lauren</th>\n",
       "      <th>S&amp;P 500</th>\n",
       "      <th>UUP</th>\n",
       "    </tr>\n",
       "  </thead>\n",
       "  <tbody>\n",
       "    <tr>\n",
       "      <th>120</th>\n",
       "      <td>2008-01-09</td>\n",
       "      <td>NaN</td>\n",
       "      <td>NaN</td>\n",
       "      <td>NaN</td>\n",
       "      <td>NaN</td>\n",
       "    </tr>\n",
       "    <tr>\n",
       "      <th>119</th>\n",
       "      <td>2008-01-10</td>\n",
       "      <td>9.762588</td>\n",
       "      <td>41.688194</td>\n",
       "      <td>968.750000</td>\n",
       "      <td>26.298273</td>\n",
       "    </tr>\n",
       "    <tr>\n",
       "      <th>118</th>\n",
       "      <td>2008-01-11</td>\n",
       "      <td>9.020608</td>\n",
       "      <td>38.179581</td>\n",
       "      <td>896.239990</td>\n",
       "      <td>26.347893</td>\n",
       "    </tr>\n",
       "    <tr>\n",
       "      <th>117</th>\n",
       "      <td>2008-01-12</td>\n",
       "      <td>8.639458</td>\n",
       "      <td>40.132740</td>\n",
       "      <td>903.250000</td>\n",
       "      <td>24.502052</td>\n",
       "    </tr>\n",
       "    <tr>\n",
       "      <th>116</th>\n",
       "      <td>2009-01-01</td>\n",
       "      <td>7.815672</td>\n",
       "      <td>36.303810</td>\n",
       "      <td>825.880005</td>\n",
       "      <td>25.925570</td>\n",
       "    </tr>\n",
       "  </tbody>\n",
       "</table>\n",
       "</div>"
      ],
      "text/plain": [
       "          Date      Nike  Ralph Lauren     S&P 500        UUP\n",
       "120 2008-01-09       NaN           NaN         NaN        NaN\n",
       "119 2008-01-10  9.762588     41.688194  968.750000  26.298273\n",
       "118 2008-01-11  9.020608     38.179581  896.239990  26.347893\n",
       "117 2008-01-12  8.639458     40.132740  903.250000  24.502052\n",
       "116 2009-01-01  7.815672     36.303810  825.880005  25.925570"
      ]
     },
     "execution_count": 6,
     "metadata": {},
     "output_type": "execute_result"
    }
   ],
   "source": [
    "combined_data = combined_data.sort_values(by = 'Date')\n",
    "\n",
    "combined_data.head()"
   ]
  },
  {
   "cell_type": "code",
   "execution_count": 7,
   "metadata": {},
   "outputs": [
    {
     "data": {
      "text/html": [
       "<div>\n",
       "<style scoped>\n",
       "    .dataframe tbody tr th:only-of-type {\n",
       "        vertical-align: middle;\n",
       "    }\n",
       "\n",
       "    .dataframe tbody tr th {\n",
       "        vertical-align: top;\n",
       "    }\n",
       "\n",
       "    .dataframe thead th {\n",
       "        text-align: right;\n",
       "    }\n",
       "</style>\n",
       "<table border=\"1\" class=\"dataframe\">\n",
       "  <thead>\n",
       "    <tr style=\"text-align: right;\">\n",
       "      <th></th>\n",
       "      <th>index</th>\n",
       "      <th>Date</th>\n",
       "      <th>Nike</th>\n",
       "      <th>Ralph Lauren</th>\n",
       "      <th>S&amp;P 500</th>\n",
       "      <th>UUP</th>\n",
       "    </tr>\n",
       "  </thead>\n",
       "  <tbody>\n",
       "    <tr>\n",
       "      <th>0</th>\n",
       "      <td>120</td>\n",
       "      <td>2008-01-09</td>\n",
       "      <td>NaN</td>\n",
       "      <td>NaN</td>\n",
       "      <td>NaN</td>\n",
       "      <td>NaN</td>\n",
       "    </tr>\n",
       "    <tr>\n",
       "      <th>1</th>\n",
       "      <td>119</td>\n",
       "      <td>2008-01-10</td>\n",
       "      <td>9.762588</td>\n",
       "      <td>41.688194</td>\n",
       "      <td>968.750000</td>\n",
       "      <td>26.298273</td>\n",
       "    </tr>\n",
       "    <tr>\n",
       "      <th>2</th>\n",
       "      <td>118</td>\n",
       "      <td>2008-01-11</td>\n",
       "      <td>9.020608</td>\n",
       "      <td>38.179581</td>\n",
       "      <td>896.239990</td>\n",
       "      <td>26.347893</td>\n",
       "    </tr>\n",
       "    <tr>\n",
       "      <th>3</th>\n",
       "      <td>117</td>\n",
       "      <td>2008-01-12</td>\n",
       "      <td>8.639458</td>\n",
       "      <td>40.132740</td>\n",
       "      <td>903.250000</td>\n",
       "      <td>24.502052</td>\n",
       "    </tr>\n",
       "    <tr>\n",
       "      <th>4</th>\n",
       "      <td>116</td>\n",
       "      <td>2009-01-01</td>\n",
       "      <td>7.815672</td>\n",
       "      <td>36.303810</td>\n",
       "      <td>825.880005</td>\n",
       "      <td>25.925570</td>\n",
       "    </tr>\n",
       "  </tbody>\n",
       "</table>\n",
       "</div>"
      ],
      "text/plain": [
       "   index       Date      Nike  Ralph Lauren     S&P 500        UUP\n",
       "0    120 2008-01-09       NaN           NaN         NaN        NaN\n",
       "1    119 2008-01-10  9.762588     41.688194  968.750000  26.298273\n",
       "2    118 2008-01-11  9.020608     38.179581  896.239990  26.347893\n",
       "3    117 2008-01-12  8.639458     40.132740  903.250000  24.502052\n",
       "4    116 2009-01-01  7.815672     36.303810  825.880005  25.925570"
      ]
     },
     "execution_count": 7,
     "metadata": {},
     "output_type": "execute_result"
    }
   ],
   "source": [
    "combined_data = combined_data.reset_index()\n",
    "\n",
    "combined_data.head()"
   ]
  },
  {
   "cell_type": "code",
   "execution_count": 8,
   "metadata": {},
   "outputs": [
    {
     "data": {
      "text/html": [
       "<div>\n",
       "<style scoped>\n",
       "    .dataframe tbody tr th:only-of-type {\n",
       "        vertical-align: middle;\n",
       "    }\n",
       "\n",
       "    .dataframe tbody tr th {\n",
       "        vertical-align: top;\n",
       "    }\n",
       "\n",
       "    .dataframe thead th {\n",
       "        text-align: right;\n",
       "    }\n",
       "</style>\n",
       "<table border=\"1\" class=\"dataframe\">\n",
       "  <thead>\n",
       "    <tr style=\"text-align: right;\">\n",
       "      <th></th>\n",
       "      <th>Date</th>\n",
       "      <th>Nike</th>\n",
       "      <th>Ralph Lauren</th>\n",
       "      <th>S&amp;P 500</th>\n",
       "      <th>UUP</th>\n",
       "    </tr>\n",
       "  </thead>\n",
       "  <tbody>\n",
       "    <tr>\n",
       "      <th>0</th>\n",
       "      <td>2008-01-09</td>\n",
       "      <td>NaN</td>\n",
       "      <td>NaN</td>\n",
       "      <td>NaN</td>\n",
       "      <td>NaN</td>\n",
       "    </tr>\n",
       "    <tr>\n",
       "      <th>1</th>\n",
       "      <td>2008-01-10</td>\n",
       "      <td>9.762588</td>\n",
       "      <td>41.688194</td>\n",
       "      <td>968.750000</td>\n",
       "      <td>26.298273</td>\n",
       "    </tr>\n",
       "    <tr>\n",
       "      <th>2</th>\n",
       "      <td>2008-01-11</td>\n",
       "      <td>9.020608</td>\n",
       "      <td>38.179581</td>\n",
       "      <td>896.239990</td>\n",
       "      <td>26.347893</td>\n",
       "    </tr>\n",
       "    <tr>\n",
       "      <th>3</th>\n",
       "      <td>2008-01-12</td>\n",
       "      <td>8.639458</td>\n",
       "      <td>40.132740</td>\n",
       "      <td>903.250000</td>\n",
       "      <td>24.502052</td>\n",
       "    </tr>\n",
       "    <tr>\n",
       "      <th>4</th>\n",
       "      <td>2009-01-01</td>\n",
       "      <td>7.815672</td>\n",
       "      <td>36.303810</td>\n",
       "      <td>825.880005</td>\n",
       "      <td>25.925570</td>\n",
       "    </tr>\n",
       "  </tbody>\n",
       "</table>\n",
       "</div>"
      ],
      "text/plain": [
       "        Date      Nike  Ralph Lauren     S&P 500        UUP\n",
       "0 2008-01-09       NaN           NaN         NaN        NaN\n",
       "1 2008-01-10  9.762588     41.688194  968.750000  26.298273\n",
       "2 2008-01-11  9.020608     38.179581  896.239990  26.347893\n",
       "3 2008-01-12  8.639458     40.132740  903.250000  24.502052\n",
       "4 2009-01-01  7.815672     36.303810  825.880005  25.925570"
      ]
     },
     "execution_count": 8,
     "metadata": {},
     "output_type": "execute_result"
    }
   ],
   "source": [
    "combined_data = combined_data.drop(['index'], axis=1)\n",
    "\n",
    "combined_data.head()"
   ]
  },
  {
   "cell_type": "markdown",
   "metadata": {},
   "source": [
    "Financial series data are better dealt with as returns, which are percentage changes in price from one period to the next. We convert both columns of the dataframe into arrays using Numpy and divide one by the other to get the above prices in terms of returns."
   ]
  },
  {
   "cell_type": "code",
   "execution_count": 9,
   "metadata": {},
   "outputs": [
    {
     "data": {
      "text/html": [
       "<div>\n",
       "<style scoped>\n",
       "    .dataframe tbody tr th:only-of-type {\n",
       "        vertical-align: middle;\n",
       "    }\n",
       "\n",
       "    .dataframe tbody tr th {\n",
       "        vertical-align: top;\n",
       "    }\n",
       "\n",
       "    .dataframe thead th {\n",
       "        text-align: right;\n",
       "    }\n",
       "</style>\n",
       "<table border=\"1\" class=\"dataframe\">\n",
       "  <thead>\n",
       "    <tr style=\"text-align: right;\">\n",
       "      <th></th>\n",
       "      <th>Date</th>\n",
       "      <th>Nike</th>\n",
       "      <th>Ralph Lauren</th>\n",
       "      <th>S&amp;P 500</th>\n",
       "      <th>UUP</th>\n",
       "      <th>Nike Returns</th>\n",
       "    </tr>\n",
       "  </thead>\n",
       "  <tbody>\n",
       "    <tr>\n",
       "      <th>0</th>\n",
       "      <td>2008-01-09</td>\n",
       "      <td>NaN</td>\n",
       "      <td>NaN</td>\n",
       "      <td>NaN</td>\n",
       "      <td>NaN</td>\n",
       "      <td>NaN</td>\n",
       "    </tr>\n",
       "    <tr>\n",
       "      <th>1</th>\n",
       "      <td>2008-01-10</td>\n",
       "      <td>9.762588</td>\n",
       "      <td>41.688194</td>\n",
       "      <td>968.750000</td>\n",
       "      <td>26.298273</td>\n",
       "      <td>NaN</td>\n",
       "    </tr>\n",
       "    <tr>\n",
       "      <th>2</th>\n",
       "      <td>2008-01-11</td>\n",
       "      <td>9.020608</td>\n",
       "      <td>38.179581</td>\n",
       "      <td>896.239990</td>\n",
       "      <td>26.347893</td>\n",
       "      <td>-0.076002</td>\n",
       "    </tr>\n",
       "    <tr>\n",
       "      <th>3</th>\n",
       "      <td>2008-01-12</td>\n",
       "      <td>8.639458</td>\n",
       "      <td>40.132740</td>\n",
       "      <td>903.250000</td>\n",
       "      <td>24.502052</td>\n",
       "      <td>-0.042253</td>\n",
       "    </tr>\n",
       "    <tr>\n",
       "      <th>4</th>\n",
       "      <td>2009-01-01</td>\n",
       "      <td>7.815672</td>\n",
       "      <td>36.303810</td>\n",
       "      <td>825.880005</td>\n",
       "      <td>25.925570</td>\n",
       "      <td>-0.095352</td>\n",
       "    </tr>\n",
       "  </tbody>\n",
       "</table>\n",
       "</div>"
      ],
      "text/plain": [
       "        Date      Nike  Ralph Lauren     S&P 500        UUP  Nike Returns\n",
       "0 2008-01-09       NaN           NaN         NaN        NaN           NaN\n",
       "1 2008-01-10  9.762588     41.688194  968.750000  26.298273           NaN\n",
       "2 2008-01-11  9.020608     38.179581  896.239990  26.347893     -0.076002\n",
       "3 2008-01-12  8.639458     40.132740  903.250000  24.502052     -0.042253\n",
       "4 2009-01-01  7.815672     36.303810  825.880005  25.925570     -0.095352"
      ]
     },
     "execution_count": 9,
     "metadata": {},
     "output_type": "execute_result"
    }
   ],
   "source": [
    "combined_data['Nike Returns'] = combined_data['Nike'].pct_change()\n",
    "\n",
    "combined_data.head()"
   ]
  },
  {
   "cell_type": "code",
   "execution_count": 10,
   "metadata": {},
   "outputs": [
    {
     "data": {
      "text/html": [
       "<div>\n",
       "<style scoped>\n",
       "    .dataframe tbody tr th:only-of-type {\n",
       "        vertical-align: middle;\n",
       "    }\n",
       "\n",
       "    .dataframe tbody tr th {\n",
       "        vertical-align: top;\n",
       "    }\n",
       "\n",
       "    .dataframe thead th {\n",
       "        text-align: right;\n",
       "    }\n",
       "</style>\n",
       "<table border=\"1\" class=\"dataframe\">\n",
       "  <thead>\n",
       "    <tr style=\"text-align: right;\">\n",
       "      <th></th>\n",
       "      <th>Date</th>\n",
       "      <th>Nike</th>\n",
       "      <th>Ralph Lauren</th>\n",
       "      <th>S&amp;P 500</th>\n",
       "      <th>UUP</th>\n",
       "      <th>Nike Returns</th>\n",
       "      <th>Ralph Lauren Returns</th>\n",
       "      <th>S&amp;P 500 Returns</th>\n",
       "      <th>UUP Returns</th>\n",
       "    </tr>\n",
       "  </thead>\n",
       "  <tbody>\n",
       "    <tr>\n",
       "      <th>0</th>\n",
       "      <td>2008-01-09</td>\n",
       "      <td>NaN</td>\n",
       "      <td>NaN</td>\n",
       "      <td>NaN</td>\n",
       "      <td>NaN</td>\n",
       "      <td>NaN</td>\n",
       "      <td>NaN</td>\n",
       "      <td>NaN</td>\n",
       "      <td>NaN</td>\n",
       "    </tr>\n",
       "    <tr>\n",
       "      <th>1</th>\n",
       "      <td>2008-01-10</td>\n",
       "      <td>9.762588</td>\n",
       "      <td>41.688194</td>\n",
       "      <td>968.750000</td>\n",
       "      <td>26.298273</td>\n",
       "      <td>NaN</td>\n",
       "      <td>NaN</td>\n",
       "      <td>NaN</td>\n",
       "      <td>NaN</td>\n",
       "    </tr>\n",
       "    <tr>\n",
       "      <th>2</th>\n",
       "      <td>2008-01-11</td>\n",
       "      <td>9.020608</td>\n",
       "      <td>38.179581</td>\n",
       "      <td>896.239990</td>\n",
       "      <td>26.347893</td>\n",
       "      <td>-0.076002</td>\n",
       "      <td>-0.084163</td>\n",
       "      <td>-0.074849</td>\n",
       "      <td>0.001887</td>\n",
       "    </tr>\n",
       "    <tr>\n",
       "      <th>3</th>\n",
       "      <td>2008-01-12</td>\n",
       "      <td>8.639458</td>\n",
       "      <td>40.132740</td>\n",
       "      <td>903.250000</td>\n",
       "      <td>24.502052</td>\n",
       "      <td>-0.042253</td>\n",
       "      <td>0.051157</td>\n",
       "      <td>0.007822</td>\n",
       "      <td>-0.070056</td>\n",
       "    </tr>\n",
       "    <tr>\n",
       "      <th>4</th>\n",
       "      <td>2009-01-01</td>\n",
       "      <td>7.815672</td>\n",
       "      <td>36.303810</td>\n",
       "      <td>825.880005</td>\n",
       "      <td>25.925570</td>\n",
       "      <td>-0.095352</td>\n",
       "      <td>-0.095407</td>\n",
       "      <td>-0.085657</td>\n",
       "      <td>0.058098</td>\n",
       "    </tr>\n",
       "  </tbody>\n",
       "</table>\n",
       "</div>"
      ],
      "text/plain": [
       "        Date      Nike  Ralph Lauren     S&P 500        UUP  Nike Returns  \\\n",
       "0 2008-01-09       NaN           NaN         NaN        NaN           NaN   \n",
       "1 2008-01-10  9.762588     41.688194  968.750000  26.298273           NaN   \n",
       "2 2008-01-11  9.020608     38.179581  896.239990  26.347893     -0.076002   \n",
       "3 2008-01-12  8.639458     40.132740  903.250000  24.502052     -0.042253   \n",
       "4 2009-01-01  7.815672     36.303810  825.880005  25.925570     -0.095352   \n",
       "\n",
       "   Ralph Lauren Returns  S&P 500 Returns  UUP Returns  \n",
       "0                   NaN              NaN          NaN  \n",
       "1                   NaN              NaN          NaN  \n",
       "2             -0.084163        -0.074849     0.001887  \n",
       "3              0.051157         0.007822    -0.070056  \n",
       "4             -0.095407        -0.085657     0.058098  "
      ]
     },
     "execution_count": 10,
     "metadata": {},
     "output_type": "execute_result"
    }
   ],
   "source": [
    "combined_data['Ralph Lauren Returns'] = combined_data['Ralph Lauren'].pct_change()\n",
    "combined_data['S&P 500 Returns'] = combined_data['S&P 500'].pct_change()\n",
    "combined_data['UUP Returns'] = combined_data['UUP'].pct_change()\n",
    "\n",
    "combined_data.head()"
   ]
  },
  {
   "cell_type": "code",
   "execution_count": 11,
   "metadata": {},
   "outputs": [
    {
     "data": {
      "text/html": [
       "<div>\n",
       "<style scoped>\n",
       "    .dataframe tbody tr th:only-of-type {\n",
       "        vertical-align: middle;\n",
       "    }\n",
       "\n",
       "    .dataframe tbody tr th {\n",
       "        vertical-align: top;\n",
       "    }\n",
       "\n",
       "    .dataframe thead th {\n",
       "        text-align: right;\n",
       "    }\n",
       "</style>\n",
       "<table border=\"1\" class=\"dataframe\">\n",
       "  <thead>\n",
       "    <tr style=\"text-align: right;\">\n",
       "      <th></th>\n",
       "      <th>Date</th>\n",
       "      <th>Nike</th>\n",
       "      <th>Ralph Lauren</th>\n",
       "      <th>S&amp;P 500</th>\n",
       "      <th>UUP</th>\n",
       "      <th>Nike Returns</th>\n",
       "      <th>Ralph Lauren Returns</th>\n",
       "      <th>S&amp;P 500 Returns</th>\n",
       "      <th>UUP Returns</th>\n",
       "    </tr>\n",
       "  </thead>\n",
       "  <tbody>\n",
       "    <tr>\n",
       "      <th>2</th>\n",
       "      <td>2008-01-11</td>\n",
       "      <td>9.020608</td>\n",
       "      <td>38.179581</td>\n",
       "      <td>896.239990</td>\n",
       "      <td>26.347893</td>\n",
       "      <td>-0.076002</td>\n",
       "      <td>-0.084163</td>\n",
       "      <td>-0.074849</td>\n",
       "      <td>0.001887</td>\n",
       "    </tr>\n",
       "    <tr>\n",
       "      <th>3</th>\n",
       "      <td>2008-01-12</td>\n",
       "      <td>8.639458</td>\n",
       "      <td>40.132740</td>\n",
       "      <td>903.250000</td>\n",
       "      <td>24.502052</td>\n",
       "      <td>-0.042253</td>\n",
       "      <td>0.051157</td>\n",
       "      <td>0.007822</td>\n",
       "      <td>-0.070056</td>\n",
       "    </tr>\n",
       "    <tr>\n",
       "      <th>4</th>\n",
       "      <td>2009-01-01</td>\n",
       "      <td>7.815672</td>\n",
       "      <td>36.303810</td>\n",
       "      <td>825.880005</td>\n",
       "      <td>25.925570</td>\n",
       "      <td>-0.095352</td>\n",
       "      <td>-0.095407</td>\n",
       "      <td>-0.085657</td>\n",
       "      <td>0.058098</td>\n",
       "    </tr>\n",
       "    <tr>\n",
       "      <th>5</th>\n",
       "      <td>2009-01-02</td>\n",
       "      <td>7.173147</td>\n",
       "      <td>30.499441</td>\n",
       "      <td>735.090027</td>\n",
       "      <td>26.455070</td>\n",
       "      <td>-0.082210</td>\n",
       "      <td>-0.159883</td>\n",
       "      <td>-0.109931</td>\n",
       "      <td>0.020424</td>\n",
       "    </tr>\n",
       "    <tr>\n",
       "      <th>6</th>\n",
       "      <td>2009-01-03</td>\n",
       "      <td>8.098936</td>\n",
       "      <td>37.383286</td>\n",
       "      <td>797.869995</td>\n",
       "      <td>25.615860</td>\n",
       "      <td>0.129063</td>\n",
       "      <td>0.225704</td>\n",
       "      <td>0.085404</td>\n",
       "      <td>-0.031722</td>\n",
       "    </tr>\n",
       "  </tbody>\n",
       "</table>\n",
       "</div>"
      ],
      "text/plain": [
       "        Date      Nike  Ralph Lauren     S&P 500        UUP  Nike Returns  \\\n",
       "2 2008-01-11  9.020608     38.179581  896.239990  26.347893     -0.076002   \n",
       "3 2008-01-12  8.639458     40.132740  903.250000  24.502052     -0.042253   \n",
       "4 2009-01-01  7.815672     36.303810  825.880005  25.925570     -0.095352   \n",
       "5 2009-01-02  7.173147     30.499441  735.090027  26.455070     -0.082210   \n",
       "6 2009-01-03  8.098936     37.383286  797.869995  25.615860      0.129063   \n",
       "\n",
       "   Ralph Lauren Returns  S&P 500 Returns  UUP Returns  \n",
       "2             -0.084163        -0.074849     0.001887  \n",
       "3              0.051157         0.007822    -0.070056  \n",
       "4             -0.095407        -0.085657     0.058098  \n",
       "5             -0.159883        -0.109931     0.020424  \n",
       "6              0.225704         0.085404    -0.031722  "
      ]
     },
     "execution_count": 11,
     "metadata": {},
     "output_type": "execute_result"
    }
   ],
   "source": [
    "combined_data = combined_data.dropna()\n",
    "\n",
    "combined_data.head()"
   ]
  },
  {
   "cell_type": "code",
   "execution_count": 12,
   "metadata": {},
   "outputs": [
    {
     "data": {
      "text/html": [
       "<div>\n",
       "<style scoped>\n",
       "    .dataframe tbody tr th:only-of-type {\n",
       "        vertical-align: middle;\n",
       "    }\n",
       "\n",
       "    .dataframe tbody tr th {\n",
       "        vertical-align: top;\n",
       "    }\n",
       "\n",
       "    .dataframe thead th {\n",
       "        text-align: right;\n",
       "    }\n",
       "</style>\n",
       "<table border=\"1\" class=\"dataframe\">\n",
       "  <thead>\n",
       "    <tr style=\"text-align: right;\">\n",
       "      <th></th>\n",
       "      <th>Date</th>\n",
       "      <th>Nike</th>\n",
       "      <th>Ralph Lauren</th>\n",
       "      <th>S&amp;P 500</th>\n",
       "      <th>UUP</th>\n",
       "      <th>Nike Returns</th>\n",
       "      <th>Ralph Lauren Returns</th>\n",
       "      <th>S&amp;P 500 Returns</th>\n",
       "      <th>UUP Returns</th>\n",
       "    </tr>\n",
       "  </thead>\n",
       "  <tbody>\n",
       "    <tr>\n",
       "      <th>116</th>\n",
       "      <td>2018-01-05</td>\n",
       "      <td>71.424080</td>\n",
       "      <td>133.307510</td>\n",
       "      <td>2705.270020</td>\n",
       "      <td>24.760000</td>\n",
       "      <td>0.049861</td>\n",
       "      <td>0.225125</td>\n",
       "      <td>0.021608</td>\n",
       "      <td>0.026109</td>\n",
       "    </tr>\n",
       "    <tr>\n",
       "      <th>117</th>\n",
       "      <td>2018-01-06</td>\n",
       "      <td>79.262825</td>\n",
       "      <td>124.531288</td>\n",
       "      <td>2718.370117</td>\n",
       "      <td>24.940001</td>\n",
       "      <td>0.109749</td>\n",
       "      <td>-0.065834</td>\n",
       "      <td>0.004842</td>\n",
       "      <td>0.007270</td>\n",
       "    </tr>\n",
       "    <tr>\n",
       "      <th>118</th>\n",
       "      <td>2018-01-07</td>\n",
       "      <td>76.721031</td>\n",
       "      <td>134.366180</td>\n",
       "      <td>2816.290039</td>\n",
       "      <td>24.980000</td>\n",
       "      <td>-0.032068</td>\n",
       "      <td>0.078975</td>\n",
       "      <td>0.036022</td>\n",
       "      <td>0.001604</td>\n",
       "    </tr>\n",
       "    <tr>\n",
       "      <th>119</th>\n",
       "      <td>2018-01-08</td>\n",
       "      <td>81.998032</td>\n",
       "      <td>132.206055</td>\n",
       "      <td>2901.520020</td>\n",
       "      <td>25.190001</td>\n",
       "      <td>0.068782</td>\n",
       "      <td>-0.016076</td>\n",
       "      <td>0.030263</td>\n",
       "      <td>0.008407</td>\n",
       "    </tr>\n",
       "    <tr>\n",
       "      <th>120</th>\n",
       "      <td>2018-01-09</td>\n",
       "      <td>84.720001</td>\n",
       "      <td>136.924500</td>\n",
       "      <td>2913.979980</td>\n",
       "      <td>25.260000</td>\n",
       "      <td>0.033196</td>\n",
       "      <td>0.035690</td>\n",
       "      <td>0.004294</td>\n",
       "      <td>0.002779</td>\n",
       "    </tr>\n",
       "  </tbody>\n",
       "</table>\n",
       "</div>"
      ],
      "text/plain": [
       "          Date       Nike  Ralph Lauren      S&P 500        UUP  Nike Returns  \\\n",
       "116 2018-01-05  71.424080    133.307510  2705.270020  24.760000      0.049861   \n",
       "117 2018-01-06  79.262825    124.531288  2718.370117  24.940001      0.109749   \n",
       "118 2018-01-07  76.721031    134.366180  2816.290039  24.980000     -0.032068   \n",
       "119 2018-01-08  81.998032    132.206055  2901.520020  25.190001      0.068782   \n",
       "120 2018-01-09  84.720001    136.924500  2913.979980  25.260000      0.033196   \n",
       "\n",
       "     Ralph Lauren Returns  S&P 500 Returns  UUP Returns  \n",
       "116              0.225125         0.021608     0.026109  \n",
       "117             -0.065834         0.004842     0.007270  \n",
       "118              0.078975         0.036022     0.001604  \n",
       "119             -0.016076         0.030263     0.008407  \n",
       "120              0.035690         0.004294     0.002779  "
      ]
     },
     "execution_count": 12,
     "metadata": {},
     "output_type": "execute_result"
    }
   ],
   "source": [
    "combined_data.tail()"
   ]
  },
  {
   "cell_type": "markdown",
   "metadata": {},
   "source": [
    "### Let us consider the regression of Nike's stocks versus SnP500. Nike returns will be our y variable and snp_returns our x variable."
   ]
  },
  {
   "cell_type": "markdown",
   "metadata": {},
   "source": [
    "Using the reshape function to convert the X data to be in the specific format for regression - a dimension of 1 dimensional arrays . Every element in this X array is an array with just 1 element. Y can be in any format. "
   ]
  },
  {
   "cell_type": "code",
   "execution_count": 13,
   "metadata": {
    "collapsed": true
   },
   "outputs": [],
   "source": [
    "x = combined_data[\"S&P 500 Returns\"].values.reshape(-1,1)\n",
    "y = combined_data[\"Nike Returns\"]"
   ]
  },
  {
   "cell_type": "markdown",
   "metadata": {},
   "source": [
    "We will use scikit learn library for regression"
   ]
  },
  {
   "cell_type": "code",
   "execution_count": 14,
   "metadata": {
    "collapsed": true
   },
   "outputs": [],
   "source": [
    "from sklearn import datasets, linear_model"
   ]
  },
  {
   "cell_type": "markdown",
   "metadata": {},
   "source": [
    "#### Importing the linear regression class"
   ]
  },
  {
   "cell_type": "code",
   "execution_count": 15,
   "metadata": {
    "collapsed": true
   },
   "outputs": [],
   "source": [
    "reg_obj = linear_model.LinearRegression()"
   ]
  },
  {
   "cell_type": "markdown",
   "metadata": {},
   "source": [
    "#### We fit this object on our X and Y data . Displays the linear regression object"
   ]
  },
  {
   "cell_type": "code",
   "execution_count": 16,
   "metadata": {},
   "outputs": [
    {
     "data": {
      "text/plain": [
       "LinearRegression(copy_X=True, fit_intercept=True, n_jobs=1, normalize=False)"
      ]
     },
     "execution_count": 16,
     "metadata": {},
     "output_type": "execute_result"
    }
   ],
   "source": [
    "reg_obj.fit(x,y)"
   ]
  },
  {
   "cell_type": "markdown",
   "metadata": {},
   "source": [
    "#### Measure the R-square value"
   ]
  },
  {
   "cell_type": "code",
   "execution_count": 17,
   "metadata": {},
   "outputs": [
    {
     "data": {
      "text/plain": [
       "0.03943934269306737"
      ]
     },
     "execution_count": 17,
     "metadata": {},
     "output_type": "execute_result"
    }
   ],
   "source": [
    "reg_obj.score(x,y)"
   ]
  },
  {
   "cell_type": "code",
   "execution_count": 18,
   "metadata": {},
   "outputs": [
    {
     "data": {
      "text/plain": [
       "array([0.59764287])"
      ]
     },
     "execution_count": 18,
     "metadata": {},
     "output_type": "execute_result"
    }
   ],
   "source": [
    "reg_obj.coef_"
   ]
  },
  {
   "cell_type": "code",
   "execution_count": 19,
   "metadata": {},
   "outputs": [
    {
     "data": {
      "text/plain": [
       "0.017989270964071262"
      ]
     },
     "execution_count": 19,
     "metadata": {},
     "output_type": "execute_result"
    }
   ],
   "source": [
    "reg_obj.intercept_"
   ]
  },
  {
   "cell_type": "code",
   "execution_count": 20,
   "metadata": {
    "collapsed": true
   },
   "outputs": [],
   "source": [
    "import matplotlib.pyplot as plt"
   ]
  },
  {
   "cell_type": "code",
   "execution_count": 21,
   "metadata": {},
   "outputs": [
    {
     "data": {
      "image/png": "[encoded data removed]",
      "text/plain": [
       "<matplotlib.figure.Figure at 0x11db01b38>"
      ]
     },
     "metadata": {},
     "output_type": "display_data"
    }
   ],
   "source": [
    "plt.scatter(x,y, color='cyan')\n",
    "\n",
    "plt.plot(x, reg_obj.predict(x),\n",
    "         color='blue', \n",
    "         linewidth=3)\n",
    "\n",
    "plt.show()"
   ]
  },
  {
   "cell_type": "code",
   "execution_count": null,
   "metadata": {
    "collapsed": true
   },
   "outputs": [],
   "source": []
  },
  {
   "cell_type": "code",
   "execution_count": null,
   "metadata": {
    "collapsed": true
   },
   "outputs": [],
   "source": []
  },
  {
   "cell_type": "markdown",
   "metadata": {},
   "source": [
    "#### Let us now consider the regression of Ralph Lauren versus SnP500"
   ]
  },
  {
   "cell_type": "code",
   "execution_count": 22,
   "metadata": {
    "collapsed": true
   },
   "outputs": [],
   "source": [
    "x1 = combined_data[\"S&P 500 Returns\"].values.reshape(-1,1)\n",
    "y1 = combined_data[\"Ralph Lauren Returns\"]"
   ]
  },
  {
   "cell_type": "code",
   "execution_count": 23,
   "metadata": {},
   "outputs": [
    {
     "data": {
      "text/plain": [
       "LinearRegression(copy_X=True, fit_intercept=True, n_jobs=1, normalize=False)"
      ]
     },
     "execution_count": 23,
     "metadata": {},
     "output_type": "execute_result"
    }
   ],
   "source": [
    "reg_obj.fit(x1,y1)"
   ]
  },
  {
   "cell_type": "code",
   "execution_count": 24,
   "metadata": {},
   "outputs": [
    {
     "data": {
      "text/plain": [
       "0.30959404151648556"
      ]
     },
     "execution_count": 24,
     "metadata": {},
     "output_type": "execute_result"
    }
   ],
   "source": [
    "reg_obj.score(x1,y1)"
   ]
  },
  {
   "cell_type": "code",
   "execution_count": 25,
   "metadata": {},
   "outputs": [
    {
     "data": {
      "text/plain": [
       "array([1.27215466])"
      ]
     },
     "execution_count": 25,
     "metadata": {},
     "output_type": "execute_result"
    }
   ],
   "source": [
    "reg_obj.coef_"
   ]
  },
  {
   "cell_type": "code",
   "execution_count": 26,
   "metadata": {},
   "outputs": [
    {
     "data": {
      "text/plain": [
       "0.0010357482604950695"
      ]
     },
     "execution_count": 26,
     "metadata": {},
     "output_type": "execute_result"
    }
   ],
   "source": [
    "reg_obj.intercept_"
   ]
  },
  {
   "cell_type": "code",
   "execution_count": 27,
   "metadata": {},
   "outputs": [
    {
     "data": {
      "image/png": "[encoded data removed]",
      "text/plain": [
       "<matplotlib.figure.Figure at 0x11db8b588>"
      ]
     },
     "metadata": {},
     "output_type": "display_data"
    }
   ],
   "source": [
    "plt.scatter(x1, y1, \n",
    "            color='grey')\n",
    "plt.plot(x1,\n",
    "         reg_obj.predict(x1),\n",
    "         color='black', \n",
    "         linewidth=2)\n",
    "\n",
    "plt.show()"
   ]
  },
  {
   "cell_type": "code",
   "execution_count": null,
   "metadata": {
    "collapsed": true
   },
   "outputs": [],
   "source": []
  },
  {
   "cell_type": "code",
   "execution_count": null,
   "metadata": {
    "collapsed": true
   },
   "outputs": [],
   "source": []
  },
  {
   "cell_type": "code",
   "execution_count": null,
   "metadata": {
    "collapsed": true
   },
   "outputs": [],
   "source": []
  }
 ],
 "metadata": {
  "kernelspec": {
   "display_name": "Python 3",
   "language": "python",
   "name": "python3"
  },
  "language_info": {
   "codemirror_mode": {
    "name": "ipython",
    "version": 3
   },
   "file_extension": ".py",
   "mimetype": "text/x-python",
   "name": "python",
   "nbconvert_exporter": "python",
   "pygments_lexer": "ipython3",
   "version": "3.6.3"
  }
 },
 "nbformat": 4,
 "nbformat_minor": 2
}
