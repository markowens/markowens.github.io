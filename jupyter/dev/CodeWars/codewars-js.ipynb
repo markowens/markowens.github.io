{
 "cells": [
  {
   "cell_type": "markdown",
   "metadata": {},
   "source": [
    "### Recurisive Replication (7 kyu)"
   ]
  },
  {
   "cell_type": "raw",
   "metadata": {},
   "source": [
    "You need to design a recursive function called replicate which will receive arguments times and number.\n",
    "\n",
    "The function should return an array containing repetitions of the number argument. For instance, replicate(3, 5) should return [5,5,5]. If the times argument is negative, return an empty array.\n",
    "\n",
    "As tempting as it may seem, do not use loops to solve this problem.\n"
   ]
  },
  {
   "cell_type": "code",
   "execution_count": 3,
   "metadata": {},
   "outputs": [],
   "source": [
    "function replicate(times, number) {\n",
    "  if (times<=0) return [];\n",
    "    return Array(times).fill(number)\n",
    "}\n",
    "\n",
    "//The first method I think out :)\n",
    "/*function replicate(times, number) {\n",
    " *  return Array.from({length: times}).map(a => number);\n",
    " *}\n",
    " */\n",
    "\n",
    "//but according to request, I should use recursion, so...\n",
    "function replicate(times, number) {\n",
    "  return times < 1? [] : [number].concat(replicate(times - 1, number));\n",
    "}"
   ]
  }
 ],
 "metadata": {
  "kernelspec": {
   "display_name": "Javascript (Node.js)",
   "language": "javascript",
   "name": "javascript"
  },
  "language_info": {
   "file_extension": ".js",
   "mimetype": "application/javascript",
   "name": "javascript",
   "version": "8.11.2"
  }
 },
 "nbformat": 4,
 "nbformat_minor": 2
}
