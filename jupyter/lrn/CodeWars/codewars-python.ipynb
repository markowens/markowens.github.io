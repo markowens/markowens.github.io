{
 "cells": [
  {
   "cell_type": "markdown",
   "metadata": {},
   "source": [
    "### Evaluuate mathematical expression"
   ]
  },
  {
   "cell_type": "raw",
   "metadata": {},
   "source": [
    "Instructions\n",
    "\n",
    "Given a mathematical expression as a string you must return the result as a number.\n",
    "Numbers\n",
    "\n",
    "Number may be both whole numbers and/or decimal numbers. The same goes for the returned result.\n",
    "Operators\n",
    "\n",
    "You need to support the following mathematical operators:\n",
    "\n",
    "    Multiplication *\n",
    "    Division / (as true division)\n",
    "    Addition +\n",
    "    Subtraction -\n",
    "\n",
    "Operators are always evaluated from left-to-right, and * and / must be evaluated before + and -.\n",
    "Parentheses\n",
    "\n",
    "You need to support multiple levels of nested parentheses, ex. (2 / (2 + 3.33) * 4) - -6\n",
    "Whitespace\n",
    "\n",
    "There may or may not be whitespace between numbers and operators.\n",
    "\n",
    "An addition to this rule is that the minus sign (-) used for negating numbers and parentheses will never be separated by whitespace. I.e., all of the following are valid expressions.\n",
    "\n",
    "1-1    // 0\n",
    "1 -1   // 0\n",
    "1- 1   // 0\n",
    "1 - 1  // 0\n",
    "1- -1  // 2\n",
    "1 - -1 // 2\n",
    "\n",
    "6 + -(4)   // 2\n",
    "6 + -( -4) // 10\n",
    "\n",
    "And the following are invalid expressions\n",
    "\n",
    "1 - - 1    // Invalid\n",
    "1- - 1     // Invalid\n",
    "6 + - (4)  // Invalid\n",
    "6 + -(- 4) // Invalid\n",
    "\n",
    "Validation\n",
    "\n",
    "You do not need to worry about validation - you will only receive valid mathematical expressions following the above rules.\n",
    "\n",
    "NOTE: Both eval and Function are disabled. Same goes for String.match.\n",
    "\n",
    "(expression trees)\n",
    "Algorithms\n",
    "Mathematics\n",
    "Numbers\n",
    "Expressions\n",
    "Basic Language Features\n",
    "Fundamentals\n",
    "Operators\n",
    "Parsing\n",
    "Strings\n",
    "\n",
    "tests = [\n",
    "    [\"1 + 1\", 2],\n",
    "    [\"8/16\", 0.5],\n",
    "    [\"3 -(-1)\", 4],\n",
    "    [\"2 + -2\", 0],\n",
    "    [\"10- 2- -5\", 13],\n",
    "    [\"(((10)))\", 10],\n",
    "    [\"3 * 5\", 15],\n",
    "    [\"-7 * -(6 / 3)\", 14]\n",
    "]\n",
    "\n",
    "for test in tests:\n",
    "    Test.assert_equals(calc(test[0]), test[1])"
   ]
  },
  {
   "cell_type": "code",
   "execution_count": null,
   "metadata": {},
   "outputs": [],
   "source": []
  },
  {
   "cell_type": "markdown",
   "metadata": {},
   "source": [
    "### Calculator (3)"
   ]
  },
  {
   "cell_type": "raw",
   "metadata": {},
   "source": [
    "Create a simple calculator that given a string of operators (), +, -, *, / and numbers separated by spaces returns the value of that expression\n",
    "\n",
    "Example:\n",
    "\n",
    "Calculator().evaluate(\"2 / 2 + 3 * 4 - 6\") # => 7\n",
    "\n",
    "Remember about the order of operations! Multiplications and divisions have a higher priority and should be performed left-to-right. Additions and subtractions have a lower priority and should also be performed left-to-right.\n",
    "\n",
    "import codewars_test as test\n",
    "# TODO Write tests\n",
    "import solution # or from solution import example\n",
    "\n",
    "# test.assert_equals(actual, expected, [optional] message)\n",
    "@test.describe(\"Example\")\n",
    "def test_group():\n",
    "    @test.it(\"test case\")\n",
    "    def test_case():\n",
    "        test.assert_equals(1 + 1, 2)"
   ]
  },
  {
   "cell_type": "code",
   "execution_count": null,
   "metadata": {},
   "outputs": [],
   "source": []
  },
  {
   "cell_type": "markdown",
   "metadata": {},
   "source": [
    "### * Sum Arrays (8)"
   ]
  },
  {
   "cell_type": "raw",
   "metadata": {},
   "source": [
    "Write a method sum (sum_array in python, sumarray in julia, SumArray in C#) that takes an array of numbers and returns the sum of the numbers. These may be integers or decimals for Ruby and any instance of Num for Haskell. The numbers can also be negative. If the array does not contain any numbers then you should return 0.\n",
    "Examples\n",
    "\n",
    "print sum_array([1 2 3])\n",
    "> 6\n",
    "print sum_array([])\n",
    "> 0\n",
    "\n",
    "Assumptions\n",
    "\n",
    "    You can assume that you are only given numbers.\n",
    "    You cannot assume the size of the array.\n",
    "    You can assume that you do get an array and if the array is empty, return 0.\n",
    "\n"
   ]
  },
  {
   "cell_type": "code",
   "execution_count": 28,
   "metadata": {},
   "outputs": [],
   "source": [
    "def sum_array(a):\n",
    "    return sum([i for i in a])\n",
    "\n",
    "def sum_array(a):\n",
    "    return sum(a)"
   ]
  },
  {
   "cell_type": "markdown",
   "metadata": {},
   "source": [
    "### * Check the Exam (8)"
   ]
  },
  {
   "cell_type": "raw",
   "metadata": {},
   "source": [
    "The first input array is the key to the correct answers to an exam, like [\"a\", \"a\", \"b\", \"d\"]. The second one contains a student's submitted answers.\n",
    "\n",
    "The two arrays are not empty and are the same length. Return the score for this array of answers, giving +4 for each correct answer, -1 for each incorrect answer, and +0 for each blank answer, represented as an empty string (in C the space character is used).\n",
    "\n",
    "If the score < 0, return 0.\n",
    "\n",
    "For example:\n",
    "\n",
    "checkExam([\"a\", \"a\", \"b\", \"b\"], [\"a\", \"c\", \"b\", \"d\"]) → 6\n",
    "checkExam([\"a\", \"a\", \"c\", \"b\"], [\"a\", \"a\", \"b\",  \"\"]) → 7\n",
    "checkExam([\"a\", \"a\", \"b\", \"c\"], [\"a\", \"a\", \"b\", \"c\"]) → 16\n",
    "checkExam([\"b\", \"c\", \"b\", \"a\"], [\"\",  \"a\", \"a\", \"c\"]) → 0"
   ]
  },
  {
   "cell_type": "code",
   "execution_count": 27,
   "metadata": {},
   "outputs": [],
   "source": [
    "def check_exam(arr1,arr2):\n",
    "    correct = sum([4 for i in range(len(arr1)) if arr1[i] == arr2[i]])\n",
    "    wrong = sum([-1 for i in range(len(arr1)) if arr1[i] != arr2[i] and arr2[i] != ''])\n",
    "    return max(correct + wrong, 0)\n",
    "\n",
    "def check_exam(arr1, arr2):\n",
    "    return max(0, sum(4 if a == b else -1 for a, b in zip(arr1, arr2) if b))"
   ]
  },
  {
   "cell_type": "markdown",
   "metadata": {},
   "source": [
    "### * Over The Road (7)"
   ]
  },
  {
   "cell_type": "raw",
   "metadata": {},
   "source": [
    "Task\n",
    "\n",
    "You've just moved into a perfectly straight street with exactly n identical houses on either side of the road. Naturally, you would like to find out the house number of the people on the other side of the street. The street looks something like this:\n",
    "Street\n",
    "\n",
    "1|   |6\n",
    "3|   |4\n",
    "5|   |2\n",
    "\n",
    "\n",
    "Evens increase on the right; odds decrease on the left. House numbers start at 1 and increase without gaps. When n = 3, 1 is opposite 6, 3 opposite 4, and 5 opposite 2.\n",
    "Example\n",
    "\n",
    "Given your house number address and length of street n, give the house number on the opposite side of the street.\n",
    "\n",
    "over_the_road(address, n)\n",
    "over_the_road(1, 3) = 6\n",
    "over_the_road(3, 3) = 4\n",
    "over_the_road(2, 3) = 5\n",
    "over_the_road(3, 5) = 8\n"
   ]
  },
  {
   "cell_type": "code",
   "execution_count": 5,
   "metadata": {},
   "outputs": [],
   "source": [
    "def over_the_road(address, n):\n",
    "    if address%2 == 0:\n",
    "        return (2*n - address) + 1\n",
    "    else:\n",
    "        return 2*n - 2*(address//2)\n",
    "    \n",
    "def over_the_road(address, n):\n",
    "    '''\n",
    "    Input: address (int, your house number), n (int, length of road in houses) \n",
    "    Returns: int, number of the house across from your house. \n",
    "    '''\n",
    "    # this is as much a math problem as a coding one \n",
    "    # if your house is [even/odd], the opposite house will be [odd/even] \n",
    "    # highest number on street is 2n \n",
    "    # Left side houses are [1, 3, ... 2n-3, 2n-1] \n",
    "    # Right side houses are [2n, 2n-2, ... 4, 2] \n",
    "    # Sum of opposite house numbers will always be 2n+1 \n",
    "    return (2*n + 1 - address)     "
   ]
  },
  {
   "cell_type": "markdown",
   "metadata": {},
   "source": [
    "### * Format a string of names like 'Bart, Lisa & Maggie'. (6)"
   ]
  },
  {
   "cell_type": "raw",
   "metadata": {},
   "source": [
    "Given: an array containing hashes of names\n",
    "\n",
    "Return: a string formatted as a list of names separated by commas except for the last two names, which should be separated by an ampersand.\n",
    "\n",
    "Example:\n",
    "\n",
    "namelist([ {'name': 'Bart'}, {'name': 'Lisa'}, {'name': 'Maggie'} ])\n",
    "# returns 'Bart, Lisa & Maggie'\n",
    "\n",
    "namelist([ {'name': 'Bart'}, {'name': 'Lisa'} ])\n",
    "# returns 'Bart & Lisa'\n",
    "\n",
    "namelist([ {'name': 'Bart'} ])\n",
    "# returns 'Bart'\n",
    "\n",
    "namelist([])\n",
    "# returns ''\n",
    "\n",
    "Note: all the hashes are pre-validated and will only contain A-Z, a-z, '-' and '.'.\n"
   ]
  },
  {
   "cell_type": "code",
   "execution_count": 6,
   "metadata": {},
   "outputs": [],
   "source": [
    "def namelist(names):\n",
    "    output = ''\n",
    "    namelist = []\n",
    "    for i in range(len(names)):\n",
    "        namelist.append(names[i]['name'])\n",
    "    if len(namelist) > 1:\n",
    "        output = \", \".join([str(item) for item in namelist[:-1]]) + \" & \" + namelist[-1]\n",
    "    elif len(namelist) == 1:\n",
    "        output = namelist[-1]\n",
    "    return output\n",
    "\n",
    "def namelist(names):\n",
    "    if len(names) > 1:\n",
    "        return '{} & {}'.format(', '.join(name['name'] for name in names[:-1]), \n",
    "                                names[-1]['name'])\n",
    "    elif names:\n",
    "        return names[0]['name']\n",
    "    else:\n",
    "        return ''"
   ]
  },
  {
   "cell_type": "markdown",
   "metadata": {},
   "source": [
    "### * Isograms (7)"
   ]
  },
  {
   "cell_type": "raw",
   "metadata": {},
   "source": [
    "An isogram is a word that has no repeating letters, consecutive or non-consecutive. Implement a function that determines whether a string that contains only letters is an isogram. Assume the empty string is an isogram. Ignore letter case.\n",
    "\n",
    "is_isogram(\"Dermatoglyphics\" ) == true\n",
    "is_isogram(\"aba\" ) == false\n",
    "is_isogram(\"moOse\" ) == false # -- ignore letter case"
   ]
  },
  {
   "cell_type": "code",
   "execution_count": 4,
   "metadata": {},
   "outputs": [],
   "source": [
    "def is_isogram(string):\n",
    "    str = string.lower()\n",
    "    if len(str) == 0: return True\n",
    "    if len(str) != len(set(str)): return False\n",
    "    return True\n",
    "\n",
    "def is_isogram(string):\n",
    "    return len(string) == len(set(string.lower()))"
   ]
  },
  {
   "cell_type": "markdown",
   "metadata": {},
   "source": [
    "### * You're a square! (7)"
   ]
  },
  {
   "cell_type": "raw",
   "metadata": {},
   "source": [
    "A square of squares\n",
    "\n",
    "You like building blocks. You especially like building blocks that are squares. And what you even like more, is to arrange them into a square of square building blocks!\n",
    "\n",
    "However, sometimes, you can't arrange them into a square. Instead, you end up with an ordinary rectangle! Those blasted things! If you just had a way to know, whether you're currently working in vain… Wait! That's it! You just have to check if your number of building blocks is a perfect square.\n",
    "Task\n",
    "\n",
    "Given an integral number, determine if it's a square number:\n",
    "\n",
    "    In mathematics, a square number or perfect square is an integer that is the square of an integer; in other words, it is the product of some integer with itself.\n",
    "\n",
    "The tests will always use some integral number, so don't worry about that in dynamic typed languages.\n",
    "Examples\n",
    "\n",
    "-1  =>  false\n",
    " 0  =>  true\n",
    " 3  =>  false\n",
    " 4  =>  true\n",
    "25  =>  true\n",
    "26  =>  false"
   ]
  },
  {
   "cell_type": "code",
   "execution_count": null,
   "metadata": {},
   "outputs": [],
   "source": [
    "def is_square(n):  \n",
    "    if n < 0: return False\n",
    "    return round(math.sqrt(n)) * round(math.sqrt(n)) == n\n"
   ]
  },
  {
   "cell_type": "markdown",
   "metadata": {},
   "source": [
    "### * Convert a number to a String (8)"
   ]
  },
  {
   "cell_type": "code",
   "execution_count": 7,
   "metadata": {},
   "outputs": [],
   "source": [
    "def number_to_string(num):\n",
    "    return str(num)"
   ]
  },
  {
   "cell_type": "markdown",
   "metadata": {},
   "source": [
    "### * Jaden Casing Strings (7)"
   ]
  },
  {
   "cell_type": "raw",
   "metadata": {},
   "source": [
    "Jaden Smith, the son of Will Smith, is the star of films such as The Karate Kid (2010) and After Earth (2013). Jaden is also known for some of his philosophy that he delivers via Twitter. When writing on Twitter, he is known for almost always capitalizing every word. For simplicity, you'll have to capitalize each word, check out how contractions are expected to be in the example below.\n",
    "\n",
    "Your task is to convert strings to how they would be written by Jaden Smith. The strings are actual quotes from Jaden Smith, but they are not capitalized in the same way he originally typed them.\n",
    "\n",
    "Example:\n",
    "\n",
    "Not Jaden-Cased: \"How can mirrors be real if our eyes aren't real\"\n",
    "Jaden-Cased:     \"How Can Mirrors Be Real If Our Eyes Aren't Real\""
   ]
  },
  {
   "cell_type": "code",
   "execution_count": 9,
   "metadata": {},
   "outputs": [],
   "source": [
    "def to_jaden_case(string):\n",
    "    return ' '.join([word.title() if \"'\" not in word else \"'\".join([word.split(\"'\")[0].title(), word.split(\"'\")[1].lower()]) for word in string.split(' ')])\n",
    "\n",
    "def toJadenCase(string):        \n",
    "    return \" \".join(w.capitalize() for w in string.split())"
   ]
  },
  {
   "cell_type": "markdown",
   "metadata": {},
   "source": [
    "### * Sum of the first nth term of Series (7)"
   ]
  },
  {
   "cell_type": "raw",
   "metadata": {},
   "source": [
    "Task:\n",
    "\n",
    "Your task is to write a function which returns the sum of following series upto nth term(parameter).\n",
    "\n",
    "Series: 1 + 1/4 + 1/7 + 1/10 + 1/13 + 1/16 +...\n",
    "\n",
    "Rules:\n",
    "\n",
    "    You need to round the answer to 2 decimal places and return it as String.\n",
    "\n",
    "    If the given value is 0 then it should return 0.00\n",
    "\n",
    "    You will only be given Natural Numbers as arguments.\n",
    "\n",
    "Examples:\n",
    "\n",
    "SeriesSum(1) => 1 = \"1.00\"\n",
    "SeriesSum(2) => 1 + 1/4 = \"1.25\"\n",
    "SeriesSum(5) => 1 + 1/4 + 1/7 + 1/10 + 1/13 = \"1.57\"\n",
    "\n",
    "NOTE: In PHP the function is called series_sum().\n"
   ]
  },
  {
   "cell_type": "code",
   "execution_count": 11,
   "metadata": {},
   "outputs": [],
   "source": [
    "def series_sum(n):\n",
    "    sum = 0.0\n",
    "    denom = 1\n",
    "    for x in range(n):\n",
    "        sum += 1/denom\n",
    "        denom += 3\n",
    "    return \"{:.2f}\".format(sum)\n",
    "\n",
    "def series_sum(n):\n",
    "    return '{:.2f}'.format(sum(1.0/(3 * i + 1) for i in range(n)))"
   ]
  },
  {
   "cell_type": "markdown",
   "metadata": {},
   "source": [
    "### * Take a Ten Minute Walk (6)"
   ]
  },
  {
   "cell_type": "raw",
   "metadata": {},
   "source": [
    "You live in the city of Cartesia where all roads are laid out in a perfect grid. You arrived ten minutes too early to an appointment, so you decided to take the opportunity to go for a short walk. The city provides its citizens with a Walk Generating App on their phones -- everytime you press the button it sends you an array of one-letter strings representing directions to walk (eg. ['n', 's', 'w', 'e']). You always walk only a single block for each letter (direction) and you know it takes you one minute to traverse one city block, so create a function that will return true if the walk the app gives you will take you exactly ten minutes (you don't want to be early or late!) and will, of course, return you to your starting point. Return false otherwise.\n",
    "\n",
    "    Note: you will always receive a valid array containing a random assortment of direction letters ('n', 's', 'e', or 'w' only). It will never give you an empty array (that's not a walk, that's standing still!).\n",
    "\n"
   ]
  },
  {
   "cell_type": "code",
   "execution_count": 23,
   "metadata": {},
   "outputs": [],
   "source": [
    "def is_valid_walk(walk):\n",
    "    return len(walk) == 10 and (walk.count('n') == walk.count('s')) and (walk.count('e') == walk.count('w'))\n",
    "\n",
    "def isValidWalk(walk):\n",
    "    return len(walk) == 10 and walk.count('n') == walk.count('s') and walk.count('e') == walk.count('w')"
   ]
  },
  {
   "cell_type": "markdown",
   "metadata": {},
   "source": [
    "### * Consecutive Strings (6)"
   ]
  },
  {
   "cell_type": "raw",
   "metadata": {},
   "source": [
    "You are given an array(list) strarr of strings and an integer k. Your task is to return the first longest string consisting of k consecutive strings taken in the array.\n",
    "Example:\n",
    "\n",
    "longest_consec([\"zone\", \"abigail\", \"theta\", \"form\", \"libe\", \"zas\", \"theta\", \"abigail\"], 2) --> \"abigailtheta\"\n",
    "\n",
    "n being the length of the string array, if n = 0 or k > n or k <= 0 return \"\".\n",
    "Note\n",
    "\n",
    "consecutive strings : follow one after another without an interruption\n"
   ]
  },
  {
   "cell_type": "code",
   "execution_count": 22,
   "metadata": {},
   "outputs": [],
   "source": [
    "def longest_consec(strarr, k):\n",
    "    n = len(strarr)\n",
    "    if n == 0 or k > n or k <= 0:\n",
    "        return \"\"\n",
    "    saved = \"\"\n",
    "    for i in range(n - k + 1):\n",
    "        joined = ''.join(strarr[i:i+k])\n",
    "        if len(joined) > len(saved):\n",
    "            saved = joined\n",
    "    return saved\n",
    "\n",
    "\n",
    "def longest_consec(strarr, k):\n",
    "    result = \"\"\n",
    "    \n",
    "    if k > 0 and len(strarr) >= k:\n",
    "        for index in range(len(strarr) - k + 1):\n",
    "            s = ''.join(strarr[index:index+k])\n",
    "            if len(s) > len(result):\n",
    "                result = s\n",
    "            \n",
    "    return result"
   ]
  },
  {
   "cell_type": "markdown",
   "metadata": {},
   "source": [
    "### * Take a Number And Sum Its Digits Raised To The Consecutive Powers And ....¡Eureka!! (6)"
   ]
  },
  {
   "cell_type": "raw",
   "metadata": {},
   "source": [
    "The number 89 is the first integer with more than one digit that fulfills the property partially introduced in the title of this kata. What's the use of saying \"Eureka\"? Because this sum gives the same number.\n",
    "\n",
    "In effect: 89 = 8^1 + 9^2\n",
    "\n",
    "The next number in having this property is 135.\n",
    "\n",
    "See this property again: 135 = 1^1 + 3^2 + 5^3\n",
    "\n",
    "We need a function to collect these numbers, that may receive two integers a, b that defines the range [a, b] (inclusive) and outputs a list of the sorted numbers in the range that fulfills the property described above.\n",
    "\n",
    "Let's see some cases:\n",
    "\n",
    "sum_dig_pow(1, 10) == [1, 2, 3, 4, 5, 6, 7, 8, 9]\n",
    "\n",
    "sum_dig_pow(1, 100) == [1, 2, 3, 4, 5, 6, 7, 8, 9, 89]\n",
    "\n",
    "If there are no numbers of this kind in the range [a, b] the function should output an empty list.\n",
    "\n",
    "sum_dig_pow(90, 100) == []"
   ]
  },
  {
   "cell_type": "code",
   "execution_count": 21,
   "metadata": {},
   "outputs": [
    {
     "name": "stdout",
     "output_type": "stream",
     "text": [
      "[1, 2, 3, 4, 5, 6, 7, 8, 9, 89]\n"
     ]
    }
   ],
   "source": [
    "def sum_dig_pow(a, b): # range(a, b + 1) will be studied by the function\n",
    "    consecs = []\n",
    "    for i in range(a, b+1):\n",
    "        digits = [int(i) for i in str(i)]\n",
    "        tmp = 0\n",
    "        for j in range(0, len(digits)):\n",
    "            tmp += pow(digits[j], j+1)\n",
    "        if tmp == i:\n",
    "            consecs.append(tmp)\n",
    "    return consecs\n",
    "\n",
    "print(sum_dig_pow(1, 100))\n",
    "# test.describe(\"Example Tests\")\n",
    "# test.assert_equals( sum_dig_pow(1, 10), [1, 2, 3, 4, 5, 6, 7, 8, 9])\n",
    "# test.assert_equals(sum_dig_pow(1, 100), [1, 2, 3, 4, 5, 6, 7, 8, 9, 89])\n",
    "#test.assert_equals(sum_dig_pow(10, 89),  [89])\n",
    "# test.assert_equals(sum_dig_pow(88, 91),  [89])\n",
    "# test.assert_equals(sum_dig_pow(10, 100),  [89])\n",
    "# test.assert_equals(sum_dig_pow(90,b 100), [])\n",
    "# test.assert_equals(sum_dig_pow(89, 135), [89, 135])\n",
    "\n",
    "def filter_func(a):\n",
    "    return sum(int(d) ** (i+1) for i, d in enumerate(str(a))) == a\n",
    "\n",
    "def sum_dig_pow(a, b):\n",
    "    return filter(filter_func, range(a, b+1))"
   ]
  },
  {
   "cell_type": "markdown",
   "metadata": {},
   "source": [
    "### * Array.diff (6)"
   ]
  },
  {
   "cell_type": "raw",
   "metadata": {},
   "source": [
    "Your goal in this kata is to implement a difference function, which subtracts one list from another and returns the result.\n",
    "\n",
    "It should remove all values from list a, which are present in list b.\n",
    "\n",
    "array_diff([1,2],[1]) == [2]\n",
    "\n",
    "If a value is present in b, all of its occurrences must be removed from the other:\n",
    "\n",
    "array_diff([1,2,2,2,3],[2]) == [1,3]"
   ]
  },
  {
   "cell_type": "code",
   "execution_count": 3,
   "metadata": {},
   "outputs": [],
   "source": [
    "def array_diff(a, b):\n",
    "    if len(b) == 0: return a\n",
    "    for item in b:\n",
    "        a = [i for i in a if i != item]\n",
    "    return a\n",
    "\n",
    "def array_diff(a, b):\n",
    "    return [x for x in a if x not in b]"
   ]
  },
  {
   "cell_type": "markdown",
   "metadata": {},
   "source": [
    "### * Sum of Digits / Digital Root (6)"
   ]
  },
  {
   "cell_type": "raw",
   "metadata": {},
   "source": [
    "Digital root is the recursive sum of all the digits in a number.\n",
    "\n",
    "Given n, take the sum of the digits of n. If that value has more than one digit, continue reducing in this way until a single-digit number is produced. This is only applicable to the natural numbers.\n",
    "Examples\n",
    "\n",
    "    16  -->  1 + 6 = 7\n",
    "   942  -->  9 + 4 + 2 = 15  -->  1 + 5 = 6\n",
    "132189  -->  1 + 3 + 2 + 1 + 8 + 9 = 24  -->  2 + 4 = 6\n",
    "493193  -->  4 + 9 + 3 + 1 + 9 + 3 = 29  -->  2 + 9 = 11  -->  1 + 1 = 2"
   ]
  },
  {
   "cell_type": "code",
   "execution_count": 20,
   "metadata": {},
   "outputs": [],
   "source": [
    "def addup(n):\n",
    "    sum = 0\n",
    "    while n > 0:\n",
    "        sum += n % 10\n",
    "        n = n//10\n",
    "    return sum    \n",
    "\n",
    "\n",
    "def digital_root(n):\n",
    "    sum = addup(n)\n",
    "    while sum >= 10:\n",
    "        sum = addup(sum)\n",
    "    return sum\n",
    "\n",
    "def digital_root(n):\n",
    "    return n if n < 10 else digital_root(sum(map(int,str(n))))"
   ]
  },
  {
   "cell_type": "markdown",
   "metadata": {},
   "source": [
    "### * Title Case (6)"
   ]
  },
  {
   "cell_type": "raw",
   "metadata": {},
   "source": [
    "A string is considered to be in title case if each word in the string is either (a) capitalised (that is, only the first letter of the word is in upper case) or (b) considered to be an exception and put entirely into lower case unless it is the first word, which is always capitalised.\n",
    "\n",
    "Write a function that will convert a string into title case, given an optional list of exceptions (minor words). The list of minor words will be given as a string with each word separated by a space. Your function should ignore the case of the minor words string -- it should behave in the same way even if the case of the minor word string is changed.\n",
    "\n",
    "#### Arguments (Haskell)\n",
    "\n",
    "    First argument: space-delimited list of minor words that must always be lowercase except for the first word in the string.\n",
    "    Second argument: the original string to be converted.\n",
    "\n",
    "#### Arguments (Other languages)\n",
    "\n",
    "    First argument (required): the original string to be converted.\n",
    "    Second argument (optional): space-delimited list of minor words that must always be lowercase except for the first word in the string. The JavaScript/CoffeeScript tests will pass undefined when this argument is unused.\n",
    "\n",
    "###Example\n",
    "\n",
    "title_case('a clash of KINGS', 'a an the of') # should return: 'A Clash of Kings'\n",
    "title_case('THE WIND IN THE WILLOWS', 'The In') # should return: 'The Wind in the Willows'\n",
    "title_case('the quick brown fox') # should return: 'The Quick Brown Fox'\n"
   ]
  },
  {
   "cell_type": "code",
   "execution_count": null,
   "metadata": {},
   "outputs": [],
   "source": [
    "def title_case(title, minor_words=''):\n",
    "    title = title.title().split()\n",
    "    for i in range(1, len(title)):\n",
    "        if title[i].lower() in minor_words.lower().split():\n",
    "            title[i] = title[i].lower()\n",
    "    return ' '.join(title)\n",
    "\n",
    "def title_case(title, minor_words=''):\n",
    "    title = title.capitalize().split()\n",
    "    minor_words = minor_words.lower().split()\n",
    "    return ' '.join([word if word in minor_words else word.capitalize() for word in title])"
   ]
  },
  {
   "cell_type": "markdown",
   "metadata": {},
   "source": [
    "### * Unique in Order (6)"
   ]
  },
  {
   "cell_type": "raw",
   "metadata": {},
   "source": [
    "Implement the function unique_in_order which takes as argument a sequence and returns a list of items without any elements with the same value next to each other and preserving the original order of elements.\n",
    "\n",
    "For example:\n",
    "\n",
    "unique_in_order('AAAABBBCCDAABBB') == ['A', 'B', 'C', 'D', 'A', 'B']\n",
    "unique_in_order('ABBCcAD')         == ['A', 'B', 'C', 'c', 'A', 'D']\n",
    "unique_in_order([1,2,2,3,3])       == [1,2,3]"
   ]
  },
  {
   "cell_type": "code",
   "execution_count": 19,
   "metadata": {},
   "outputs": [],
   "source": [
    "def unique_in_order(iterable):    \n",
    "    if len(iterable) == 0: return []\n",
    "    l = list(iterable)\n",
    "    res = [l[0]]\n",
    "    for i in range(1, len(l)):\n",
    "        if l[i] != res[-1]:\n",
    "            res.append(l[i])\n",
    "    return res\n",
    "\n",
    "def unique_in_order(iterable):\n",
    "    result = []\n",
    "    prev = None\n",
    "    for char in iterable[0:]:\n",
    "        if char != prev:\n",
    "            result.append(char)\n",
    "            prev = char\n",
    "    return result"
   ]
  },
  {
   "cell_type": "markdown",
   "metadata": {},
   "source": [
    "### Recursive Replication (7)"
   ]
  },
  {
   "cell_type": "raw",
   "metadata": {},
   "source": [
    "(Completed in Javascript)\n",
    "\n",
    "You need to design a recursive function called replicate which will receive arguments times and number.\n",
    "\n",
    "The function should return an array containing repetitions of the number argument. For instance, replicate(3, 5) should return [5,5,5]. If the times argument is negative, return an empty array.\n",
    "\n",
    "As tempting as it may seem, do not use loops to solve this problem.\n"
   ]
  },
  {
   "cell_type": "markdown",
   "metadata": {
    "toc-hr-collapsed": true
   },
   "source": [
    "### * Directions Reduction (5)"
   ]
  },
  {
   "cell_type": "raw",
   "metadata": {},
   "source": [
    "Once upon a time, on a way through the old wild mountainous west,…\n",
    "\n",
    "… a man was given directions to go from one point to another. The directions were \"NORTH\", \"SOUTH\", \"WEST\", \"EAST\". Clearly \"NORTH\" and \"SOUTH\" are opposite, \"WEST\" and \"EAST\" too.\n",
    "\n",
    "Going to one direction and coming back the opposite direction right away is a needless effort. Since this is the wild west, with dreadfull weather and not much water, it's important to save yourself some energy, otherwise you might die of thirst!\n",
    "How I crossed a mountain desert the smart way.\n",
    "\n",
    "The directions given to the man are, for example, the following (depending on the language):\n",
    "\n",
    "[\"NORTH\", \"SOUTH\", \"SOUTH\", \"EAST\", \"WEST\", \"NORTH\", \"WEST\"].\n",
    "\n",
    "or\n",
    "\n",
    "{ \"NORTH\", \"SOUTH\", \"SOUTH\", \"EAST\", \"WEST\", \"NORTH\", \"WEST\" };\n",
    "\n",
    "or\n",
    "\n",
    "[North, South, South, East, West, North, West]\n",
    "\n",
    "You can immediatly see that going \"NORTH\" and immediately \"SOUTH\" is not reasonable, better stay to the same place! So the task is to give to the man a simplified version of the plan. A better plan in this case is simply:\n",
    "\n",
    "[\"WEST\"]\n",
    "\n",
    "or\n",
    "\n",
    "{ \"WEST\" }\n",
    "\n",
    "or\n",
    "\n",
    "[West]\n",
    "\n",
    "Other examples:\n",
    "\n",
    "In [\"NORTH\", \"SOUTH\", \"EAST\", \"WEST\"], the direction \"NORTH\" + \"SOUTH\" is going north and coming back right away.\n",
    "\n",
    "The path becomes [\"EAST\", \"WEST\"], now \"EAST\" and \"WEST\" annihilate each other, therefore, the final result is [] (nil in Clojure).\n",
    "\n",
    "In [\"NORTH\", \"EAST\", \"WEST\", \"SOUTH\", \"WEST\", \"WEST\"], \"NORTH\" and \"SOUTH\" are not directly opposite but they become directly opposite after the reduction of \"EAST\" and \"WEST\" so the whole path is reducible to [\"WEST\", \"WEST\"].\n",
    "Task\n",
    "\n",
    "Write a function dirReduc which will take an array of strings and returns an array of strings with the needless directions removed (W<->E or S<->N side by side).\n",
    "\n",
    "    The Haskell version takes a list of directions with data Direction = North | East | West | South.\n",
    "    The Clojure version returns nil when the path is reduced to nothing.\n",
    "    The Rust version takes a slice of enum Direction {NORTH, SOUTH, EAST, WEST}.\n",
    "\n",
    "See more examples in \"Sample Tests:\"\n",
    "Notes\n",
    "\n",
    "    Not all paths can be made simpler. The path [\"NORTH\", \"WEST\", \"SOUTH\", \"EAST\"] is not reducible. \"NORTH\" and \"WEST\", \"WEST\" and \"SOUTH\", \"SOUTH\" and \"EAST\" are not directly opposite of each other and can't become such. Hence the result path is itself : [\"NORTH\", \"WEST\", \"SOUTH\", \"EAST\"].\n",
    "\n",
    "    if you want to translate, please ask before translating.\n",
    "\n"
   ]
  },
  {
   "cell_type": "code",
   "execution_count": 1,
   "metadata": {},
   "outputs": [],
   "source": [
    "def dirReduc(arr):\n",
    "    combo = ''.join([i[0] for i in arr])\n",
    "    pairs = ['NS', 'SN', 'EW', 'WE']\n",
    "    while any(pair in combo for pair in pairs):\n",
    "        for pair in pairs:\n",
    "            if pair in combo:\n",
    "                combo = combo.replace(pair, '')\n",
    "    return ['NORTH' if i == 'N' else 'SOUTH' if i == 'S' else 'EAST' if i == 'E' else 'WEST' for i in combo]\n",
    "        "
   ]
  },
  {
   "cell_type": "code",
   "execution_count": null,
   "metadata": {},
   "outputs": [],
   "source": [
    "opposite = {'NORTH': 'SOUTH', 'EAST': 'WEST', 'SOUTH': 'NORTH', 'WEST': 'EAST'}\n",
    "\n",
    "def dirReduc(plan):\n",
    "    new_plan = []\n",
    "    for d in plan:\n",
    "        if new_plan and new_plan[-1] == opposite[d]:\n",
    "            new_plan.pop()\n",
    "        else:\n",
    "            new_plan.append(d)\n",
    "    return new_plan"
   ]
  },
  {
   "cell_type": "markdown",
   "metadata": {},
   "source": [
    "### Valid Braces (6)"
   ]
  },
  {
   "cell_type": "raw",
   "metadata": {},
   "source": [
    "Write a function that takes a string of braces, and determines if the order of the braces is valid. It should return true if the string is valid, and false if it's invalid.\n",
    "\n",
    "This Kata is similar to the Valid Parentheses Kata, but introduces new characters: brackets [], and curly braces {}. Thanks to @arnedag for the idea!\n",
    "\n",
    "All input strings will be nonempty, and will only consist of parentheses, brackets and curly braces: ()[]{}.\n",
    "What is considered Valid?\n",
    "\n",
    "A string of braces is considered valid if all braces are matched with the correct brace.\n",
    "Examples\n",
    "\n",
    "\"(){}[]\"   =>  True\n",
    "\"([{}])\"   =>  True\n",
    "\"(}\"       =>  False\n",
    "\"[(])\"     =>  False\n",
    "\"[({})](]\" =>  False"
   ]
  },
  {
   "cell_type": "code",
   "execution_count": 25,
   "metadata": {},
   "outputs": [],
   "source": [
    "def validBraces(string):\n",
    "    pairs = {}\n",
    "    pairs['['] = 0\n",
    "    pairs[']'] = 0\n",
    "    pairs['('] = 0\n",
    "    pairs[')'] = 0\n",
    "    pairs['{'] = 0\n",
    "    pairs['}'] = 0\n",
    "    for c in string:\n",
    "        print(c)\n",
    "        pairs[c] += 1\n",
    "    print(pairs)"
   ]
  },
  {
   "cell_type": "markdown",
   "metadata": {
    "toc-hr-collapsed": true
   },
   "source": [
    "### * Vasya - Clerk (6)"
   ]
  },
  {
   "cell_type": "raw",
   "metadata": {},
   "source": [
    "The new \"Avengers\" movie has just been released! There are a lot of people at the cinema box office standing in a huge line. Each of them has a single 100, 50 or 25 dollar bill. An \"Avengers\" ticket costs 25 dollars.\n",
    "\n",
    "Vasya is currently working as a clerk. He wants to sell a ticket to every single person in this line.\n",
    "\n",
    "Can Vasya sell a ticket to every person and give change if he initially has no money and sells the tickets strictly in the order people queue?\n",
    "\n",
    "Return YES, if Vasya can sell a ticket to every person and give change with the bills he has at hand at that moment. Otherwise return NO.\n",
    "Examples:\n",
    "\n",
    "tickets([25, 25, 50]) # => YES \n",
    "tickets([25, 100]) # => NO. Vasya will not have enough money to give change to 100 dollars\n",
    "tickets([25, 25, 50, 50, 100]) # => NO. Vasya will not have the right bills to give 75 dollars of change (you can't make two bills of 25 from one of 50)\n",
    "\n",
    "# test.assert_equals(tickets([25, 25, 50]), \"YES\")\n",
    "# test.assert_equals(tickets([25, 25, 25, 25]), \"YES\")\n",
    "# test.assert_equals(tickets([25, 100]), \"NO\")\n",
    "# test.assert_equals(tickets([25, 25, 50, 50, 100]), \"NO\")\n",
    "# test.assert_equals(tickets([25, 25, 25, 25, 25, 25, 25, 50, 50, 50, 100, 100, 100, 100]), \"NO\")\n",
    "test.assert_equals(tickets([25, 25, 25, 25, 25, 100, 100]), \"NO\")\n",
    "# test.assert_equals(tickets([25, 50, 25, 100, 25, 25, 50, 100, 25, 25, 25, 100, 25, 25, 50, 100, 25, 50, 25, 100, 25, 50, 50, 50]), \"NO\")\n",
    "# test.assert_equals(tickets([25, 25, 25, 100, 25, 25, 25, 100, 25, 25, 50, 100, 25, 25, 50, 100, 50, 50]), \"NO\")"
   ]
  },
  {
   "cell_type": "code",
   "execution_count": 32,
   "metadata": {},
   "outputs": [],
   "source": [
    "def tickets(people):\n",
    "    bills = []\n",
    "    for i in people:\n",
    "        if i == 50 and 25 in bills:\n",
    "            bills.remove(25)\n",
    "        elif i == 100 and all(items in bills for items in [25, 50]):\n",
    "            [ bills.remove(i) for i in [25, 50] ]\n",
    "        elif i == 100 and bills.count(25) > 2:\n",
    "            [ bills.remove(i) for i in [25, 25, 25] ]\n",
    "        elif i != 25:\n",
    "            return \"NO\"\n",
    "        bills.append(i)\n",
    "    return \"YES\"\n",
    "    \n",
    "            \n",
    "def tickets(people):\n",
    "  till = {100.0:0, 50.0:0, 25.0:0}\n",
    "\n",
    "  for paid in people:\n",
    "    till[paid] += 1\n",
    "    change = paid-25.0\n",
    "    \n",
    "    for bill in (50,25):\n",
    "      while (bill <= change and till[bill] > 0):\n",
    "        till[bill] -= 1\n",
    "        change -= bill\n",
    "\n",
    "    if change != 0:\n",
    "      return 'NO'\n",
    "        \n",
    "  return 'YES'        \n",
    "\n",
    "        \n",
    "# test.assert_equals(tickets([25, 25, 25, 25, 50, 100, 50]), \"YES\")\n",
    "# test.assert_equals(tickets([25, 25, 50]), \"YES\")\n",
    "# test.assert_equals(tickets([25, 25, 25, 100]), \"YES\")\n",
    "# test.assert_equals(tickets([25, 25, 25, 25]), \"YES\")\n",
    "# test.assert_equals(tickets([25, 100]), \"NO\")\n",
    "# test.assert_equals(tickets([25, 25, 50, 50, 100]), \"NO\")\n",
    "# test.assert_equals(tickets([25, 25, 25, 25, 25, 25, 25, 50, 50, 50, 100, 100, 100, 100]), \"NO\")\n",
    "# test.assert_equals(tickets([25, 25, 25, 25, 25, 100, 100]), \"NO\")\n",
    "# test.assert_equals(tickets([25, 50, 25, 100, 25, 25, 50, 100, 25, 25, 25, 100, 25, 25, 50, 100, 25, 50, 25, 100, 25, 50, 50, 50]), \"NO\")\n",
    "# test.assert_equals(tickets([25, 25, 25, 100, 25, 25, 25, 100, 25, 25, 50, 100, 25, 25, 50, 100, 50, 50]), \"NO\")"
   ]
  },
  {
   "cell_type": "markdown",
   "metadata": {
    "toc-hr-collapsed": true
   },
   "source": [
    "### Scramblies (5)"
   ]
  },
  {
   "cell_type": "raw",
   "metadata": {},
   "source": [
    "Complete the function scramble(str1, str2) that returns true if a portion of str1 characters can be rearranged to match str2, otherwise returns false.\n",
    "\n",
    "Notes:\n",
    "\n",
    "    Only lower case letters will be used (a-z). No punctuation or digits will be included.\n",
    "    Performance needs to be considered\n",
    "\n",
    "Input strings s1 and s2 are null terminated.\n",
    "\n",
    "Examples\n",
    "\n",
    "scramble('rkqodlw', 'world') ==> True\n",
    "scramble('cedewaraaossoqqyt', 'codewars') ==> True\n",
    "scramble('katas', 'steak') ==> False\n",
    "\n",
    "Test.assert_equals(scramble('javx', 'java'),  False)\n",
    "Test.assert_equals(scramble('rkqodlw', 'world'),  True)\n",
    "Test.assert_equals(scramble('cedewaraaossoqqyt', 'codewars'), True)\n",
    "Test.assert_equals(scramble('katas', 'steak'), False)\n",
    "Test.assert_equals(scramble('scriptjava', 'javascript'), True)\n",
    "Test.assert_equals(scramble('scriptingjava', 'javascript'), True)"
   ]
  },
  {
   "cell_type": "code",
   "execution_count": null,
   "metadata": {},
   "outputs": [],
   "source": [
    "def scramble(s1, s2):\n",
    "#     for c in s2:\n",
    "#         if c not in s1:\n",
    "#             return False\n",
    "#         s1 = s1.replace(c, '', 1)\n",
    "#     return True\n",
    "#     l1 = list(s1)\n",
    "#     l2 = list(s2)\n",
    "    l1 = sorted(s1)\n",
    "    l2 = sorted(s2)\n",
    "    for c in l2:\n",
    "        if c not in l1:\n",
    "            return False\n",
    "        l1.remove(c)\n",
    "    return True"
   ]
  },
  {
   "cell_type": "markdown",
   "metadata": {},
   "source": [
    "#### * Detect Pangram (6)"
   ]
  },
  {
   "cell_type": "raw",
   "metadata": {},
   "source": [
    "A pangram is a sentence that contains every single letter of the alphabet at least once. For example, the sentence \"The quick brown fox jumps over the lazy dog\" is a pangram, because it uses the letters A-Z at least once (case is irrelevant).\n",
    "\n",
    "Given a string, detect whether or not it is a pangram. Return True if it is, False if not. Ignore numbers and punctuation.\n",
    "\n",
    "Fundamentals\n",
    "Strings\n",
    "Data Structures"
   ]
  },
  {
   "cell_type": "code",
   "execution_count": 1,
   "metadata": {},
   "outputs": [],
   "source": [
    "import string\n",
    "\n",
    "def is_pangram(s):\n",
    "    letters = set()\n",
    "    [letters.add(c.lower()) for c in s if c.isalpha() ]\n",
    "    if len(letters) == 26:\n",
    "        return True\n",
    "    return False"
   ]
  },
  {
   "cell_type": "code",
   "execution_count": null,
   "metadata": {},
   "outputs": [],
   "source": [
    "import string\n",
    "\n",
    "def is_pangram(s):\n",
    "    return set(string.lowercase) <= set(s.lower())"
   ]
  },
  {
   "cell_type": "markdown",
   "metadata": {},
   "source": [
    "#### Statistics for an Athletic Association (6)"
   ]
  },
  {
   "cell_type": "raw",
   "metadata": {},
   "source": [
    "You are the \"computer expert\" of a local Athletic Association (C.A.A.). Many teams of runners come to compete. Each time you get a string of all race results of every team who has run. For example here is a string showing the individual results of a team of 5 runners:\n",
    "\n",
    "\"01|15|59, 1|47|6, 01|17|20, 1|32|34, 2|3|17\"\n",
    "\n",
    "Each part of the string is of the form: h|m|s where h, m, s (h for hour, m for minutes, s for seconds) are positive or null integer (represented as strings) with one or two digits. There are no traps in this format.\n",
    "\n",
    "To compare the results of the teams you are asked for giving three statistics; range, average and median.\n",
    "\n",
    "Range : difference between the lowest and highest values. In {4, 6, 9, 3, 7} the lowest value is 3, and the highest is 9, so the range is 9 − 3 = 6.\n",
    "\n",
    "Mean or Average : To calculate mean, add together all of the numbers in a set and then divide the sum by the total count of numbers.\n",
    "\n",
    "Median : In statistics, the median is the number separating the higher half of a data sample from the lower half. The median of a finite list of numbers can be found by arranging all the observations from lowest value to highest value and picking the middle one (e.g., the median of {3, 3, 5, 9, 11} is 5) when there is an odd number of observations. If there is an even number of observations, then there is no single middle value; the median is then defined to be the mean of the two middle values (the median of {3, 5, 6, 9} is (5 + 6) / 2 = 5.5).\n",
    "\n",
    "Your task is to return a string giving these 3 values. For the example given above, the string result will be\n",
    "\n",
    "\"Range: 00|47|18 Average: 01|35|15 Median: 01|32|34\"\n",
    "\n",
    "of the form:\n",
    "\n",
    "\"Range: hh|mm|ss Average: hh|mm|ss Median: hh|mm|ss\"\n",
    "\n",
    "where hh, mm, ss are integers (represented by strings) with each 2 digits.\n",
    "\n",
    "Remarks:\n",
    "\n",
    "    if a result in seconds is ab.xy... it will be given truncated as ab.\n",
    "\n",
    "    if the given string is \"\" you will return \"\"\n",
    "\n",
    "Fundamentals\n",
    "Strings"
   ]
  },
  {
   "cell_type": "code",
   "execution_count": null,
   "metadata": {},
   "outputs": [],
   "source": [
    "import statistics\n",
    "\n",
    "def convert_to_seconds(t):\n",
    "    seconds = []\n",
    "    for t in t.split(','):\n",
    "        tokens = t.split('|')\n",
    "        seconds.append(int(tokens[0]) * 3600 + int(tokens[1]) * 60 + int(tokens[2]))\n",
    "    return seconds\n",
    "\n",
    "def convert_to_time(seconds):\n",
    "    hrs = seconds // 3600\n",
    "    mins = (seconds // 60) % 60\n",
    "    secs = seconds % 60\n",
    "    return f\"{hrs:02}|{mins:02}|{secs:02}\"\n",
    "\n",
    "def stat(strg):\n",
    "    if strg == '': return ''\n",
    "    seconds = convert_to_seconds(strg)\n",
    "    # get the stats (in seconds)\n",
    "    the_mean_in_seconds = int(statistics.mean(seconds))\n",
    "    the_median_in_seconds = int(statistics.median(seconds))\n",
    "    the_range_in_seconds = int(max(seconds) - min(seconds))\n",
    "    # convert to desired format\n",
    "    the_mean = convert_to_time(the_mean_in_seconds)\n",
    "    the_median = convert_to_time(the_median_in_seconds)\n",
    "    the_range = convert_to_time(the_range_in_seconds)\n",
    "    return f\"Range: {the_range} Average: {the_mean} Median: {the_median}\"\n",
    "    \n",
    "    "
   ]
  },
  {
   "cell_type": "code",
   "execution_count": null,
   "metadata": {},
   "outputs": [],
   "source": [
    "def stat(strg):\n",
    "\n",
    "    def get_time(s):\n",
    "        '''Returns the time, in seconds, represented by s.'''\n",
    "        hh, mm, ss = [int(v) for v in s.split('|')]\n",
    "        return hh * 3600 + mm * 60 + ss\n",
    "    \n",
    "    def format_time(time):\n",
    "        '''Returns the given time as a string in the form \"hh|mm|ss\".'''\n",
    "        hh = time // 3600\n",
    "        mm = time // 60 % 60\n",
    "        ss = time % 60\n",
    "        return '{hh:02d}|{mm:02d}|{ss:02d}'.format(**locals())\n",
    "    \n",
    "    def get_range(times):\n",
    "        return times[-1] - times[0]\n",
    "    \n",
    "    def get_average(times):\n",
    "        return sum(times) // len(times)\n",
    "    \n",
    "    def get_median(times):\n",
    "        middle = len(times) >> 1\n",
    "        return (times[middle] if len(times) & 1 else\n",
    "                (times[middle - 1] + times[middle]) // 2)\n",
    "    \n",
    "    if strg == '':\n",
    "        return strg\n",
    "    times = [get_time(s) for s in strg.split(', ')]\n",
    "    times.sort()\n",
    "    rng = format_time(get_range(times))\n",
    "    avg = format_time(get_average(times))\n",
    "    mdn = format_time(get_median(times))\n",
    "    return 'Range: {rng} Average: {avg} Median: {mdn}'.format(**locals())"
   ]
  },
  {
   "cell_type": "markdown",
   "metadata": {},
   "source": [
    "#### * Find the Unique Number (6)"
   ]
  },
  {
   "cell_type": "raw",
   "metadata": {},
   "source": [
    "There is an array with some numbers. All numbers are equal except for one. Try to find it!\n",
    "\n",
    "find_uniq([ 1, 1, 1, 2, 1, 1 ]) == 2\n",
    "find_uniq([ 0, 0, 0.55, 0, 0 ]) == 0.55\n",
    "\n",
    "It’s guaranteed that array contains at least 3 numbers.\n",
    "\n",
    "The tests contain some very huge arrays, so think about performance.\n",
    "\n",
    "This is the first kata in series:\n",
    "\n",
    "    Find the unique number (this kata)\n",
    "    Find the unique string\n",
    "    Find The Unique\n",
    "\n"
   ]
  },
  {
   "cell_type": "code",
   "execution_count": 1,
   "metadata": {},
   "outputs": [],
   "source": [
    "def find_uniq(arr):\n",
    "    s = list(set(arr))\n",
    "    if arr.count(s[0]) == 1:\n",
    "        return s[0]\n",
    "    return s[1]"
   ]
  },
  {
   "cell_type": "code",
   "execution_count": null,
   "metadata": {},
   "outputs": [],
   "source": [
    "def find_uniq(arr):\n",
    "    a, b = set(arr)\n",
    "    return a if arr.count(a) == 1 else b"
   ]
  },
  {
   "cell_type": "markdown",
   "metadata": {},
   "source": [
    "### Reverse or Rotate"
   ]
  },
  {
   "cell_type": "raw",
   "metadata": {},
   "source": [
    "The input is a string str of digits. Cut the string into chunks (a chunk here is a substring of the initial string) of size sz (ignore the last chunk if its size is less than sz).\n",
    "\n",
    "If a chunk represents an integer such as the sum of the cubes of its digits is divisible by 2, reverse that chunk; otherwise rotate it to the left by one position. Put together these modified chunks and return the result as a string.\n",
    "\n",
    "If\n",
    "\n",
    "    sz is <= 0 or if str is empty return \"\"\n",
    "    sz is greater (>) than the length of str it is impossible to take a chunk of size sz hence return \"\".\n",
    "\n",
    "Examples:\n",
    "revrot(\"123456987654\", 6) --> \"234561876549\"\n",
    "revrot(\"123456987653\", 6) --> \"234561356789\"\n",
    "revrot(\"66443875\", 4) --> \"44668753\"\n",
    "revrot(\"66443875\", 8) --> \"64438756\"\n",
    "revrot(\"664438769\", 8) --> \"67834466\"\n",
    "revrot(\"123456779\", 8) --> \"23456771\"\n",
    "revrot(\"\", 8) --> \"\"\n",
    "revrot(\"123456779\", 0) --> \"\" \n",
    "revrot(\"563000655734469485\", 4) --> \"0365065073456944\""
   ]
  },
  {
   "cell_type": "code",
   "execution_count": 2,
   "metadata": {},
   "outputs": [],
   "source": [
    "def revrot(strng, sz):\n",
    "    if sz <= 0 or len(strng) == 0 or sz > len(strng): return \"\"\n",
    "    chunks = []\n",
    "    pos = 0\n",
    "    for i in range(len(strng)//sz):\n",
    "        chunk = strng[pos:pos+sz]\n",
    "        cube_sum = [sum(pow(int(i),3) for i in chunk)][0]\n",
    "        chunks.append(chunk[::-1]) if (cube_sum % 2 == 0) else chunks.append(chunk[1:] + chunk[0])\n",
    "        pos += sz\n",
    "    return ''.join(chunks)"
   ]
  },
  {
   "cell_type": "code",
   "execution_count": null,
   "metadata": {},
   "outputs": [],
   "source": [
    "def revrot(s, n, res=\"\"):\n",
    "    if not s or n < 1 or n > len(s):\n",
    "        return \"\"\n",
    "    \n",
    "    while len(s) >= n:\n",
    "        group = s[:n]\n",
    "        if sum([int(d)**3 for d in group]) % 2 == 0:\n",
    "            res += group[::-1]\n",
    "        else:\n",
    "            res += group[1:] + group[0]\n",
    "        s = s[n:]\n",
    "    \n",
    "    return res"
   ]
  },
  {
   "cell_type": "markdown",
   "metadata": {},
   "source": [
    "### Integers: Recreation One"
   ]
  },
  {
   "cell_type": "code",
   "execution_count": 1,
   "metadata": {},
   "outputs": [],
   "source": [
    "import math\n",
    "\n",
    "def compute_divisors(m, n):\n",
    "    divisors = []\n",
    "    for x in range(m,n+1):\n",
    "        if x%2==0:\n",
    "            divisors.append(sum([i*i for i in range(1,(x//2 + 1)) if x % i == 0]) + x*x)\n",
    "        else:\n",
    "            divisors.append(sum([i*i for i in range(1,(x//2 + 1), 2) if x % i == 0]) + x*x)\n",
    "    return divisors\n",
    "\n",
    "\n",
    "def list_squared(m, n):\n",
    "    divisors = compute_divisors(m, n)\n",
    "    return [ [i, divisors[i-m]] for i in range(m, n+1) \\\n",
    "         if math.sqrt(divisors[i-m]) % 1 == 0.0 ]\n",
    "#     ans = []\n",
    "#     for x in range(m, n+1):\n",
    "#         if x%2==0:\n",
    "#             sum_of_divisors = sum([i*i for i in range(1,(x//2 + 1)) if x % i == 0]) + x*x\n",
    "#         else:\n",
    "#             sum_of_divisors = sum([i*i for i in range(1,(x//2 + 1), 2) if x % i == 0]) + x*x\n",
    "#         if math.sqrt(sum_of_divisors) % 1 == 0.0:\n",
    "#             ans.append([x, sum_of_divisors])\n",
    "#     return ans\n",
    "    \n",
    "#     return [ [i, divisors[i-m]] for i in range(m, n+1) \\\n",
    "#           if pow(int(math.sqrt(divisors[i-m])),2) ==  divisors[i-m] ]\n"
   ]
  },
  {
   "cell_type": "code",
   "execution_count": null,
   "metadata": {},
   "outputs": [],
   "source": []
  }
 ],
 "metadata": {
  "kernelspec": {
   "display_name": "Python 3",
   "language": "python",
   "name": "python3"
  },
  "language_info": {
   "codemirror_mode": {
    "name": "ipython",
    "version": 3
   },
   "file_extension": ".py",
   "mimetype": "text/x-python",
   "name": "python",
   "nbconvert_exporter": "python",
   "pygments_lexer": "ipython3",
   "version": "3.7.3"
  },
  "toc-autonumbering": false,
  "toc-showcode": false,
  "toc-showmarkdowntxt": true
 },
 "nbformat": 4,
 "nbformat_minor": 2
}
